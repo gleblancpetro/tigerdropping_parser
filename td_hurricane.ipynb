{
 "cells": [
  {
   "cell_type": "code",
   "execution_count": 114,
   "metadata": {},
   "outputs": [],
   "source": [
    "# imports\n",
    "\n",
    "from bs4 import BeautifulSoup\n",
    "import pandas as pd\n",
    "import numpy as np\n",
    "import requests, time\n",
    "\n",
    "\n",
    "#helper functions\n",
    "\n",
    "def check_na(post, image_count):\n",
    "    \n",
    "    if post == \" \":\n",
    "        value = image_count\n",
    "    else:\n",
    "        value = post\n",
    "    return value\n",
    "\n",
    "\n",
    "def add_m(time_entry):\n",
    "    time_list = list(time_entry)\n",
    "    time_list.append('m')\n",
    "    formatted_time = \"\".join(time_list)\n",
    "    return formatted_time\n",
    "\n",
    "def date_mod(single_time):\n",
    "    single_time = single_time.strip()\n",
    "    split = single_time.split(\" \")\n",
    "    if len(split[0])==4:\n",
    "        time_mod = list(split[0])\n",
    "        time_mod.insert(0, '0')\n",
    "        first_clean = \"\".join(time_mod)\n",
    "    else:\n",
    "        first_clean = split[0]\n",
    "\n",
    "    if split[1]==\"p\":\n",
    "        time_split = first_clean.split(\":\")\n",
    "        if time_spit[0] == \"12\":\n",
    "            \n",
    "        time_split[0] = str(int(time_split[0])+12)\n",
    "        second_clean = \":\".join(time_split)\n",
    "    else:\n",
    "        second_clean = first_clean.split(' ')[0]\n",
    "\n",
    "    return second_clean\n",
    "\n",
    "# other general helpful things\n",
    "\n",
    "numerical_columns = ['Images', 'Thumbs Up', 'Thumbs Down']\n"
   ]
  },
  {
   "cell_type": "code",
   "execution_count": 2,
   "metadata": {},
   "outputs": [
    {
     "name": "stdout",
     "output_type": "stream",
     "text": [
      "Fetching page 1...<Response [200]>...\n",
      "Fetching page 2...<Response [200]>...\n",
      "Fetching page 3...<Response [200]>...\n",
      "Fetching page 4...<Response [200]>...\n",
      "Fetching page 5...<Response [200]>...\n",
      "Fetching page 6...<Response [200]>...\n",
      "Fetching page 7...<Response [200]>...\n",
      "Fetching page 8...<Response [200]>...\n",
      "Fetching page 9...<Response [200]>...\n",
      "Fetching page 10...<Response [200]>...\n",
      "Fetching page 11...<Response [200]>...\n",
      "Fetching page 12...<Response [200]>...\n",
      "Fetching page 13...<Response [200]>...\n",
      "Fetching page 14...<Response [200]>...\n",
      "Fetching page 15...<Response [200]>...\n",
      "Fetching page 16...<Response [200]>...\n",
      "Fetching page 17...<Response [200]>...\n",
      "Fetching page 18...<Response [200]>...\n",
      "Fetching page 19...<Response [200]>...\n",
      "Fetching page 20...<Response [200]>...\n",
      "Fetching page 21...<Response [200]>...\n",
      "Fetching page 22...<Response [200]>...\n",
      "Fetching page 23...<Response [200]>...\n",
      "Fetching page 24...<Response [200]>...\n",
      "Fetching page 25...<Response [200]>...\n",
      "Fetching page 26...<Response [200]>...\n",
      "Fetching page 27...<Response [200]>...\n",
      "Fetching page 28...<Response [200]>...\n",
      "Fetching page 29...<Response [200]>...\n",
      "Fetching page 30...<Response [200]>...\n",
      "Fetching page 31...<Response [200]>...\n",
      "Fetching page 32...<Response [200]>...\n",
      "Fetching page 33...<Response [200]>...\n",
      "Fetching page 34...<Response [200]>...\n",
      "Fetching page 35...<Response [200]>...\n",
      "Fetching page 36...<Response [200]>...\n",
      "Fetching page 37...<Response [200]>...\n",
      "Fetching page 38...<Response [200]>...\n",
      "Fetching page 39...<Response [200]>...\n",
      "Fetching page 40...<Response [200]>...\n",
      "Fetching page 41...<Response [200]>...\n",
      "Fetching page 42...<Response [200]>...\n",
      "Fetching page 43...<Response [200]>...\n",
      "Fetching page 44...<Response [200]>...\n",
      "Fetching page 45...<Response [200]>...\n",
      "Fetching page 46...<Response [200]>...\n",
      "Fetching page 47...<Response [200]>...\n",
      "Fetching page 48...<Response [200]>...\n",
      "Fetching page 49...<Response [200]>...\n",
      "Fetching page 50...<Response [200]>...\n",
      "Fetching page 51...<Response [200]>...\n",
      "Fetching page 52...<Response [200]>...\n",
      "Fetching page 53...<Response [200]>...\n",
      "Fetching page 54...<Response [200]>...\n",
      "Fetching page 55...<Response [200]>...\n",
      "Fetching page 56...<Response [200]>...\n",
      "Fetching page 57...<Response [200]>...\n",
      "Fetching page 58...<Response [200]>...\n",
      "Fetching page 59...<Response [200]>...\n",
      "Fetching page 60...<Response [200]>...\n",
      "Fetching page 61...<Response [200]>...\n",
      "Fetching page 62...<Response [200]>...\n",
      "Fetching page 63...<Response [200]>...\n",
      "Fetching page 64...<Response [200]>...\n",
      "Fetching page 65...<Response [200]>...\n",
      "Fetching page 66...<Response [200]>...\n",
      "Fetching page 67...<Response [200]>...\n",
      "Fetching page 68...<Response [200]>...\n",
      "Fetching page 69...<Response [200]>...\n",
      "Fetching page 70...<Response [200]>...\n",
      "Fetching page 71...<Response [200]>...\n",
      "Fetching page 72...<Response [200]>...\n",
      "Fetching page 73...<Response [200]>...\n",
      "Fetching page 74...<Response [200]>...\n",
      "Fetching page 75...<Response [200]>...\n",
      "Fetching page 76...<Response [200]>...\n",
      "Fetching page 77...<Response [200]>...\n",
      "Fetching page 78...<Response [200]>...\n",
      "Fetching page 79...<Response [200]>...\n",
      "Fetching page 80...<Response [200]>...\n",
      "Fetching page 81...<Response [200]>...\n",
      "Fetching page 82...<Response [200]>...\n",
      "Fetching page 83...<Response [200]>...\n",
      "Fetching page 84...<Response [200]>...\n",
      "Fetching page 85...<Response [200]>...\n",
      "Fetching page 86...<Response [200]>...\n",
      "Fetching page 87...<Response [200]>...\n",
      "Fetching page 88...<Response [200]>...\n",
      "Fetching page 89...<Response [200]>...\n",
      "Fetching page 90...<Response [200]>...\n",
      "Fetching page 91...<Response [200]>...\n",
      "Fetching page 92...<Response [200]>...\n",
      "Fetching page 93...<Response [200]>...\n",
      "Fetching page 94...<Response [200]>...\n",
      "Fetching page 95...<Response [200]>...\n",
      "Fetching page 96...<Response [200]>...\n",
      "Fetching page 97...<Response [200]>...\n",
      "Fetching page 98...<Response [200]>...\n",
      "Fetching page 99...<Response [200]>...\n",
      "Fetching page 100...<Response [200]>...\n",
      "Fetching page 101...<Response [200]>...\n",
      "Fetching page 102...<Response [200]>...\n",
      "Fetching page 103...<Response [200]>...\n",
      "Fetching page 104...<Response [200]>...\n",
      "Fetching page 105...<Response [200]>...\n",
      "Fetching page 106...<Response [200]>...\n",
      "Fetching page 107...<Response [200]>...\n",
      "Fetching page 108...<Response [200]>...\n",
      "Fetching page 109...<Response [200]>...\n",
      "Fetching page 110...<Response [200]>...\n",
      "Fetching page 111...<Response [200]>...\n",
      "Fetching page 112...<Response [200]>...\n",
      "Fetching page 113...<Response [200]>...\n",
      "Fetching page 114...<Response [200]>...\n",
      "Fetching page 115...<Response [200]>...\n",
      "Fetching page 116...<Response [200]>...\n",
      "Fetching page 117...<Response [200]>...\n",
      "Fetching page 118...<Response [200]>...\n",
      "Fetching page 119...<Response [200]>...\n",
      "Fetching page 120...<Response [200]>...\n",
      "Fetching page 121...<Response [200]>...\n",
      "Fetching page 122...<Response [200]>...\n",
      "Fetching page 123...<Response [200]>...\n",
      "Fetching page 124...<Response [200]>...\n",
      "Fetching page 125...<Response [200]>...\n",
      "Fetching page 126...<Response [200]>...\n",
      "Fetching page 127...<Response [200]>...\n",
      "Fetching page 128...<Response [200]>...\n",
      "Fetching page 129...<Response [200]>...\n",
      "Fetching page 130...<Response [200]>...\n",
      "Fetching page 131...<Response [200]>...\n",
      "Fetching page 132...<Response [200]>...\n",
      "Fetching page 133...<Response [200]>...\n",
      "Fetching page 134...<Response [200]>...\n",
      "Fetching page 135...<Response [200]>...\n",
      "Fetching page 136...<Response [200]>...\n",
      "Fetching page 137...<Response [200]>...\n",
      "Fetching page 138...<Response [200]>...\n",
      "Fetching page 139...<Response [200]>...\n",
      "Fetching page 140...<Response [200]>...\n",
      "Fetching page 141...<Response [200]>...\n",
      "Fetching page 142...<Response [200]>...\n",
      "Fetching page 143...<Response [200]>...\n",
      "Fetching page 144...<Response [200]>...\n",
      "Fetching page 145...<Response [200]>...\n",
      "Fetching page 146...<Response [200]>...\n",
      "Fetching page 147...<Response [200]>...\n",
      "Fetching page 148...<Response [200]>...\n",
      "Fetching page 149...<Response [200]>...\n",
      "Fetching page 150...<Response [200]>...\n",
      "Fetching page 151...<Response [200]>...\n",
      "Fetching page 152...<Response [200]>...\n",
      "Fetching page 153...<Response [200]>...\n",
      "Fetching page 154...<Response [200]>...\n",
      "Fetching page 155...<Response [200]>...\n",
      "Fetching page 156...<Response [200]>...\n",
      "Fetching page 157...<Response [200]>...\n",
      "Fetching page 158...<Response [200]>...\n",
      "Fetching page 159...<Response [200]>...\n",
      "Fetching page 160...<Response [200]>...\n",
      "Fetching page 161...<Response [200]>...\n",
      "Fetching page 162...<Response [200]>...\n",
      "Fetching page 163...<Response [200]>...\n",
      "Fetching page 164...<Response [200]>...\n",
      "Fetching page 165...<Response [200]>...\n",
      "Fetching page 166...<Response [200]>...\n",
      "Fetching page 167...<Response [200]>...\n",
      "Fetching page 168...<Response [200]>...\n",
      "Fetching page 169...<Response [200]>...\n",
      "Fetching page 170...<Response [200]>...\n",
      "Fetching page 171...<Response [200]>...\n",
      "Fetching page 172...<Response [200]>...\n",
      "Fetching page 173...<Response [200]>...\n",
      "Fetching page 174...<Response [200]>...\n",
      "Fetching page 175...<Response [200]>...\n",
      "Fetching page 176...<Response [200]>...\n",
      "Fetching page 177...<Response [200]>...\n",
      "Fetching page 178...<Response [200]>...\n",
      "Fetching page 179...<Response [200]>...\n",
      "Fetching page 180...<Response [200]>...\n",
      "Fetching page 181...<Response [200]>...\n",
      "Fetching page 182...<Response [200]>...\n",
      "Fetching page 183...<Response [200]>...\n",
      "Fetching page 184...<Response [200]>...\n",
      "Fetching page 185...<Response [200]>...\n",
      "Fetching page 186...<Response [200]>...\n",
      "Fetching page 187...<Response [200]>...\n",
      "Fetching page 188...<Response [200]>...\n",
      "Fetching page 189...<Response [200]>...\n",
      "Fetching page 190...<Response [200]>...\n",
      "Fetching page 191...<Response [200]>...\n",
      "Fetching page 192...<Response [200]>...\n",
      "Fetching page 193...<Response [200]>...\n",
      "Fetching page 194...<Response [200]>...\n",
      "Fetching page 195...<Response [200]>...\n",
      "Fetching page 196...<Response [200]>...\n",
      "Fetching page 197...<Response [200]>...\n",
      "Fetching page 198...<Response [200]>...\n",
      "Fetching page 199...<Response [200]>...\n",
      "Fetching page 200...<Response [200]>...\n",
      "Fetching page 201...<Response [200]>...\n",
      "Fetching page 202...<Response [200]>...\n",
      "Fetching page 203...<Response [200]>...\n",
      "Fetching page 204...<Response [200]>...\n",
      "Fetching page 205...<Response [200]>...\n",
      "Fetching page 206...<Response [200]>...\n",
      "Fetching page 207...<Response [200]>...\n",
      "Fetching page 208...<Response [200]>...\n"
     ]
    },
    {
     "name": "stdout",
     "output_type": "stream",
     "text": [
      "Fetching page 209...<Response [200]>...\n",
      "Fetching page 210...<Response [200]>...\n",
      "Fetching page 211...<Response [200]>...\n",
      "Fetching page 212...<Response [200]>...\n",
      "Fetching page 213...<Response [200]>...\n",
      "Fetching page 214...<Response [200]>...\n",
      "Fetching page 215...<Response [200]>...\n",
      "Fetching page 216...<Response [200]>...\n",
      "Fetching page 217...<Response [200]>...\n",
      "Fetching page 218...<Response [200]>...\n",
      "Fetching page 219...<Response [200]>...\n",
      "Fetching page 220...<Response [200]>...\n",
      "Fetching page 221...<Response [200]>...\n",
      "Fetching page 222...<Response [200]>...\n",
      "Fetching page 223...<Response [200]>...\n",
      "Fetching page 224...<Response [200]>...\n",
      "Fetching page 225...<Response [200]>...\n",
      "Fetching page 226...<Response [200]>...\n",
      "Fetching page 227...<Response [200]>...\n",
      "Fetching page 228...<Response [200]>...\n",
      "Fetching page 229...<Response [200]>...\n",
      "Fetching page 230...<Response [200]>...\n",
      "Fetching page 231...<Response [200]>...\n",
      "Fetching page 232...<Response [200]>...\n",
      "Fetching page 233...<Response [200]>...\n",
      "Fetching page 234...<Response [200]>...\n",
      "Fetching page 235...<Response [200]>...\n",
      "Fetching page 236...<Response [200]>...\n",
      "Fetching page 237...<Response [200]>...\n",
      "Fetching page 238...<Response [200]>...\n",
      "Fetching page 239...<Response [200]>...\n",
      "Fetching page 240...<Response [200]>...\n",
      "Fetching page 241...<Response [200]>...\n",
      "Fetching page 242...<Response [200]>...\n",
      "Fetching page 243...<Response [200]>...\n",
      "Fetching page 244...<Response [200]>...\n",
      "Fetching page 245...<Response [200]>...\n",
      "Fetching page 246...<Response [200]>...\n",
      "Fetching page 247...<Response [200]>...\n",
      "Fetching page 248...<Response [200]>...\n",
      "Fetching page 249...<Response [200]>...\n",
      "Fetching page 250...<Response [200]>...\n",
      "Fetching page 251...<Response [200]>...\n",
      "Fetching page 252...<Response [200]>...\n",
      "Fetching page 253...<Response [200]>...\n",
      "Fetching page 254...<Response [200]>...\n",
      "Fetching page 255...<Response [200]>...\n",
      "Fetching page 256...<Response [200]>...\n",
      "Fetching page 257...<Response [200]>...\n",
      "Fetching page 258...<Response [200]>...\n",
      "Fetching page 259...<Response [200]>...\n",
      "Fetching page 260...<Response [200]>...\n",
      "Fetching page 261...<Response [200]>...\n",
      "Fetching page 262...<Response [200]>...\n",
      "Fetching page 263...<Response [200]>...\n",
      "Fetching page 264...<Response [200]>...\n",
      "Fetching page 265...<Response [200]>...\n",
      "Fetching page 266...<Response [200]>...\n",
      "Fetching page 267...<Response [200]>...\n",
      "Fetching page 268...<Response [200]>...\n",
      "Fetching page 269...<Response [200]>...\n",
      "Fetching page 270...<Response [200]>...\n",
      "Fetching page 271...<Response [200]>...\n",
      "Fetching page 272...<Response [200]>...\n",
      "Fetching page 273...<Response [200]>...\n",
      "Fetching page 274...<Response [200]>...\n",
      "Fetching page 275...<Response [200]>...\n",
      "Fetching page 276...<Response [200]>...\n",
      "Fetching page 277...<Response [200]>...\n",
      "Fetching page 278...<Response [200]>...\n",
      "Fetching page 279...<Response [200]>...\n",
      "Fetching page 280...<Response [200]>...\n",
      "Fetching page 281...<Response [200]>...\n",
      "Fetching page 282...<Response [200]>...\n",
      "Fetching page 283...<Response [200]>...\n",
      "Fetching page 284...<Response [200]>...\n",
      "Fetching page 285...<Response [200]>...\n",
      "Fetching page 286...<Response [200]>...\n",
      "Fetching page 287...<Response [200]>...\n",
      "Fetching page 288...<Response [200]>...\n",
      "Fetching page 289...<Response [200]>...\n",
      "Fetching page 290...<Response [200]>...\n",
      "Fetching page 291...<Response [200]>...\n",
      "Fetching page 292...<Response [200]>...\n",
      "Fetching page 293...<Response [200]>...\n",
      "Fetching page 294...<Response [200]>...\n",
      "Fetching page 295...<Response [200]>...\n",
      "Fetching page 296...<Response [200]>...\n",
      "Fetching page 297...<Response [200]>...\n",
      "Fetching page 298...<Response [200]>...\n",
      "Fetching page 299...<Response [200]>...\n",
      "Fetching page 300...<Response [200]>...\n",
      "Fetching page 301...<Response [200]>...\n",
      "Fetching page 302...<Response [200]>...\n",
      "Fetching page 303...<Response [200]>...\n",
      "Fetching page 304...<Response [200]>...\n",
      "Fetching page 305...<Response [200]>...\n",
      "Fetching page 306...<Response [200]>...\n",
      "Fetching page 307...<Response [200]>...\n",
      "Fetching page 308...<Response [200]>...\n",
      "Fetching page 309...<Response [200]>...\n",
      "Fetching page 310...<Response [200]>...\n",
      "Fetching page 311...<Response [200]>...\n",
      "Fetching page 312...<Response [200]>...\n",
      "Fetching page 313...<Response [200]>...\n",
      "Fetching page 314...<Response [200]>...\n",
      "Fetching page 315...<Response [200]>...\n",
      "Fetching page 316...<Response [200]>...\n",
      "Fetching page 317...<Response [200]>...\n",
      "Fetching page 318...<Response [200]>...\n",
      "Fetching page 319...<Response [200]>...\n",
      "Fetching page 320...<Response [200]>...\n",
      "Fetching page 321...<Response [200]>...\n",
      "Fetching page 322...<Response [200]>...\n",
      "Fetching page 323...<Response [200]>...\n",
      "Fetching page 324...<Response [200]>...\n",
      "Fetching page 325...<Response [200]>...\n",
      "Fetching page 326...<Response [200]>...\n",
      "Fetching page 327...<Response [200]>...\n",
      "Fetching page 328...<Response [200]>...\n",
      "Fetching page 329...<Response [200]>...\n",
      "Fetching page 330...<Response [200]>...\n",
      "Fetching page 331...<Response [200]>...\n",
      "Fetching page 332...<Response [200]>...\n",
      "Fetching page 333...<Response [200]>...\n",
      "Fetching page 334...<Response [200]>...\n",
      "Fetching page 335...<Response [200]>...\n",
      "Fetching page 336...<Response [200]>...\n",
      "Fetching page 337...<Response [200]>...\n",
      "Fetching page 338...<Response [200]>...\n",
      "Fetching page 339...<Response [200]>...\n",
      "Fetching page 340...<Response [200]>...\n",
      "Fetching page 341...<Response [200]>...\n",
      "Fetching page 342...<Response [200]>...\n",
      "Fetching page 343...<Response [200]>...\n",
      "Fetching page 344...<Response [200]>...\n",
      "Fetching page 345...<Response [200]>...\n",
      "Fetching page 346...<Response [200]>...\n",
      "Fetching page 347...<Response [200]>...\n",
      "Fetching page 348...<Response [200]>...\n",
      "Fetching page 349...<Response [200]>...\n",
      "Fetching page 350...<Response [200]>...\n",
      "Fetching page 351...<Response [200]>...\n",
      "Fetching page 352...<Response [200]>...\n",
      "Fetching page 353...<Response [200]>...\n",
      "Fetching page 354...<Response [200]>...\n",
      "Fetching page 355...<Response [200]>...\n",
      "Fetching page 356...<Response [200]>...\n",
      "Fetching page 357...<Response [200]>...\n",
      "Fetching page 358...<Response [200]>...\n",
      "Fetching page 359...<Response [200]>...\n",
      "Fetching page 360...<Response [200]>...\n",
      "Fetching page 361...<Response [200]>...\n",
      "Fetching page 362...<Response [200]>...\n",
      "Fetching page 363...<Response [200]>...\n",
      "Fetching page 364...<Response [200]>...\n",
      "Fetching page 365...<Response [200]>...\n",
      "Fetching page 366...<Response [200]>...\n",
      "Fetching page 367...<Response [200]>...\n",
      "Fetching page 368...<Response [200]>...\n",
      "Fetching page 369...<Response [200]>...\n",
      "Fetching page 370...<Response [200]>...\n",
      "Fetching page 371...<Response [200]>...\n",
      "Fetching page 372...<Response [200]>...\n",
      "Fetching page 373...<Response [200]>...\n",
      "Fetching page 374...<Response [200]>...\n",
      "Fetching page 375...<Response [200]>...\n",
      "Fetching page 376...<Response [200]>...\n",
      "Fetching page 377...<Response [200]>...\n",
      "Fetching page 378...<Response [200]>...\n",
      "Fetching page 379...<Response [200]>...\n",
      "Fetching page 380...<Response [200]>...\n",
      "Fetching page 381...<Response [200]>...\n",
      "Fetching page 382...<Response [200]>...\n",
      "Fetching page 383...<Response [200]>...\n",
      "Fetching page 384...<Response [200]>...\n",
      "Fetching page 385...<Response [200]>...\n",
      "Fetching page 386...<Response [200]>...\n",
      "Fetching page 387...<Response [200]>...\n",
      "Fetching page 388...<Response [200]>...\n",
      "Fetching page 389...<Response [200]>...\n",
      "Fetching page 390...<Response [200]>...\n",
      "Fetching page 391...<Response [200]>...\n",
      "Fetching page 392...<Response [200]>...\n",
      "Fetching page 393...<Response [200]>...\n",
      "Fetching page 394...<Response [200]>...\n",
      "Fetching page 395...<Response [200]>...\n",
      "Fetching page 396...<Response [200]>...\n",
      "Fetching page 397...<Response [200]>...\n",
      "Fetching page 398...<Response [200]>...\n",
      "Fetching page 399...<Response [200]>...\n",
      "Fetching page 400...<Response [200]>...\n",
      "Fetching page 401...<Response [200]>...\n",
      "Fetching page 402...<Response [200]>...\n",
      "Fetching page 403...<Response [200]>...\n",
      "Fetching page 404...<Response [200]>...\n",
      "Fetching page 405...<Response [200]>...\n",
      "Fetching page 406...<Response [200]>...\n",
      "Fetching page 407...<Response [200]>...\n",
      "Fetching page 408...<Response [200]>...\n",
      "Fetching page 409...<Response [200]>...\n",
      "Fetching page 410...<Response [200]>...\n",
      "Fetching page 411...<Response [200]>...\n",
      "Fetching page 412...<Response [200]>...\n",
      "Fetching page 413...<Response [200]>...\n"
     ]
    },
    {
     "name": "stdout",
     "output_type": "stream",
     "text": [
      "Fetching page 414...<Response [200]>...\n",
      "Fetching page 415...<Response [200]>...\n",
      "Fetching page 416...<Response [200]>...\n",
      "Fetching page 417...<Response [200]>...\n",
      "Fetching page 418...<Response [200]>...\n",
      "Fetching page 419...<Response [200]>...\n",
      "Fetching page 420...<Response [200]>...\n",
      "Fetching page 421...<Response [200]>...\n",
      "Fetching page 422...<Response [200]>...\n",
      "Fetching page 423...<Response [200]>...\n",
      "Fetching page 424...<Response [200]>...\n",
      "Fetching page 425...<Response [200]>...\n",
      "Fetching page 426...<Response [200]>...\n",
      "Fetching page 427...<Response [200]>...\n",
      "Fetching page 428...<Response [200]>...\n",
      "Fetching page 429...<Response [200]>...\n",
      "Fetching page 430...<Response [200]>...\n",
      "Fetching page 431...<Response [200]>...\n",
      "Fetching page 432...<Response [200]>...\n",
      "Fetching page 433...<Response [200]>...\n",
      "Fetching page 434...<Response [200]>...\n",
      "Fetching page 435...<Response [200]>...\n",
      "Fetching page 436...<Response [200]>...\n",
      "Fetching page 437...<Response [200]>...\n",
      "Fetching page 438...<Response [200]>...\n",
      "Fetching page 439...<Response [200]>...\n",
      "Fetching page 440...<Response [200]>...\n",
      "Fetching page 441...<Response [200]>...\n",
      "Fetching page 442...<Response [200]>...\n",
      "Fetching page 443...<Response [200]>...\n",
      "Fetching page 444...<Response [200]>...\n",
      "Fetching page 445...<Response [200]>...\n",
      "Fetching page 446...<Response [200]>...\n",
      "Fetching page 447...<Response [200]>...\n",
      "Fetching page 448...<Response [200]>...\n",
      "Fetching page 449...<Response [200]>...\n",
      "Fetching page 450...<Response [200]>...\n",
      "Fetching page 451...<Response [200]>...\n",
      "Fetching page 452...<Response [200]>...\n",
      "Fetching page 453...<Response [200]>...\n",
      "Fetching page 454...<Response [200]>...\n",
      "Fetching page 455...<Response [200]>...\n",
      "Fetching page 456...<Response [200]>...\n",
      "Fetching page 457...<Response [200]>...\n",
      "Fetching page 458...<Response [200]>...\n",
      "Fetching page 459...<Response [200]>...\n",
      "Fetching page 460...<Response [200]>...\n",
      "Fetching page 461...<Response [200]>...\n",
      "Fetching page 462...<Response [200]>...\n",
      "Fetching page 463...<Response [200]>...\n",
      "Fetching page 464...<Response [200]>...\n",
      "Fetching page 465...<Response [200]>...\n",
      "Fetching page 466...<Response [200]>...\n",
      "Fetching page 467...<Response [200]>...\n",
      "Fetching page 468...<Response [200]>...\n",
      "Fetching page 469...<Response [200]>...\n",
      "Fetching page 470...<Response [200]>...\n",
      "Fetching page 471...<Response [200]>...\n",
      "Fetching page 472...<Response [200]>...\n",
      "Fetching page 473...<Response [200]>...\n",
      "Fetching page 474...<Response [200]>...\n",
      "Fetching page 475...<Response [200]>...\n",
      "Fetching page 476...<Response [200]>...\n",
      "Fetching page 477...<Response [200]>...\n",
      "Fetching page 478...<Response [200]>...\n",
      "Fetching page 479...<Response [200]>...\n",
      "Fetching page 480...<Response [200]>...\n",
      "Fetching page 481...<Response [200]>...\n",
      "Fetching page 482...<Response [200]>...\n",
      "Fetching page 483...<Response [200]>...\n",
      "Fetching page 484...<Response [200]>...\n",
      "Fetching page 485...<Response [200]>...\n",
      "Fetching page 486...<Response [200]>...\n",
      "Fetching page 487...<Response [200]>...\n",
      "Fetching page 488...<Response [200]>...\n",
      "Fetching page 489...<Response [200]>...\n",
      "Fetching page 490...<Response [200]>...\n",
      "Fetching page 491...<Response [200]>...\n",
      "Fetching page 492...<Response [200]>...\n",
      "Fetching page 493...<Response [200]>...\n",
      "Fetching page 494...<Response [200]>...\n",
      "Fetching page 495...<Response [200]>...\n",
      "Fetching page 496...<Response [200]>...\n",
      "Fetching page 497...<Response [200]>...\n",
      "Fetching page 498...<Response [200]>...\n",
      "Fetching page 499...<Response [200]>...\n",
      "Fetching page 500...<Response [200]>...\n",
      "Fetching page 501...<Response [200]>...\n",
      "Fetching page 502...<Response [200]>...\n",
      "Fetching page 503...<Response [200]>...\n",
      "Fetching page 504...<Response [200]>...\n",
      "Fetching page 505...<Response [200]>...\n",
      "Fetching page 506...<Response [200]>...\n",
      "Fetching page 507...<Response [200]>...\n",
      "Fetching page 508...<Response [200]>...\n",
      "Fetching page 509...<Response [200]>...\n",
      "Fetching page 510...<Response [200]>...\n",
      "Fetching page 511...<Response [200]>...\n",
      "Fetching page 512...<Response [200]>...\n",
      "Fetching page 513...<Response [200]>...\n",
      "Fetching page 514...<Response [200]>...\n",
      "Fetching page 515...<Response [200]>...\n",
      "Fetching page 516...<Response [200]>...\n",
      "Fetching page 517...<Response [200]>...\n",
      "Fetching page 518...<Response [200]>...\n",
      "Fetching page 519...<Response [200]>...\n",
      "Fetching page 520...<Response [200]>...\n",
      "Fetching page 521...<Response [200]>...\n",
      "Fetching page 522...<Response [200]>...\n",
      "Fetching page 523...<Response [200]>...\n",
      "Fetching page 524...<Response [200]>...\n",
      "Fetching page 525...<Response [200]>...\n",
      "Fetching page 526...<Response [200]>...\n",
      "Fetching page 527...<Response [200]>...\n",
      "Fetching page 528...<Response [200]>...\n",
      "Fetching page 529...<Response [200]>...\n",
      "Fetching page 530...<Response [200]>...\n",
      "Fetching page 531...<Response [200]>...\n",
      "Fetching page 532...<Response [200]>...\n",
      "Fetching page 533...<Response [200]>...\n",
      "Fetching page 534...<Response [200]>...\n",
      "Fetching page 535...<Response [200]>...\n",
      "Fetching page 536...<Response [200]>...\n",
      "Fetching page 537...<Response [200]>...\n",
      "Fetching page 538...<Response [200]>...\n",
      "Fetching page 539...<Response [200]>...\n",
      "Fetching page 540...<Response [200]>...\n",
      "Fetching page 541...<Response [200]>...\n",
      "Fetching page 542...<Response [200]>...\n",
      "Fetching page 543...<Response [200]>...\n",
      "Fetching page 544...<Response [200]>...\n",
      "Fetching page 545...<Response [200]>...\n",
      "Fetching page 546...<Response [200]>...\n",
      "Fetching page 547...<Response [200]>...\n",
      "Fetching page 548...<Response [200]>...\n",
      "Fetching page 549...<Response [200]>...\n",
      "Fetching page 550...<Response [200]>...\n",
      "Fetching page 551...<Response [200]>...\n",
      "Fetching page 552...<Response [200]>...\n",
      "Fetching page 553...<Response [200]>...\n",
      "Fetching page 554...<Response [200]>...\n",
      "Fetching page 555...<Response [200]>...\n",
      "Fetching page 556...<Response [200]>...\n",
      "Fetching page 557...<Response [200]>...\n",
      "Fetching page 558...<Response [200]>...\n",
      "Fetching page 559...<Response [200]>...\n",
      "Fetching page 560...<Response [200]>...\n",
      "Fetching page 561...<Response [200]>...\n",
      "Fetching page 562...<Response [200]>...\n",
      "Fetching page 563...<Response [200]>...\n",
      "Fetching page 564...<Response [200]>...\n",
      "Fetching page 565...<Response [200]>...\n",
      "Fetching page 566...<Response [200]>...\n",
      "Fetching page 567...<Response [200]>...\n",
      "Fetching page 568...<Response [200]>...\n",
      "Fetching page 569...<Response [200]>...\n",
      "Fetching page 570...<Response [200]>...\n",
      "Fetching page 571...<Response [200]>...\n",
      "Fetching page 572...<Response [200]>...\n",
      "Fetching page 573...<Response [200]>...\n",
      "Fetching page 574...<Response [200]>...\n",
      "Fetching page 575...<Response [200]>...\n",
      "Fetching page 576...<Response [200]>...\n",
      "Fetching page 577...<Response [200]>...\n",
      "Fetching page 578...<Response [200]>...\n",
      "Fetching page 579...<Response [200]>...\n",
      "Fetching page 580...<Response [200]>...\n",
      "Fetching page 581...<Response [200]>...\n",
      "Fetching page 582...<Response [200]>...\n",
      "Fetching page 583...<Response [200]>...\n",
      "Fetching page 584...<Response [200]>...\n",
      "Fetching page 585...<Response [200]>...\n",
      "Fetching page 586...<Response [200]>...\n",
      "Fetching page 587...<Response [200]>...\n",
      "Fetching page 588...<Response [200]>...\n",
      "Fetching page 589...<Response [200]>...\n",
      "Fetching page 590...<Response [200]>...\n",
      "Fetching page 591...<Response [200]>...\n",
      "Fetching page 592...<Response [200]>...\n",
      "Fetching page 593...<Response [200]>...\n",
      "Fetching page 594...<Response [200]>...\n",
      "Fetching page 595...<Response [200]>...\n",
      "Fetching page 596...<Response [200]>...\n",
      "Fetching page 597...<Response [200]>...\n",
      "Fetching page 598...<Response [200]>...\n",
      "Fetching page 599...<Response [200]>...\n",
      "Fetching page 600...<Response [200]>...\n",
      "Fetching page 601...<Response [200]>...\n",
      "Fetching page 602...<Response [200]>...\n",
      "Fetching page 603...<Response [200]>...\n",
      "Fetching page 604...<Response [200]>...\n",
      "Fetching page 605...<Response [200]>...\n",
      "Fetching page 606...<Response [200]>...\n",
      "Fetching page 607...<Response [200]>...\n",
      "Fetching page 608...<Response [200]>...\n",
      "Fetching page 609...<Response [200]>...\n",
      "Fetching page 610...<Response [200]>...\n",
      "Fetching page 611...<Response [200]>...\n",
      "Fetching page 612...<Response [200]>...\n",
      "Fetching page 613...<Response [200]>...\n",
      "Fetching page 614...<Response [200]>...\n",
      "Fetching page 615...<Response [200]>...\n",
      "Fetching page 616...<Response [200]>...\n",
      "Fetching page 617...<Response [200]>...\n",
      "Fetching page 618...<Response [200]>...\n"
     ]
    },
    {
     "name": "stdout",
     "output_type": "stream",
     "text": [
      "Fetching page 619...<Response [200]>...\n",
      "Fetching page 620...<Response [200]>...\n",
      "Fetching page 621...<Response [200]>...\n",
      "Fetching page 622...<Response [200]>...\n",
      "Fetching page 623...<Response [200]>...\n",
      "Fetching page 624...<Response [200]>...\n",
      "Fetching page 625...<Response [200]>...\n",
      "Fetching page 626...<Response [200]>...\n",
      "Fetching page 627...<Response [200]>...\n",
      "Fetching page 628...<Response [200]>...\n",
      "Fetching page 629...<Response [200]>...\n",
      "Fetching page 630...<Response [200]>...\n",
      "Fetching page 631...<Response [200]>...\n",
      "Fetching page 632...<Response [200]>...\n",
      "Fetching page 633...<Response [200]>...\n",
      "Fetching page 634...<Response [200]>...\n",
      "Fetching page 635...<Response [200]>...\n",
      "Fetching page 636...<Response [200]>...\n",
      "Fetching page 637...<Response [200]>...\n",
      "Fetching page 638...<Response [200]>...\n",
      "Fetching page 639...<Response [200]>...\n",
      "Fetching page 640...<Response [200]>...\n",
      "Fetching page 641...<Response [200]>...\n",
      "Fetching page 642...<Response [200]>...\n",
      "Fetching page 643...<Response [200]>...\n",
      "Fetching page 644...<Response [200]>...\n",
      "Fetching page 645...<Response [200]>...\n",
      "Fetching page 646...<Response [200]>...\n",
      "Fetching page 647...<Response [200]>...\n",
      "Fetching page 648...<Response [200]>...\n",
      "Fetching page 649...<Response [200]>...\n",
      "Fetching page 650...<Response [200]>...\n",
      "Fetching page 651...<Response [200]>...\n",
      "Fetching page 652...<Response [200]>...\n",
      "Fetching page 653...<Response [200]>...\n",
      "Fetching page 654...<Response [200]>...\n",
      "Fetching page 655...<Response [200]>...\n",
      "Fetching page 656...<Response [200]>...\n",
      "Fetching page 657...<Response [200]>...\n",
      "Fetching page 658...<Response [200]>...\n",
      "Fetching page 659...<Response [200]>...\n",
      "Fetching page 660...<Response [200]>...\n",
      "Fetching page 661...<Response [200]>...\n",
      "Fetching page 662...<Response [200]>...\n",
      "Fetching page 663...<Response [200]>...\n",
      "Fetching page 664...<Response [200]>...\n",
      "Fetching page 665...<Response [200]>...\n",
      "Fetching page 666...<Response [200]>...\n",
      "Fetching page 667...<Response [200]>...\n",
      "Fetching page 668...<Response [200]>...\n",
      "Fetching page 669...<Response [200]>...\n",
      "Fetching page 670...<Response [200]>...\n",
      "Fetching page 671...<Response [200]>...\n",
      "Fetching page 672...<Response [200]>...\n",
      "Fetching page 673...<Response [200]>...\n",
      "Fetching page 674...<Response [200]>...\n",
      "Fetching page 675...<Response [200]>...\n",
      "Fetching page 676...<Response [200]>...\n",
      "Fetching page 677...<Response [200]>...\n",
      "Fetching page 678...<Response [200]>...\n",
      "Fetching page 679...<Response [200]>...\n",
      "Fetching page 680...<Response [200]>...\n",
      "Fetching page 681...<Response [200]>...\n",
      "Fetching page 682...<Response [200]>...\n",
      "Fetching page 683...<Response [200]>...\n",
      "Fetching page 684...<Response [200]>...\n",
      "Fetching page 685...<Response [200]>...\n",
      "Fetching page 686...<Response [200]>...\n",
      "Fetching page 687...<Response [200]>...\n",
      "Fetching page 688...<Response [200]>...\n",
      "Fetching page 689...<Response [200]>...\n",
      "Fetching page 690...<Response [200]>...\n",
      "Fetching page 691...<Response [200]>...\n",
      "Fetching page 692...<Response [200]>...\n",
      "Fetching page 693...<Response [200]>...\n",
      "Fetching page 694...<Response [200]>...\n",
      "Fetching page 695...<Response [200]>...\n",
      "Fetching page 696...<Response [200]>...\n",
      "Fetching page 697...<Response [200]>...\n",
      "Fetching page 698...<Response [200]>...\n",
      "Fetching page 699...<Response [200]>...\n",
      "Fetching page 700...<Response [200]>...\n",
      "Fetching page 701...<Response [200]>...\n",
      "Fetching page 702...<Response [200]>...\n",
      "Fetching page 703...<Response [200]>...\n",
      "Fetching page 704...<Response [200]>...\n",
      "Fetching page 705...<Response [200]>...\n",
      "Fetching page 706...<Response [200]>...\n",
      "Fetching page 707...<Response [200]>...\n",
      "Fetching page 708...<Response [200]>...\n",
      "Fetching page 709...<Response [200]>...\n",
      "Fetching page 710...<Response [200]>...\n",
      "Fetching page 711...<Response [200]>...\n",
      "Fetching page 712...<Response [200]>...\n",
      "Fetching page 713...<Response [200]>...\n",
      "Fetching page 714...<Response [200]>...\n",
      "Fetching page 715...<Response [200]>...\n",
      "Fetching page 716...<Response [200]>...\n",
      "Fetching page 717...<Response [200]>...\n",
      "Fetching page 718...<Response [200]>...\n",
      "Fetching page 719...<Response [200]>...\n",
      "Fetching page 720...<Response [200]>...\n",
      "Fetching page 721...<Response [200]>...\n",
      "Fetching page 722...<Response [200]>...\n",
      "Fetching page 723...<Response [200]>...\n",
      "Fetching page 724...<Response [200]>...\n",
      "Fetching page 725...<Response [200]>...\n",
      "Fetching page 726...<Response [200]>...\n",
      "Fetching page 727...<Response [200]>...\n",
      "Fetching page 728...<Response [200]>...\n",
      "Fetching page 729...<Response [200]>...\n",
      "Fetching page 730...<Response [200]>...\n",
      "Fetching page 731...<Response [200]>...\n",
      "Fetching page 732...<Response [200]>...\n",
      "Fetching page 733...<Response [200]>...\n",
      "Fetching page 734...<Response [200]>...\n",
      "Fetching page 735...<Response [200]>...\n",
      "Fetching page 736...<Response [200]>...\n",
      "Fetching page 737...<Response [200]>...\n",
      "Fetching page 738...<Response [200]>...\n",
      "Fetching page 739...<Response [200]>...\n",
      "Fetching page 740...<Response [200]>...\n",
      "Fetching page 741...<Response [200]>...\n",
      "Fetching page 742...<Response [200]>...\n",
      "Fetching page 743...<Response [200]>...\n",
      "Fetching page 744...<Response [200]>...\n",
      "Fetching page 745...<Response [200]>...\n",
      "Fetching page 746...<Response [200]>...\n",
      "Fetching page 747...<Response [200]>...\n",
      "Fetching page 748...<Response [200]>...\n",
      "Fetching page 749...<Response [200]>...\n",
      "Fetching page 750...<Response [200]>...\n",
      "Fetching page 751...<Response [200]>...\n",
      "Fetching page 752...<Response [200]>...\n",
      "Fetching page 753...<Response [200]>...\n",
      "Fetching page 754...<Response [200]>...\n",
      "Fetching page 755...<Response [200]>...\n",
      "Fetching page 756...<Response [200]>...\n",
      "Fetching page 757...<Response [200]>...\n",
      "Fetching page 758...<Response [200]>...\n",
      "Fetching page 759...<Response [200]>...\n",
      "Fetching page 760...<Response [200]>...\n",
      "Fetching page 761...<Response [200]>...\n",
      "Fetching page 762...<Response [200]>...\n",
      "Fetching page 763...<Response [200]>...\n",
      "Fetching page 764...<Response [200]>...\n",
      "Fetching page 765...<Response [200]>...\n",
      "Fetching page 766...<Response [200]>...\n",
      "Fetching page 767...<Response [200]>...\n",
      "Fetching page 768...<Response [200]>...\n",
      "Fetching page 769...<Response [200]>...\n",
      "Fetching page 770...<Response [200]>...\n",
      "Fetching page 771...<Response [200]>...\n",
      "Fetching page 772...<Response [200]>...\n",
      "Fetching page 773...<Response [200]>...\n",
      "Fetching page 774...<Response [200]>...\n",
      "Fetching page 775...<Response [200]>...\n",
      "Fetching page 776...<Response [200]>...\n",
      "Fetching page 777...<Response [200]>...\n",
      "Fetching page 778...<Response [200]>...\n",
      "Fetching page 779...<Response [200]>...\n",
      "Fetching page 780...<Response [200]>...\n",
      "Fetching page 781...<Response [200]>...\n",
      "Fetching page 782...<Response [200]>...\n",
      "Fetching page 783...<Response [200]>...\n",
      "Fetching page 784...<Response [200]>...\n",
      "Fetching page 785...<Response [200]>...\n",
      "Fetching page 786...<Response [200]>...\n",
      "Fetching page 787...<Response [200]>...\n",
      "Fetching page 788...<Response [200]>...\n",
      "Fetching page 789...<Response [200]>...\n",
      "Fetching page 790...<Response [200]>...\n",
      "Fetching page 791...<Response [200]>...\n",
      "Fetching page 792...<Response [200]>...\n",
      "Fetching page 793...<Response [200]>...\n",
      "Fetching page 794...<Response [200]>...\n",
      "Fetching page 795...<Response [200]>...\n",
      "Fetching page 796...<Response [200]>...\n",
      "Fetching page 797...<Response [200]>...\n",
      "Fetching page 798...<Response [200]>...\n",
      "Fetching page 799...<Response [200]>...\n",
      "Fetching page 800...<Response [200]>...\n",
      "Fetching page 801...<Response [200]>...\n",
      "Fetching page 802...<Response [200]>...\n",
      "Fetching page 803...<Response [200]>...\n",
      "Fetching page 804...<Response [200]>...\n",
      "Fetching page 805...<Response [200]>...\n",
      "Fetching page 806...<Response [200]>...\n",
      "Fetching page 807...<Response [200]>...\n",
      "Fetching page 808...<Response [200]>...\n",
      "Fetching page 809...<Response [200]>...\n",
      "Fetching page 810...<Response [200]>...\n",
      "Fetching page 811...<Response [200]>...\n",
      "Fetching page 812...<Response [200]>...\n",
      "Fetching page 813...<Response [200]>...\n",
      "Fetching page 814...<Response [200]>...\n",
      "Fetching page 815...<Response [200]>...\n",
      "Fetching page 816...<Response [200]>...\n",
      "Fetching page 817...<Response [200]>...\n",
      "Fetching page 818...<Response [200]>...\n",
      "Fetching page 819...<Response [200]>...\n",
      "Fetching page 820...<Response [200]>...\n",
      "Fetching page 821...<Response [200]>...\n",
      "Fetching page 822...<Response [200]>...\n",
      "Fetching page 823...<Response [200]>...\n"
     ]
    },
    {
     "name": "stdout",
     "output_type": "stream",
     "text": [
      "Fetching page 824...<Response [200]>...\n",
      "Fetching page 825...<Response [200]>...\n",
      "Fetching page 826...<Response [200]>...\n",
      "Fetching page 827...<Response [200]>...\n",
      "Fetching page 828...<Response [200]>...\n",
      "Fetching page 829...<Response [200]>...\n",
      "Fetching page 830...<Response [200]>...\n",
      "Fetching page 831...<Response [200]>...\n",
      "Fetching page 832...<Response [200]>...\n",
      "Fetching page 833...<Response [200]>...\n",
      "Fetching page 834...<Response [200]>...\n",
      "Fetching page 835...<Response [200]>...\n",
      "Fetching page 836...<Response [200]>...\n",
      "Fetching page 837...<Response [200]>...\n",
      "Fetching page 838...<Response [200]>...\n",
      "Fetching page 839...<Response [200]>...\n",
      "Fetching page 840...<Response [200]>...\n",
      "Fetching page 841...<Response [200]>...\n",
      "Fetching page 842...<Response [200]>...\n",
      "Fetching page 843...<Response [200]>...\n",
      "Fetching page 844...<Response [200]>...\n",
      "Fetching page 845...<Response [200]>...\n",
      "Fetching page 846...<Response [200]>...\n",
      "Fetching page 847...<Response [200]>...\n",
      "Fetching page 848...<Response [200]>...\n",
      "Fetching page 849...<Response [200]>...\n",
      "Fetching page 850...<Response [200]>...\n",
      "Fetching page 851...<Response [200]>...\n",
      "Fetching page 852...<Response [200]>...\n",
      "Fetching page 853...<Response [200]>...\n",
      "Fetching page 854...<Response [200]>...\n",
      "Fetching page 855...<Response [200]>...\n",
      "Fetching page 856...<Response [200]>...\n",
      "Fetching page 857...<Response [200]>...\n",
      "Fetching page 858...<Response [200]>...\n",
      "Fetching page 859...<Response [200]>...\n",
      "Fetching page 860...<Response [200]>...\n",
      "Fetching page 861...<Response [200]>...\n",
      "Fetching page 862...<Response [200]>...\n",
      "Fetching page 863...<Response [200]>...\n",
      "Fetching page 864...<Response [200]>...\n",
      "Fetching page 865...<Response [200]>...\n",
      "Fetching page 866...<Response [200]>...\n",
      "Fetching page 867...<Response [200]>...\n",
      "Fetching page 868...<Response [200]>...\n",
      "Fetching page 869...<Response [200]>...\n",
      "Fetching page 870...<Response [200]>...\n",
      "Fetching page 871...<Response [200]>...\n",
      "Fetching page 872...<Response [200]>...\n",
      "Fetching page 873...<Response [200]>...\n",
      "Fetching page 874...<Response [200]>...\n",
      "Fetching page 875...<Response [200]>...\n",
      "Fetching page 876...<Response [200]>...\n",
      "Fetching page 877...<Response [200]>...\n",
      "Fetching page 878...<Response [200]>...\n",
      "Fetching page 879...<Response [200]>...\n",
      "Fetching page 880...<Response [200]>...\n",
      "Fetching page 881...<Response [200]>...\n",
      "Fetching page 882...<Response [200]>...\n",
      "Fetching page 883...<Response [200]>...\n",
      "Fetching page 884...<Response [200]>...\n",
      "Fetching page 885...<Response [200]>...\n",
      "Fetching page 886...<Response [200]>...\n",
      "Fetching page 887...<Response [200]>...\n",
      "Fetching page 888...<Response [200]>...\n",
      "Fetching page 889...<Response [200]>...\n",
      "Fetching page 890...<Response [200]>...\n",
      "Fetching page 891...<Response [200]>...\n",
      "Fetching page 892...<Response [200]>...\n",
      "Fetching page 893...<Response [200]>...\n",
      "Fetching page 894...<Response [200]>...\n",
      "Fetching page 895...<Response [200]>...\n",
      "Fetching page 896...<Response [200]>...\n",
      "Fetching page 897...<Response [200]>...\n",
      "Fetching page 898...<Response [200]>...\n",
      "Fetching page 899...<Response [200]>...\n",
      "Fetching page 900...<Response [200]>...\n",
      "Fetching page 901...<Response [200]>...\n",
      "Fetching page 902...<Response [200]>...\n",
      "Fetching page 903...<Response [200]>...\n",
      "Fetching page 904...<Response [200]>...\n",
      "Fetching page 905...<Response [200]>...\n",
      "Fetching page 906...<Response [200]>...\n",
      "Fetching page 907...<Response [200]>...\n",
      "Fetching page 908...<Response [200]>...\n",
      "Fetching page 909...<Response [200]>...\n",
      "Fetching page 910...<Response [200]>...\n",
      "Fetching page 911...<Response [200]>...\n",
      "Fetching page 912...<Response [200]>...\n",
      "Fetching page 913...<Response [200]>...\n",
      "Fetching page 914...<Response [200]>...\n",
      "Fetching page 915...<Response [200]>...\n",
      "Fetching page 916...<Response [200]>...\n",
      "Fetching page 917...<Response [200]>...\n",
      "Fetching page 918...<Response [200]>...\n",
      "Fetching page 919...<Response [200]>...\n",
      "Fetching page 920...<Response [200]>...\n",
      "Fetching page 921...<Response [200]>...\n",
      "Fetching page 922...<Response [200]>...\n",
      "Fetching page 923...<Response [200]>...\n",
      "Fetching page 924...<Response [200]>...\n",
      "Fetching page 925...<Response [200]>...\n",
      "Fetching page 926...<Response [200]>...\n",
      "Fetching page 927...<Response [200]>...\n",
      "Fetching page 928...<Response [200]>...\n",
      "Fetching page 929...<Response [200]>...\n",
      "Fetching page 930...<Response [200]>...\n",
      "Fetching page 931...<Response [200]>...\n",
      "Fetching page 932...<Response [200]>...\n",
      "Fetching page 933...<Response [200]>...\n",
      "Fetching page 934...<Response [200]>...\n",
      "Fetching page 935...<Response [200]>...\n",
      "Fetching page 936...<Response [200]>...\n",
      "Fetching page 937...<Response [200]>...\n",
      "Fetching page 938...<Response [200]>...\n",
      "Fetching page 939...<Response [200]>...\n",
      "Fetching page 940...<Response [200]>...\n",
      "Fetching page 941...<Response [200]>...\n",
      "Fetching page 942...<Response [200]>...\n",
      "Fetching page 943...<Response [200]>...\n",
      "Fetching page 944...<Response [200]>...\n",
      "Fetching page 945...<Response [200]>...\n",
      "Fetching page 946...<Response [200]>...\n",
      "Fetching page 947...<Response [200]>...\n",
      "Fetching page 948...<Response [200]>...\n",
      "Fetching page 949...<Response [200]>...\n",
      "Fetching page 950...<Response [200]>...\n",
      "Fetching page 951...<Response [200]>...\n",
      "Fetching page 952...<Response [200]>...\n",
      "Fetching page 953...<Response [200]>...\n",
      "Fetching page 954...<Response [200]>...\n",
      "Fetching page 955...<Response [200]>...\n",
      "Fetching page 956...<Response [200]>...\n",
      "Fetching page 957...<Response [200]>...\n",
      "Fetching page 958...<Response [200]>...\n",
      "Fetching page 959...<Response [200]>...\n",
      "Fetching page 960...<Response [200]>...\n",
      "Fetching page 961...<Response [200]>...\n",
      "Fetching page 962...<Response [200]>...\n",
      "Fetching page 963...<Response [200]>...\n",
      "Fetching page 964...<Response [200]>...\n",
      "Fetching page 965...<Response [200]>...\n",
      "Fetching page 966...<Response [200]>...\n",
      "Fetching page 967...<Response [200]>...\n",
      "Fetching page 968...<Response [200]>...\n",
      "Fetching page 969...<Response [200]>...\n",
      "Fetching page 970...<Response [200]>...\n",
      "Fetching page 971...<Response [200]>...\n",
      "Fetching page 972...<Response [200]>...\n",
      "Fetching page 973...<Response [200]>...\n",
      "Fetching page 974...<Response [200]>...\n",
      "Fetching page 975...<Response [200]>...\n",
      "Fetching page 976...<Response [200]>...\n",
      "Fetching page 977...<Response [200]>...\n",
      "Fetching page 978...<Response [200]>...\n",
      "Fetching page 979...<Response [200]>...\n",
      "Fetching page 980...<Response [200]>...\n",
      "Fetching page 981...<Response [200]>...\n",
      "Fetching page 982...<Response [200]>...\n",
      "Fetching page 983...<Response [200]>...\n",
      "Fetching page 984...<Response [200]>...\n",
      "Fetching page 985...<Response [200]>...\n",
      "Fetching page 986...<Response [200]>...\n",
      "Fetching page 987...<Response [200]>...\n",
      "Fetching page 988...<Response [200]>...\n",
      "Fetching page 989...<Response [200]>...\n",
      "Fetching page 990...<Response [200]>...\n",
      "Fetching page 991...<Response [200]>...\n",
      "Fetching page 992...<Response [200]>...\n",
      "Fetching page 993...<Response [200]>...\n",
      "Fetching page 994...<Response [200]>...\n",
      "Fetching page 995...<Response [200]>...\n",
      "Fetching page 996...<Response [200]>...\n",
      "Fetching page 997...<Response [200]>...\n",
      "Fetching page 998...<Response [200]>...\n",
      "Fetching page 999...<Response [200]>...\n",
      "Fetching page 1000...<Response [200]>...\n",
      "Fetching page 1001...<Response [200]>...\n",
      "Fetching page 1002...<Response [200]>...\n",
      "Fetching page 1003...<Response [200]>...\n",
      "Fetching page 1004...<Response [200]>...\n",
      "Fetching page 1005...<Response [200]>...\n",
      "Fetching page 1006...<Response [200]>...\n",
      "Fetching page 1007...<Response [200]>...\n",
      "Fetching page 1008...<Response [200]>...\n",
      "Fetching page 1009...<Response [200]>...\n",
      "Fetching page 1010...<Response [200]>...\n",
      "Fetching page 1011...<Response [200]>...\n",
      "Fetching page 1012...<Response [200]>...\n",
      "Fetching page 1013...<Response [200]>...\n",
      "Fetching page 1014...<Response [200]>...\n",
      "Fetching page 1015...<Response [200]>...\n",
      "Fetching page 1016...<Response [200]>...\n",
      "Fetching page 1017...<Response [200]>...\n",
      "Fetching page 1018...<Response [200]>...\n",
      "Fetching page 1019...<Response [200]>...\n",
      "Fetching page 1020...<Response [200]>...\n",
      "Fetching page 1021...<Response [200]>...\n",
      "Fetching page 1022...<Response [200]>...\n",
      "Fetching page 1023...<Response [200]>...\n",
      "Fetching page 1024...<Response [200]>...\n",
      "Fetching page 1025...<Response [200]>...\n",
      "Fetching page 1026...<Response [200]>...\n",
      "Fetching page 1027...<Response [200]>...\n",
      "Fetching page 1028...<Response [200]>...\n"
     ]
    }
   ],
   "source": [
    "data = pd.DataFrame(columns=['User', 'Post','Images', 'Thumbs Up', 'Thumbs Down', 'Date', 'Time'])\n",
    "\n",
    "for j in range(1, 1029):\n",
    "\n",
    "    time.sleep(np.random.rand()*30)\n",
    "   \n",
    "    url = f'https://www.tigerdroppings.com/rant/o-t-lounge/storm-update--ida-moves-away---the-cleanup-begins/97936225/page-{j}/'\n",
    "\n",
    "    r = requests.get(url)\n",
    "    print(f'Fetching page {j}...{r}...')\n",
    "    soup = BeautifulSoup(r.text, 'html.parser')\n",
    "\n",
    "\n",
    "    page_posts = soup.find_all(\"div\", {\"class\": \"row\"})\n",
    "\n",
    "    for i in range(0, len(page_posts)+1):\n",
    "        try:\n",
    "\n",
    "            user = page_posts[i].find(class_=\"RegUser\").get_text()\n",
    "            post = page_posts[i].find(class_='pText').get_text()\n",
    "            images = len(page_posts[i].find_all(class_='MBpImage'))\n",
    "            date_time = page_posts[i].find(class_='PostInfo').get_text().split(' on ')[1].split('at')\n",
    "            date = date_time[0]\n",
    "            timestamp = date_time[1].split('m ')[0]\n",
    "            thumbs_up = page_posts[i+1].find(class_='mbThUp').get_text()\n",
    "            thumbs_down = page_posts[i+1].find(class_='mbThDown').get_text()\n",
    "        except Exception as e:\n",
    "            pass\n",
    "        \n",
    "        data = data.append({\"User\": user, \"Post\": post, \"Images\": images,  \"Thumbs Up\" : thumbs_up, \"Thumbs Down\" : thumbs_down, \"Date\": date, \"Time\" :timestamp}, ignore_index=True)\n",
    "\n",
    "data['Post'] = data.apply(lambda x: check_na(x['Post'], x['Images']), axis=1)\n",
    "data = data[~data['User'].str.contains('TD Sponsor')]\n",
    "post_data = data.drop_duplicates(subset=[\"User\", \"Post\", 'Time'])\n",
    "post_data.to_clipboard()\n"
   ]
  },
  {
   "cell_type": "code",
   "execution_count": 237,
   "metadata": {},
   "outputs": [],
   "source": [
    "post_data_import = pd.read_csv(r\"C:\\Users\\Gerard\\Downloads\\td_hurricane_data.csv\")\n",
    "\n",
    "post_data_import['Clean Time'] = post_data_import['Time'].apply(lambda x: add_m(x))\n",
    "post_data_import['Datetime'] = post_data_import['Date'] + \" \" + post_data_import[\"Clean Time\"]\n",
    "post_data_import['Datetime'] = pd.to_datetime(post_data_import['Datetime'], format=\"%m/%d/%y %I:%M %p\", errors='coerce')\n",
    "post_data_import[\"Post Hour\"] = post_data_import['Datetime'].dt.floor('H')\n",
    "post_data_import[\"Post Day\"] = post_data_import['Datetime'].dt.floor('d')\n",
    "\n",
    "\n",
    "for i in numerical_columns:\n",
    "    post_data_import[i] = pd.to_numeric(post_data_import[i])\n",
    "\n",
    "post_data_import['Reactions'] = post_data_import['Thumbs Up'] + post_data_import['Thumbs Down']    \n"
   ]
  },
  {
   "cell_type": "code",
   "execution_count": 238,
   "metadata": {
    "scrolled": false
   },
   "outputs": [
    {
     "data": {
      "application/vnd.plotly.v1+json": {
       "config": {
        "plotlyServerURL": "https://plot.ly"
       },
       "data": [
        {
         "hovertemplate": "Post Hour=%{x}<br>Unique Posters=%{y}<extra></extra>",
         "legendgroup": "",
         "line": {
          "color": "#636efa",
          "dash": "solid"
         },
         "mode": "lines",
         "name": "",
         "orientation": "v",
         "showlegend": false,
         "type": "scatter",
         "x": [
          "2021-08-24T15:00:00",
          "2021-08-24T16:00:00",
          "2021-08-24T17:00:00",
          "2021-08-24T18:00:00",
          "2021-08-24T19:00:00",
          "2021-08-24T20:00:00",
          "2021-08-24T21:00:00",
          "2021-08-24T22:00:00",
          "2021-08-24T23:00:00",
          "2021-08-25T00:00:00",
          "2021-08-25T01:00:00",
          "2021-08-25T02:00:00",
          "2021-08-25T03:00:00",
          "2021-08-25T04:00:00",
          "2021-08-25T05:00:00",
          "2021-08-25T06:00:00",
          "2021-08-25T07:00:00",
          "2021-08-25T08:00:00",
          "2021-08-25T09:00:00",
          "2021-08-25T10:00:00",
          "2021-08-25T11:00:00",
          "2021-08-25T12:00:00",
          "2021-08-25T13:00:00",
          "2021-08-25T14:00:00",
          "2021-08-25T15:00:00",
          "2021-08-25T16:00:00",
          "2021-08-25T17:00:00",
          "2021-08-25T18:00:00",
          "2021-08-25T19:00:00",
          "2021-08-25T20:00:00",
          "2021-08-25T21:00:00",
          "2021-08-25T22:00:00",
          "2021-08-25T23:00:00",
          "2021-08-26T00:00:00",
          "2021-08-26T01:00:00",
          "2021-08-26T03:00:00",
          "2021-08-26T04:00:00",
          "2021-08-26T05:00:00",
          "2021-08-26T06:00:00",
          "2021-08-26T07:00:00",
          "2021-08-26T08:00:00",
          "2021-08-26T09:00:00",
          "2021-08-26T10:00:00",
          "2021-08-26T11:00:00",
          "2021-08-26T12:00:00",
          "2021-08-26T13:00:00",
          "2021-08-26T14:00:00",
          "2021-08-26T15:00:00",
          "2021-08-26T16:00:00",
          "2021-08-26T17:00:00",
          "2021-08-26T18:00:00",
          "2021-08-26T19:00:00",
          "2021-08-26T20:00:00",
          "2021-08-26T21:00:00",
          "2021-08-26T22:00:00",
          "2021-08-26T23:00:00",
          "2021-08-27T00:00:00",
          "2021-08-27T01:00:00",
          "2021-08-27T02:00:00",
          "2021-08-27T03:00:00",
          "2021-08-27T04:00:00",
          "2021-08-27T05:00:00",
          "2021-08-27T06:00:00",
          "2021-08-27T07:00:00",
          "2021-08-27T08:00:00",
          "2021-08-27T09:00:00",
          "2021-08-27T10:00:00",
          "2021-08-27T11:00:00",
          "2021-08-27T12:00:00",
          "2021-08-27T13:00:00",
          "2021-08-27T14:00:00",
          "2021-08-27T15:00:00",
          "2021-08-27T16:00:00",
          "2021-08-27T17:00:00",
          "2021-08-27T18:00:00",
          "2021-08-27T19:00:00",
          "2021-08-27T20:00:00",
          "2021-08-27T21:00:00",
          "2021-08-27T22:00:00",
          "2021-08-27T23:00:00",
          "2021-08-28T00:00:00",
          "2021-08-28T01:00:00",
          "2021-08-28T02:00:00",
          "2021-08-28T03:00:00",
          "2021-08-28T04:00:00",
          "2021-08-28T05:00:00",
          "2021-08-28T06:00:00",
          "2021-08-28T07:00:00",
          "2021-08-28T08:00:00",
          "2021-08-28T09:00:00",
          "2021-08-28T10:00:00",
          "2021-08-28T11:00:00",
          "2021-08-28T12:00:00",
          "2021-08-28T13:00:00",
          "2021-08-28T14:00:00",
          "2021-08-28T15:00:00",
          "2021-08-28T16:00:00",
          "2021-08-28T17:00:00",
          "2021-08-28T18:00:00",
          "2021-08-28T19:00:00",
          "2021-08-28T20:00:00",
          "2021-08-28T21:00:00",
          "2021-08-28T22:00:00",
          "2021-08-28T23:00:00",
          "2021-08-29T00:00:00",
          "2021-08-29T01:00:00",
          "2021-08-29T02:00:00",
          "2021-08-29T03:00:00",
          "2021-08-29T04:00:00",
          "2021-08-29T05:00:00",
          "2021-08-29T06:00:00",
          "2021-08-29T07:00:00",
          "2021-08-29T08:00:00",
          "2021-08-29T09:00:00",
          "2021-08-29T10:00:00",
          "2021-08-29T11:00:00",
          "2021-08-29T12:00:00",
          "2021-08-29T13:00:00",
          "2021-08-29T14:00:00",
          "2021-08-29T15:00:00",
          "2021-08-29T16:00:00",
          "2021-08-29T17:00:00",
          "2021-08-29T18:00:00",
          "2021-08-29T19:00:00",
          "2021-08-29T20:00:00",
          "2021-08-29T21:00:00",
          "2021-08-29T22:00:00",
          "2021-08-29T23:00:00",
          "2021-08-30T00:00:00",
          "2021-08-30T01:00:00",
          "2021-08-30T02:00:00",
          "2021-08-30T03:00:00",
          "2021-08-30T04:00:00",
          "2021-08-30T05:00:00",
          "2021-08-30T06:00:00",
          "2021-08-30T07:00:00",
          "2021-08-30T08:00:00",
          "2021-08-30T09:00:00",
          "2021-08-30T10:00:00",
          "2021-08-30T11:00:00",
          "2021-08-30T12:00:00",
          "2021-08-30T13:00:00",
          "2021-08-30T14:00:00",
          "2021-08-30T15:00:00",
          "2021-08-30T16:00:00",
          "2021-08-30T17:00:00",
          "2021-08-30T18:00:00",
          "2021-08-30T19:00:00",
          "2021-08-30T20:00:00",
          "2021-08-30T21:00:00",
          "2021-08-30T22:00:00",
          "2021-08-30T23:00:00",
          "2021-08-31T00:00:00",
          "2021-08-31T01:00:00",
          "2021-08-31T03:00:00",
          "2021-08-31T05:00:00",
          "2021-08-31T06:00:00",
          "2021-08-31T07:00:00",
          "2021-08-31T08:00:00",
          "2021-08-31T09:00:00",
          "2021-08-31T10:00:00",
          "2021-08-31T11:00:00",
          "2021-08-31T12:00:00",
          "2021-08-31T13:00:00",
          "2021-08-31T14:00:00",
          "2021-08-31T15:00:00",
          "2021-08-31T16:00:00",
          "2021-08-31T17:00:00",
          "2021-08-31T18:00:00",
          "2021-08-31T19:00:00",
          "2021-08-31T20:00:00",
          "2021-08-31T21:00:00",
          "2021-08-31T22:00:00",
          "2021-08-31T23:00:00",
          "2021-09-01T00:00:00",
          "2021-09-01T01:00:00",
          "2021-09-01T02:00:00",
          "2021-09-01T04:00:00",
          "2021-09-01T05:00:00",
          "2021-09-01T07:00:00",
          "2021-09-01T08:00:00",
          "2021-09-01T09:00:00",
          "2021-09-01T10:00:00",
          "2021-09-01T11:00:00",
          "2021-09-01T12:00:00",
          "2021-09-01T13:00:00",
          "2021-09-01T14:00:00",
          "2021-09-01T15:00:00",
          "2021-09-01T16:00:00",
          "2021-09-01T17:00:00",
          "2021-09-01T18:00:00",
          "2021-09-01T19:00:00",
          "2021-09-01T20:00:00",
          "2021-09-01T21:00:00",
          "2021-09-01T22:00:00",
          "2021-09-01T23:00:00",
          "2021-09-02T02:00:00",
          "2021-09-02T06:00:00",
          "2021-09-02T07:00:00",
          "2021-09-02T08:00:00",
          "2021-09-02T09:00:00",
          "2021-09-02T10:00:00",
          "2021-09-02T11:00:00",
          "2021-09-02T12:00:00",
          "2021-09-02T13:00:00",
          "2021-09-02T14:00:00",
          "2021-09-02T15:00:00",
          "2021-09-02T16:00:00",
          "2021-09-02T17:00:00",
          "2021-09-02T18:00:00",
          "2021-09-02T19:00:00",
          "2021-09-02T20:00:00",
          "2021-09-02T21:00:00",
          "2021-09-02T22:00:00",
          "2021-09-02T23:00:00",
          "2021-09-03T00:00:00",
          "2021-09-03T02:00:00",
          "2021-09-03T06:00:00",
          "2021-09-03T07:00:00",
          "2021-09-03T08:00:00",
          "2021-09-03T09:00:00",
          "2021-09-03T10:00:00",
          "2021-09-03T11:00:00",
          "2021-09-03T12:00:00",
          "2021-09-03T13:00:00",
          "2021-09-03T14:00:00",
          "2021-09-03T15:00:00",
          "2021-09-03T16:00:00",
          "2021-09-03T17:00:00",
          "2021-09-03T18:00:00",
          "2021-09-03T19:00:00",
          "2021-09-03T20:00:00",
          "2021-09-03T21:00:00",
          "2021-09-03T22:00:00"
         ],
         "xaxis": "x",
         "y": [
          21,
          13,
          11,
          8,
          3,
          4,
          2,
          1,
          8,
          1,
          3,
          6,
          4,
          2,
          8,
          19,
          24,
          13,
          34,
          39,
          49,
          40,
          37,
          48,
          36,
          31,
          43,
          40,
          40,
          45,
          24,
          20,
          20,
          14,
          5,
          3,
          4,
          17,
          33,
          48,
          50,
          75,
          82,
          77,
          79,
          67,
          58,
          64,
          80,
          38,
          54,
          45,
          53,
          66,
          63,
          34,
          22,
          11,
          6,
          4,
          20,
          27,
          57,
          78,
          89,
          88,
          121,
          105,
          103,
          135,
          102,
          94,
          112,
          102,
          113,
          106,
          112,
          117,
          118,
          70,
          41,
          24,
          21,
          19,
          30,
          32,
          63,
          85,
          95,
          91,
          70,
          78,
          87,
          73,
          123,
          121,
          117,
          95,
          114,
          119,
          136,
          135,
          141,
          117,
          94,
          80,
          76,
          56,
          62,
          71,
          117,
          163,
          169,
          168,
          166,
          189,
          195,
          158,
          182,
          180,
          158,
          197,
          174,
          201,
          197,
          211,
          161,
          100,
          36,
          11,
          4,
          1,
          5,
          12,
          31,
          56,
          66,
          73,
          57,
          66,
          59,
          44,
          48,
          38,
          32,
          25,
          18,
          24,
          15,
          20,
          13,
          12,
          5,
          6,
          2,
          2,
          7,
          11,
          15,
          14,
          11,
          11,
          16,
          18,
          18,
          17,
          15,
          10,
          5,
          12,
          12,
          12,
          7,
          8,
          3,
          2,
          1,
          2,
          2,
          5,
          13,
          18,
          10,
          6,
          13,
          14,
          11,
          6,
          7,
          7,
          9,
          10,
          11,
          21,
          12,
          6,
          1,
          2,
          4,
          5,
          8,
          5,
          4,
          1,
          3,
          8,
          6,
          2,
          3,
          3,
          2,
          9,
          9,
          5,
          4,
          3,
          1,
          2,
          3,
          4,
          5,
          5,
          6,
          3,
          3,
          7,
          2,
          1,
          3,
          1,
          1,
          1,
          3,
          1
         ],
         "yaxis": "y"
        }
       ],
       "layout": {
        "legend": {
         "tracegroupgap": 0
        },
        "margin": {
         "t": 60
        },
        "template": {
         "data": {
          "bar": [
           {
            "error_x": {
             "color": "#2a3f5f"
            },
            "error_y": {
             "color": "#2a3f5f"
            },
            "marker": {
             "line": {
              "color": "#E5ECF6",
              "width": 0.5
             }
            },
            "type": "bar"
           }
          ],
          "barpolar": [
           {
            "marker": {
             "line": {
              "color": "#E5ECF6",
              "width": 0.5
             }
            },
            "type": "barpolar"
           }
          ],
          "carpet": [
           {
            "aaxis": {
             "endlinecolor": "#2a3f5f",
             "gridcolor": "white",
             "linecolor": "white",
             "minorgridcolor": "white",
             "startlinecolor": "#2a3f5f"
            },
            "baxis": {
             "endlinecolor": "#2a3f5f",
             "gridcolor": "white",
             "linecolor": "white",
             "minorgridcolor": "white",
             "startlinecolor": "#2a3f5f"
            },
            "type": "carpet"
           }
          ],
          "choropleth": [
           {
            "colorbar": {
             "outlinewidth": 0,
             "ticks": ""
            },
            "type": "choropleth"
           }
          ],
          "contour": [
           {
            "colorbar": {
             "outlinewidth": 0,
             "ticks": ""
            },
            "colorscale": [
             [
              0,
              "#0d0887"
             ],
             [
              0.1111111111111111,
              "#46039f"
             ],
             [
              0.2222222222222222,
              "#7201a8"
             ],
             [
              0.3333333333333333,
              "#9c179e"
             ],
             [
              0.4444444444444444,
              "#bd3786"
             ],
             [
              0.5555555555555556,
              "#d8576b"
             ],
             [
              0.6666666666666666,
              "#ed7953"
             ],
             [
              0.7777777777777778,
              "#fb9f3a"
             ],
             [
              0.8888888888888888,
              "#fdca26"
             ],
             [
              1,
              "#f0f921"
             ]
            ],
            "type": "contour"
           }
          ],
          "contourcarpet": [
           {
            "colorbar": {
             "outlinewidth": 0,
             "ticks": ""
            },
            "type": "contourcarpet"
           }
          ],
          "heatmap": [
           {
            "colorbar": {
             "outlinewidth": 0,
             "ticks": ""
            },
            "colorscale": [
             [
              0,
              "#0d0887"
             ],
             [
              0.1111111111111111,
              "#46039f"
             ],
             [
              0.2222222222222222,
              "#7201a8"
             ],
             [
              0.3333333333333333,
              "#9c179e"
             ],
             [
              0.4444444444444444,
              "#bd3786"
             ],
             [
              0.5555555555555556,
              "#d8576b"
             ],
             [
              0.6666666666666666,
              "#ed7953"
             ],
             [
              0.7777777777777778,
              "#fb9f3a"
             ],
             [
              0.8888888888888888,
              "#fdca26"
             ],
             [
              1,
              "#f0f921"
             ]
            ],
            "type": "heatmap"
           }
          ],
          "heatmapgl": [
           {
            "colorbar": {
             "outlinewidth": 0,
             "ticks": ""
            },
            "colorscale": [
             [
              0,
              "#0d0887"
             ],
             [
              0.1111111111111111,
              "#46039f"
             ],
             [
              0.2222222222222222,
              "#7201a8"
             ],
             [
              0.3333333333333333,
              "#9c179e"
             ],
             [
              0.4444444444444444,
              "#bd3786"
             ],
             [
              0.5555555555555556,
              "#d8576b"
             ],
             [
              0.6666666666666666,
              "#ed7953"
             ],
             [
              0.7777777777777778,
              "#fb9f3a"
             ],
             [
              0.8888888888888888,
              "#fdca26"
             ],
             [
              1,
              "#f0f921"
             ]
            ],
            "type": "heatmapgl"
           }
          ],
          "histogram": [
           {
            "marker": {
             "colorbar": {
              "outlinewidth": 0,
              "ticks": ""
             }
            },
            "type": "histogram"
           }
          ],
          "histogram2d": [
           {
            "colorbar": {
             "outlinewidth": 0,
             "ticks": ""
            },
            "colorscale": [
             [
              0,
              "#0d0887"
             ],
             [
              0.1111111111111111,
              "#46039f"
             ],
             [
              0.2222222222222222,
              "#7201a8"
             ],
             [
              0.3333333333333333,
              "#9c179e"
             ],
             [
              0.4444444444444444,
              "#bd3786"
             ],
             [
              0.5555555555555556,
              "#d8576b"
             ],
             [
              0.6666666666666666,
              "#ed7953"
             ],
             [
              0.7777777777777778,
              "#fb9f3a"
             ],
             [
              0.8888888888888888,
              "#fdca26"
             ],
             [
              1,
              "#f0f921"
             ]
            ],
            "type": "histogram2d"
           }
          ],
          "histogram2dcontour": [
           {
            "colorbar": {
             "outlinewidth": 0,
             "ticks": ""
            },
            "colorscale": [
             [
              0,
              "#0d0887"
             ],
             [
              0.1111111111111111,
              "#46039f"
             ],
             [
              0.2222222222222222,
              "#7201a8"
             ],
             [
              0.3333333333333333,
              "#9c179e"
             ],
             [
              0.4444444444444444,
              "#bd3786"
             ],
             [
              0.5555555555555556,
              "#d8576b"
             ],
             [
              0.6666666666666666,
              "#ed7953"
             ],
             [
              0.7777777777777778,
              "#fb9f3a"
             ],
             [
              0.8888888888888888,
              "#fdca26"
             ],
             [
              1,
              "#f0f921"
             ]
            ],
            "type": "histogram2dcontour"
           }
          ],
          "mesh3d": [
           {
            "colorbar": {
             "outlinewidth": 0,
             "ticks": ""
            },
            "type": "mesh3d"
           }
          ],
          "parcoords": [
           {
            "line": {
             "colorbar": {
              "outlinewidth": 0,
              "ticks": ""
             }
            },
            "type": "parcoords"
           }
          ],
          "pie": [
           {
            "automargin": true,
            "type": "pie"
           }
          ],
          "scatter": [
           {
            "marker": {
             "colorbar": {
              "outlinewidth": 0,
              "ticks": ""
             }
            },
            "type": "scatter"
           }
          ],
          "scatter3d": [
           {
            "line": {
             "colorbar": {
              "outlinewidth": 0,
              "ticks": ""
             }
            },
            "marker": {
             "colorbar": {
              "outlinewidth": 0,
              "ticks": ""
             }
            },
            "type": "scatter3d"
           }
          ],
          "scattercarpet": [
           {
            "marker": {
             "colorbar": {
              "outlinewidth": 0,
              "ticks": ""
             }
            },
            "type": "scattercarpet"
           }
          ],
          "scattergeo": [
           {
            "marker": {
             "colorbar": {
              "outlinewidth": 0,
              "ticks": ""
             }
            },
            "type": "scattergeo"
           }
          ],
          "scattergl": [
           {
            "marker": {
             "colorbar": {
              "outlinewidth": 0,
              "ticks": ""
             }
            },
            "type": "scattergl"
           }
          ],
          "scattermapbox": [
           {
            "marker": {
             "colorbar": {
              "outlinewidth": 0,
              "ticks": ""
             }
            },
            "type": "scattermapbox"
           }
          ],
          "scatterpolar": [
           {
            "marker": {
             "colorbar": {
              "outlinewidth": 0,
              "ticks": ""
             }
            },
            "type": "scatterpolar"
           }
          ],
          "scatterpolargl": [
           {
            "marker": {
             "colorbar": {
              "outlinewidth": 0,
              "ticks": ""
             }
            },
            "type": "scatterpolargl"
           }
          ],
          "scatterternary": [
           {
            "marker": {
             "colorbar": {
              "outlinewidth": 0,
              "ticks": ""
             }
            },
            "type": "scatterternary"
           }
          ],
          "surface": [
           {
            "colorbar": {
             "outlinewidth": 0,
             "ticks": ""
            },
            "colorscale": [
             [
              0,
              "#0d0887"
             ],
             [
              0.1111111111111111,
              "#46039f"
             ],
             [
              0.2222222222222222,
              "#7201a8"
             ],
             [
              0.3333333333333333,
              "#9c179e"
             ],
             [
              0.4444444444444444,
              "#bd3786"
             ],
             [
              0.5555555555555556,
              "#d8576b"
             ],
             [
              0.6666666666666666,
              "#ed7953"
             ],
             [
              0.7777777777777778,
              "#fb9f3a"
             ],
             [
              0.8888888888888888,
              "#fdca26"
             ],
             [
              1,
              "#f0f921"
             ]
            ],
            "type": "surface"
           }
          ],
          "table": [
           {
            "cells": {
             "fill": {
              "color": "#EBF0F8"
             },
             "line": {
              "color": "white"
             }
            },
            "header": {
             "fill": {
              "color": "#C8D4E3"
             },
             "line": {
              "color": "white"
             }
            },
            "type": "table"
           }
          ]
         },
         "layout": {
          "annotationdefaults": {
           "arrowcolor": "#2a3f5f",
           "arrowhead": 0,
           "arrowwidth": 1
          },
          "coloraxis": {
           "colorbar": {
            "outlinewidth": 0,
            "ticks": ""
           }
          },
          "colorscale": {
           "diverging": [
            [
             0,
             "#8e0152"
            ],
            [
             0.1,
             "#c51b7d"
            ],
            [
             0.2,
             "#de77ae"
            ],
            [
             0.3,
             "#f1b6da"
            ],
            [
             0.4,
             "#fde0ef"
            ],
            [
             0.5,
             "#f7f7f7"
            ],
            [
             0.6,
             "#e6f5d0"
            ],
            [
             0.7,
             "#b8e186"
            ],
            [
             0.8,
             "#7fbc41"
            ],
            [
             0.9,
             "#4d9221"
            ],
            [
             1,
             "#276419"
            ]
           ],
           "sequential": [
            [
             0,
             "#0d0887"
            ],
            [
             0.1111111111111111,
             "#46039f"
            ],
            [
             0.2222222222222222,
             "#7201a8"
            ],
            [
             0.3333333333333333,
             "#9c179e"
            ],
            [
             0.4444444444444444,
             "#bd3786"
            ],
            [
             0.5555555555555556,
             "#d8576b"
            ],
            [
             0.6666666666666666,
             "#ed7953"
            ],
            [
             0.7777777777777778,
             "#fb9f3a"
            ],
            [
             0.8888888888888888,
             "#fdca26"
            ],
            [
             1,
             "#f0f921"
            ]
           ],
           "sequentialminus": [
            [
             0,
             "#0d0887"
            ],
            [
             0.1111111111111111,
             "#46039f"
            ],
            [
             0.2222222222222222,
             "#7201a8"
            ],
            [
             0.3333333333333333,
             "#9c179e"
            ],
            [
             0.4444444444444444,
             "#bd3786"
            ],
            [
             0.5555555555555556,
             "#d8576b"
            ],
            [
             0.6666666666666666,
             "#ed7953"
            ],
            [
             0.7777777777777778,
             "#fb9f3a"
            ],
            [
             0.8888888888888888,
             "#fdca26"
            ],
            [
             1,
             "#f0f921"
            ]
           ]
          },
          "colorway": [
           "#636efa",
           "#EF553B",
           "#00cc96",
           "#ab63fa",
           "#FFA15A",
           "#19d3f3",
           "#FF6692",
           "#B6E880",
           "#FF97FF",
           "#FECB52"
          ],
          "font": {
           "color": "#2a3f5f"
          },
          "geo": {
           "bgcolor": "white",
           "lakecolor": "white",
           "landcolor": "#E5ECF6",
           "showlakes": true,
           "showland": true,
           "subunitcolor": "white"
          },
          "hoverlabel": {
           "align": "left"
          },
          "hovermode": "closest",
          "mapbox": {
           "style": "light"
          },
          "paper_bgcolor": "white",
          "plot_bgcolor": "#E5ECF6",
          "polar": {
           "angularaxis": {
            "gridcolor": "white",
            "linecolor": "white",
            "ticks": ""
           },
           "bgcolor": "#E5ECF6",
           "radialaxis": {
            "gridcolor": "white",
            "linecolor": "white",
            "ticks": ""
           }
          },
          "scene": {
           "xaxis": {
            "backgroundcolor": "#E5ECF6",
            "gridcolor": "white",
            "gridwidth": 2,
            "linecolor": "white",
            "showbackground": true,
            "ticks": "",
            "zerolinecolor": "white"
           },
           "yaxis": {
            "backgroundcolor": "#E5ECF6",
            "gridcolor": "white",
            "gridwidth": 2,
            "linecolor": "white",
            "showbackground": true,
            "ticks": "",
            "zerolinecolor": "white"
           },
           "zaxis": {
            "backgroundcolor": "#E5ECF6",
            "gridcolor": "white",
            "gridwidth": 2,
            "linecolor": "white",
            "showbackground": true,
            "ticks": "",
            "zerolinecolor": "white"
           }
          },
          "shapedefaults": {
           "line": {
            "color": "#2a3f5f"
           }
          },
          "ternary": {
           "aaxis": {
            "gridcolor": "white",
            "linecolor": "white",
            "ticks": ""
           },
           "baxis": {
            "gridcolor": "white",
            "linecolor": "white",
            "ticks": ""
           },
           "bgcolor": "#E5ECF6",
           "caxis": {
            "gridcolor": "white",
            "linecolor": "white",
            "ticks": ""
           }
          },
          "title": {
           "x": 0.05
          },
          "xaxis": {
           "automargin": true,
           "gridcolor": "white",
           "linecolor": "white",
           "ticks": "",
           "title": {
            "standoff": 15
           },
           "zerolinecolor": "white",
           "zerolinewidth": 2
          },
          "yaxis": {
           "automargin": true,
           "gridcolor": "white",
           "linecolor": "white",
           "ticks": "",
           "title": {
            "standoff": 15
           },
           "zerolinecolor": "white",
           "zerolinewidth": 2
          }
         }
        },
        "xaxis": {
         "anchor": "y",
         "domain": [
          0,
          1
         ],
         "title": {
          "text": "Post Hour"
         }
        },
        "yaxis": {
         "anchor": "x",
         "domain": [
          0,
          1
         ],
         "title": {
          "text": "Unique Posters"
         }
        }
       }
      },
      "text/html": [
       "<div>                            <div id=\"d7ea972c-21fd-44fc-be40-ef64ed5b0872\" class=\"plotly-graph-div\" style=\"height:525px; width:100%;\"></div>            <script type=\"text/javascript\">                require([\"plotly\"], function(Plotly) {                    window.PLOTLYENV=window.PLOTLYENV || {};                                    if (document.getElementById(\"d7ea972c-21fd-44fc-be40-ef64ed5b0872\")) {                    Plotly.newPlot(                        \"d7ea972c-21fd-44fc-be40-ef64ed5b0872\",                        [{\"hovertemplate\": \"Post Hour=%{x}<br>Unique Posters=%{y}<extra></extra>\", \"legendgroup\": \"\", \"line\": {\"color\": \"#636efa\", \"dash\": \"solid\"}, \"mode\": \"lines\", \"name\": \"\", \"orientation\": \"v\", \"showlegend\": false, \"type\": \"scatter\", \"x\": [\"2021-08-24T15:00:00\", \"2021-08-24T16:00:00\", \"2021-08-24T17:00:00\", \"2021-08-24T18:00:00\", \"2021-08-24T19:00:00\", \"2021-08-24T20:00:00\", \"2021-08-24T21:00:00\", \"2021-08-24T22:00:00\", \"2021-08-24T23:00:00\", \"2021-08-25T00:00:00\", \"2021-08-25T01:00:00\", \"2021-08-25T02:00:00\", \"2021-08-25T03:00:00\", \"2021-08-25T04:00:00\", \"2021-08-25T05:00:00\", \"2021-08-25T06:00:00\", \"2021-08-25T07:00:00\", \"2021-08-25T08:00:00\", \"2021-08-25T09:00:00\", \"2021-08-25T10:00:00\", \"2021-08-25T11:00:00\", \"2021-08-25T12:00:00\", \"2021-08-25T13:00:00\", \"2021-08-25T14:00:00\", \"2021-08-25T15:00:00\", \"2021-08-25T16:00:00\", \"2021-08-25T17:00:00\", \"2021-08-25T18:00:00\", \"2021-08-25T19:00:00\", \"2021-08-25T20:00:00\", \"2021-08-25T21:00:00\", \"2021-08-25T22:00:00\", \"2021-08-25T23:00:00\", \"2021-08-26T00:00:00\", \"2021-08-26T01:00:00\", \"2021-08-26T03:00:00\", \"2021-08-26T04:00:00\", \"2021-08-26T05:00:00\", \"2021-08-26T06:00:00\", \"2021-08-26T07:00:00\", \"2021-08-26T08:00:00\", \"2021-08-26T09:00:00\", \"2021-08-26T10:00:00\", \"2021-08-26T11:00:00\", \"2021-08-26T12:00:00\", \"2021-08-26T13:00:00\", \"2021-08-26T14:00:00\", \"2021-08-26T15:00:00\", \"2021-08-26T16:00:00\", \"2021-08-26T17:00:00\", \"2021-08-26T18:00:00\", \"2021-08-26T19:00:00\", \"2021-08-26T20:00:00\", \"2021-08-26T21:00:00\", \"2021-08-26T22:00:00\", \"2021-08-26T23:00:00\", \"2021-08-27T00:00:00\", \"2021-08-27T01:00:00\", \"2021-08-27T02:00:00\", \"2021-08-27T03:00:00\", \"2021-08-27T04:00:00\", \"2021-08-27T05:00:00\", \"2021-08-27T06:00:00\", \"2021-08-27T07:00:00\", \"2021-08-27T08:00:00\", \"2021-08-27T09:00:00\", \"2021-08-27T10:00:00\", \"2021-08-27T11:00:00\", \"2021-08-27T12:00:00\", \"2021-08-27T13:00:00\", \"2021-08-27T14:00:00\", \"2021-08-27T15:00:00\", \"2021-08-27T16:00:00\", \"2021-08-27T17:00:00\", \"2021-08-27T18:00:00\", \"2021-08-27T19:00:00\", \"2021-08-27T20:00:00\", \"2021-08-27T21:00:00\", \"2021-08-27T22:00:00\", \"2021-08-27T23:00:00\", \"2021-08-28T00:00:00\", \"2021-08-28T01:00:00\", \"2021-08-28T02:00:00\", \"2021-08-28T03:00:00\", \"2021-08-28T04:00:00\", \"2021-08-28T05:00:00\", \"2021-08-28T06:00:00\", \"2021-08-28T07:00:00\", \"2021-08-28T08:00:00\", \"2021-08-28T09:00:00\", \"2021-08-28T10:00:00\", \"2021-08-28T11:00:00\", \"2021-08-28T12:00:00\", \"2021-08-28T13:00:00\", \"2021-08-28T14:00:00\", \"2021-08-28T15:00:00\", \"2021-08-28T16:00:00\", \"2021-08-28T17:00:00\", \"2021-08-28T18:00:00\", \"2021-08-28T19:00:00\", \"2021-08-28T20:00:00\", \"2021-08-28T21:00:00\", \"2021-08-28T22:00:00\", \"2021-08-28T23:00:00\", \"2021-08-29T00:00:00\", \"2021-08-29T01:00:00\", \"2021-08-29T02:00:00\", \"2021-08-29T03:00:00\", \"2021-08-29T04:00:00\", \"2021-08-29T05:00:00\", \"2021-08-29T06:00:00\", \"2021-08-29T07:00:00\", \"2021-08-29T08:00:00\", \"2021-08-29T09:00:00\", \"2021-08-29T10:00:00\", \"2021-08-29T11:00:00\", \"2021-08-29T12:00:00\", \"2021-08-29T13:00:00\", \"2021-08-29T14:00:00\", \"2021-08-29T15:00:00\", \"2021-08-29T16:00:00\", \"2021-08-29T17:00:00\", \"2021-08-29T18:00:00\", \"2021-08-29T19:00:00\", \"2021-08-29T20:00:00\", \"2021-08-29T21:00:00\", \"2021-08-29T22:00:00\", \"2021-08-29T23:00:00\", \"2021-08-30T00:00:00\", \"2021-08-30T01:00:00\", \"2021-08-30T02:00:00\", \"2021-08-30T03:00:00\", \"2021-08-30T04:00:00\", \"2021-08-30T05:00:00\", \"2021-08-30T06:00:00\", \"2021-08-30T07:00:00\", \"2021-08-30T08:00:00\", \"2021-08-30T09:00:00\", \"2021-08-30T10:00:00\", \"2021-08-30T11:00:00\", \"2021-08-30T12:00:00\", \"2021-08-30T13:00:00\", \"2021-08-30T14:00:00\", \"2021-08-30T15:00:00\", \"2021-08-30T16:00:00\", \"2021-08-30T17:00:00\", \"2021-08-30T18:00:00\", \"2021-08-30T19:00:00\", \"2021-08-30T20:00:00\", \"2021-08-30T21:00:00\", \"2021-08-30T22:00:00\", \"2021-08-30T23:00:00\", \"2021-08-31T00:00:00\", \"2021-08-31T01:00:00\", \"2021-08-31T03:00:00\", \"2021-08-31T05:00:00\", \"2021-08-31T06:00:00\", \"2021-08-31T07:00:00\", \"2021-08-31T08:00:00\", \"2021-08-31T09:00:00\", \"2021-08-31T10:00:00\", \"2021-08-31T11:00:00\", \"2021-08-31T12:00:00\", \"2021-08-31T13:00:00\", \"2021-08-31T14:00:00\", \"2021-08-31T15:00:00\", \"2021-08-31T16:00:00\", \"2021-08-31T17:00:00\", \"2021-08-31T18:00:00\", \"2021-08-31T19:00:00\", \"2021-08-31T20:00:00\", \"2021-08-31T21:00:00\", \"2021-08-31T22:00:00\", \"2021-08-31T23:00:00\", \"2021-09-01T00:00:00\", \"2021-09-01T01:00:00\", \"2021-09-01T02:00:00\", \"2021-09-01T04:00:00\", \"2021-09-01T05:00:00\", \"2021-09-01T07:00:00\", \"2021-09-01T08:00:00\", \"2021-09-01T09:00:00\", \"2021-09-01T10:00:00\", \"2021-09-01T11:00:00\", \"2021-09-01T12:00:00\", \"2021-09-01T13:00:00\", \"2021-09-01T14:00:00\", \"2021-09-01T15:00:00\", \"2021-09-01T16:00:00\", \"2021-09-01T17:00:00\", \"2021-09-01T18:00:00\", \"2021-09-01T19:00:00\", \"2021-09-01T20:00:00\", \"2021-09-01T21:00:00\", \"2021-09-01T22:00:00\", \"2021-09-01T23:00:00\", \"2021-09-02T02:00:00\", \"2021-09-02T06:00:00\", \"2021-09-02T07:00:00\", \"2021-09-02T08:00:00\", \"2021-09-02T09:00:00\", \"2021-09-02T10:00:00\", \"2021-09-02T11:00:00\", \"2021-09-02T12:00:00\", \"2021-09-02T13:00:00\", \"2021-09-02T14:00:00\", \"2021-09-02T15:00:00\", \"2021-09-02T16:00:00\", \"2021-09-02T17:00:00\", \"2021-09-02T18:00:00\", \"2021-09-02T19:00:00\", \"2021-09-02T20:00:00\", \"2021-09-02T21:00:00\", \"2021-09-02T22:00:00\", \"2021-09-02T23:00:00\", \"2021-09-03T00:00:00\", \"2021-09-03T02:00:00\", \"2021-09-03T06:00:00\", \"2021-09-03T07:00:00\", \"2021-09-03T08:00:00\", \"2021-09-03T09:00:00\", \"2021-09-03T10:00:00\", \"2021-09-03T11:00:00\", \"2021-09-03T12:00:00\", \"2021-09-03T13:00:00\", \"2021-09-03T14:00:00\", \"2021-09-03T15:00:00\", \"2021-09-03T16:00:00\", \"2021-09-03T17:00:00\", \"2021-09-03T18:00:00\", \"2021-09-03T19:00:00\", \"2021-09-03T20:00:00\", \"2021-09-03T21:00:00\", \"2021-09-03T22:00:00\"], \"xaxis\": \"x\", \"y\": [21, 13, 11, 8, 3, 4, 2, 1, 8, 1, 3, 6, 4, 2, 8, 19, 24, 13, 34, 39, 49, 40, 37, 48, 36, 31, 43, 40, 40, 45, 24, 20, 20, 14, 5, 3, 4, 17, 33, 48, 50, 75, 82, 77, 79, 67, 58, 64, 80, 38, 54, 45, 53, 66, 63, 34, 22, 11, 6, 4, 20, 27, 57, 78, 89, 88, 121, 105, 103, 135, 102, 94, 112, 102, 113, 106, 112, 117, 118, 70, 41, 24, 21, 19, 30, 32, 63, 85, 95, 91, 70, 78, 87, 73, 123, 121, 117, 95, 114, 119, 136, 135, 141, 117, 94, 80, 76, 56, 62, 71, 117, 163, 169, 168, 166, 189, 195, 158, 182, 180, 158, 197, 174, 201, 197, 211, 161, 100, 36, 11, 4, 1, 5, 12, 31, 56, 66, 73, 57, 66, 59, 44, 48, 38, 32, 25, 18, 24, 15, 20, 13, 12, 5, 6, 2, 2, 7, 11, 15, 14, 11, 11, 16, 18, 18, 17, 15, 10, 5, 12, 12, 12, 7, 8, 3, 2, 1, 2, 2, 5, 13, 18, 10, 6, 13, 14, 11, 6, 7, 7, 9, 10, 11, 21, 12, 6, 1, 2, 4, 5, 8, 5, 4, 1, 3, 8, 6, 2, 3, 3, 2, 9, 9, 5, 4, 3, 1, 2, 3, 4, 5, 5, 6, 3, 3, 7, 2, 1, 3, 1, 1, 1, 3, 1], \"yaxis\": \"y\"}],                        {\"legend\": {\"tracegroupgap\": 0}, \"margin\": {\"t\": 60}, \"template\": {\"data\": {\"bar\": [{\"error_x\": {\"color\": \"#2a3f5f\"}, \"error_y\": {\"color\": \"#2a3f5f\"}, \"marker\": {\"line\": {\"color\": \"#E5ECF6\", \"width\": 0.5}}, \"type\": \"bar\"}], \"barpolar\": [{\"marker\": {\"line\": {\"color\": \"#E5ECF6\", \"width\": 0.5}}, \"type\": \"barpolar\"}], \"carpet\": [{\"aaxis\": {\"endlinecolor\": \"#2a3f5f\", \"gridcolor\": \"white\", \"linecolor\": \"white\", \"minorgridcolor\": \"white\", \"startlinecolor\": \"#2a3f5f\"}, \"baxis\": {\"endlinecolor\": \"#2a3f5f\", \"gridcolor\": \"white\", \"linecolor\": \"white\", \"minorgridcolor\": \"white\", \"startlinecolor\": \"#2a3f5f\"}, \"type\": \"carpet\"}], \"choropleth\": [{\"colorbar\": {\"outlinewidth\": 0, \"ticks\": \"\"}, \"type\": \"choropleth\"}], \"contour\": [{\"colorbar\": {\"outlinewidth\": 0, \"ticks\": \"\"}, \"colorscale\": [[0.0, \"#0d0887\"], [0.1111111111111111, \"#46039f\"], [0.2222222222222222, \"#7201a8\"], [0.3333333333333333, \"#9c179e\"], [0.4444444444444444, \"#bd3786\"], [0.5555555555555556, \"#d8576b\"], [0.6666666666666666, \"#ed7953\"], [0.7777777777777778, \"#fb9f3a\"], [0.8888888888888888, \"#fdca26\"], [1.0, \"#f0f921\"]], \"type\": \"contour\"}], \"contourcarpet\": [{\"colorbar\": {\"outlinewidth\": 0, \"ticks\": \"\"}, \"type\": \"contourcarpet\"}], \"heatmap\": [{\"colorbar\": {\"outlinewidth\": 0, \"ticks\": \"\"}, \"colorscale\": [[0.0, \"#0d0887\"], [0.1111111111111111, \"#46039f\"], [0.2222222222222222, \"#7201a8\"], [0.3333333333333333, \"#9c179e\"], [0.4444444444444444, \"#bd3786\"], [0.5555555555555556, \"#d8576b\"], [0.6666666666666666, \"#ed7953\"], [0.7777777777777778, \"#fb9f3a\"], [0.8888888888888888, \"#fdca26\"], [1.0, \"#f0f921\"]], \"type\": \"heatmap\"}], \"heatmapgl\": [{\"colorbar\": {\"outlinewidth\": 0, \"ticks\": \"\"}, \"colorscale\": [[0.0, \"#0d0887\"], [0.1111111111111111, \"#46039f\"], [0.2222222222222222, \"#7201a8\"], [0.3333333333333333, \"#9c179e\"], [0.4444444444444444, \"#bd3786\"], [0.5555555555555556, \"#d8576b\"], [0.6666666666666666, \"#ed7953\"], [0.7777777777777778, \"#fb9f3a\"], [0.8888888888888888, \"#fdca26\"], [1.0, \"#f0f921\"]], \"type\": \"heatmapgl\"}], \"histogram\": [{\"marker\": {\"colorbar\": {\"outlinewidth\": 0, \"ticks\": \"\"}}, \"type\": \"histogram\"}], \"histogram2d\": [{\"colorbar\": {\"outlinewidth\": 0, \"ticks\": \"\"}, \"colorscale\": [[0.0, \"#0d0887\"], [0.1111111111111111, \"#46039f\"], [0.2222222222222222, \"#7201a8\"], [0.3333333333333333, \"#9c179e\"], [0.4444444444444444, \"#bd3786\"], [0.5555555555555556, \"#d8576b\"], [0.6666666666666666, \"#ed7953\"], [0.7777777777777778, \"#fb9f3a\"], [0.8888888888888888, \"#fdca26\"], [1.0, \"#f0f921\"]], \"type\": \"histogram2d\"}], \"histogram2dcontour\": [{\"colorbar\": {\"outlinewidth\": 0, \"ticks\": \"\"}, \"colorscale\": [[0.0, \"#0d0887\"], [0.1111111111111111, \"#46039f\"], [0.2222222222222222, \"#7201a8\"], [0.3333333333333333, \"#9c179e\"], [0.4444444444444444, \"#bd3786\"], [0.5555555555555556, \"#d8576b\"], [0.6666666666666666, \"#ed7953\"], [0.7777777777777778, \"#fb9f3a\"], [0.8888888888888888, \"#fdca26\"], [1.0, \"#f0f921\"]], \"type\": \"histogram2dcontour\"}], \"mesh3d\": [{\"colorbar\": {\"outlinewidth\": 0, \"ticks\": \"\"}, \"type\": \"mesh3d\"}], \"parcoords\": [{\"line\": {\"colorbar\": {\"outlinewidth\": 0, \"ticks\": \"\"}}, \"type\": \"parcoords\"}], \"pie\": [{\"automargin\": true, \"type\": \"pie\"}], \"scatter\": [{\"marker\": {\"colorbar\": {\"outlinewidth\": 0, \"ticks\": \"\"}}, \"type\": \"scatter\"}], \"scatter3d\": [{\"line\": {\"colorbar\": {\"outlinewidth\": 0, \"ticks\": \"\"}}, \"marker\": {\"colorbar\": {\"outlinewidth\": 0, \"ticks\": \"\"}}, \"type\": \"scatter3d\"}], \"scattercarpet\": [{\"marker\": {\"colorbar\": {\"outlinewidth\": 0, \"ticks\": \"\"}}, \"type\": \"scattercarpet\"}], \"scattergeo\": [{\"marker\": {\"colorbar\": {\"outlinewidth\": 0, \"ticks\": \"\"}}, \"type\": \"scattergeo\"}], \"scattergl\": [{\"marker\": {\"colorbar\": {\"outlinewidth\": 0, \"ticks\": \"\"}}, \"type\": \"scattergl\"}], \"scattermapbox\": [{\"marker\": {\"colorbar\": {\"outlinewidth\": 0, \"ticks\": \"\"}}, \"type\": \"scattermapbox\"}], \"scatterpolar\": [{\"marker\": {\"colorbar\": {\"outlinewidth\": 0, \"ticks\": \"\"}}, \"type\": \"scatterpolar\"}], \"scatterpolargl\": [{\"marker\": {\"colorbar\": {\"outlinewidth\": 0, \"ticks\": \"\"}}, \"type\": \"scatterpolargl\"}], \"scatterternary\": [{\"marker\": {\"colorbar\": {\"outlinewidth\": 0, \"ticks\": \"\"}}, \"type\": \"scatterternary\"}], \"surface\": [{\"colorbar\": {\"outlinewidth\": 0, \"ticks\": \"\"}, \"colorscale\": [[0.0, \"#0d0887\"], [0.1111111111111111, \"#46039f\"], [0.2222222222222222, \"#7201a8\"], [0.3333333333333333, \"#9c179e\"], [0.4444444444444444, \"#bd3786\"], [0.5555555555555556, \"#d8576b\"], [0.6666666666666666, \"#ed7953\"], [0.7777777777777778, \"#fb9f3a\"], [0.8888888888888888, \"#fdca26\"], [1.0, \"#f0f921\"]], \"type\": \"surface\"}], \"table\": [{\"cells\": {\"fill\": {\"color\": \"#EBF0F8\"}, \"line\": {\"color\": \"white\"}}, \"header\": {\"fill\": {\"color\": \"#C8D4E3\"}, \"line\": {\"color\": \"white\"}}, \"type\": \"table\"}]}, \"layout\": {\"annotationdefaults\": {\"arrowcolor\": \"#2a3f5f\", \"arrowhead\": 0, \"arrowwidth\": 1}, \"coloraxis\": {\"colorbar\": {\"outlinewidth\": 0, \"ticks\": \"\"}}, \"colorscale\": {\"diverging\": [[0, \"#8e0152\"], [0.1, \"#c51b7d\"], [0.2, \"#de77ae\"], [0.3, \"#f1b6da\"], [0.4, \"#fde0ef\"], [0.5, \"#f7f7f7\"], [0.6, \"#e6f5d0\"], [0.7, \"#b8e186\"], [0.8, \"#7fbc41\"], [0.9, \"#4d9221\"], [1, \"#276419\"]], \"sequential\": [[0.0, \"#0d0887\"], [0.1111111111111111, \"#46039f\"], [0.2222222222222222, \"#7201a8\"], [0.3333333333333333, \"#9c179e\"], [0.4444444444444444, \"#bd3786\"], [0.5555555555555556, \"#d8576b\"], [0.6666666666666666, \"#ed7953\"], [0.7777777777777778, \"#fb9f3a\"], [0.8888888888888888, \"#fdca26\"], [1.0, \"#f0f921\"]], \"sequentialminus\": [[0.0, \"#0d0887\"], [0.1111111111111111, \"#46039f\"], [0.2222222222222222, \"#7201a8\"], [0.3333333333333333, \"#9c179e\"], [0.4444444444444444, \"#bd3786\"], [0.5555555555555556, \"#d8576b\"], [0.6666666666666666, \"#ed7953\"], [0.7777777777777778, \"#fb9f3a\"], [0.8888888888888888, \"#fdca26\"], [1.0, \"#f0f921\"]]}, \"colorway\": [\"#636efa\", \"#EF553B\", \"#00cc96\", \"#ab63fa\", \"#FFA15A\", \"#19d3f3\", \"#FF6692\", \"#B6E880\", \"#FF97FF\", \"#FECB52\"], \"font\": {\"color\": \"#2a3f5f\"}, \"geo\": {\"bgcolor\": \"white\", \"lakecolor\": \"white\", \"landcolor\": \"#E5ECF6\", \"showlakes\": true, \"showland\": true, \"subunitcolor\": \"white\"}, \"hoverlabel\": {\"align\": \"left\"}, \"hovermode\": \"closest\", \"mapbox\": {\"style\": \"light\"}, \"paper_bgcolor\": \"white\", \"plot_bgcolor\": \"#E5ECF6\", \"polar\": {\"angularaxis\": {\"gridcolor\": \"white\", \"linecolor\": \"white\", \"ticks\": \"\"}, \"bgcolor\": \"#E5ECF6\", \"radialaxis\": {\"gridcolor\": \"white\", \"linecolor\": \"white\", \"ticks\": \"\"}}, \"scene\": {\"xaxis\": {\"backgroundcolor\": \"#E5ECF6\", \"gridcolor\": \"white\", \"gridwidth\": 2, \"linecolor\": \"white\", \"showbackground\": true, \"ticks\": \"\", \"zerolinecolor\": \"white\"}, \"yaxis\": {\"backgroundcolor\": \"#E5ECF6\", \"gridcolor\": \"white\", \"gridwidth\": 2, \"linecolor\": \"white\", \"showbackground\": true, \"ticks\": \"\", \"zerolinecolor\": \"white\"}, \"zaxis\": {\"backgroundcolor\": \"#E5ECF6\", \"gridcolor\": \"white\", \"gridwidth\": 2, \"linecolor\": \"white\", \"showbackground\": true, \"ticks\": \"\", \"zerolinecolor\": \"white\"}}, \"shapedefaults\": {\"line\": {\"color\": \"#2a3f5f\"}}, \"ternary\": {\"aaxis\": {\"gridcolor\": \"white\", \"linecolor\": \"white\", \"ticks\": \"\"}, \"baxis\": {\"gridcolor\": \"white\", \"linecolor\": \"white\", \"ticks\": \"\"}, \"bgcolor\": \"#E5ECF6\", \"caxis\": {\"gridcolor\": \"white\", \"linecolor\": \"white\", \"ticks\": \"\"}}, \"title\": {\"x\": 0.05}, \"xaxis\": {\"automargin\": true, \"gridcolor\": \"white\", \"linecolor\": \"white\", \"ticks\": \"\", \"title\": {\"standoff\": 15}, \"zerolinecolor\": \"white\", \"zerolinewidth\": 2}, \"yaxis\": {\"automargin\": true, \"gridcolor\": \"white\", \"linecolor\": \"white\", \"ticks\": \"\", \"title\": {\"standoff\": 15}, \"zerolinecolor\": \"white\", \"zerolinewidth\": 2}}}, \"xaxis\": {\"anchor\": \"y\", \"domain\": [0.0, 1.0], \"title\": {\"text\": \"Post Hour\"}}, \"yaxis\": {\"anchor\": \"x\", \"domain\": [0.0, 1.0], \"title\": {\"text\": \"Unique Posters\"}}},                        {\"responsive\": true}                    ).then(function(){\n",
       "                            \n",
       "var gd = document.getElementById('d7ea972c-21fd-44fc-be40-ef64ed5b0872');\n",
       "var x = new MutationObserver(function (mutations, observer) {{\n",
       "        var display = window.getComputedStyle(gd).display;\n",
       "        if (!display || display === 'none') {{\n",
       "            console.log([gd, 'removed!']);\n",
       "            Plotly.purge(gd);\n",
       "            observer.disconnect();\n",
       "        }}\n",
       "}});\n",
       "\n",
       "// Listen for the removal of the full notebook cells\n",
       "var notebookContainer = gd.closest('#notebook-container');\n",
       "if (notebookContainer) {{\n",
       "    x.observe(notebookContainer, {childList: true});\n",
       "}}\n",
       "\n",
       "// Listen for the clearing of the current output cell\n",
       "var outputEl = gd.closest('.output');\n",
       "if (outputEl) {{\n",
       "    x.observe(outputEl, {childList: true});\n",
       "}}\n",
       "\n",
       "                        })                };                });            </script>        </div>"
      ]
     },
     "metadata": {},
     "output_type": "display_data"
    },
    {
     "data": {
      "application/vnd.plotly.v1+json": {
       "config": {
        "plotlyServerURL": "https://plot.ly"
       },
       "data": [
        {
         "hovertemplate": "Post Hour=%{x}<br>Total Posts=%{y}<extra></extra>",
         "legendgroup": "",
         "line": {
          "color": "#636efa",
          "dash": "solid"
         },
         "mode": "lines",
         "name": "",
         "orientation": "v",
         "showlegend": false,
         "type": "scatter",
         "x": [
          "2021-08-24T15:00:00",
          "2021-08-24T16:00:00",
          "2021-08-24T17:00:00",
          "2021-08-24T18:00:00",
          "2021-08-24T19:00:00",
          "2021-08-24T20:00:00",
          "2021-08-24T21:00:00",
          "2021-08-24T22:00:00",
          "2021-08-24T23:00:00",
          "2021-08-25T00:00:00",
          "2021-08-25T01:00:00",
          "2021-08-25T02:00:00",
          "2021-08-25T03:00:00",
          "2021-08-25T04:00:00",
          "2021-08-25T05:00:00",
          "2021-08-25T06:00:00",
          "2021-08-25T07:00:00",
          "2021-08-25T08:00:00",
          "2021-08-25T09:00:00",
          "2021-08-25T10:00:00",
          "2021-08-25T11:00:00",
          "2021-08-25T12:00:00",
          "2021-08-25T13:00:00",
          "2021-08-25T14:00:00",
          "2021-08-25T15:00:00",
          "2021-08-25T16:00:00",
          "2021-08-25T17:00:00",
          "2021-08-25T18:00:00",
          "2021-08-25T19:00:00",
          "2021-08-25T20:00:00",
          "2021-08-25T21:00:00",
          "2021-08-25T22:00:00",
          "2021-08-25T23:00:00",
          "2021-08-26T00:00:00",
          "2021-08-26T01:00:00",
          "2021-08-26T03:00:00",
          "2021-08-26T04:00:00",
          "2021-08-26T05:00:00",
          "2021-08-26T06:00:00",
          "2021-08-26T07:00:00",
          "2021-08-26T08:00:00",
          "2021-08-26T09:00:00",
          "2021-08-26T10:00:00",
          "2021-08-26T11:00:00",
          "2021-08-26T12:00:00",
          "2021-08-26T13:00:00",
          "2021-08-26T14:00:00",
          "2021-08-26T15:00:00",
          "2021-08-26T16:00:00",
          "2021-08-26T17:00:00",
          "2021-08-26T18:00:00",
          "2021-08-26T19:00:00",
          "2021-08-26T20:00:00",
          "2021-08-26T21:00:00",
          "2021-08-26T22:00:00",
          "2021-08-26T23:00:00",
          "2021-08-27T00:00:00",
          "2021-08-27T01:00:00",
          "2021-08-27T02:00:00",
          "2021-08-27T03:00:00",
          "2021-08-27T04:00:00",
          "2021-08-27T05:00:00",
          "2021-08-27T06:00:00",
          "2021-08-27T07:00:00",
          "2021-08-27T08:00:00",
          "2021-08-27T09:00:00",
          "2021-08-27T10:00:00",
          "2021-08-27T11:00:00",
          "2021-08-27T12:00:00",
          "2021-08-27T13:00:00",
          "2021-08-27T14:00:00",
          "2021-08-27T15:00:00",
          "2021-08-27T16:00:00",
          "2021-08-27T17:00:00",
          "2021-08-27T18:00:00",
          "2021-08-27T19:00:00",
          "2021-08-27T20:00:00",
          "2021-08-27T21:00:00",
          "2021-08-27T22:00:00",
          "2021-08-27T23:00:00",
          "2021-08-28T00:00:00",
          "2021-08-28T01:00:00",
          "2021-08-28T02:00:00",
          "2021-08-28T03:00:00",
          "2021-08-28T04:00:00",
          "2021-08-28T05:00:00",
          "2021-08-28T06:00:00",
          "2021-08-28T07:00:00",
          "2021-08-28T08:00:00",
          "2021-08-28T09:00:00",
          "2021-08-28T10:00:00",
          "2021-08-28T11:00:00",
          "2021-08-28T12:00:00",
          "2021-08-28T13:00:00",
          "2021-08-28T14:00:00",
          "2021-08-28T15:00:00",
          "2021-08-28T16:00:00",
          "2021-08-28T17:00:00",
          "2021-08-28T18:00:00",
          "2021-08-28T19:00:00",
          "2021-08-28T20:00:00",
          "2021-08-28T21:00:00",
          "2021-08-28T22:00:00",
          "2021-08-28T23:00:00",
          "2021-08-29T00:00:00",
          "2021-08-29T01:00:00",
          "2021-08-29T02:00:00",
          "2021-08-29T03:00:00",
          "2021-08-29T04:00:00",
          "2021-08-29T05:00:00",
          "2021-08-29T06:00:00",
          "2021-08-29T07:00:00",
          "2021-08-29T08:00:00",
          "2021-08-29T09:00:00",
          "2021-08-29T10:00:00",
          "2021-08-29T11:00:00",
          "2021-08-29T12:00:00",
          "2021-08-29T13:00:00",
          "2021-08-29T14:00:00",
          "2021-08-29T15:00:00",
          "2021-08-29T16:00:00",
          "2021-08-29T17:00:00",
          "2021-08-29T18:00:00",
          "2021-08-29T19:00:00",
          "2021-08-29T20:00:00",
          "2021-08-29T21:00:00",
          "2021-08-29T22:00:00",
          "2021-08-29T23:00:00",
          "2021-08-30T00:00:00",
          "2021-08-30T01:00:00",
          "2021-08-30T02:00:00",
          "2021-08-30T03:00:00",
          "2021-08-30T04:00:00",
          "2021-08-30T05:00:00",
          "2021-08-30T06:00:00",
          "2021-08-30T07:00:00",
          "2021-08-30T08:00:00",
          "2021-08-30T09:00:00",
          "2021-08-30T10:00:00",
          "2021-08-30T11:00:00",
          "2021-08-30T12:00:00",
          "2021-08-30T13:00:00",
          "2021-08-30T14:00:00",
          "2021-08-30T15:00:00",
          "2021-08-30T16:00:00",
          "2021-08-30T17:00:00",
          "2021-08-30T18:00:00",
          "2021-08-30T19:00:00",
          "2021-08-30T20:00:00",
          "2021-08-30T21:00:00",
          "2021-08-30T22:00:00",
          "2021-08-30T23:00:00",
          "2021-08-31T00:00:00",
          "2021-08-31T01:00:00",
          "2021-08-31T03:00:00",
          "2021-08-31T05:00:00",
          "2021-08-31T06:00:00",
          "2021-08-31T07:00:00",
          "2021-08-31T08:00:00",
          "2021-08-31T09:00:00",
          "2021-08-31T10:00:00",
          "2021-08-31T11:00:00",
          "2021-08-31T12:00:00",
          "2021-08-31T13:00:00",
          "2021-08-31T14:00:00",
          "2021-08-31T15:00:00",
          "2021-08-31T16:00:00",
          "2021-08-31T17:00:00",
          "2021-08-31T18:00:00",
          "2021-08-31T19:00:00",
          "2021-08-31T20:00:00",
          "2021-08-31T21:00:00",
          "2021-08-31T22:00:00",
          "2021-08-31T23:00:00",
          "2021-09-01T00:00:00",
          "2021-09-01T01:00:00",
          "2021-09-01T02:00:00",
          "2021-09-01T04:00:00",
          "2021-09-01T05:00:00",
          "2021-09-01T07:00:00",
          "2021-09-01T08:00:00",
          "2021-09-01T09:00:00",
          "2021-09-01T10:00:00",
          "2021-09-01T11:00:00",
          "2021-09-01T12:00:00",
          "2021-09-01T13:00:00",
          "2021-09-01T14:00:00",
          "2021-09-01T15:00:00",
          "2021-09-01T16:00:00",
          "2021-09-01T17:00:00",
          "2021-09-01T18:00:00",
          "2021-09-01T19:00:00",
          "2021-09-01T20:00:00",
          "2021-09-01T21:00:00",
          "2021-09-01T22:00:00",
          "2021-09-01T23:00:00",
          "2021-09-02T02:00:00",
          "2021-09-02T06:00:00",
          "2021-09-02T07:00:00",
          "2021-09-02T08:00:00",
          "2021-09-02T09:00:00",
          "2021-09-02T10:00:00",
          "2021-09-02T11:00:00",
          "2021-09-02T12:00:00",
          "2021-09-02T13:00:00",
          "2021-09-02T14:00:00",
          "2021-09-02T15:00:00",
          "2021-09-02T16:00:00",
          "2021-09-02T17:00:00",
          "2021-09-02T18:00:00",
          "2021-09-02T19:00:00",
          "2021-09-02T20:00:00",
          "2021-09-02T21:00:00",
          "2021-09-02T22:00:00",
          "2021-09-02T23:00:00",
          "2021-09-03T00:00:00",
          "2021-09-03T02:00:00",
          "2021-09-03T06:00:00",
          "2021-09-03T07:00:00",
          "2021-09-03T08:00:00",
          "2021-09-03T09:00:00",
          "2021-09-03T10:00:00",
          "2021-09-03T11:00:00",
          "2021-09-03T12:00:00",
          "2021-09-03T13:00:00",
          "2021-09-03T14:00:00",
          "2021-09-03T15:00:00",
          "2021-09-03T16:00:00",
          "2021-09-03T17:00:00",
          "2021-09-03T18:00:00",
          "2021-09-03T19:00:00",
          "2021-09-03T20:00:00",
          "2021-09-03T21:00:00",
          "2021-09-03T22:00:00"
         ],
         "xaxis": "x",
         "y": [
          23,
          15,
          11,
          8,
          3,
          5,
          2,
          1,
          10,
          1,
          4,
          7,
          5,
          2,
          9,
          30,
          38,
          22,
          63,
          64,
          96,
          76,
          82,
          73,
          83,
          51,
          59,
          59,
          59,
          59,
          41,
          24,
          36,
          21,
          9,
          3,
          4,
          25,
          57,
          82,
          91,
          119,
          155,
          148,
          142,
          120,
          86,
          99,
          141,
          70,
          109,
          88,
          95,
          183,
          133,
          109,
          50,
          26,
          8,
          4,
          25,
          40,
          89,
          124,
          151,
          176,
          238,
          224,
          234,
          273,
          183,
          188,
          219,
          166,
          212,
          207,
          225,
          226,
          247,
          165,
          99,
          47,
          57,
          51,
          61,
          45,
          105,
          117,
          165,
          183,
          142,
          111,
          184,
          142,
          235,
          257,
          233,
          151,
          180,
          237,
          296,
          294,
          324,
          326,
          237,
          275,
          208,
          148,
          165,
          167,
          236,
          297,
          291,
          318,
          359,
          419,
          439,
          312,
          343,
          347,
          347,
          367,
          329,
          428,
          375,
          449,
          310,
          183,
          62,
          12,
          4,
          1,
          5,
          13,
          42,
          90,
          113,
          158,
          87,
          117,
          105,
          92,
          85,
          61,
          44,
          30,
          22,
          39,
          17,
          32,
          24,
          25,
          5,
          6,
          2,
          2,
          7,
          13,
          16,
          19,
          12,
          18,
          22,
          23,
          37,
          28,
          27,
          12,
          6,
          22,
          20,
          22,
          18,
          11,
          3,
          2,
          1,
          2,
          2,
          5,
          14,
          21,
          18,
          6,
          19,
          18,
          21,
          8,
          30,
          25,
          33,
          24,
          34,
          39,
          32,
          13,
          1,
          3,
          4,
          5,
          11,
          5,
          4,
          1,
          4,
          10,
          7,
          2,
          4,
          3,
          2,
          14,
          12,
          7,
          4,
          3,
          1,
          2,
          4,
          4,
          5,
          6,
          7,
          3,
          3,
          8,
          3,
          1,
          4,
          1,
          1,
          1,
          3,
          1
         ],
         "yaxis": "y"
        }
       ],
       "layout": {
        "legend": {
         "tracegroupgap": 0
        },
        "margin": {
         "t": 60
        },
        "template": {
         "data": {
          "bar": [
           {
            "error_x": {
             "color": "#2a3f5f"
            },
            "error_y": {
             "color": "#2a3f5f"
            },
            "marker": {
             "line": {
              "color": "#E5ECF6",
              "width": 0.5
             }
            },
            "type": "bar"
           }
          ],
          "barpolar": [
           {
            "marker": {
             "line": {
              "color": "#E5ECF6",
              "width": 0.5
             }
            },
            "type": "barpolar"
           }
          ],
          "carpet": [
           {
            "aaxis": {
             "endlinecolor": "#2a3f5f",
             "gridcolor": "white",
             "linecolor": "white",
             "minorgridcolor": "white",
             "startlinecolor": "#2a3f5f"
            },
            "baxis": {
             "endlinecolor": "#2a3f5f",
             "gridcolor": "white",
             "linecolor": "white",
             "minorgridcolor": "white",
             "startlinecolor": "#2a3f5f"
            },
            "type": "carpet"
           }
          ],
          "choropleth": [
           {
            "colorbar": {
             "outlinewidth": 0,
             "ticks": ""
            },
            "type": "choropleth"
           }
          ],
          "contour": [
           {
            "colorbar": {
             "outlinewidth": 0,
             "ticks": ""
            },
            "colorscale": [
             [
              0,
              "#0d0887"
             ],
             [
              0.1111111111111111,
              "#46039f"
             ],
             [
              0.2222222222222222,
              "#7201a8"
             ],
             [
              0.3333333333333333,
              "#9c179e"
             ],
             [
              0.4444444444444444,
              "#bd3786"
             ],
             [
              0.5555555555555556,
              "#d8576b"
             ],
             [
              0.6666666666666666,
              "#ed7953"
             ],
             [
              0.7777777777777778,
              "#fb9f3a"
             ],
             [
              0.8888888888888888,
              "#fdca26"
             ],
             [
              1,
              "#f0f921"
             ]
            ],
            "type": "contour"
           }
          ],
          "contourcarpet": [
           {
            "colorbar": {
             "outlinewidth": 0,
             "ticks": ""
            },
            "type": "contourcarpet"
           }
          ],
          "heatmap": [
           {
            "colorbar": {
             "outlinewidth": 0,
             "ticks": ""
            },
            "colorscale": [
             [
              0,
              "#0d0887"
             ],
             [
              0.1111111111111111,
              "#46039f"
             ],
             [
              0.2222222222222222,
              "#7201a8"
             ],
             [
              0.3333333333333333,
              "#9c179e"
             ],
             [
              0.4444444444444444,
              "#bd3786"
             ],
             [
              0.5555555555555556,
              "#d8576b"
             ],
             [
              0.6666666666666666,
              "#ed7953"
             ],
             [
              0.7777777777777778,
              "#fb9f3a"
             ],
             [
              0.8888888888888888,
              "#fdca26"
             ],
             [
              1,
              "#f0f921"
             ]
            ],
            "type": "heatmap"
           }
          ],
          "heatmapgl": [
           {
            "colorbar": {
             "outlinewidth": 0,
             "ticks": ""
            },
            "colorscale": [
             [
              0,
              "#0d0887"
             ],
             [
              0.1111111111111111,
              "#46039f"
             ],
             [
              0.2222222222222222,
              "#7201a8"
             ],
             [
              0.3333333333333333,
              "#9c179e"
             ],
             [
              0.4444444444444444,
              "#bd3786"
             ],
             [
              0.5555555555555556,
              "#d8576b"
             ],
             [
              0.6666666666666666,
              "#ed7953"
             ],
             [
              0.7777777777777778,
              "#fb9f3a"
             ],
             [
              0.8888888888888888,
              "#fdca26"
             ],
             [
              1,
              "#f0f921"
             ]
            ],
            "type": "heatmapgl"
           }
          ],
          "histogram": [
           {
            "marker": {
             "colorbar": {
              "outlinewidth": 0,
              "ticks": ""
             }
            },
            "type": "histogram"
           }
          ],
          "histogram2d": [
           {
            "colorbar": {
             "outlinewidth": 0,
             "ticks": ""
            },
            "colorscale": [
             [
              0,
              "#0d0887"
             ],
             [
              0.1111111111111111,
              "#46039f"
             ],
             [
              0.2222222222222222,
              "#7201a8"
             ],
             [
              0.3333333333333333,
              "#9c179e"
             ],
             [
              0.4444444444444444,
              "#bd3786"
             ],
             [
              0.5555555555555556,
              "#d8576b"
             ],
             [
              0.6666666666666666,
              "#ed7953"
             ],
             [
              0.7777777777777778,
              "#fb9f3a"
             ],
             [
              0.8888888888888888,
              "#fdca26"
             ],
             [
              1,
              "#f0f921"
             ]
            ],
            "type": "histogram2d"
           }
          ],
          "histogram2dcontour": [
           {
            "colorbar": {
             "outlinewidth": 0,
             "ticks": ""
            },
            "colorscale": [
             [
              0,
              "#0d0887"
             ],
             [
              0.1111111111111111,
              "#46039f"
             ],
             [
              0.2222222222222222,
              "#7201a8"
             ],
             [
              0.3333333333333333,
              "#9c179e"
             ],
             [
              0.4444444444444444,
              "#bd3786"
             ],
             [
              0.5555555555555556,
              "#d8576b"
             ],
             [
              0.6666666666666666,
              "#ed7953"
             ],
             [
              0.7777777777777778,
              "#fb9f3a"
             ],
             [
              0.8888888888888888,
              "#fdca26"
             ],
             [
              1,
              "#f0f921"
             ]
            ],
            "type": "histogram2dcontour"
           }
          ],
          "mesh3d": [
           {
            "colorbar": {
             "outlinewidth": 0,
             "ticks": ""
            },
            "type": "mesh3d"
           }
          ],
          "parcoords": [
           {
            "line": {
             "colorbar": {
              "outlinewidth": 0,
              "ticks": ""
             }
            },
            "type": "parcoords"
           }
          ],
          "pie": [
           {
            "automargin": true,
            "type": "pie"
           }
          ],
          "scatter": [
           {
            "marker": {
             "colorbar": {
              "outlinewidth": 0,
              "ticks": ""
             }
            },
            "type": "scatter"
           }
          ],
          "scatter3d": [
           {
            "line": {
             "colorbar": {
              "outlinewidth": 0,
              "ticks": ""
             }
            },
            "marker": {
             "colorbar": {
              "outlinewidth": 0,
              "ticks": ""
             }
            },
            "type": "scatter3d"
           }
          ],
          "scattercarpet": [
           {
            "marker": {
             "colorbar": {
              "outlinewidth": 0,
              "ticks": ""
             }
            },
            "type": "scattercarpet"
           }
          ],
          "scattergeo": [
           {
            "marker": {
             "colorbar": {
              "outlinewidth": 0,
              "ticks": ""
             }
            },
            "type": "scattergeo"
           }
          ],
          "scattergl": [
           {
            "marker": {
             "colorbar": {
              "outlinewidth": 0,
              "ticks": ""
             }
            },
            "type": "scattergl"
           }
          ],
          "scattermapbox": [
           {
            "marker": {
             "colorbar": {
              "outlinewidth": 0,
              "ticks": ""
             }
            },
            "type": "scattermapbox"
           }
          ],
          "scatterpolar": [
           {
            "marker": {
             "colorbar": {
              "outlinewidth": 0,
              "ticks": ""
             }
            },
            "type": "scatterpolar"
           }
          ],
          "scatterpolargl": [
           {
            "marker": {
             "colorbar": {
              "outlinewidth": 0,
              "ticks": ""
             }
            },
            "type": "scatterpolargl"
           }
          ],
          "scatterternary": [
           {
            "marker": {
             "colorbar": {
              "outlinewidth": 0,
              "ticks": ""
             }
            },
            "type": "scatterternary"
           }
          ],
          "surface": [
           {
            "colorbar": {
             "outlinewidth": 0,
             "ticks": ""
            },
            "colorscale": [
             [
              0,
              "#0d0887"
             ],
             [
              0.1111111111111111,
              "#46039f"
             ],
             [
              0.2222222222222222,
              "#7201a8"
             ],
             [
              0.3333333333333333,
              "#9c179e"
             ],
             [
              0.4444444444444444,
              "#bd3786"
             ],
             [
              0.5555555555555556,
              "#d8576b"
             ],
             [
              0.6666666666666666,
              "#ed7953"
             ],
             [
              0.7777777777777778,
              "#fb9f3a"
             ],
             [
              0.8888888888888888,
              "#fdca26"
             ],
             [
              1,
              "#f0f921"
             ]
            ],
            "type": "surface"
           }
          ],
          "table": [
           {
            "cells": {
             "fill": {
              "color": "#EBF0F8"
             },
             "line": {
              "color": "white"
             }
            },
            "header": {
             "fill": {
              "color": "#C8D4E3"
             },
             "line": {
              "color": "white"
             }
            },
            "type": "table"
           }
          ]
         },
         "layout": {
          "annotationdefaults": {
           "arrowcolor": "#2a3f5f",
           "arrowhead": 0,
           "arrowwidth": 1
          },
          "coloraxis": {
           "colorbar": {
            "outlinewidth": 0,
            "ticks": ""
           }
          },
          "colorscale": {
           "diverging": [
            [
             0,
             "#8e0152"
            ],
            [
             0.1,
             "#c51b7d"
            ],
            [
             0.2,
             "#de77ae"
            ],
            [
             0.3,
             "#f1b6da"
            ],
            [
             0.4,
             "#fde0ef"
            ],
            [
             0.5,
             "#f7f7f7"
            ],
            [
             0.6,
             "#e6f5d0"
            ],
            [
             0.7,
             "#b8e186"
            ],
            [
             0.8,
             "#7fbc41"
            ],
            [
             0.9,
             "#4d9221"
            ],
            [
             1,
             "#276419"
            ]
           ],
           "sequential": [
            [
             0,
             "#0d0887"
            ],
            [
             0.1111111111111111,
             "#46039f"
            ],
            [
             0.2222222222222222,
             "#7201a8"
            ],
            [
             0.3333333333333333,
             "#9c179e"
            ],
            [
             0.4444444444444444,
             "#bd3786"
            ],
            [
             0.5555555555555556,
             "#d8576b"
            ],
            [
             0.6666666666666666,
             "#ed7953"
            ],
            [
             0.7777777777777778,
             "#fb9f3a"
            ],
            [
             0.8888888888888888,
             "#fdca26"
            ],
            [
             1,
             "#f0f921"
            ]
           ],
           "sequentialminus": [
            [
             0,
             "#0d0887"
            ],
            [
             0.1111111111111111,
             "#46039f"
            ],
            [
             0.2222222222222222,
             "#7201a8"
            ],
            [
             0.3333333333333333,
             "#9c179e"
            ],
            [
             0.4444444444444444,
             "#bd3786"
            ],
            [
             0.5555555555555556,
             "#d8576b"
            ],
            [
             0.6666666666666666,
             "#ed7953"
            ],
            [
             0.7777777777777778,
             "#fb9f3a"
            ],
            [
             0.8888888888888888,
             "#fdca26"
            ],
            [
             1,
             "#f0f921"
            ]
           ]
          },
          "colorway": [
           "#636efa",
           "#EF553B",
           "#00cc96",
           "#ab63fa",
           "#FFA15A",
           "#19d3f3",
           "#FF6692",
           "#B6E880",
           "#FF97FF",
           "#FECB52"
          ],
          "font": {
           "color": "#2a3f5f"
          },
          "geo": {
           "bgcolor": "white",
           "lakecolor": "white",
           "landcolor": "#E5ECF6",
           "showlakes": true,
           "showland": true,
           "subunitcolor": "white"
          },
          "hoverlabel": {
           "align": "left"
          },
          "hovermode": "closest",
          "mapbox": {
           "style": "light"
          },
          "paper_bgcolor": "white",
          "plot_bgcolor": "#E5ECF6",
          "polar": {
           "angularaxis": {
            "gridcolor": "white",
            "linecolor": "white",
            "ticks": ""
           },
           "bgcolor": "#E5ECF6",
           "radialaxis": {
            "gridcolor": "white",
            "linecolor": "white",
            "ticks": ""
           }
          },
          "scene": {
           "xaxis": {
            "backgroundcolor": "#E5ECF6",
            "gridcolor": "white",
            "gridwidth": 2,
            "linecolor": "white",
            "showbackground": true,
            "ticks": "",
            "zerolinecolor": "white"
           },
           "yaxis": {
            "backgroundcolor": "#E5ECF6",
            "gridcolor": "white",
            "gridwidth": 2,
            "linecolor": "white",
            "showbackground": true,
            "ticks": "",
            "zerolinecolor": "white"
           },
           "zaxis": {
            "backgroundcolor": "#E5ECF6",
            "gridcolor": "white",
            "gridwidth": 2,
            "linecolor": "white",
            "showbackground": true,
            "ticks": "",
            "zerolinecolor": "white"
           }
          },
          "shapedefaults": {
           "line": {
            "color": "#2a3f5f"
           }
          },
          "ternary": {
           "aaxis": {
            "gridcolor": "white",
            "linecolor": "white",
            "ticks": ""
           },
           "baxis": {
            "gridcolor": "white",
            "linecolor": "white",
            "ticks": ""
           },
           "bgcolor": "#E5ECF6",
           "caxis": {
            "gridcolor": "white",
            "linecolor": "white",
            "ticks": ""
           }
          },
          "title": {
           "x": 0.05
          },
          "xaxis": {
           "automargin": true,
           "gridcolor": "white",
           "linecolor": "white",
           "ticks": "",
           "title": {
            "standoff": 15
           },
           "zerolinecolor": "white",
           "zerolinewidth": 2
          },
          "yaxis": {
           "automargin": true,
           "gridcolor": "white",
           "linecolor": "white",
           "ticks": "",
           "title": {
            "standoff": 15
           },
           "zerolinecolor": "white",
           "zerolinewidth": 2
          }
         }
        },
        "xaxis": {
         "anchor": "y",
         "domain": [
          0,
          1
         ],
         "title": {
          "text": "Post Hour"
         }
        },
        "yaxis": {
         "anchor": "x",
         "domain": [
          0,
          1
         ],
         "title": {
          "text": "Total Posts"
         }
        }
       }
      },
      "text/html": [
       "<div>                            <div id=\"acfd625b-b71c-44fc-b8d2-d7d9a6619a11\" class=\"plotly-graph-div\" style=\"height:525px; width:100%;\"></div>            <script type=\"text/javascript\">                require([\"plotly\"], function(Plotly) {                    window.PLOTLYENV=window.PLOTLYENV || {};                                    if (document.getElementById(\"acfd625b-b71c-44fc-b8d2-d7d9a6619a11\")) {                    Plotly.newPlot(                        \"acfd625b-b71c-44fc-b8d2-d7d9a6619a11\",                        [{\"hovertemplate\": \"Post Hour=%{x}<br>Total Posts=%{y}<extra></extra>\", \"legendgroup\": \"\", \"line\": {\"color\": \"#636efa\", \"dash\": \"solid\"}, \"mode\": \"lines\", \"name\": \"\", \"orientation\": \"v\", \"showlegend\": false, \"type\": \"scatter\", \"x\": [\"2021-08-24T15:00:00\", \"2021-08-24T16:00:00\", \"2021-08-24T17:00:00\", \"2021-08-24T18:00:00\", \"2021-08-24T19:00:00\", \"2021-08-24T20:00:00\", \"2021-08-24T21:00:00\", \"2021-08-24T22:00:00\", \"2021-08-24T23:00:00\", \"2021-08-25T00:00:00\", \"2021-08-25T01:00:00\", \"2021-08-25T02:00:00\", \"2021-08-25T03:00:00\", \"2021-08-25T04:00:00\", \"2021-08-25T05:00:00\", \"2021-08-25T06:00:00\", \"2021-08-25T07:00:00\", \"2021-08-25T08:00:00\", \"2021-08-25T09:00:00\", \"2021-08-25T10:00:00\", \"2021-08-25T11:00:00\", \"2021-08-25T12:00:00\", \"2021-08-25T13:00:00\", \"2021-08-25T14:00:00\", \"2021-08-25T15:00:00\", \"2021-08-25T16:00:00\", \"2021-08-25T17:00:00\", \"2021-08-25T18:00:00\", \"2021-08-25T19:00:00\", \"2021-08-25T20:00:00\", \"2021-08-25T21:00:00\", \"2021-08-25T22:00:00\", \"2021-08-25T23:00:00\", \"2021-08-26T00:00:00\", \"2021-08-26T01:00:00\", \"2021-08-26T03:00:00\", \"2021-08-26T04:00:00\", \"2021-08-26T05:00:00\", \"2021-08-26T06:00:00\", \"2021-08-26T07:00:00\", \"2021-08-26T08:00:00\", \"2021-08-26T09:00:00\", \"2021-08-26T10:00:00\", \"2021-08-26T11:00:00\", \"2021-08-26T12:00:00\", \"2021-08-26T13:00:00\", \"2021-08-26T14:00:00\", \"2021-08-26T15:00:00\", \"2021-08-26T16:00:00\", \"2021-08-26T17:00:00\", \"2021-08-26T18:00:00\", \"2021-08-26T19:00:00\", \"2021-08-26T20:00:00\", \"2021-08-26T21:00:00\", \"2021-08-26T22:00:00\", \"2021-08-26T23:00:00\", \"2021-08-27T00:00:00\", \"2021-08-27T01:00:00\", \"2021-08-27T02:00:00\", \"2021-08-27T03:00:00\", \"2021-08-27T04:00:00\", \"2021-08-27T05:00:00\", \"2021-08-27T06:00:00\", \"2021-08-27T07:00:00\", \"2021-08-27T08:00:00\", \"2021-08-27T09:00:00\", \"2021-08-27T10:00:00\", \"2021-08-27T11:00:00\", \"2021-08-27T12:00:00\", \"2021-08-27T13:00:00\", \"2021-08-27T14:00:00\", \"2021-08-27T15:00:00\", \"2021-08-27T16:00:00\", \"2021-08-27T17:00:00\", \"2021-08-27T18:00:00\", \"2021-08-27T19:00:00\", \"2021-08-27T20:00:00\", \"2021-08-27T21:00:00\", \"2021-08-27T22:00:00\", \"2021-08-27T23:00:00\", \"2021-08-28T00:00:00\", \"2021-08-28T01:00:00\", \"2021-08-28T02:00:00\", \"2021-08-28T03:00:00\", \"2021-08-28T04:00:00\", \"2021-08-28T05:00:00\", \"2021-08-28T06:00:00\", \"2021-08-28T07:00:00\", \"2021-08-28T08:00:00\", \"2021-08-28T09:00:00\", \"2021-08-28T10:00:00\", \"2021-08-28T11:00:00\", \"2021-08-28T12:00:00\", \"2021-08-28T13:00:00\", \"2021-08-28T14:00:00\", \"2021-08-28T15:00:00\", \"2021-08-28T16:00:00\", \"2021-08-28T17:00:00\", \"2021-08-28T18:00:00\", \"2021-08-28T19:00:00\", \"2021-08-28T20:00:00\", \"2021-08-28T21:00:00\", \"2021-08-28T22:00:00\", \"2021-08-28T23:00:00\", \"2021-08-29T00:00:00\", \"2021-08-29T01:00:00\", \"2021-08-29T02:00:00\", \"2021-08-29T03:00:00\", \"2021-08-29T04:00:00\", \"2021-08-29T05:00:00\", \"2021-08-29T06:00:00\", \"2021-08-29T07:00:00\", \"2021-08-29T08:00:00\", \"2021-08-29T09:00:00\", \"2021-08-29T10:00:00\", \"2021-08-29T11:00:00\", \"2021-08-29T12:00:00\", \"2021-08-29T13:00:00\", \"2021-08-29T14:00:00\", \"2021-08-29T15:00:00\", \"2021-08-29T16:00:00\", \"2021-08-29T17:00:00\", \"2021-08-29T18:00:00\", \"2021-08-29T19:00:00\", \"2021-08-29T20:00:00\", \"2021-08-29T21:00:00\", \"2021-08-29T22:00:00\", \"2021-08-29T23:00:00\", \"2021-08-30T00:00:00\", \"2021-08-30T01:00:00\", \"2021-08-30T02:00:00\", \"2021-08-30T03:00:00\", \"2021-08-30T04:00:00\", \"2021-08-30T05:00:00\", \"2021-08-30T06:00:00\", \"2021-08-30T07:00:00\", \"2021-08-30T08:00:00\", \"2021-08-30T09:00:00\", \"2021-08-30T10:00:00\", \"2021-08-30T11:00:00\", \"2021-08-30T12:00:00\", \"2021-08-30T13:00:00\", \"2021-08-30T14:00:00\", \"2021-08-30T15:00:00\", \"2021-08-30T16:00:00\", \"2021-08-30T17:00:00\", \"2021-08-30T18:00:00\", \"2021-08-30T19:00:00\", \"2021-08-30T20:00:00\", \"2021-08-30T21:00:00\", \"2021-08-30T22:00:00\", \"2021-08-30T23:00:00\", \"2021-08-31T00:00:00\", \"2021-08-31T01:00:00\", \"2021-08-31T03:00:00\", \"2021-08-31T05:00:00\", \"2021-08-31T06:00:00\", \"2021-08-31T07:00:00\", \"2021-08-31T08:00:00\", \"2021-08-31T09:00:00\", \"2021-08-31T10:00:00\", \"2021-08-31T11:00:00\", \"2021-08-31T12:00:00\", \"2021-08-31T13:00:00\", \"2021-08-31T14:00:00\", \"2021-08-31T15:00:00\", \"2021-08-31T16:00:00\", \"2021-08-31T17:00:00\", \"2021-08-31T18:00:00\", \"2021-08-31T19:00:00\", \"2021-08-31T20:00:00\", \"2021-08-31T21:00:00\", \"2021-08-31T22:00:00\", \"2021-08-31T23:00:00\", \"2021-09-01T00:00:00\", \"2021-09-01T01:00:00\", \"2021-09-01T02:00:00\", \"2021-09-01T04:00:00\", \"2021-09-01T05:00:00\", \"2021-09-01T07:00:00\", \"2021-09-01T08:00:00\", \"2021-09-01T09:00:00\", \"2021-09-01T10:00:00\", \"2021-09-01T11:00:00\", \"2021-09-01T12:00:00\", \"2021-09-01T13:00:00\", \"2021-09-01T14:00:00\", \"2021-09-01T15:00:00\", \"2021-09-01T16:00:00\", \"2021-09-01T17:00:00\", \"2021-09-01T18:00:00\", \"2021-09-01T19:00:00\", \"2021-09-01T20:00:00\", \"2021-09-01T21:00:00\", \"2021-09-01T22:00:00\", \"2021-09-01T23:00:00\", \"2021-09-02T02:00:00\", \"2021-09-02T06:00:00\", \"2021-09-02T07:00:00\", \"2021-09-02T08:00:00\", \"2021-09-02T09:00:00\", \"2021-09-02T10:00:00\", \"2021-09-02T11:00:00\", \"2021-09-02T12:00:00\", \"2021-09-02T13:00:00\", \"2021-09-02T14:00:00\", \"2021-09-02T15:00:00\", \"2021-09-02T16:00:00\", \"2021-09-02T17:00:00\", \"2021-09-02T18:00:00\", \"2021-09-02T19:00:00\", \"2021-09-02T20:00:00\", \"2021-09-02T21:00:00\", \"2021-09-02T22:00:00\", \"2021-09-02T23:00:00\", \"2021-09-03T00:00:00\", \"2021-09-03T02:00:00\", \"2021-09-03T06:00:00\", \"2021-09-03T07:00:00\", \"2021-09-03T08:00:00\", \"2021-09-03T09:00:00\", \"2021-09-03T10:00:00\", \"2021-09-03T11:00:00\", \"2021-09-03T12:00:00\", \"2021-09-03T13:00:00\", \"2021-09-03T14:00:00\", \"2021-09-03T15:00:00\", \"2021-09-03T16:00:00\", \"2021-09-03T17:00:00\", \"2021-09-03T18:00:00\", \"2021-09-03T19:00:00\", \"2021-09-03T20:00:00\", \"2021-09-03T21:00:00\", \"2021-09-03T22:00:00\"], \"xaxis\": \"x\", \"y\": [23, 15, 11, 8, 3, 5, 2, 1, 10, 1, 4, 7, 5, 2, 9, 30, 38, 22, 63, 64, 96, 76, 82, 73, 83, 51, 59, 59, 59, 59, 41, 24, 36, 21, 9, 3, 4, 25, 57, 82, 91, 119, 155, 148, 142, 120, 86, 99, 141, 70, 109, 88, 95, 183, 133, 109, 50, 26, 8, 4, 25, 40, 89, 124, 151, 176, 238, 224, 234, 273, 183, 188, 219, 166, 212, 207, 225, 226, 247, 165, 99, 47, 57, 51, 61, 45, 105, 117, 165, 183, 142, 111, 184, 142, 235, 257, 233, 151, 180, 237, 296, 294, 324, 326, 237, 275, 208, 148, 165, 167, 236, 297, 291, 318, 359, 419, 439, 312, 343, 347, 347, 367, 329, 428, 375, 449, 310, 183, 62, 12, 4, 1, 5, 13, 42, 90, 113, 158, 87, 117, 105, 92, 85, 61, 44, 30, 22, 39, 17, 32, 24, 25, 5, 6, 2, 2, 7, 13, 16, 19, 12, 18, 22, 23, 37, 28, 27, 12, 6, 22, 20, 22, 18, 11, 3, 2, 1, 2, 2, 5, 14, 21, 18, 6, 19, 18, 21, 8, 30, 25, 33, 24, 34, 39, 32, 13, 1, 3, 4, 5, 11, 5, 4, 1, 4, 10, 7, 2, 4, 3, 2, 14, 12, 7, 4, 3, 1, 2, 4, 4, 5, 6, 7, 3, 3, 8, 3, 1, 4, 1, 1, 1, 3, 1], \"yaxis\": \"y\"}],                        {\"legend\": {\"tracegroupgap\": 0}, \"margin\": {\"t\": 60}, \"template\": {\"data\": {\"bar\": [{\"error_x\": {\"color\": \"#2a3f5f\"}, \"error_y\": {\"color\": \"#2a3f5f\"}, \"marker\": {\"line\": {\"color\": \"#E5ECF6\", \"width\": 0.5}}, \"type\": \"bar\"}], \"barpolar\": [{\"marker\": {\"line\": {\"color\": \"#E5ECF6\", \"width\": 0.5}}, \"type\": \"barpolar\"}], \"carpet\": [{\"aaxis\": {\"endlinecolor\": \"#2a3f5f\", \"gridcolor\": \"white\", \"linecolor\": \"white\", \"minorgridcolor\": \"white\", \"startlinecolor\": \"#2a3f5f\"}, \"baxis\": {\"endlinecolor\": \"#2a3f5f\", \"gridcolor\": \"white\", \"linecolor\": \"white\", \"minorgridcolor\": \"white\", \"startlinecolor\": \"#2a3f5f\"}, \"type\": \"carpet\"}], \"choropleth\": [{\"colorbar\": {\"outlinewidth\": 0, \"ticks\": \"\"}, \"type\": \"choropleth\"}], \"contour\": [{\"colorbar\": {\"outlinewidth\": 0, \"ticks\": \"\"}, \"colorscale\": [[0.0, \"#0d0887\"], [0.1111111111111111, \"#46039f\"], [0.2222222222222222, \"#7201a8\"], [0.3333333333333333, \"#9c179e\"], [0.4444444444444444, \"#bd3786\"], [0.5555555555555556, \"#d8576b\"], [0.6666666666666666, \"#ed7953\"], [0.7777777777777778, \"#fb9f3a\"], [0.8888888888888888, \"#fdca26\"], [1.0, \"#f0f921\"]], \"type\": \"contour\"}], \"contourcarpet\": [{\"colorbar\": {\"outlinewidth\": 0, \"ticks\": \"\"}, \"type\": \"contourcarpet\"}], \"heatmap\": [{\"colorbar\": {\"outlinewidth\": 0, \"ticks\": \"\"}, \"colorscale\": [[0.0, \"#0d0887\"], [0.1111111111111111, \"#46039f\"], [0.2222222222222222, \"#7201a8\"], [0.3333333333333333, \"#9c179e\"], [0.4444444444444444, \"#bd3786\"], [0.5555555555555556, \"#d8576b\"], [0.6666666666666666, \"#ed7953\"], [0.7777777777777778, \"#fb9f3a\"], [0.8888888888888888, \"#fdca26\"], [1.0, \"#f0f921\"]], \"type\": \"heatmap\"}], \"heatmapgl\": [{\"colorbar\": {\"outlinewidth\": 0, \"ticks\": \"\"}, \"colorscale\": [[0.0, \"#0d0887\"], [0.1111111111111111, \"#46039f\"], [0.2222222222222222, \"#7201a8\"], [0.3333333333333333, \"#9c179e\"], [0.4444444444444444, \"#bd3786\"], [0.5555555555555556, \"#d8576b\"], [0.6666666666666666, \"#ed7953\"], [0.7777777777777778, \"#fb9f3a\"], [0.8888888888888888, \"#fdca26\"], [1.0, \"#f0f921\"]], \"type\": \"heatmapgl\"}], \"histogram\": [{\"marker\": {\"colorbar\": {\"outlinewidth\": 0, \"ticks\": \"\"}}, \"type\": \"histogram\"}], \"histogram2d\": [{\"colorbar\": {\"outlinewidth\": 0, \"ticks\": \"\"}, \"colorscale\": [[0.0, \"#0d0887\"], [0.1111111111111111, \"#46039f\"], [0.2222222222222222, \"#7201a8\"], [0.3333333333333333, \"#9c179e\"], [0.4444444444444444, \"#bd3786\"], [0.5555555555555556, \"#d8576b\"], [0.6666666666666666, \"#ed7953\"], [0.7777777777777778, \"#fb9f3a\"], [0.8888888888888888, \"#fdca26\"], [1.0, \"#f0f921\"]], \"type\": \"histogram2d\"}], \"histogram2dcontour\": [{\"colorbar\": {\"outlinewidth\": 0, \"ticks\": \"\"}, \"colorscale\": [[0.0, \"#0d0887\"], [0.1111111111111111, \"#46039f\"], [0.2222222222222222, \"#7201a8\"], [0.3333333333333333, \"#9c179e\"], [0.4444444444444444, \"#bd3786\"], [0.5555555555555556, \"#d8576b\"], [0.6666666666666666, \"#ed7953\"], [0.7777777777777778, \"#fb9f3a\"], [0.8888888888888888, \"#fdca26\"], [1.0, \"#f0f921\"]], \"type\": \"histogram2dcontour\"}], \"mesh3d\": [{\"colorbar\": {\"outlinewidth\": 0, \"ticks\": \"\"}, \"type\": \"mesh3d\"}], \"parcoords\": [{\"line\": {\"colorbar\": {\"outlinewidth\": 0, \"ticks\": \"\"}}, \"type\": \"parcoords\"}], \"pie\": [{\"automargin\": true, \"type\": \"pie\"}], \"scatter\": [{\"marker\": {\"colorbar\": {\"outlinewidth\": 0, \"ticks\": \"\"}}, \"type\": \"scatter\"}], \"scatter3d\": [{\"line\": {\"colorbar\": {\"outlinewidth\": 0, \"ticks\": \"\"}}, \"marker\": {\"colorbar\": {\"outlinewidth\": 0, \"ticks\": \"\"}}, \"type\": \"scatter3d\"}], \"scattercarpet\": [{\"marker\": {\"colorbar\": {\"outlinewidth\": 0, \"ticks\": \"\"}}, \"type\": \"scattercarpet\"}], \"scattergeo\": [{\"marker\": {\"colorbar\": {\"outlinewidth\": 0, \"ticks\": \"\"}}, \"type\": \"scattergeo\"}], \"scattergl\": [{\"marker\": {\"colorbar\": {\"outlinewidth\": 0, \"ticks\": \"\"}}, \"type\": \"scattergl\"}], \"scattermapbox\": [{\"marker\": {\"colorbar\": {\"outlinewidth\": 0, \"ticks\": \"\"}}, \"type\": \"scattermapbox\"}], \"scatterpolar\": [{\"marker\": {\"colorbar\": {\"outlinewidth\": 0, \"ticks\": \"\"}}, \"type\": \"scatterpolar\"}], \"scatterpolargl\": [{\"marker\": {\"colorbar\": {\"outlinewidth\": 0, \"ticks\": \"\"}}, \"type\": \"scatterpolargl\"}], \"scatterternary\": [{\"marker\": {\"colorbar\": {\"outlinewidth\": 0, \"ticks\": \"\"}}, \"type\": \"scatterternary\"}], \"surface\": [{\"colorbar\": {\"outlinewidth\": 0, \"ticks\": \"\"}, \"colorscale\": [[0.0, \"#0d0887\"], [0.1111111111111111, \"#46039f\"], [0.2222222222222222, \"#7201a8\"], [0.3333333333333333, \"#9c179e\"], [0.4444444444444444, \"#bd3786\"], [0.5555555555555556, \"#d8576b\"], [0.6666666666666666, \"#ed7953\"], [0.7777777777777778, \"#fb9f3a\"], [0.8888888888888888, \"#fdca26\"], [1.0, \"#f0f921\"]], \"type\": \"surface\"}], \"table\": [{\"cells\": {\"fill\": {\"color\": \"#EBF0F8\"}, \"line\": {\"color\": \"white\"}}, \"header\": {\"fill\": {\"color\": \"#C8D4E3\"}, \"line\": {\"color\": \"white\"}}, \"type\": \"table\"}]}, \"layout\": {\"annotationdefaults\": {\"arrowcolor\": \"#2a3f5f\", \"arrowhead\": 0, \"arrowwidth\": 1}, \"coloraxis\": {\"colorbar\": {\"outlinewidth\": 0, \"ticks\": \"\"}}, \"colorscale\": {\"diverging\": [[0, \"#8e0152\"], [0.1, \"#c51b7d\"], [0.2, \"#de77ae\"], [0.3, \"#f1b6da\"], [0.4, \"#fde0ef\"], [0.5, \"#f7f7f7\"], [0.6, \"#e6f5d0\"], [0.7, \"#b8e186\"], [0.8, \"#7fbc41\"], [0.9, \"#4d9221\"], [1, \"#276419\"]], \"sequential\": [[0.0, \"#0d0887\"], [0.1111111111111111, \"#46039f\"], [0.2222222222222222, \"#7201a8\"], [0.3333333333333333, \"#9c179e\"], [0.4444444444444444, \"#bd3786\"], [0.5555555555555556, \"#d8576b\"], [0.6666666666666666, \"#ed7953\"], [0.7777777777777778, \"#fb9f3a\"], [0.8888888888888888, \"#fdca26\"], [1.0, \"#f0f921\"]], \"sequentialminus\": [[0.0, \"#0d0887\"], [0.1111111111111111, \"#46039f\"], [0.2222222222222222, \"#7201a8\"], [0.3333333333333333, \"#9c179e\"], [0.4444444444444444, \"#bd3786\"], [0.5555555555555556, \"#d8576b\"], [0.6666666666666666, \"#ed7953\"], [0.7777777777777778, \"#fb9f3a\"], [0.8888888888888888, \"#fdca26\"], [1.0, \"#f0f921\"]]}, \"colorway\": [\"#636efa\", \"#EF553B\", \"#00cc96\", \"#ab63fa\", \"#FFA15A\", \"#19d3f3\", \"#FF6692\", \"#B6E880\", \"#FF97FF\", \"#FECB52\"], \"font\": {\"color\": \"#2a3f5f\"}, \"geo\": {\"bgcolor\": \"white\", \"lakecolor\": \"white\", \"landcolor\": \"#E5ECF6\", \"showlakes\": true, \"showland\": true, \"subunitcolor\": \"white\"}, \"hoverlabel\": {\"align\": \"left\"}, \"hovermode\": \"closest\", \"mapbox\": {\"style\": \"light\"}, \"paper_bgcolor\": \"white\", \"plot_bgcolor\": \"#E5ECF6\", \"polar\": {\"angularaxis\": {\"gridcolor\": \"white\", \"linecolor\": \"white\", \"ticks\": \"\"}, \"bgcolor\": \"#E5ECF6\", \"radialaxis\": {\"gridcolor\": \"white\", \"linecolor\": \"white\", \"ticks\": \"\"}}, \"scene\": {\"xaxis\": {\"backgroundcolor\": \"#E5ECF6\", \"gridcolor\": \"white\", \"gridwidth\": 2, \"linecolor\": \"white\", \"showbackground\": true, \"ticks\": \"\", \"zerolinecolor\": \"white\"}, \"yaxis\": {\"backgroundcolor\": \"#E5ECF6\", \"gridcolor\": \"white\", \"gridwidth\": 2, \"linecolor\": \"white\", \"showbackground\": true, \"ticks\": \"\", \"zerolinecolor\": \"white\"}, \"zaxis\": {\"backgroundcolor\": \"#E5ECF6\", \"gridcolor\": \"white\", \"gridwidth\": 2, \"linecolor\": \"white\", \"showbackground\": true, \"ticks\": \"\", \"zerolinecolor\": \"white\"}}, \"shapedefaults\": {\"line\": {\"color\": \"#2a3f5f\"}}, \"ternary\": {\"aaxis\": {\"gridcolor\": \"white\", \"linecolor\": \"white\", \"ticks\": \"\"}, \"baxis\": {\"gridcolor\": \"white\", \"linecolor\": \"white\", \"ticks\": \"\"}, \"bgcolor\": \"#E5ECF6\", \"caxis\": {\"gridcolor\": \"white\", \"linecolor\": \"white\", \"ticks\": \"\"}}, \"title\": {\"x\": 0.05}, \"xaxis\": {\"automargin\": true, \"gridcolor\": \"white\", \"linecolor\": \"white\", \"ticks\": \"\", \"title\": {\"standoff\": 15}, \"zerolinecolor\": \"white\", \"zerolinewidth\": 2}, \"yaxis\": {\"automargin\": true, \"gridcolor\": \"white\", \"linecolor\": \"white\", \"ticks\": \"\", \"title\": {\"standoff\": 15}, \"zerolinecolor\": \"white\", \"zerolinewidth\": 2}}}, \"xaxis\": {\"anchor\": \"y\", \"domain\": [0.0, 1.0], \"title\": {\"text\": \"Post Hour\"}}, \"yaxis\": {\"anchor\": \"x\", \"domain\": [0.0, 1.0], \"title\": {\"text\": \"Total Posts\"}}},                        {\"responsive\": true}                    ).then(function(){\n",
       "                            \n",
       "var gd = document.getElementById('acfd625b-b71c-44fc-b8d2-d7d9a6619a11');\n",
       "var x = new MutationObserver(function (mutations, observer) {{\n",
       "        var display = window.getComputedStyle(gd).display;\n",
       "        if (!display || display === 'none') {{\n",
       "            console.log([gd, 'removed!']);\n",
       "            Plotly.purge(gd);\n",
       "            observer.disconnect();\n",
       "        }}\n",
       "}});\n",
       "\n",
       "// Listen for the removal of the full notebook cells\n",
       "var notebookContainer = gd.closest('#notebook-container');\n",
       "if (notebookContainer) {{\n",
       "    x.observe(notebookContainer, {childList: true});\n",
       "}}\n",
       "\n",
       "// Listen for the clearing of the current output cell\n",
       "var outputEl = gd.closest('.output');\n",
       "if (outputEl) {{\n",
       "    x.observe(outputEl, {childList: true});\n",
       "}}\n",
       "\n",
       "                        })                };                });            </script>        </div>"
      ]
     },
     "metadata": {},
     "output_type": "display_data"
    },
    {
     "data": {
      "application/vnd.plotly.v1+json": {
       "config": {
        "plotlyServerURL": "https://plot.ly"
       },
       "data": [
        {
         "hovertemplate": "Post Hour=%{x}<br>Images Posted=%{y}<extra></extra>",
         "legendgroup": "",
         "line": {
          "color": "#636efa",
          "dash": "solid"
         },
         "mode": "lines",
         "name": "",
         "orientation": "v",
         "showlegend": false,
         "type": "scatter",
         "x": [
          "2021-08-24T15:00:00",
          "2021-08-24T16:00:00",
          "2021-08-24T17:00:00",
          "2021-08-24T18:00:00",
          "2021-08-24T19:00:00",
          "2021-08-24T20:00:00",
          "2021-08-24T21:00:00",
          "2021-08-24T22:00:00",
          "2021-08-24T23:00:00",
          "2021-08-25T00:00:00",
          "2021-08-25T01:00:00",
          "2021-08-25T02:00:00",
          "2021-08-25T03:00:00",
          "2021-08-25T04:00:00",
          "2021-08-25T05:00:00",
          "2021-08-25T06:00:00",
          "2021-08-25T07:00:00",
          "2021-08-25T08:00:00",
          "2021-08-25T09:00:00",
          "2021-08-25T10:00:00",
          "2021-08-25T11:00:00",
          "2021-08-25T12:00:00",
          "2021-08-25T13:00:00",
          "2021-08-25T14:00:00",
          "2021-08-25T15:00:00",
          "2021-08-25T16:00:00",
          "2021-08-25T17:00:00",
          "2021-08-25T18:00:00",
          "2021-08-25T19:00:00",
          "2021-08-25T20:00:00",
          "2021-08-25T21:00:00",
          "2021-08-25T22:00:00",
          "2021-08-25T23:00:00",
          "2021-08-26T00:00:00",
          "2021-08-26T01:00:00",
          "2021-08-26T03:00:00",
          "2021-08-26T04:00:00",
          "2021-08-26T05:00:00",
          "2021-08-26T06:00:00",
          "2021-08-26T07:00:00",
          "2021-08-26T08:00:00",
          "2021-08-26T09:00:00",
          "2021-08-26T10:00:00",
          "2021-08-26T11:00:00",
          "2021-08-26T12:00:00",
          "2021-08-26T13:00:00",
          "2021-08-26T14:00:00",
          "2021-08-26T15:00:00",
          "2021-08-26T16:00:00",
          "2021-08-26T17:00:00",
          "2021-08-26T18:00:00",
          "2021-08-26T19:00:00",
          "2021-08-26T20:00:00",
          "2021-08-26T21:00:00",
          "2021-08-26T22:00:00",
          "2021-08-26T23:00:00",
          "2021-08-27T00:00:00",
          "2021-08-27T01:00:00",
          "2021-08-27T02:00:00",
          "2021-08-27T03:00:00",
          "2021-08-27T04:00:00",
          "2021-08-27T05:00:00",
          "2021-08-27T06:00:00",
          "2021-08-27T07:00:00",
          "2021-08-27T08:00:00",
          "2021-08-27T09:00:00",
          "2021-08-27T10:00:00",
          "2021-08-27T11:00:00",
          "2021-08-27T12:00:00",
          "2021-08-27T13:00:00",
          "2021-08-27T14:00:00",
          "2021-08-27T15:00:00",
          "2021-08-27T16:00:00",
          "2021-08-27T17:00:00",
          "2021-08-27T18:00:00",
          "2021-08-27T19:00:00",
          "2021-08-27T20:00:00",
          "2021-08-27T21:00:00",
          "2021-08-27T22:00:00",
          "2021-08-27T23:00:00",
          "2021-08-28T00:00:00",
          "2021-08-28T01:00:00",
          "2021-08-28T02:00:00",
          "2021-08-28T03:00:00",
          "2021-08-28T04:00:00",
          "2021-08-28T05:00:00",
          "2021-08-28T06:00:00",
          "2021-08-28T07:00:00",
          "2021-08-28T08:00:00",
          "2021-08-28T09:00:00",
          "2021-08-28T10:00:00",
          "2021-08-28T11:00:00",
          "2021-08-28T12:00:00",
          "2021-08-28T13:00:00",
          "2021-08-28T14:00:00",
          "2021-08-28T15:00:00",
          "2021-08-28T16:00:00",
          "2021-08-28T17:00:00",
          "2021-08-28T18:00:00",
          "2021-08-28T19:00:00",
          "2021-08-28T20:00:00",
          "2021-08-28T21:00:00",
          "2021-08-28T22:00:00",
          "2021-08-28T23:00:00",
          "2021-08-29T00:00:00",
          "2021-08-29T01:00:00",
          "2021-08-29T02:00:00",
          "2021-08-29T03:00:00",
          "2021-08-29T04:00:00",
          "2021-08-29T05:00:00",
          "2021-08-29T06:00:00",
          "2021-08-29T07:00:00",
          "2021-08-29T08:00:00",
          "2021-08-29T09:00:00",
          "2021-08-29T10:00:00",
          "2021-08-29T11:00:00",
          "2021-08-29T12:00:00",
          "2021-08-29T13:00:00",
          "2021-08-29T14:00:00",
          "2021-08-29T15:00:00",
          "2021-08-29T16:00:00",
          "2021-08-29T17:00:00",
          "2021-08-29T18:00:00",
          "2021-08-29T19:00:00",
          "2021-08-29T20:00:00",
          "2021-08-29T21:00:00",
          "2021-08-29T22:00:00",
          "2021-08-29T23:00:00",
          "2021-08-30T00:00:00",
          "2021-08-30T01:00:00",
          "2021-08-30T02:00:00",
          "2021-08-30T03:00:00",
          "2021-08-30T04:00:00",
          "2021-08-30T05:00:00",
          "2021-08-30T06:00:00",
          "2021-08-30T07:00:00",
          "2021-08-30T08:00:00",
          "2021-08-30T09:00:00",
          "2021-08-30T10:00:00",
          "2021-08-30T11:00:00",
          "2021-08-30T12:00:00",
          "2021-08-30T13:00:00",
          "2021-08-30T14:00:00",
          "2021-08-30T15:00:00",
          "2021-08-30T16:00:00",
          "2021-08-30T17:00:00",
          "2021-08-30T18:00:00",
          "2021-08-30T19:00:00",
          "2021-08-30T20:00:00",
          "2021-08-30T21:00:00",
          "2021-08-30T22:00:00",
          "2021-08-30T23:00:00",
          "2021-08-31T00:00:00",
          "2021-08-31T01:00:00",
          "2021-08-31T03:00:00",
          "2021-08-31T05:00:00",
          "2021-08-31T06:00:00",
          "2021-08-31T07:00:00",
          "2021-08-31T08:00:00",
          "2021-08-31T09:00:00",
          "2021-08-31T10:00:00",
          "2021-08-31T11:00:00",
          "2021-08-31T12:00:00",
          "2021-08-31T13:00:00",
          "2021-08-31T14:00:00",
          "2021-08-31T15:00:00",
          "2021-08-31T16:00:00",
          "2021-08-31T17:00:00",
          "2021-08-31T18:00:00",
          "2021-08-31T19:00:00",
          "2021-08-31T20:00:00",
          "2021-08-31T21:00:00",
          "2021-08-31T22:00:00",
          "2021-08-31T23:00:00",
          "2021-09-01T00:00:00",
          "2021-09-01T01:00:00",
          "2021-09-01T02:00:00",
          "2021-09-01T04:00:00",
          "2021-09-01T05:00:00",
          "2021-09-01T07:00:00",
          "2021-09-01T08:00:00",
          "2021-09-01T09:00:00",
          "2021-09-01T10:00:00",
          "2021-09-01T11:00:00",
          "2021-09-01T12:00:00",
          "2021-09-01T13:00:00",
          "2021-09-01T14:00:00",
          "2021-09-01T15:00:00",
          "2021-09-01T16:00:00",
          "2021-09-01T17:00:00",
          "2021-09-01T18:00:00",
          "2021-09-01T19:00:00",
          "2021-09-01T20:00:00",
          "2021-09-01T21:00:00",
          "2021-09-01T22:00:00",
          "2021-09-01T23:00:00",
          "2021-09-02T02:00:00",
          "2021-09-02T06:00:00",
          "2021-09-02T07:00:00",
          "2021-09-02T08:00:00",
          "2021-09-02T09:00:00",
          "2021-09-02T10:00:00",
          "2021-09-02T11:00:00",
          "2021-09-02T12:00:00",
          "2021-09-02T13:00:00",
          "2021-09-02T14:00:00",
          "2021-09-02T15:00:00",
          "2021-09-02T16:00:00",
          "2021-09-02T17:00:00",
          "2021-09-02T18:00:00",
          "2021-09-02T19:00:00",
          "2021-09-02T20:00:00",
          "2021-09-02T21:00:00",
          "2021-09-02T22:00:00",
          "2021-09-02T23:00:00",
          "2021-09-03T00:00:00",
          "2021-09-03T02:00:00",
          "2021-09-03T06:00:00",
          "2021-09-03T07:00:00",
          "2021-09-03T08:00:00",
          "2021-09-03T09:00:00",
          "2021-09-03T10:00:00",
          "2021-09-03T11:00:00",
          "2021-09-03T12:00:00",
          "2021-09-03T13:00:00",
          "2021-09-03T14:00:00",
          "2021-09-03T15:00:00",
          "2021-09-03T16:00:00",
          "2021-09-03T17:00:00",
          "2021-09-03T18:00:00",
          "2021-09-03T19:00:00",
          "2021-09-03T20:00:00",
          "2021-09-03T21:00:00",
          "2021-09-03T22:00:00"
         ],
         "xaxis": "x",
         "y": [
          5,
          5,
          2,
          4,
          1,
          2,
          1,
          0,
          3,
          1,
          0,
          1,
          0,
          0,
          3,
          7,
          1,
          3,
          5,
          5,
          10,
          10,
          9,
          9,
          14,
          18,
          10,
          6,
          13,
          22,
          7,
          8,
          15,
          3,
          2,
          1,
          0,
          3,
          2,
          11,
          9,
          15,
          17,
          27,
          12,
          16,
          5,
          8,
          12,
          9,
          16,
          13,
          7,
          18,
          26,
          18,
          11,
          6,
          0,
          0,
          1,
          5,
          6,
          14,
          19,
          26,
          28,
          19,
          38,
          29,
          8,
          14,
          13,
          9,
          33,
          17,
          14,
          22,
          23,
          16,
          18,
          5,
          0,
          3,
          3,
          1,
          5,
          8,
          17,
          23,
          23,
          13,
          21,
          15,
          30,
          19,
          38,
          11,
          16,
          19,
          26,
          33,
          13,
          19,
          14,
          24,
          9,
          11,
          11,
          14,
          11,
          30,
          12,
          18,
          39,
          18,
          32,
          16,
          35,
          29,
          18,
          22,
          19,
          11,
          13,
          25,
          14,
          13,
          2,
          1,
          0,
          0,
          0,
          0,
          2,
          3,
          6,
          13,
          3,
          1,
          2,
          8,
          8,
          7,
          15,
          2,
          0,
          4,
          2,
          3,
          1,
          0,
          0,
          1,
          0,
          0,
          1,
          1,
          0,
          0,
          4,
          4,
          9,
          2,
          4,
          2,
          1,
          3,
          2,
          1,
          0,
          0,
          9,
          0,
          0,
          1,
          0,
          0,
          0,
          0,
          6,
          3,
          0,
          0,
          0,
          1,
          2,
          0,
          14,
          8,
          15,
          10,
          10,
          5,
          14,
          5,
          0,
          0,
          0,
          0,
          1,
          1,
          0,
          0,
          2,
          0,
          0,
          0,
          0,
          1,
          0,
          1,
          2,
          0,
          0,
          0,
          0,
          0,
          0,
          0,
          2,
          2,
          0,
          0,
          0,
          2,
          0,
          0,
          3,
          0,
          0,
          0,
          0,
          0
         ],
         "yaxis": "y"
        }
       ],
       "layout": {
        "legend": {
         "tracegroupgap": 0
        },
        "margin": {
         "t": 60
        },
        "template": {
         "data": {
          "bar": [
           {
            "error_x": {
             "color": "#2a3f5f"
            },
            "error_y": {
             "color": "#2a3f5f"
            },
            "marker": {
             "line": {
              "color": "#E5ECF6",
              "width": 0.5
             }
            },
            "type": "bar"
           }
          ],
          "barpolar": [
           {
            "marker": {
             "line": {
              "color": "#E5ECF6",
              "width": 0.5
             }
            },
            "type": "barpolar"
           }
          ],
          "carpet": [
           {
            "aaxis": {
             "endlinecolor": "#2a3f5f",
             "gridcolor": "white",
             "linecolor": "white",
             "minorgridcolor": "white",
             "startlinecolor": "#2a3f5f"
            },
            "baxis": {
             "endlinecolor": "#2a3f5f",
             "gridcolor": "white",
             "linecolor": "white",
             "minorgridcolor": "white",
             "startlinecolor": "#2a3f5f"
            },
            "type": "carpet"
           }
          ],
          "choropleth": [
           {
            "colorbar": {
             "outlinewidth": 0,
             "ticks": ""
            },
            "type": "choropleth"
           }
          ],
          "contour": [
           {
            "colorbar": {
             "outlinewidth": 0,
             "ticks": ""
            },
            "colorscale": [
             [
              0,
              "#0d0887"
             ],
             [
              0.1111111111111111,
              "#46039f"
             ],
             [
              0.2222222222222222,
              "#7201a8"
             ],
             [
              0.3333333333333333,
              "#9c179e"
             ],
             [
              0.4444444444444444,
              "#bd3786"
             ],
             [
              0.5555555555555556,
              "#d8576b"
             ],
             [
              0.6666666666666666,
              "#ed7953"
             ],
             [
              0.7777777777777778,
              "#fb9f3a"
             ],
             [
              0.8888888888888888,
              "#fdca26"
             ],
             [
              1,
              "#f0f921"
             ]
            ],
            "type": "contour"
           }
          ],
          "contourcarpet": [
           {
            "colorbar": {
             "outlinewidth": 0,
             "ticks": ""
            },
            "type": "contourcarpet"
           }
          ],
          "heatmap": [
           {
            "colorbar": {
             "outlinewidth": 0,
             "ticks": ""
            },
            "colorscale": [
             [
              0,
              "#0d0887"
             ],
             [
              0.1111111111111111,
              "#46039f"
             ],
             [
              0.2222222222222222,
              "#7201a8"
             ],
             [
              0.3333333333333333,
              "#9c179e"
             ],
             [
              0.4444444444444444,
              "#bd3786"
             ],
             [
              0.5555555555555556,
              "#d8576b"
             ],
             [
              0.6666666666666666,
              "#ed7953"
             ],
             [
              0.7777777777777778,
              "#fb9f3a"
             ],
             [
              0.8888888888888888,
              "#fdca26"
             ],
             [
              1,
              "#f0f921"
             ]
            ],
            "type": "heatmap"
           }
          ],
          "heatmapgl": [
           {
            "colorbar": {
             "outlinewidth": 0,
             "ticks": ""
            },
            "colorscale": [
             [
              0,
              "#0d0887"
             ],
             [
              0.1111111111111111,
              "#46039f"
             ],
             [
              0.2222222222222222,
              "#7201a8"
             ],
             [
              0.3333333333333333,
              "#9c179e"
             ],
             [
              0.4444444444444444,
              "#bd3786"
             ],
             [
              0.5555555555555556,
              "#d8576b"
             ],
             [
              0.6666666666666666,
              "#ed7953"
             ],
             [
              0.7777777777777778,
              "#fb9f3a"
             ],
             [
              0.8888888888888888,
              "#fdca26"
             ],
             [
              1,
              "#f0f921"
             ]
            ],
            "type": "heatmapgl"
           }
          ],
          "histogram": [
           {
            "marker": {
             "colorbar": {
              "outlinewidth": 0,
              "ticks": ""
             }
            },
            "type": "histogram"
           }
          ],
          "histogram2d": [
           {
            "colorbar": {
             "outlinewidth": 0,
             "ticks": ""
            },
            "colorscale": [
             [
              0,
              "#0d0887"
             ],
             [
              0.1111111111111111,
              "#46039f"
             ],
             [
              0.2222222222222222,
              "#7201a8"
             ],
             [
              0.3333333333333333,
              "#9c179e"
             ],
             [
              0.4444444444444444,
              "#bd3786"
             ],
             [
              0.5555555555555556,
              "#d8576b"
             ],
             [
              0.6666666666666666,
              "#ed7953"
             ],
             [
              0.7777777777777778,
              "#fb9f3a"
             ],
             [
              0.8888888888888888,
              "#fdca26"
             ],
             [
              1,
              "#f0f921"
             ]
            ],
            "type": "histogram2d"
           }
          ],
          "histogram2dcontour": [
           {
            "colorbar": {
             "outlinewidth": 0,
             "ticks": ""
            },
            "colorscale": [
             [
              0,
              "#0d0887"
             ],
             [
              0.1111111111111111,
              "#46039f"
             ],
             [
              0.2222222222222222,
              "#7201a8"
             ],
             [
              0.3333333333333333,
              "#9c179e"
             ],
             [
              0.4444444444444444,
              "#bd3786"
             ],
             [
              0.5555555555555556,
              "#d8576b"
             ],
             [
              0.6666666666666666,
              "#ed7953"
             ],
             [
              0.7777777777777778,
              "#fb9f3a"
             ],
             [
              0.8888888888888888,
              "#fdca26"
             ],
             [
              1,
              "#f0f921"
             ]
            ],
            "type": "histogram2dcontour"
           }
          ],
          "mesh3d": [
           {
            "colorbar": {
             "outlinewidth": 0,
             "ticks": ""
            },
            "type": "mesh3d"
           }
          ],
          "parcoords": [
           {
            "line": {
             "colorbar": {
              "outlinewidth": 0,
              "ticks": ""
             }
            },
            "type": "parcoords"
           }
          ],
          "pie": [
           {
            "automargin": true,
            "type": "pie"
           }
          ],
          "scatter": [
           {
            "marker": {
             "colorbar": {
              "outlinewidth": 0,
              "ticks": ""
             }
            },
            "type": "scatter"
           }
          ],
          "scatter3d": [
           {
            "line": {
             "colorbar": {
              "outlinewidth": 0,
              "ticks": ""
             }
            },
            "marker": {
             "colorbar": {
              "outlinewidth": 0,
              "ticks": ""
             }
            },
            "type": "scatter3d"
           }
          ],
          "scattercarpet": [
           {
            "marker": {
             "colorbar": {
              "outlinewidth": 0,
              "ticks": ""
             }
            },
            "type": "scattercarpet"
           }
          ],
          "scattergeo": [
           {
            "marker": {
             "colorbar": {
              "outlinewidth": 0,
              "ticks": ""
             }
            },
            "type": "scattergeo"
           }
          ],
          "scattergl": [
           {
            "marker": {
             "colorbar": {
              "outlinewidth": 0,
              "ticks": ""
             }
            },
            "type": "scattergl"
           }
          ],
          "scattermapbox": [
           {
            "marker": {
             "colorbar": {
              "outlinewidth": 0,
              "ticks": ""
             }
            },
            "type": "scattermapbox"
           }
          ],
          "scatterpolar": [
           {
            "marker": {
             "colorbar": {
              "outlinewidth": 0,
              "ticks": ""
             }
            },
            "type": "scatterpolar"
           }
          ],
          "scatterpolargl": [
           {
            "marker": {
             "colorbar": {
              "outlinewidth": 0,
              "ticks": ""
             }
            },
            "type": "scatterpolargl"
           }
          ],
          "scatterternary": [
           {
            "marker": {
             "colorbar": {
              "outlinewidth": 0,
              "ticks": ""
             }
            },
            "type": "scatterternary"
           }
          ],
          "surface": [
           {
            "colorbar": {
             "outlinewidth": 0,
             "ticks": ""
            },
            "colorscale": [
             [
              0,
              "#0d0887"
             ],
             [
              0.1111111111111111,
              "#46039f"
             ],
             [
              0.2222222222222222,
              "#7201a8"
             ],
             [
              0.3333333333333333,
              "#9c179e"
             ],
             [
              0.4444444444444444,
              "#bd3786"
             ],
             [
              0.5555555555555556,
              "#d8576b"
             ],
             [
              0.6666666666666666,
              "#ed7953"
             ],
             [
              0.7777777777777778,
              "#fb9f3a"
             ],
             [
              0.8888888888888888,
              "#fdca26"
             ],
             [
              1,
              "#f0f921"
             ]
            ],
            "type": "surface"
           }
          ],
          "table": [
           {
            "cells": {
             "fill": {
              "color": "#EBF0F8"
             },
             "line": {
              "color": "white"
             }
            },
            "header": {
             "fill": {
              "color": "#C8D4E3"
             },
             "line": {
              "color": "white"
             }
            },
            "type": "table"
           }
          ]
         },
         "layout": {
          "annotationdefaults": {
           "arrowcolor": "#2a3f5f",
           "arrowhead": 0,
           "arrowwidth": 1
          },
          "coloraxis": {
           "colorbar": {
            "outlinewidth": 0,
            "ticks": ""
           }
          },
          "colorscale": {
           "diverging": [
            [
             0,
             "#8e0152"
            ],
            [
             0.1,
             "#c51b7d"
            ],
            [
             0.2,
             "#de77ae"
            ],
            [
             0.3,
             "#f1b6da"
            ],
            [
             0.4,
             "#fde0ef"
            ],
            [
             0.5,
             "#f7f7f7"
            ],
            [
             0.6,
             "#e6f5d0"
            ],
            [
             0.7,
             "#b8e186"
            ],
            [
             0.8,
             "#7fbc41"
            ],
            [
             0.9,
             "#4d9221"
            ],
            [
             1,
             "#276419"
            ]
           ],
           "sequential": [
            [
             0,
             "#0d0887"
            ],
            [
             0.1111111111111111,
             "#46039f"
            ],
            [
             0.2222222222222222,
             "#7201a8"
            ],
            [
             0.3333333333333333,
             "#9c179e"
            ],
            [
             0.4444444444444444,
             "#bd3786"
            ],
            [
             0.5555555555555556,
             "#d8576b"
            ],
            [
             0.6666666666666666,
             "#ed7953"
            ],
            [
             0.7777777777777778,
             "#fb9f3a"
            ],
            [
             0.8888888888888888,
             "#fdca26"
            ],
            [
             1,
             "#f0f921"
            ]
           ],
           "sequentialminus": [
            [
             0,
             "#0d0887"
            ],
            [
             0.1111111111111111,
             "#46039f"
            ],
            [
             0.2222222222222222,
             "#7201a8"
            ],
            [
             0.3333333333333333,
             "#9c179e"
            ],
            [
             0.4444444444444444,
             "#bd3786"
            ],
            [
             0.5555555555555556,
             "#d8576b"
            ],
            [
             0.6666666666666666,
             "#ed7953"
            ],
            [
             0.7777777777777778,
             "#fb9f3a"
            ],
            [
             0.8888888888888888,
             "#fdca26"
            ],
            [
             1,
             "#f0f921"
            ]
           ]
          },
          "colorway": [
           "#636efa",
           "#EF553B",
           "#00cc96",
           "#ab63fa",
           "#FFA15A",
           "#19d3f3",
           "#FF6692",
           "#B6E880",
           "#FF97FF",
           "#FECB52"
          ],
          "font": {
           "color": "#2a3f5f"
          },
          "geo": {
           "bgcolor": "white",
           "lakecolor": "white",
           "landcolor": "#E5ECF6",
           "showlakes": true,
           "showland": true,
           "subunitcolor": "white"
          },
          "hoverlabel": {
           "align": "left"
          },
          "hovermode": "closest",
          "mapbox": {
           "style": "light"
          },
          "paper_bgcolor": "white",
          "plot_bgcolor": "#E5ECF6",
          "polar": {
           "angularaxis": {
            "gridcolor": "white",
            "linecolor": "white",
            "ticks": ""
           },
           "bgcolor": "#E5ECF6",
           "radialaxis": {
            "gridcolor": "white",
            "linecolor": "white",
            "ticks": ""
           }
          },
          "scene": {
           "xaxis": {
            "backgroundcolor": "#E5ECF6",
            "gridcolor": "white",
            "gridwidth": 2,
            "linecolor": "white",
            "showbackground": true,
            "ticks": "",
            "zerolinecolor": "white"
           },
           "yaxis": {
            "backgroundcolor": "#E5ECF6",
            "gridcolor": "white",
            "gridwidth": 2,
            "linecolor": "white",
            "showbackground": true,
            "ticks": "",
            "zerolinecolor": "white"
           },
           "zaxis": {
            "backgroundcolor": "#E5ECF6",
            "gridcolor": "white",
            "gridwidth": 2,
            "linecolor": "white",
            "showbackground": true,
            "ticks": "",
            "zerolinecolor": "white"
           }
          },
          "shapedefaults": {
           "line": {
            "color": "#2a3f5f"
           }
          },
          "ternary": {
           "aaxis": {
            "gridcolor": "white",
            "linecolor": "white",
            "ticks": ""
           },
           "baxis": {
            "gridcolor": "white",
            "linecolor": "white",
            "ticks": ""
           },
           "bgcolor": "#E5ECF6",
           "caxis": {
            "gridcolor": "white",
            "linecolor": "white",
            "ticks": ""
           }
          },
          "title": {
           "x": 0.05
          },
          "xaxis": {
           "automargin": true,
           "gridcolor": "white",
           "linecolor": "white",
           "ticks": "",
           "title": {
            "standoff": 15
           },
           "zerolinecolor": "white",
           "zerolinewidth": 2
          },
          "yaxis": {
           "automargin": true,
           "gridcolor": "white",
           "linecolor": "white",
           "ticks": "",
           "title": {
            "standoff": 15
           },
           "zerolinecolor": "white",
           "zerolinewidth": 2
          }
         }
        },
        "xaxis": {
         "anchor": "y",
         "domain": [
          0,
          1
         ],
         "title": {
          "text": "Post Hour"
         }
        },
        "yaxis": {
         "anchor": "x",
         "domain": [
          0,
          1
         ],
         "title": {
          "text": "Images Posted"
         }
        }
       }
      },
      "text/html": [
       "<div>                            <div id=\"a072c1bc-988a-4222-8972-1495955ee798\" class=\"plotly-graph-div\" style=\"height:525px; width:100%;\"></div>            <script type=\"text/javascript\">                require([\"plotly\"], function(Plotly) {                    window.PLOTLYENV=window.PLOTLYENV || {};                                    if (document.getElementById(\"a072c1bc-988a-4222-8972-1495955ee798\")) {                    Plotly.newPlot(                        \"a072c1bc-988a-4222-8972-1495955ee798\",                        [{\"hovertemplate\": \"Post Hour=%{x}<br>Images Posted=%{y}<extra></extra>\", \"legendgroup\": \"\", \"line\": {\"color\": \"#636efa\", \"dash\": \"solid\"}, \"mode\": \"lines\", \"name\": \"\", \"orientation\": \"v\", \"showlegend\": false, \"type\": \"scatter\", \"x\": [\"2021-08-24T15:00:00\", \"2021-08-24T16:00:00\", \"2021-08-24T17:00:00\", \"2021-08-24T18:00:00\", \"2021-08-24T19:00:00\", \"2021-08-24T20:00:00\", \"2021-08-24T21:00:00\", \"2021-08-24T22:00:00\", \"2021-08-24T23:00:00\", \"2021-08-25T00:00:00\", \"2021-08-25T01:00:00\", \"2021-08-25T02:00:00\", \"2021-08-25T03:00:00\", \"2021-08-25T04:00:00\", \"2021-08-25T05:00:00\", \"2021-08-25T06:00:00\", \"2021-08-25T07:00:00\", \"2021-08-25T08:00:00\", \"2021-08-25T09:00:00\", \"2021-08-25T10:00:00\", \"2021-08-25T11:00:00\", \"2021-08-25T12:00:00\", \"2021-08-25T13:00:00\", \"2021-08-25T14:00:00\", \"2021-08-25T15:00:00\", \"2021-08-25T16:00:00\", \"2021-08-25T17:00:00\", \"2021-08-25T18:00:00\", \"2021-08-25T19:00:00\", \"2021-08-25T20:00:00\", \"2021-08-25T21:00:00\", \"2021-08-25T22:00:00\", \"2021-08-25T23:00:00\", \"2021-08-26T00:00:00\", \"2021-08-26T01:00:00\", \"2021-08-26T03:00:00\", \"2021-08-26T04:00:00\", \"2021-08-26T05:00:00\", \"2021-08-26T06:00:00\", \"2021-08-26T07:00:00\", \"2021-08-26T08:00:00\", \"2021-08-26T09:00:00\", \"2021-08-26T10:00:00\", \"2021-08-26T11:00:00\", \"2021-08-26T12:00:00\", \"2021-08-26T13:00:00\", \"2021-08-26T14:00:00\", \"2021-08-26T15:00:00\", \"2021-08-26T16:00:00\", \"2021-08-26T17:00:00\", \"2021-08-26T18:00:00\", \"2021-08-26T19:00:00\", \"2021-08-26T20:00:00\", \"2021-08-26T21:00:00\", \"2021-08-26T22:00:00\", \"2021-08-26T23:00:00\", \"2021-08-27T00:00:00\", \"2021-08-27T01:00:00\", \"2021-08-27T02:00:00\", \"2021-08-27T03:00:00\", \"2021-08-27T04:00:00\", \"2021-08-27T05:00:00\", \"2021-08-27T06:00:00\", \"2021-08-27T07:00:00\", \"2021-08-27T08:00:00\", \"2021-08-27T09:00:00\", \"2021-08-27T10:00:00\", \"2021-08-27T11:00:00\", \"2021-08-27T12:00:00\", \"2021-08-27T13:00:00\", \"2021-08-27T14:00:00\", \"2021-08-27T15:00:00\", \"2021-08-27T16:00:00\", \"2021-08-27T17:00:00\", \"2021-08-27T18:00:00\", \"2021-08-27T19:00:00\", \"2021-08-27T20:00:00\", \"2021-08-27T21:00:00\", \"2021-08-27T22:00:00\", \"2021-08-27T23:00:00\", \"2021-08-28T00:00:00\", \"2021-08-28T01:00:00\", \"2021-08-28T02:00:00\", \"2021-08-28T03:00:00\", \"2021-08-28T04:00:00\", \"2021-08-28T05:00:00\", \"2021-08-28T06:00:00\", \"2021-08-28T07:00:00\", \"2021-08-28T08:00:00\", \"2021-08-28T09:00:00\", \"2021-08-28T10:00:00\", \"2021-08-28T11:00:00\", \"2021-08-28T12:00:00\", \"2021-08-28T13:00:00\", \"2021-08-28T14:00:00\", \"2021-08-28T15:00:00\", \"2021-08-28T16:00:00\", \"2021-08-28T17:00:00\", \"2021-08-28T18:00:00\", \"2021-08-28T19:00:00\", \"2021-08-28T20:00:00\", \"2021-08-28T21:00:00\", \"2021-08-28T22:00:00\", \"2021-08-28T23:00:00\", \"2021-08-29T00:00:00\", \"2021-08-29T01:00:00\", \"2021-08-29T02:00:00\", \"2021-08-29T03:00:00\", \"2021-08-29T04:00:00\", \"2021-08-29T05:00:00\", \"2021-08-29T06:00:00\", \"2021-08-29T07:00:00\", \"2021-08-29T08:00:00\", \"2021-08-29T09:00:00\", \"2021-08-29T10:00:00\", \"2021-08-29T11:00:00\", \"2021-08-29T12:00:00\", \"2021-08-29T13:00:00\", \"2021-08-29T14:00:00\", \"2021-08-29T15:00:00\", \"2021-08-29T16:00:00\", \"2021-08-29T17:00:00\", \"2021-08-29T18:00:00\", \"2021-08-29T19:00:00\", \"2021-08-29T20:00:00\", \"2021-08-29T21:00:00\", \"2021-08-29T22:00:00\", \"2021-08-29T23:00:00\", \"2021-08-30T00:00:00\", \"2021-08-30T01:00:00\", \"2021-08-30T02:00:00\", \"2021-08-30T03:00:00\", \"2021-08-30T04:00:00\", \"2021-08-30T05:00:00\", \"2021-08-30T06:00:00\", \"2021-08-30T07:00:00\", \"2021-08-30T08:00:00\", \"2021-08-30T09:00:00\", \"2021-08-30T10:00:00\", \"2021-08-30T11:00:00\", \"2021-08-30T12:00:00\", \"2021-08-30T13:00:00\", \"2021-08-30T14:00:00\", \"2021-08-30T15:00:00\", \"2021-08-30T16:00:00\", \"2021-08-30T17:00:00\", \"2021-08-30T18:00:00\", \"2021-08-30T19:00:00\", \"2021-08-30T20:00:00\", \"2021-08-30T21:00:00\", \"2021-08-30T22:00:00\", \"2021-08-30T23:00:00\", \"2021-08-31T00:00:00\", \"2021-08-31T01:00:00\", \"2021-08-31T03:00:00\", \"2021-08-31T05:00:00\", \"2021-08-31T06:00:00\", \"2021-08-31T07:00:00\", \"2021-08-31T08:00:00\", \"2021-08-31T09:00:00\", \"2021-08-31T10:00:00\", \"2021-08-31T11:00:00\", \"2021-08-31T12:00:00\", \"2021-08-31T13:00:00\", \"2021-08-31T14:00:00\", \"2021-08-31T15:00:00\", \"2021-08-31T16:00:00\", \"2021-08-31T17:00:00\", \"2021-08-31T18:00:00\", \"2021-08-31T19:00:00\", \"2021-08-31T20:00:00\", \"2021-08-31T21:00:00\", \"2021-08-31T22:00:00\", \"2021-08-31T23:00:00\", \"2021-09-01T00:00:00\", \"2021-09-01T01:00:00\", \"2021-09-01T02:00:00\", \"2021-09-01T04:00:00\", \"2021-09-01T05:00:00\", \"2021-09-01T07:00:00\", \"2021-09-01T08:00:00\", \"2021-09-01T09:00:00\", \"2021-09-01T10:00:00\", \"2021-09-01T11:00:00\", \"2021-09-01T12:00:00\", \"2021-09-01T13:00:00\", \"2021-09-01T14:00:00\", \"2021-09-01T15:00:00\", \"2021-09-01T16:00:00\", \"2021-09-01T17:00:00\", \"2021-09-01T18:00:00\", \"2021-09-01T19:00:00\", \"2021-09-01T20:00:00\", \"2021-09-01T21:00:00\", \"2021-09-01T22:00:00\", \"2021-09-01T23:00:00\", \"2021-09-02T02:00:00\", \"2021-09-02T06:00:00\", \"2021-09-02T07:00:00\", \"2021-09-02T08:00:00\", \"2021-09-02T09:00:00\", \"2021-09-02T10:00:00\", \"2021-09-02T11:00:00\", \"2021-09-02T12:00:00\", \"2021-09-02T13:00:00\", \"2021-09-02T14:00:00\", \"2021-09-02T15:00:00\", \"2021-09-02T16:00:00\", \"2021-09-02T17:00:00\", \"2021-09-02T18:00:00\", \"2021-09-02T19:00:00\", \"2021-09-02T20:00:00\", \"2021-09-02T21:00:00\", \"2021-09-02T22:00:00\", \"2021-09-02T23:00:00\", \"2021-09-03T00:00:00\", \"2021-09-03T02:00:00\", \"2021-09-03T06:00:00\", \"2021-09-03T07:00:00\", \"2021-09-03T08:00:00\", \"2021-09-03T09:00:00\", \"2021-09-03T10:00:00\", \"2021-09-03T11:00:00\", \"2021-09-03T12:00:00\", \"2021-09-03T13:00:00\", \"2021-09-03T14:00:00\", \"2021-09-03T15:00:00\", \"2021-09-03T16:00:00\", \"2021-09-03T17:00:00\", \"2021-09-03T18:00:00\", \"2021-09-03T19:00:00\", \"2021-09-03T20:00:00\", \"2021-09-03T21:00:00\", \"2021-09-03T22:00:00\"], \"xaxis\": \"x\", \"y\": [5, 5, 2, 4, 1, 2, 1, 0, 3, 1, 0, 1, 0, 0, 3, 7, 1, 3, 5, 5, 10, 10, 9, 9, 14, 18, 10, 6, 13, 22, 7, 8, 15, 3, 2, 1, 0, 3, 2, 11, 9, 15, 17, 27, 12, 16, 5, 8, 12, 9, 16, 13, 7, 18, 26, 18, 11, 6, 0, 0, 1, 5, 6, 14, 19, 26, 28, 19, 38, 29, 8, 14, 13, 9, 33, 17, 14, 22, 23, 16, 18, 5, 0, 3, 3, 1, 5, 8, 17, 23, 23, 13, 21, 15, 30, 19, 38, 11, 16, 19, 26, 33, 13, 19, 14, 24, 9, 11, 11, 14, 11, 30, 12, 18, 39, 18, 32, 16, 35, 29, 18, 22, 19, 11, 13, 25, 14, 13, 2, 1, 0, 0, 0, 0, 2, 3, 6, 13, 3, 1, 2, 8, 8, 7, 15, 2, 0, 4, 2, 3, 1, 0, 0, 1, 0, 0, 1, 1, 0, 0, 4, 4, 9, 2, 4, 2, 1, 3, 2, 1, 0, 0, 9, 0, 0, 1, 0, 0, 0, 0, 6, 3, 0, 0, 0, 1, 2, 0, 14, 8, 15, 10, 10, 5, 14, 5, 0, 0, 0, 0, 1, 1, 0, 0, 2, 0, 0, 0, 0, 1, 0, 1, 2, 0, 0, 0, 0, 0, 0, 0, 2, 2, 0, 0, 0, 2, 0, 0, 3, 0, 0, 0, 0, 0], \"yaxis\": \"y\"}],                        {\"legend\": {\"tracegroupgap\": 0}, \"margin\": {\"t\": 60}, \"template\": {\"data\": {\"bar\": [{\"error_x\": {\"color\": \"#2a3f5f\"}, \"error_y\": {\"color\": \"#2a3f5f\"}, \"marker\": {\"line\": {\"color\": \"#E5ECF6\", \"width\": 0.5}}, \"type\": \"bar\"}], \"barpolar\": [{\"marker\": {\"line\": {\"color\": \"#E5ECF6\", \"width\": 0.5}}, \"type\": \"barpolar\"}], \"carpet\": [{\"aaxis\": {\"endlinecolor\": \"#2a3f5f\", \"gridcolor\": \"white\", \"linecolor\": \"white\", \"minorgridcolor\": \"white\", \"startlinecolor\": \"#2a3f5f\"}, \"baxis\": {\"endlinecolor\": \"#2a3f5f\", \"gridcolor\": \"white\", \"linecolor\": \"white\", \"minorgridcolor\": \"white\", \"startlinecolor\": \"#2a3f5f\"}, \"type\": \"carpet\"}], \"choropleth\": [{\"colorbar\": {\"outlinewidth\": 0, \"ticks\": \"\"}, \"type\": \"choropleth\"}], \"contour\": [{\"colorbar\": {\"outlinewidth\": 0, \"ticks\": \"\"}, \"colorscale\": [[0.0, \"#0d0887\"], [0.1111111111111111, \"#46039f\"], [0.2222222222222222, \"#7201a8\"], [0.3333333333333333, \"#9c179e\"], [0.4444444444444444, \"#bd3786\"], [0.5555555555555556, \"#d8576b\"], [0.6666666666666666, \"#ed7953\"], [0.7777777777777778, \"#fb9f3a\"], [0.8888888888888888, \"#fdca26\"], [1.0, \"#f0f921\"]], \"type\": \"contour\"}], \"contourcarpet\": [{\"colorbar\": {\"outlinewidth\": 0, \"ticks\": \"\"}, \"type\": \"contourcarpet\"}], \"heatmap\": [{\"colorbar\": {\"outlinewidth\": 0, \"ticks\": \"\"}, \"colorscale\": [[0.0, \"#0d0887\"], [0.1111111111111111, \"#46039f\"], [0.2222222222222222, \"#7201a8\"], [0.3333333333333333, \"#9c179e\"], [0.4444444444444444, \"#bd3786\"], [0.5555555555555556, \"#d8576b\"], [0.6666666666666666, \"#ed7953\"], [0.7777777777777778, \"#fb9f3a\"], [0.8888888888888888, \"#fdca26\"], [1.0, \"#f0f921\"]], \"type\": \"heatmap\"}], \"heatmapgl\": [{\"colorbar\": {\"outlinewidth\": 0, \"ticks\": \"\"}, \"colorscale\": [[0.0, \"#0d0887\"], [0.1111111111111111, \"#46039f\"], [0.2222222222222222, \"#7201a8\"], [0.3333333333333333, \"#9c179e\"], [0.4444444444444444, \"#bd3786\"], [0.5555555555555556, \"#d8576b\"], [0.6666666666666666, \"#ed7953\"], [0.7777777777777778, \"#fb9f3a\"], [0.8888888888888888, \"#fdca26\"], [1.0, \"#f0f921\"]], \"type\": \"heatmapgl\"}], \"histogram\": [{\"marker\": {\"colorbar\": {\"outlinewidth\": 0, \"ticks\": \"\"}}, \"type\": \"histogram\"}], \"histogram2d\": [{\"colorbar\": {\"outlinewidth\": 0, \"ticks\": \"\"}, \"colorscale\": [[0.0, \"#0d0887\"], [0.1111111111111111, \"#46039f\"], [0.2222222222222222, \"#7201a8\"], [0.3333333333333333, \"#9c179e\"], [0.4444444444444444, \"#bd3786\"], [0.5555555555555556, \"#d8576b\"], [0.6666666666666666, \"#ed7953\"], [0.7777777777777778, \"#fb9f3a\"], [0.8888888888888888, \"#fdca26\"], [1.0, \"#f0f921\"]], \"type\": \"histogram2d\"}], \"histogram2dcontour\": [{\"colorbar\": {\"outlinewidth\": 0, \"ticks\": \"\"}, \"colorscale\": [[0.0, \"#0d0887\"], [0.1111111111111111, \"#46039f\"], [0.2222222222222222, \"#7201a8\"], [0.3333333333333333, \"#9c179e\"], [0.4444444444444444, \"#bd3786\"], [0.5555555555555556, \"#d8576b\"], [0.6666666666666666, \"#ed7953\"], [0.7777777777777778, \"#fb9f3a\"], [0.8888888888888888, \"#fdca26\"], [1.0, \"#f0f921\"]], \"type\": \"histogram2dcontour\"}], \"mesh3d\": [{\"colorbar\": {\"outlinewidth\": 0, \"ticks\": \"\"}, \"type\": \"mesh3d\"}], \"parcoords\": [{\"line\": {\"colorbar\": {\"outlinewidth\": 0, \"ticks\": \"\"}}, \"type\": \"parcoords\"}], \"pie\": [{\"automargin\": true, \"type\": \"pie\"}], \"scatter\": [{\"marker\": {\"colorbar\": {\"outlinewidth\": 0, \"ticks\": \"\"}}, \"type\": \"scatter\"}], \"scatter3d\": [{\"line\": {\"colorbar\": {\"outlinewidth\": 0, \"ticks\": \"\"}}, \"marker\": {\"colorbar\": {\"outlinewidth\": 0, \"ticks\": \"\"}}, \"type\": \"scatter3d\"}], \"scattercarpet\": [{\"marker\": {\"colorbar\": {\"outlinewidth\": 0, \"ticks\": \"\"}}, \"type\": \"scattercarpet\"}], \"scattergeo\": [{\"marker\": {\"colorbar\": {\"outlinewidth\": 0, \"ticks\": \"\"}}, \"type\": \"scattergeo\"}], \"scattergl\": [{\"marker\": {\"colorbar\": {\"outlinewidth\": 0, \"ticks\": \"\"}}, \"type\": \"scattergl\"}], \"scattermapbox\": [{\"marker\": {\"colorbar\": {\"outlinewidth\": 0, \"ticks\": \"\"}}, \"type\": \"scattermapbox\"}], \"scatterpolar\": [{\"marker\": {\"colorbar\": {\"outlinewidth\": 0, \"ticks\": \"\"}}, \"type\": \"scatterpolar\"}], \"scatterpolargl\": [{\"marker\": {\"colorbar\": {\"outlinewidth\": 0, \"ticks\": \"\"}}, \"type\": \"scatterpolargl\"}], \"scatterternary\": [{\"marker\": {\"colorbar\": {\"outlinewidth\": 0, \"ticks\": \"\"}}, \"type\": \"scatterternary\"}], \"surface\": [{\"colorbar\": {\"outlinewidth\": 0, \"ticks\": \"\"}, \"colorscale\": [[0.0, \"#0d0887\"], [0.1111111111111111, \"#46039f\"], [0.2222222222222222, \"#7201a8\"], [0.3333333333333333, \"#9c179e\"], [0.4444444444444444, \"#bd3786\"], [0.5555555555555556, \"#d8576b\"], [0.6666666666666666, \"#ed7953\"], [0.7777777777777778, \"#fb9f3a\"], [0.8888888888888888, \"#fdca26\"], [1.0, \"#f0f921\"]], \"type\": \"surface\"}], \"table\": [{\"cells\": {\"fill\": {\"color\": \"#EBF0F8\"}, \"line\": {\"color\": \"white\"}}, \"header\": {\"fill\": {\"color\": \"#C8D4E3\"}, \"line\": {\"color\": \"white\"}}, \"type\": \"table\"}]}, \"layout\": {\"annotationdefaults\": {\"arrowcolor\": \"#2a3f5f\", \"arrowhead\": 0, \"arrowwidth\": 1}, \"coloraxis\": {\"colorbar\": {\"outlinewidth\": 0, \"ticks\": \"\"}}, \"colorscale\": {\"diverging\": [[0, \"#8e0152\"], [0.1, \"#c51b7d\"], [0.2, \"#de77ae\"], [0.3, \"#f1b6da\"], [0.4, \"#fde0ef\"], [0.5, \"#f7f7f7\"], [0.6, \"#e6f5d0\"], [0.7, \"#b8e186\"], [0.8, \"#7fbc41\"], [0.9, \"#4d9221\"], [1, \"#276419\"]], \"sequential\": [[0.0, \"#0d0887\"], [0.1111111111111111, \"#46039f\"], [0.2222222222222222, \"#7201a8\"], [0.3333333333333333, \"#9c179e\"], [0.4444444444444444, \"#bd3786\"], [0.5555555555555556, \"#d8576b\"], [0.6666666666666666, \"#ed7953\"], [0.7777777777777778, \"#fb9f3a\"], [0.8888888888888888, \"#fdca26\"], [1.0, \"#f0f921\"]], \"sequentialminus\": [[0.0, \"#0d0887\"], [0.1111111111111111, \"#46039f\"], [0.2222222222222222, \"#7201a8\"], [0.3333333333333333, \"#9c179e\"], [0.4444444444444444, \"#bd3786\"], [0.5555555555555556, \"#d8576b\"], [0.6666666666666666, \"#ed7953\"], [0.7777777777777778, \"#fb9f3a\"], [0.8888888888888888, \"#fdca26\"], [1.0, \"#f0f921\"]]}, \"colorway\": [\"#636efa\", \"#EF553B\", \"#00cc96\", \"#ab63fa\", \"#FFA15A\", \"#19d3f3\", \"#FF6692\", \"#B6E880\", \"#FF97FF\", \"#FECB52\"], \"font\": {\"color\": \"#2a3f5f\"}, \"geo\": {\"bgcolor\": \"white\", \"lakecolor\": \"white\", \"landcolor\": \"#E5ECF6\", \"showlakes\": true, \"showland\": true, \"subunitcolor\": \"white\"}, \"hoverlabel\": {\"align\": \"left\"}, \"hovermode\": \"closest\", \"mapbox\": {\"style\": \"light\"}, \"paper_bgcolor\": \"white\", \"plot_bgcolor\": \"#E5ECF6\", \"polar\": {\"angularaxis\": {\"gridcolor\": \"white\", \"linecolor\": \"white\", \"ticks\": \"\"}, \"bgcolor\": \"#E5ECF6\", \"radialaxis\": {\"gridcolor\": \"white\", \"linecolor\": \"white\", \"ticks\": \"\"}}, \"scene\": {\"xaxis\": {\"backgroundcolor\": \"#E5ECF6\", \"gridcolor\": \"white\", \"gridwidth\": 2, \"linecolor\": \"white\", \"showbackground\": true, \"ticks\": \"\", \"zerolinecolor\": \"white\"}, \"yaxis\": {\"backgroundcolor\": \"#E5ECF6\", \"gridcolor\": \"white\", \"gridwidth\": 2, \"linecolor\": \"white\", \"showbackground\": true, \"ticks\": \"\", \"zerolinecolor\": \"white\"}, \"zaxis\": {\"backgroundcolor\": \"#E5ECF6\", \"gridcolor\": \"white\", \"gridwidth\": 2, \"linecolor\": \"white\", \"showbackground\": true, \"ticks\": \"\", \"zerolinecolor\": \"white\"}}, \"shapedefaults\": {\"line\": {\"color\": \"#2a3f5f\"}}, \"ternary\": {\"aaxis\": {\"gridcolor\": \"white\", \"linecolor\": \"white\", \"ticks\": \"\"}, \"baxis\": {\"gridcolor\": \"white\", \"linecolor\": \"white\", \"ticks\": \"\"}, \"bgcolor\": \"#E5ECF6\", \"caxis\": {\"gridcolor\": \"white\", \"linecolor\": \"white\", \"ticks\": \"\"}}, \"title\": {\"x\": 0.05}, \"xaxis\": {\"automargin\": true, \"gridcolor\": \"white\", \"linecolor\": \"white\", \"ticks\": \"\", \"title\": {\"standoff\": 15}, \"zerolinecolor\": \"white\", \"zerolinewidth\": 2}, \"yaxis\": {\"automargin\": true, \"gridcolor\": \"white\", \"linecolor\": \"white\", \"ticks\": \"\", \"title\": {\"standoff\": 15}, \"zerolinecolor\": \"white\", \"zerolinewidth\": 2}}}, \"xaxis\": {\"anchor\": \"y\", \"domain\": [0.0, 1.0], \"title\": {\"text\": \"Post Hour\"}}, \"yaxis\": {\"anchor\": \"x\", \"domain\": [0.0, 1.0], \"title\": {\"text\": \"Images Posted\"}}},                        {\"responsive\": true}                    ).then(function(){\n",
       "                            \n",
       "var gd = document.getElementById('a072c1bc-988a-4222-8972-1495955ee798');\n",
       "var x = new MutationObserver(function (mutations, observer) {{\n",
       "        var display = window.getComputedStyle(gd).display;\n",
       "        if (!display || display === 'none') {{\n",
       "            console.log([gd, 'removed!']);\n",
       "            Plotly.purge(gd);\n",
       "            observer.disconnect();\n",
       "        }}\n",
       "}});\n",
       "\n",
       "// Listen for the removal of the full notebook cells\n",
       "var notebookContainer = gd.closest('#notebook-container');\n",
       "if (notebookContainer) {{\n",
       "    x.observe(notebookContainer, {childList: true});\n",
       "}}\n",
       "\n",
       "// Listen for the clearing of the current output cell\n",
       "var outputEl = gd.closest('.output');\n",
       "if (outputEl) {{\n",
       "    x.observe(outputEl, {childList: true});\n",
       "}}\n",
       "\n",
       "                        })                };                });            </script>        </div>"
      ]
     },
     "metadata": {},
     "output_type": "display_data"
    },
    {
     "data": {
      "application/vnd.plotly.v1+json": {
       "config": {
        "plotlyServerURL": "https://plot.ly"
       },
       "data": [
        {
         "hovertemplate": "Post Hour=%{x}<br>Total Thumbs up=%{y}<extra></extra>",
         "legendgroup": "",
         "line": {
          "color": "#636efa",
          "dash": "solid"
         },
         "mode": "lines",
         "name": "",
         "orientation": "v",
         "showlegend": false,
         "type": "scatter",
         "x": [
          "2021-08-24T15:00:00",
          "2021-08-24T16:00:00",
          "2021-08-24T17:00:00",
          "2021-08-24T18:00:00",
          "2021-08-24T19:00:00",
          "2021-08-24T20:00:00",
          "2021-08-24T21:00:00",
          "2021-08-24T22:00:00",
          "2021-08-24T23:00:00",
          "2021-08-25T00:00:00",
          "2021-08-25T01:00:00",
          "2021-08-25T02:00:00",
          "2021-08-25T03:00:00",
          "2021-08-25T04:00:00",
          "2021-08-25T05:00:00",
          "2021-08-25T06:00:00",
          "2021-08-25T07:00:00",
          "2021-08-25T08:00:00",
          "2021-08-25T09:00:00",
          "2021-08-25T10:00:00",
          "2021-08-25T11:00:00",
          "2021-08-25T12:00:00",
          "2021-08-25T13:00:00",
          "2021-08-25T14:00:00",
          "2021-08-25T15:00:00",
          "2021-08-25T16:00:00",
          "2021-08-25T17:00:00",
          "2021-08-25T18:00:00",
          "2021-08-25T19:00:00",
          "2021-08-25T20:00:00",
          "2021-08-25T21:00:00",
          "2021-08-25T22:00:00",
          "2021-08-25T23:00:00",
          "2021-08-26T00:00:00",
          "2021-08-26T01:00:00",
          "2021-08-26T03:00:00",
          "2021-08-26T04:00:00",
          "2021-08-26T05:00:00",
          "2021-08-26T06:00:00",
          "2021-08-26T07:00:00",
          "2021-08-26T08:00:00",
          "2021-08-26T09:00:00",
          "2021-08-26T10:00:00",
          "2021-08-26T11:00:00",
          "2021-08-26T12:00:00",
          "2021-08-26T13:00:00",
          "2021-08-26T14:00:00",
          "2021-08-26T15:00:00",
          "2021-08-26T16:00:00",
          "2021-08-26T17:00:00",
          "2021-08-26T18:00:00",
          "2021-08-26T19:00:00",
          "2021-08-26T20:00:00",
          "2021-08-26T21:00:00",
          "2021-08-26T22:00:00",
          "2021-08-26T23:00:00",
          "2021-08-27T00:00:00",
          "2021-08-27T01:00:00",
          "2021-08-27T02:00:00",
          "2021-08-27T03:00:00",
          "2021-08-27T04:00:00",
          "2021-08-27T05:00:00",
          "2021-08-27T06:00:00",
          "2021-08-27T07:00:00",
          "2021-08-27T08:00:00",
          "2021-08-27T09:00:00",
          "2021-08-27T10:00:00",
          "2021-08-27T11:00:00",
          "2021-08-27T12:00:00",
          "2021-08-27T13:00:00",
          "2021-08-27T14:00:00",
          "2021-08-27T15:00:00",
          "2021-08-27T16:00:00",
          "2021-08-27T17:00:00",
          "2021-08-27T18:00:00",
          "2021-08-27T19:00:00",
          "2021-08-27T20:00:00",
          "2021-08-27T21:00:00",
          "2021-08-27T22:00:00",
          "2021-08-27T23:00:00",
          "2021-08-28T00:00:00",
          "2021-08-28T01:00:00",
          "2021-08-28T02:00:00",
          "2021-08-28T03:00:00",
          "2021-08-28T04:00:00",
          "2021-08-28T05:00:00",
          "2021-08-28T06:00:00",
          "2021-08-28T07:00:00",
          "2021-08-28T08:00:00",
          "2021-08-28T09:00:00",
          "2021-08-28T10:00:00",
          "2021-08-28T11:00:00",
          "2021-08-28T12:00:00",
          "2021-08-28T13:00:00",
          "2021-08-28T14:00:00",
          "2021-08-28T15:00:00",
          "2021-08-28T16:00:00",
          "2021-08-28T17:00:00",
          "2021-08-28T18:00:00",
          "2021-08-28T19:00:00",
          "2021-08-28T20:00:00",
          "2021-08-28T21:00:00",
          "2021-08-28T22:00:00",
          "2021-08-28T23:00:00",
          "2021-08-29T00:00:00",
          "2021-08-29T01:00:00",
          "2021-08-29T02:00:00",
          "2021-08-29T03:00:00",
          "2021-08-29T04:00:00",
          "2021-08-29T05:00:00",
          "2021-08-29T06:00:00",
          "2021-08-29T07:00:00",
          "2021-08-29T08:00:00",
          "2021-08-29T09:00:00",
          "2021-08-29T10:00:00",
          "2021-08-29T11:00:00",
          "2021-08-29T12:00:00",
          "2021-08-29T13:00:00",
          "2021-08-29T14:00:00",
          "2021-08-29T15:00:00",
          "2021-08-29T16:00:00",
          "2021-08-29T17:00:00",
          "2021-08-29T18:00:00",
          "2021-08-29T19:00:00",
          "2021-08-29T20:00:00",
          "2021-08-29T21:00:00",
          "2021-08-29T22:00:00",
          "2021-08-29T23:00:00",
          "2021-08-30T00:00:00",
          "2021-08-30T01:00:00",
          "2021-08-30T02:00:00",
          "2021-08-30T03:00:00",
          "2021-08-30T04:00:00",
          "2021-08-30T05:00:00",
          "2021-08-30T06:00:00",
          "2021-08-30T07:00:00",
          "2021-08-30T08:00:00",
          "2021-08-30T09:00:00",
          "2021-08-30T10:00:00",
          "2021-08-30T11:00:00",
          "2021-08-30T12:00:00",
          "2021-08-30T13:00:00",
          "2021-08-30T14:00:00",
          "2021-08-30T15:00:00",
          "2021-08-30T16:00:00",
          "2021-08-30T17:00:00",
          "2021-08-30T18:00:00",
          "2021-08-30T19:00:00",
          "2021-08-30T20:00:00",
          "2021-08-30T21:00:00",
          "2021-08-30T22:00:00",
          "2021-08-30T23:00:00",
          "2021-08-31T00:00:00",
          "2021-08-31T01:00:00",
          "2021-08-31T03:00:00",
          "2021-08-31T05:00:00",
          "2021-08-31T06:00:00",
          "2021-08-31T07:00:00",
          "2021-08-31T08:00:00",
          "2021-08-31T09:00:00",
          "2021-08-31T10:00:00",
          "2021-08-31T11:00:00",
          "2021-08-31T12:00:00",
          "2021-08-31T13:00:00",
          "2021-08-31T14:00:00",
          "2021-08-31T15:00:00",
          "2021-08-31T16:00:00",
          "2021-08-31T17:00:00",
          "2021-08-31T18:00:00",
          "2021-08-31T19:00:00",
          "2021-08-31T20:00:00",
          "2021-08-31T21:00:00",
          "2021-08-31T22:00:00",
          "2021-08-31T23:00:00",
          "2021-09-01T00:00:00",
          "2021-09-01T01:00:00",
          "2021-09-01T02:00:00",
          "2021-09-01T04:00:00",
          "2021-09-01T05:00:00",
          "2021-09-01T07:00:00",
          "2021-09-01T08:00:00",
          "2021-09-01T09:00:00",
          "2021-09-01T10:00:00",
          "2021-09-01T11:00:00",
          "2021-09-01T12:00:00",
          "2021-09-01T13:00:00",
          "2021-09-01T14:00:00",
          "2021-09-01T15:00:00",
          "2021-09-01T16:00:00",
          "2021-09-01T17:00:00",
          "2021-09-01T18:00:00",
          "2021-09-01T19:00:00",
          "2021-09-01T20:00:00",
          "2021-09-01T21:00:00",
          "2021-09-01T22:00:00",
          "2021-09-01T23:00:00",
          "2021-09-02T02:00:00",
          "2021-09-02T06:00:00",
          "2021-09-02T07:00:00",
          "2021-09-02T08:00:00",
          "2021-09-02T09:00:00",
          "2021-09-02T10:00:00",
          "2021-09-02T11:00:00",
          "2021-09-02T12:00:00",
          "2021-09-02T13:00:00",
          "2021-09-02T14:00:00",
          "2021-09-02T15:00:00",
          "2021-09-02T16:00:00",
          "2021-09-02T17:00:00",
          "2021-09-02T18:00:00",
          "2021-09-02T19:00:00",
          "2021-09-02T20:00:00",
          "2021-09-02T21:00:00",
          "2021-09-02T22:00:00",
          "2021-09-02T23:00:00",
          "2021-09-03T00:00:00",
          "2021-09-03T02:00:00",
          "2021-09-03T06:00:00",
          "2021-09-03T07:00:00",
          "2021-09-03T08:00:00",
          "2021-09-03T09:00:00",
          "2021-09-03T10:00:00",
          "2021-09-03T11:00:00",
          "2021-09-03T12:00:00",
          "2021-09-03T13:00:00",
          "2021-09-03T14:00:00",
          "2021-09-03T15:00:00",
          "2021-09-03T16:00:00",
          "2021-09-03T17:00:00",
          "2021-09-03T18:00:00",
          "2021-09-03T19:00:00",
          "2021-09-03T20:00:00",
          "2021-09-03T21:00:00",
          "2021-09-03T22:00:00"
         ],
         "xaxis": "x",
         "y": [
          670,
          128,
          60,
          70,
          60,
          33,
          19,
          15,
          62,
          6,
          8,
          42,
          24,
          8,
          19,
          200,
          310,
          164,
          275,
          291,
          658,
          517,
          479,
          312,
          367,
          432,
          265,
          261,
          481,
          807,
          462,
          180,
          199,
          146,
          70,
          54,
          10,
          199,
          389,
          802,
          768,
          856,
          925,
          1156,
          777,
          853,
          870,
          714,
          754,
          444,
          626,
          639,
          726,
          1152,
          582,
          296,
          133,
          25,
          26,
          8,
          220,
          169,
          542,
          914,
          890,
          1304,
          1413,
          1265,
          1309,
          1419,
          1146,
          832,
          1312,
          939,
          1166,
          949,
          969,
          1467,
          1701,
          710,
          441,
          180,
          59,
          204,
          285,
          236,
          644,
          714,
          956,
          1126,
          897,
          454,
          861,
          930,
          1830,
          2161,
          1732,
          1023,
          1167,
          1566,
          2519,
          1739,
          2017,
          1733,
          882,
          830,
          790,
          464,
          923,
          1014,
          1589,
          2610,
          2098,
          1889,
          1706,
          2609,
          2304,
          1801,
          3213,
          2691,
          2100,
          3153,
          2491,
          3112,
          4112,
          3689,
          2155,
          1065,
          310,
          158,
          11,
          8,
          48,
          61,
          246,
          851,
          541,
          1070,
          561,
          685,
          709,
          559,
          463,
          428,
          406,
          119,
          126,
          246,
          67,
          227,
          122,
          105,
          48,
          78,
          32,
          9,
          43,
          61,
          28,
          33,
          24,
          45,
          94,
          109,
          91,
          49,
          73,
          30,
          11,
          24,
          28,
          124,
          66,
          80,
          21,
          5,
          11,
          14,
          9,
          24,
          46,
          85,
          67,
          18,
          112,
          70,
          46,
          10,
          49,
          49,
          41,
          71,
          59,
          247,
          322,
          109,
          9,
          51,
          60,
          42,
          23,
          68,
          17,
          0,
          6,
          52,
          10,
          2,
          1,
          1,
          0,
          50,
          45,
          7,
          12,
          14,
          6,
          3,
          13,
          19,
          8,
          30,
          29,
          6,
          6,
          31,
          22,
          4,
          7,
          0,
          0,
          0,
          10,
          0
         ],
         "yaxis": "y"
        }
       ],
       "layout": {
        "legend": {
         "tracegroupgap": 0
        },
        "margin": {
         "t": 60
        },
        "template": {
         "data": {
          "bar": [
           {
            "error_x": {
             "color": "#2a3f5f"
            },
            "error_y": {
             "color": "#2a3f5f"
            },
            "marker": {
             "line": {
              "color": "#E5ECF6",
              "width": 0.5
             }
            },
            "type": "bar"
           }
          ],
          "barpolar": [
           {
            "marker": {
             "line": {
              "color": "#E5ECF6",
              "width": 0.5
             }
            },
            "type": "barpolar"
           }
          ],
          "carpet": [
           {
            "aaxis": {
             "endlinecolor": "#2a3f5f",
             "gridcolor": "white",
             "linecolor": "white",
             "minorgridcolor": "white",
             "startlinecolor": "#2a3f5f"
            },
            "baxis": {
             "endlinecolor": "#2a3f5f",
             "gridcolor": "white",
             "linecolor": "white",
             "minorgridcolor": "white",
             "startlinecolor": "#2a3f5f"
            },
            "type": "carpet"
           }
          ],
          "choropleth": [
           {
            "colorbar": {
             "outlinewidth": 0,
             "ticks": ""
            },
            "type": "choropleth"
           }
          ],
          "contour": [
           {
            "colorbar": {
             "outlinewidth": 0,
             "ticks": ""
            },
            "colorscale": [
             [
              0,
              "#0d0887"
             ],
             [
              0.1111111111111111,
              "#46039f"
             ],
             [
              0.2222222222222222,
              "#7201a8"
             ],
             [
              0.3333333333333333,
              "#9c179e"
             ],
             [
              0.4444444444444444,
              "#bd3786"
             ],
             [
              0.5555555555555556,
              "#d8576b"
             ],
             [
              0.6666666666666666,
              "#ed7953"
             ],
             [
              0.7777777777777778,
              "#fb9f3a"
             ],
             [
              0.8888888888888888,
              "#fdca26"
             ],
             [
              1,
              "#f0f921"
             ]
            ],
            "type": "contour"
           }
          ],
          "contourcarpet": [
           {
            "colorbar": {
             "outlinewidth": 0,
             "ticks": ""
            },
            "type": "contourcarpet"
           }
          ],
          "heatmap": [
           {
            "colorbar": {
             "outlinewidth": 0,
             "ticks": ""
            },
            "colorscale": [
             [
              0,
              "#0d0887"
             ],
             [
              0.1111111111111111,
              "#46039f"
             ],
             [
              0.2222222222222222,
              "#7201a8"
             ],
             [
              0.3333333333333333,
              "#9c179e"
             ],
             [
              0.4444444444444444,
              "#bd3786"
             ],
             [
              0.5555555555555556,
              "#d8576b"
             ],
             [
              0.6666666666666666,
              "#ed7953"
             ],
             [
              0.7777777777777778,
              "#fb9f3a"
             ],
             [
              0.8888888888888888,
              "#fdca26"
             ],
             [
              1,
              "#f0f921"
             ]
            ],
            "type": "heatmap"
           }
          ],
          "heatmapgl": [
           {
            "colorbar": {
             "outlinewidth": 0,
             "ticks": ""
            },
            "colorscale": [
             [
              0,
              "#0d0887"
             ],
             [
              0.1111111111111111,
              "#46039f"
             ],
             [
              0.2222222222222222,
              "#7201a8"
             ],
             [
              0.3333333333333333,
              "#9c179e"
             ],
             [
              0.4444444444444444,
              "#bd3786"
             ],
             [
              0.5555555555555556,
              "#d8576b"
             ],
             [
              0.6666666666666666,
              "#ed7953"
             ],
             [
              0.7777777777777778,
              "#fb9f3a"
             ],
             [
              0.8888888888888888,
              "#fdca26"
             ],
             [
              1,
              "#f0f921"
             ]
            ],
            "type": "heatmapgl"
           }
          ],
          "histogram": [
           {
            "marker": {
             "colorbar": {
              "outlinewidth": 0,
              "ticks": ""
             }
            },
            "type": "histogram"
           }
          ],
          "histogram2d": [
           {
            "colorbar": {
             "outlinewidth": 0,
             "ticks": ""
            },
            "colorscale": [
             [
              0,
              "#0d0887"
             ],
             [
              0.1111111111111111,
              "#46039f"
             ],
             [
              0.2222222222222222,
              "#7201a8"
             ],
             [
              0.3333333333333333,
              "#9c179e"
             ],
             [
              0.4444444444444444,
              "#bd3786"
             ],
             [
              0.5555555555555556,
              "#d8576b"
             ],
             [
              0.6666666666666666,
              "#ed7953"
             ],
             [
              0.7777777777777778,
              "#fb9f3a"
             ],
             [
              0.8888888888888888,
              "#fdca26"
             ],
             [
              1,
              "#f0f921"
             ]
            ],
            "type": "histogram2d"
           }
          ],
          "histogram2dcontour": [
           {
            "colorbar": {
             "outlinewidth": 0,
             "ticks": ""
            },
            "colorscale": [
             [
              0,
              "#0d0887"
             ],
             [
              0.1111111111111111,
              "#46039f"
             ],
             [
              0.2222222222222222,
              "#7201a8"
             ],
             [
              0.3333333333333333,
              "#9c179e"
             ],
             [
              0.4444444444444444,
              "#bd3786"
             ],
             [
              0.5555555555555556,
              "#d8576b"
             ],
             [
              0.6666666666666666,
              "#ed7953"
             ],
             [
              0.7777777777777778,
              "#fb9f3a"
             ],
             [
              0.8888888888888888,
              "#fdca26"
             ],
             [
              1,
              "#f0f921"
             ]
            ],
            "type": "histogram2dcontour"
           }
          ],
          "mesh3d": [
           {
            "colorbar": {
             "outlinewidth": 0,
             "ticks": ""
            },
            "type": "mesh3d"
           }
          ],
          "parcoords": [
           {
            "line": {
             "colorbar": {
              "outlinewidth": 0,
              "ticks": ""
             }
            },
            "type": "parcoords"
           }
          ],
          "pie": [
           {
            "automargin": true,
            "type": "pie"
           }
          ],
          "scatter": [
           {
            "marker": {
             "colorbar": {
              "outlinewidth": 0,
              "ticks": ""
             }
            },
            "type": "scatter"
           }
          ],
          "scatter3d": [
           {
            "line": {
             "colorbar": {
              "outlinewidth": 0,
              "ticks": ""
             }
            },
            "marker": {
             "colorbar": {
              "outlinewidth": 0,
              "ticks": ""
             }
            },
            "type": "scatter3d"
           }
          ],
          "scattercarpet": [
           {
            "marker": {
             "colorbar": {
              "outlinewidth": 0,
              "ticks": ""
             }
            },
            "type": "scattercarpet"
           }
          ],
          "scattergeo": [
           {
            "marker": {
             "colorbar": {
              "outlinewidth": 0,
              "ticks": ""
             }
            },
            "type": "scattergeo"
           }
          ],
          "scattergl": [
           {
            "marker": {
             "colorbar": {
              "outlinewidth": 0,
              "ticks": ""
             }
            },
            "type": "scattergl"
           }
          ],
          "scattermapbox": [
           {
            "marker": {
             "colorbar": {
              "outlinewidth": 0,
              "ticks": ""
             }
            },
            "type": "scattermapbox"
           }
          ],
          "scatterpolar": [
           {
            "marker": {
             "colorbar": {
              "outlinewidth": 0,
              "ticks": ""
             }
            },
            "type": "scatterpolar"
           }
          ],
          "scatterpolargl": [
           {
            "marker": {
             "colorbar": {
              "outlinewidth": 0,
              "ticks": ""
             }
            },
            "type": "scatterpolargl"
           }
          ],
          "scatterternary": [
           {
            "marker": {
             "colorbar": {
              "outlinewidth": 0,
              "ticks": ""
             }
            },
            "type": "scatterternary"
           }
          ],
          "surface": [
           {
            "colorbar": {
             "outlinewidth": 0,
             "ticks": ""
            },
            "colorscale": [
             [
              0,
              "#0d0887"
             ],
             [
              0.1111111111111111,
              "#46039f"
             ],
             [
              0.2222222222222222,
              "#7201a8"
             ],
             [
              0.3333333333333333,
              "#9c179e"
             ],
             [
              0.4444444444444444,
              "#bd3786"
             ],
             [
              0.5555555555555556,
              "#d8576b"
             ],
             [
              0.6666666666666666,
              "#ed7953"
             ],
             [
              0.7777777777777778,
              "#fb9f3a"
             ],
             [
              0.8888888888888888,
              "#fdca26"
             ],
             [
              1,
              "#f0f921"
             ]
            ],
            "type": "surface"
           }
          ],
          "table": [
           {
            "cells": {
             "fill": {
              "color": "#EBF0F8"
             },
             "line": {
              "color": "white"
             }
            },
            "header": {
             "fill": {
              "color": "#C8D4E3"
             },
             "line": {
              "color": "white"
             }
            },
            "type": "table"
           }
          ]
         },
         "layout": {
          "annotationdefaults": {
           "arrowcolor": "#2a3f5f",
           "arrowhead": 0,
           "arrowwidth": 1
          },
          "coloraxis": {
           "colorbar": {
            "outlinewidth": 0,
            "ticks": ""
           }
          },
          "colorscale": {
           "diverging": [
            [
             0,
             "#8e0152"
            ],
            [
             0.1,
             "#c51b7d"
            ],
            [
             0.2,
             "#de77ae"
            ],
            [
             0.3,
             "#f1b6da"
            ],
            [
             0.4,
             "#fde0ef"
            ],
            [
             0.5,
             "#f7f7f7"
            ],
            [
             0.6,
             "#e6f5d0"
            ],
            [
             0.7,
             "#b8e186"
            ],
            [
             0.8,
             "#7fbc41"
            ],
            [
             0.9,
             "#4d9221"
            ],
            [
             1,
             "#276419"
            ]
           ],
           "sequential": [
            [
             0,
             "#0d0887"
            ],
            [
             0.1111111111111111,
             "#46039f"
            ],
            [
             0.2222222222222222,
             "#7201a8"
            ],
            [
             0.3333333333333333,
             "#9c179e"
            ],
            [
             0.4444444444444444,
             "#bd3786"
            ],
            [
             0.5555555555555556,
             "#d8576b"
            ],
            [
             0.6666666666666666,
             "#ed7953"
            ],
            [
             0.7777777777777778,
             "#fb9f3a"
            ],
            [
             0.8888888888888888,
             "#fdca26"
            ],
            [
             1,
             "#f0f921"
            ]
           ],
           "sequentialminus": [
            [
             0,
             "#0d0887"
            ],
            [
             0.1111111111111111,
             "#46039f"
            ],
            [
             0.2222222222222222,
             "#7201a8"
            ],
            [
             0.3333333333333333,
             "#9c179e"
            ],
            [
             0.4444444444444444,
             "#bd3786"
            ],
            [
             0.5555555555555556,
             "#d8576b"
            ],
            [
             0.6666666666666666,
             "#ed7953"
            ],
            [
             0.7777777777777778,
             "#fb9f3a"
            ],
            [
             0.8888888888888888,
             "#fdca26"
            ],
            [
             1,
             "#f0f921"
            ]
           ]
          },
          "colorway": [
           "#636efa",
           "#EF553B",
           "#00cc96",
           "#ab63fa",
           "#FFA15A",
           "#19d3f3",
           "#FF6692",
           "#B6E880",
           "#FF97FF",
           "#FECB52"
          ],
          "font": {
           "color": "#2a3f5f"
          },
          "geo": {
           "bgcolor": "white",
           "lakecolor": "white",
           "landcolor": "#E5ECF6",
           "showlakes": true,
           "showland": true,
           "subunitcolor": "white"
          },
          "hoverlabel": {
           "align": "left"
          },
          "hovermode": "closest",
          "mapbox": {
           "style": "light"
          },
          "paper_bgcolor": "white",
          "plot_bgcolor": "#E5ECF6",
          "polar": {
           "angularaxis": {
            "gridcolor": "white",
            "linecolor": "white",
            "ticks": ""
           },
           "bgcolor": "#E5ECF6",
           "radialaxis": {
            "gridcolor": "white",
            "linecolor": "white",
            "ticks": ""
           }
          },
          "scene": {
           "xaxis": {
            "backgroundcolor": "#E5ECF6",
            "gridcolor": "white",
            "gridwidth": 2,
            "linecolor": "white",
            "showbackground": true,
            "ticks": "",
            "zerolinecolor": "white"
           },
           "yaxis": {
            "backgroundcolor": "#E5ECF6",
            "gridcolor": "white",
            "gridwidth": 2,
            "linecolor": "white",
            "showbackground": true,
            "ticks": "",
            "zerolinecolor": "white"
           },
           "zaxis": {
            "backgroundcolor": "#E5ECF6",
            "gridcolor": "white",
            "gridwidth": 2,
            "linecolor": "white",
            "showbackground": true,
            "ticks": "",
            "zerolinecolor": "white"
           }
          },
          "shapedefaults": {
           "line": {
            "color": "#2a3f5f"
           }
          },
          "ternary": {
           "aaxis": {
            "gridcolor": "white",
            "linecolor": "white",
            "ticks": ""
           },
           "baxis": {
            "gridcolor": "white",
            "linecolor": "white",
            "ticks": ""
           },
           "bgcolor": "#E5ECF6",
           "caxis": {
            "gridcolor": "white",
            "linecolor": "white",
            "ticks": ""
           }
          },
          "title": {
           "x": 0.05
          },
          "xaxis": {
           "automargin": true,
           "gridcolor": "white",
           "linecolor": "white",
           "ticks": "",
           "title": {
            "standoff": 15
           },
           "zerolinecolor": "white",
           "zerolinewidth": 2
          },
          "yaxis": {
           "automargin": true,
           "gridcolor": "white",
           "linecolor": "white",
           "ticks": "",
           "title": {
            "standoff": 15
           },
           "zerolinecolor": "white",
           "zerolinewidth": 2
          }
         }
        },
        "xaxis": {
         "anchor": "y",
         "domain": [
          0,
          1
         ],
         "title": {
          "text": "Post Hour"
         }
        },
        "yaxis": {
         "anchor": "x",
         "domain": [
          0,
          1
         ],
         "title": {
          "text": "Total Thumbs up"
         }
        }
       }
      },
      "text/html": [
       "<div>                            <div id=\"fb62eaab-34ab-40d1-a509-edeb7ed60946\" class=\"plotly-graph-div\" style=\"height:525px; width:100%;\"></div>            <script type=\"text/javascript\">                require([\"plotly\"], function(Plotly) {                    window.PLOTLYENV=window.PLOTLYENV || {};                                    if (document.getElementById(\"fb62eaab-34ab-40d1-a509-edeb7ed60946\")) {                    Plotly.newPlot(                        \"fb62eaab-34ab-40d1-a509-edeb7ed60946\",                        [{\"hovertemplate\": \"Post Hour=%{x}<br>Total Thumbs up=%{y}<extra></extra>\", \"legendgroup\": \"\", \"line\": {\"color\": \"#636efa\", \"dash\": \"solid\"}, \"mode\": \"lines\", \"name\": \"\", \"orientation\": \"v\", \"showlegend\": false, \"type\": \"scatter\", \"x\": [\"2021-08-24T15:00:00\", \"2021-08-24T16:00:00\", \"2021-08-24T17:00:00\", \"2021-08-24T18:00:00\", \"2021-08-24T19:00:00\", \"2021-08-24T20:00:00\", \"2021-08-24T21:00:00\", \"2021-08-24T22:00:00\", \"2021-08-24T23:00:00\", \"2021-08-25T00:00:00\", \"2021-08-25T01:00:00\", \"2021-08-25T02:00:00\", \"2021-08-25T03:00:00\", \"2021-08-25T04:00:00\", \"2021-08-25T05:00:00\", \"2021-08-25T06:00:00\", \"2021-08-25T07:00:00\", \"2021-08-25T08:00:00\", \"2021-08-25T09:00:00\", \"2021-08-25T10:00:00\", \"2021-08-25T11:00:00\", \"2021-08-25T12:00:00\", \"2021-08-25T13:00:00\", \"2021-08-25T14:00:00\", \"2021-08-25T15:00:00\", \"2021-08-25T16:00:00\", \"2021-08-25T17:00:00\", \"2021-08-25T18:00:00\", \"2021-08-25T19:00:00\", \"2021-08-25T20:00:00\", \"2021-08-25T21:00:00\", \"2021-08-25T22:00:00\", \"2021-08-25T23:00:00\", \"2021-08-26T00:00:00\", \"2021-08-26T01:00:00\", \"2021-08-26T03:00:00\", \"2021-08-26T04:00:00\", \"2021-08-26T05:00:00\", \"2021-08-26T06:00:00\", \"2021-08-26T07:00:00\", \"2021-08-26T08:00:00\", \"2021-08-26T09:00:00\", \"2021-08-26T10:00:00\", \"2021-08-26T11:00:00\", \"2021-08-26T12:00:00\", \"2021-08-26T13:00:00\", \"2021-08-26T14:00:00\", \"2021-08-26T15:00:00\", \"2021-08-26T16:00:00\", \"2021-08-26T17:00:00\", \"2021-08-26T18:00:00\", \"2021-08-26T19:00:00\", \"2021-08-26T20:00:00\", \"2021-08-26T21:00:00\", \"2021-08-26T22:00:00\", \"2021-08-26T23:00:00\", \"2021-08-27T00:00:00\", \"2021-08-27T01:00:00\", \"2021-08-27T02:00:00\", \"2021-08-27T03:00:00\", \"2021-08-27T04:00:00\", \"2021-08-27T05:00:00\", \"2021-08-27T06:00:00\", \"2021-08-27T07:00:00\", \"2021-08-27T08:00:00\", \"2021-08-27T09:00:00\", \"2021-08-27T10:00:00\", \"2021-08-27T11:00:00\", \"2021-08-27T12:00:00\", \"2021-08-27T13:00:00\", \"2021-08-27T14:00:00\", \"2021-08-27T15:00:00\", \"2021-08-27T16:00:00\", \"2021-08-27T17:00:00\", \"2021-08-27T18:00:00\", \"2021-08-27T19:00:00\", \"2021-08-27T20:00:00\", \"2021-08-27T21:00:00\", \"2021-08-27T22:00:00\", \"2021-08-27T23:00:00\", \"2021-08-28T00:00:00\", \"2021-08-28T01:00:00\", \"2021-08-28T02:00:00\", \"2021-08-28T03:00:00\", \"2021-08-28T04:00:00\", \"2021-08-28T05:00:00\", \"2021-08-28T06:00:00\", \"2021-08-28T07:00:00\", \"2021-08-28T08:00:00\", \"2021-08-28T09:00:00\", \"2021-08-28T10:00:00\", \"2021-08-28T11:00:00\", \"2021-08-28T12:00:00\", \"2021-08-28T13:00:00\", \"2021-08-28T14:00:00\", \"2021-08-28T15:00:00\", \"2021-08-28T16:00:00\", \"2021-08-28T17:00:00\", \"2021-08-28T18:00:00\", \"2021-08-28T19:00:00\", \"2021-08-28T20:00:00\", \"2021-08-28T21:00:00\", \"2021-08-28T22:00:00\", \"2021-08-28T23:00:00\", \"2021-08-29T00:00:00\", \"2021-08-29T01:00:00\", \"2021-08-29T02:00:00\", \"2021-08-29T03:00:00\", \"2021-08-29T04:00:00\", \"2021-08-29T05:00:00\", \"2021-08-29T06:00:00\", \"2021-08-29T07:00:00\", \"2021-08-29T08:00:00\", \"2021-08-29T09:00:00\", \"2021-08-29T10:00:00\", \"2021-08-29T11:00:00\", \"2021-08-29T12:00:00\", \"2021-08-29T13:00:00\", \"2021-08-29T14:00:00\", \"2021-08-29T15:00:00\", \"2021-08-29T16:00:00\", \"2021-08-29T17:00:00\", \"2021-08-29T18:00:00\", \"2021-08-29T19:00:00\", \"2021-08-29T20:00:00\", \"2021-08-29T21:00:00\", \"2021-08-29T22:00:00\", \"2021-08-29T23:00:00\", \"2021-08-30T00:00:00\", \"2021-08-30T01:00:00\", \"2021-08-30T02:00:00\", \"2021-08-30T03:00:00\", \"2021-08-30T04:00:00\", \"2021-08-30T05:00:00\", \"2021-08-30T06:00:00\", \"2021-08-30T07:00:00\", \"2021-08-30T08:00:00\", \"2021-08-30T09:00:00\", \"2021-08-30T10:00:00\", \"2021-08-30T11:00:00\", \"2021-08-30T12:00:00\", \"2021-08-30T13:00:00\", \"2021-08-30T14:00:00\", \"2021-08-30T15:00:00\", \"2021-08-30T16:00:00\", \"2021-08-30T17:00:00\", \"2021-08-30T18:00:00\", \"2021-08-30T19:00:00\", \"2021-08-30T20:00:00\", \"2021-08-30T21:00:00\", \"2021-08-30T22:00:00\", \"2021-08-30T23:00:00\", \"2021-08-31T00:00:00\", \"2021-08-31T01:00:00\", \"2021-08-31T03:00:00\", \"2021-08-31T05:00:00\", \"2021-08-31T06:00:00\", \"2021-08-31T07:00:00\", \"2021-08-31T08:00:00\", \"2021-08-31T09:00:00\", \"2021-08-31T10:00:00\", \"2021-08-31T11:00:00\", \"2021-08-31T12:00:00\", \"2021-08-31T13:00:00\", \"2021-08-31T14:00:00\", \"2021-08-31T15:00:00\", \"2021-08-31T16:00:00\", \"2021-08-31T17:00:00\", \"2021-08-31T18:00:00\", \"2021-08-31T19:00:00\", \"2021-08-31T20:00:00\", \"2021-08-31T21:00:00\", \"2021-08-31T22:00:00\", \"2021-08-31T23:00:00\", \"2021-09-01T00:00:00\", \"2021-09-01T01:00:00\", \"2021-09-01T02:00:00\", \"2021-09-01T04:00:00\", \"2021-09-01T05:00:00\", \"2021-09-01T07:00:00\", \"2021-09-01T08:00:00\", \"2021-09-01T09:00:00\", \"2021-09-01T10:00:00\", \"2021-09-01T11:00:00\", \"2021-09-01T12:00:00\", \"2021-09-01T13:00:00\", \"2021-09-01T14:00:00\", \"2021-09-01T15:00:00\", \"2021-09-01T16:00:00\", \"2021-09-01T17:00:00\", \"2021-09-01T18:00:00\", \"2021-09-01T19:00:00\", \"2021-09-01T20:00:00\", \"2021-09-01T21:00:00\", \"2021-09-01T22:00:00\", \"2021-09-01T23:00:00\", \"2021-09-02T02:00:00\", \"2021-09-02T06:00:00\", \"2021-09-02T07:00:00\", \"2021-09-02T08:00:00\", \"2021-09-02T09:00:00\", \"2021-09-02T10:00:00\", \"2021-09-02T11:00:00\", \"2021-09-02T12:00:00\", \"2021-09-02T13:00:00\", \"2021-09-02T14:00:00\", \"2021-09-02T15:00:00\", \"2021-09-02T16:00:00\", \"2021-09-02T17:00:00\", \"2021-09-02T18:00:00\", \"2021-09-02T19:00:00\", \"2021-09-02T20:00:00\", \"2021-09-02T21:00:00\", \"2021-09-02T22:00:00\", \"2021-09-02T23:00:00\", \"2021-09-03T00:00:00\", \"2021-09-03T02:00:00\", \"2021-09-03T06:00:00\", \"2021-09-03T07:00:00\", \"2021-09-03T08:00:00\", \"2021-09-03T09:00:00\", \"2021-09-03T10:00:00\", \"2021-09-03T11:00:00\", \"2021-09-03T12:00:00\", \"2021-09-03T13:00:00\", \"2021-09-03T14:00:00\", \"2021-09-03T15:00:00\", \"2021-09-03T16:00:00\", \"2021-09-03T17:00:00\", \"2021-09-03T18:00:00\", \"2021-09-03T19:00:00\", \"2021-09-03T20:00:00\", \"2021-09-03T21:00:00\", \"2021-09-03T22:00:00\"], \"xaxis\": \"x\", \"y\": [670, 128, 60, 70, 60, 33, 19, 15, 62, 6, 8, 42, 24, 8, 19, 200, 310, 164, 275, 291, 658, 517, 479, 312, 367, 432, 265, 261, 481, 807, 462, 180, 199, 146, 70, 54, 10, 199, 389, 802, 768, 856, 925, 1156, 777, 853, 870, 714, 754, 444, 626, 639, 726, 1152, 582, 296, 133, 25, 26, 8, 220, 169, 542, 914, 890, 1304, 1413, 1265, 1309, 1419, 1146, 832, 1312, 939, 1166, 949, 969, 1467, 1701, 710, 441, 180, 59, 204, 285, 236, 644, 714, 956, 1126, 897, 454, 861, 930, 1830, 2161, 1732, 1023, 1167, 1566, 2519, 1739, 2017, 1733, 882, 830, 790, 464, 923, 1014, 1589, 2610, 2098, 1889, 1706, 2609, 2304, 1801, 3213, 2691, 2100, 3153, 2491, 3112, 4112, 3689, 2155, 1065, 310, 158, 11, 8, 48, 61, 246, 851, 541, 1070, 561, 685, 709, 559, 463, 428, 406, 119, 126, 246, 67, 227, 122, 105, 48, 78, 32, 9, 43, 61, 28, 33, 24, 45, 94, 109, 91, 49, 73, 30, 11, 24, 28, 124, 66, 80, 21, 5, 11, 14, 9, 24, 46, 85, 67, 18, 112, 70, 46, 10, 49, 49, 41, 71, 59, 247, 322, 109, 9, 51, 60, 42, 23, 68, 17, 0, 6, 52, 10, 2, 1, 1, 0, 50, 45, 7, 12, 14, 6, 3, 13, 19, 8, 30, 29, 6, 6, 31, 22, 4, 7, 0, 0, 0, 10, 0], \"yaxis\": \"y\"}],                        {\"legend\": {\"tracegroupgap\": 0}, \"margin\": {\"t\": 60}, \"template\": {\"data\": {\"bar\": [{\"error_x\": {\"color\": \"#2a3f5f\"}, \"error_y\": {\"color\": \"#2a3f5f\"}, \"marker\": {\"line\": {\"color\": \"#E5ECF6\", \"width\": 0.5}}, \"type\": \"bar\"}], \"barpolar\": [{\"marker\": {\"line\": {\"color\": \"#E5ECF6\", \"width\": 0.5}}, \"type\": \"barpolar\"}], \"carpet\": [{\"aaxis\": {\"endlinecolor\": \"#2a3f5f\", \"gridcolor\": \"white\", \"linecolor\": \"white\", \"minorgridcolor\": \"white\", \"startlinecolor\": \"#2a3f5f\"}, \"baxis\": {\"endlinecolor\": \"#2a3f5f\", \"gridcolor\": \"white\", \"linecolor\": \"white\", \"minorgridcolor\": \"white\", \"startlinecolor\": \"#2a3f5f\"}, \"type\": \"carpet\"}], \"choropleth\": [{\"colorbar\": {\"outlinewidth\": 0, \"ticks\": \"\"}, \"type\": \"choropleth\"}], \"contour\": [{\"colorbar\": {\"outlinewidth\": 0, \"ticks\": \"\"}, \"colorscale\": [[0.0, \"#0d0887\"], [0.1111111111111111, \"#46039f\"], [0.2222222222222222, \"#7201a8\"], [0.3333333333333333, \"#9c179e\"], [0.4444444444444444, \"#bd3786\"], [0.5555555555555556, \"#d8576b\"], [0.6666666666666666, \"#ed7953\"], [0.7777777777777778, \"#fb9f3a\"], [0.8888888888888888, \"#fdca26\"], [1.0, \"#f0f921\"]], \"type\": \"contour\"}], \"contourcarpet\": [{\"colorbar\": {\"outlinewidth\": 0, \"ticks\": \"\"}, \"type\": \"contourcarpet\"}], \"heatmap\": [{\"colorbar\": {\"outlinewidth\": 0, \"ticks\": \"\"}, \"colorscale\": [[0.0, \"#0d0887\"], [0.1111111111111111, \"#46039f\"], [0.2222222222222222, \"#7201a8\"], [0.3333333333333333, \"#9c179e\"], [0.4444444444444444, \"#bd3786\"], [0.5555555555555556, \"#d8576b\"], [0.6666666666666666, \"#ed7953\"], [0.7777777777777778, \"#fb9f3a\"], [0.8888888888888888, \"#fdca26\"], [1.0, \"#f0f921\"]], \"type\": \"heatmap\"}], \"heatmapgl\": [{\"colorbar\": {\"outlinewidth\": 0, \"ticks\": \"\"}, \"colorscale\": [[0.0, \"#0d0887\"], [0.1111111111111111, \"#46039f\"], [0.2222222222222222, \"#7201a8\"], [0.3333333333333333, \"#9c179e\"], [0.4444444444444444, \"#bd3786\"], [0.5555555555555556, \"#d8576b\"], [0.6666666666666666, \"#ed7953\"], [0.7777777777777778, \"#fb9f3a\"], [0.8888888888888888, \"#fdca26\"], [1.0, \"#f0f921\"]], \"type\": \"heatmapgl\"}], \"histogram\": [{\"marker\": {\"colorbar\": {\"outlinewidth\": 0, \"ticks\": \"\"}}, \"type\": \"histogram\"}], \"histogram2d\": [{\"colorbar\": {\"outlinewidth\": 0, \"ticks\": \"\"}, \"colorscale\": [[0.0, \"#0d0887\"], [0.1111111111111111, \"#46039f\"], [0.2222222222222222, \"#7201a8\"], [0.3333333333333333, \"#9c179e\"], [0.4444444444444444, \"#bd3786\"], [0.5555555555555556, \"#d8576b\"], [0.6666666666666666, \"#ed7953\"], [0.7777777777777778, \"#fb9f3a\"], [0.8888888888888888, \"#fdca26\"], [1.0, \"#f0f921\"]], \"type\": \"histogram2d\"}], \"histogram2dcontour\": [{\"colorbar\": {\"outlinewidth\": 0, \"ticks\": \"\"}, \"colorscale\": [[0.0, \"#0d0887\"], [0.1111111111111111, \"#46039f\"], [0.2222222222222222, \"#7201a8\"], [0.3333333333333333, \"#9c179e\"], [0.4444444444444444, \"#bd3786\"], [0.5555555555555556, \"#d8576b\"], [0.6666666666666666, \"#ed7953\"], [0.7777777777777778, \"#fb9f3a\"], [0.8888888888888888, \"#fdca26\"], [1.0, \"#f0f921\"]], \"type\": \"histogram2dcontour\"}], \"mesh3d\": [{\"colorbar\": {\"outlinewidth\": 0, \"ticks\": \"\"}, \"type\": \"mesh3d\"}], \"parcoords\": [{\"line\": {\"colorbar\": {\"outlinewidth\": 0, \"ticks\": \"\"}}, \"type\": \"parcoords\"}], \"pie\": [{\"automargin\": true, \"type\": \"pie\"}], \"scatter\": [{\"marker\": {\"colorbar\": {\"outlinewidth\": 0, \"ticks\": \"\"}}, \"type\": \"scatter\"}], \"scatter3d\": [{\"line\": {\"colorbar\": {\"outlinewidth\": 0, \"ticks\": \"\"}}, \"marker\": {\"colorbar\": {\"outlinewidth\": 0, \"ticks\": \"\"}}, \"type\": \"scatter3d\"}], \"scattercarpet\": [{\"marker\": {\"colorbar\": {\"outlinewidth\": 0, \"ticks\": \"\"}}, \"type\": \"scattercarpet\"}], \"scattergeo\": [{\"marker\": {\"colorbar\": {\"outlinewidth\": 0, \"ticks\": \"\"}}, \"type\": \"scattergeo\"}], \"scattergl\": [{\"marker\": {\"colorbar\": {\"outlinewidth\": 0, \"ticks\": \"\"}}, \"type\": \"scattergl\"}], \"scattermapbox\": [{\"marker\": {\"colorbar\": {\"outlinewidth\": 0, \"ticks\": \"\"}}, \"type\": \"scattermapbox\"}], \"scatterpolar\": [{\"marker\": {\"colorbar\": {\"outlinewidth\": 0, \"ticks\": \"\"}}, \"type\": \"scatterpolar\"}], \"scatterpolargl\": [{\"marker\": {\"colorbar\": {\"outlinewidth\": 0, \"ticks\": \"\"}}, \"type\": \"scatterpolargl\"}], \"scatterternary\": [{\"marker\": {\"colorbar\": {\"outlinewidth\": 0, \"ticks\": \"\"}}, \"type\": \"scatterternary\"}], \"surface\": [{\"colorbar\": {\"outlinewidth\": 0, \"ticks\": \"\"}, \"colorscale\": [[0.0, \"#0d0887\"], [0.1111111111111111, \"#46039f\"], [0.2222222222222222, \"#7201a8\"], [0.3333333333333333, \"#9c179e\"], [0.4444444444444444, \"#bd3786\"], [0.5555555555555556, \"#d8576b\"], [0.6666666666666666, \"#ed7953\"], [0.7777777777777778, \"#fb9f3a\"], [0.8888888888888888, \"#fdca26\"], [1.0, \"#f0f921\"]], \"type\": \"surface\"}], \"table\": [{\"cells\": {\"fill\": {\"color\": \"#EBF0F8\"}, \"line\": {\"color\": \"white\"}}, \"header\": {\"fill\": {\"color\": \"#C8D4E3\"}, \"line\": {\"color\": \"white\"}}, \"type\": \"table\"}]}, \"layout\": {\"annotationdefaults\": {\"arrowcolor\": \"#2a3f5f\", \"arrowhead\": 0, \"arrowwidth\": 1}, \"coloraxis\": {\"colorbar\": {\"outlinewidth\": 0, \"ticks\": \"\"}}, \"colorscale\": {\"diverging\": [[0, \"#8e0152\"], [0.1, \"#c51b7d\"], [0.2, \"#de77ae\"], [0.3, \"#f1b6da\"], [0.4, \"#fde0ef\"], [0.5, \"#f7f7f7\"], [0.6, \"#e6f5d0\"], [0.7, \"#b8e186\"], [0.8, \"#7fbc41\"], [0.9, \"#4d9221\"], [1, \"#276419\"]], \"sequential\": [[0.0, \"#0d0887\"], [0.1111111111111111, \"#46039f\"], [0.2222222222222222, \"#7201a8\"], [0.3333333333333333, \"#9c179e\"], [0.4444444444444444, \"#bd3786\"], [0.5555555555555556, \"#d8576b\"], [0.6666666666666666, \"#ed7953\"], [0.7777777777777778, \"#fb9f3a\"], [0.8888888888888888, \"#fdca26\"], [1.0, \"#f0f921\"]], \"sequentialminus\": [[0.0, \"#0d0887\"], [0.1111111111111111, \"#46039f\"], [0.2222222222222222, \"#7201a8\"], [0.3333333333333333, \"#9c179e\"], [0.4444444444444444, \"#bd3786\"], [0.5555555555555556, \"#d8576b\"], [0.6666666666666666, \"#ed7953\"], [0.7777777777777778, \"#fb9f3a\"], [0.8888888888888888, \"#fdca26\"], [1.0, \"#f0f921\"]]}, \"colorway\": [\"#636efa\", \"#EF553B\", \"#00cc96\", \"#ab63fa\", \"#FFA15A\", \"#19d3f3\", \"#FF6692\", \"#B6E880\", \"#FF97FF\", \"#FECB52\"], \"font\": {\"color\": \"#2a3f5f\"}, \"geo\": {\"bgcolor\": \"white\", \"lakecolor\": \"white\", \"landcolor\": \"#E5ECF6\", \"showlakes\": true, \"showland\": true, \"subunitcolor\": \"white\"}, \"hoverlabel\": {\"align\": \"left\"}, \"hovermode\": \"closest\", \"mapbox\": {\"style\": \"light\"}, \"paper_bgcolor\": \"white\", \"plot_bgcolor\": \"#E5ECF6\", \"polar\": {\"angularaxis\": {\"gridcolor\": \"white\", \"linecolor\": \"white\", \"ticks\": \"\"}, \"bgcolor\": \"#E5ECF6\", \"radialaxis\": {\"gridcolor\": \"white\", \"linecolor\": \"white\", \"ticks\": \"\"}}, \"scene\": {\"xaxis\": {\"backgroundcolor\": \"#E5ECF6\", \"gridcolor\": \"white\", \"gridwidth\": 2, \"linecolor\": \"white\", \"showbackground\": true, \"ticks\": \"\", \"zerolinecolor\": \"white\"}, \"yaxis\": {\"backgroundcolor\": \"#E5ECF6\", \"gridcolor\": \"white\", \"gridwidth\": 2, \"linecolor\": \"white\", \"showbackground\": true, \"ticks\": \"\", \"zerolinecolor\": \"white\"}, \"zaxis\": {\"backgroundcolor\": \"#E5ECF6\", \"gridcolor\": \"white\", \"gridwidth\": 2, \"linecolor\": \"white\", \"showbackground\": true, \"ticks\": \"\", \"zerolinecolor\": \"white\"}}, \"shapedefaults\": {\"line\": {\"color\": \"#2a3f5f\"}}, \"ternary\": {\"aaxis\": {\"gridcolor\": \"white\", \"linecolor\": \"white\", \"ticks\": \"\"}, \"baxis\": {\"gridcolor\": \"white\", \"linecolor\": \"white\", \"ticks\": \"\"}, \"bgcolor\": \"#E5ECF6\", \"caxis\": {\"gridcolor\": \"white\", \"linecolor\": \"white\", \"ticks\": \"\"}}, \"title\": {\"x\": 0.05}, \"xaxis\": {\"automargin\": true, \"gridcolor\": \"white\", \"linecolor\": \"white\", \"ticks\": \"\", \"title\": {\"standoff\": 15}, \"zerolinecolor\": \"white\", \"zerolinewidth\": 2}, \"yaxis\": {\"automargin\": true, \"gridcolor\": \"white\", \"linecolor\": \"white\", \"ticks\": \"\", \"title\": {\"standoff\": 15}, \"zerolinecolor\": \"white\", \"zerolinewidth\": 2}}}, \"xaxis\": {\"anchor\": \"y\", \"domain\": [0.0, 1.0], \"title\": {\"text\": \"Post Hour\"}}, \"yaxis\": {\"anchor\": \"x\", \"domain\": [0.0, 1.0], \"title\": {\"text\": \"Total Thumbs up\"}}},                        {\"responsive\": true}                    ).then(function(){\n",
       "                            \n",
       "var gd = document.getElementById('fb62eaab-34ab-40d1-a509-edeb7ed60946');\n",
       "var x = new MutationObserver(function (mutations, observer) {{\n",
       "        var display = window.getComputedStyle(gd).display;\n",
       "        if (!display || display === 'none') {{\n",
       "            console.log([gd, 'removed!']);\n",
       "            Plotly.purge(gd);\n",
       "            observer.disconnect();\n",
       "        }}\n",
       "}});\n",
       "\n",
       "// Listen for the removal of the full notebook cells\n",
       "var notebookContainer = gd.closest('#notebook-container');\n",
       "if (notebookContainer) {{\n",
       "    x.observe(notebookContainer, {childList: true});\n",
       "}}\n",
       "\n",
       "// Listen for the clearing of the current output cell\n",
       "var outputEl = gd.closest('.output');\n",
       "if (outputEl) {{\n",
       "    x.observe(outputEl, {childList: true});\n",
       "}}\n",
       "\n",
       "                        })                };                });            </script>        </div>"
      ]
     },
     "metadata": {},
     "output_type": "display_data"
    },
    {
     "data": {
      "application/vnd.plotly.v1+json": {
       "config": {
        "plotlyServerURL": "https://plot.ly"
       },
       "data": [
        {
         "hovertemplate": "Post Hour=%{x}<br>Total Thumbs Down=%{y}<extra></extra>",
         "legendgroup": "",
         "line": {
          "color": "#636efa",
          "dash": "solid"
         },
         "mode": "lines",
         "name": "",
         "orientation": "v",
         "showlegend": false,
         "type": "scatter",
         "x": [
          "2021-08-24T15:00:00",
          "2021-08-24T16:00:00",
          "2021-08-24T17:00:00",
          "2021-08-24T18:00:00",
          "2021-08-24T19:00:00",
          "2021-08-24T20:00:00",
          "2021-08-24T21:00:00",
          "2021-08-24T22:00:00",
          "2021-08-24T23:00:00",
          "2021-08-25T00:00:00",
          "2021-08-25T01:00:00",
          "2021-08-25T02:00:00",
          "2021-08-25T03:00:00",
          "2021-08-25T04:00:00",
          "2021-08-25T05:00:00",
          "2021-08-25T06:00:00",
          "2021-08-25T07:00:00",
          "2021-08-25T08:00:00",
          "2021-08-25T09:00:00",
          "2021-08-25T10:00:00",
          "2021-08-25T11:00:00",
          "2021-08-25T12:00:00",
          "2021-08-25T13:00:00",
          "2021-08-25T14:00:00",
          "2021-08-25T15:00:00",
          "2021-08-25T16:00:00",
          "2021-08-25T17:00:00",
          "2021-08-25T18:00:00",
          "2021-08-25T19:00:00",
          "2021-08-25T20:00:00",
          "2021-08-25T21:00:00",
          "2021-08-25T22:00:00",
          "2021-08-25T23:00:00",
          "2021-08-26T00:00:00",
          "2021-08-26T01:00:00",
          "2021-08-26T03:00:00",
          "2021-08-26T04:00:00",
          "2021-08-26T05:00:00",
          "2021-08-26T06:00:00",
          "2021-08-26T07:00:00",
          "2021-08-26T08:00:00",
          "2021-08-26T09:00:00",
          "2021-08-26T10:00:00",
          "2021-08-26T11:00:00",
          "2021-08-26T12:00:00",
          "2021-08-26T13:00:00",
          "2021-08-26T14:00:00",
          "2021-08-26T15:00:00",
          "2021-08-26T16:00:00",
          "2021-08-26T17:00:00",
          "2021-08-26T18:00:00",
          "2021-08-26T19:00:00",
          "2021-08-26T20:00:00",
          "2021-08-26T21:00:00",
          "2021-08-26T22:00:00",
          "2021-08-26T23:00:00",
          "2021-08-27T00:00:00",
          "2021-08-27T01:00:00",
          "2021-08-27T02:00:00",
          "2021-08-27T03:00:00",
          "2021-08-27T04:00:00",
          "2021-08-27T05:00:00",
          "2021-08-27T06:00:00",
          "2021-08-27T07:00:00",
          "2021-08-27T08:00:00",
          "2021-08-27T09:00:00",
          "2021-08-27T10:00:00",
          "2021-08-27T11:00:00",
          "2021-08-27T12:00:00",
          "2021-08-27T13:00:00",
          "2021-08-27T14:00:00",
          "2021-08-27T15:00:00",
          "2021-08-27T16:00:00",
          "2021-08-27T17:00:00",
          "2021-08-27T18:00:00",
          "2021-08-27T19:00:00",
          "2021-08-27T20:00:00",
          "2021-08-27T21:00:00",
          "2021-08-27T22:00:00",
          "2021-08-27T23:00:00",
          "2021-08-28T00:00:00",
          "2021-08-28T01:00:00",
          "2021-08-28T02:00:00",
          "2021-08-28T03:00:00",
          "2021-08-28T04:00:00",
          "2021-08-28T05:00:00",
          "2021-08-28T06:00:00",
          "2021-08-28T07:00:00",
          "2021-08-28T08:00:00",
          "2021-08-28T09:00:00",
          "2021-08-28T10:00:00",
          "2021-08-28T11:00:00",
          "2021-08-28T12:00:00",
          "2021-08-28T13:00:00",
          "2021-08-28T14:00:00",
          "2021-08-28T15:00:00",
          "2021-08-28T16:00:00",
          "2021-08-28T17:00:00",
          "2021-08-28T18:00:00",
          "2021-08-28T19:00:00",
          "2021-08-28T20:00:00",
          "2021-08-28T21:00:00",
          "2021-08-28T22:00:00",
          "2021-08-28T23:00:00",
          "2021-08-29T00:00:00",
          "2021-08-29T01:00:00",
          "2021-08-29T02:00:00",
          "2021-08-29T03:00:00",
          "2021-08-29T04:00:00",
          "2021-08-29T05:00:00",
          "2021-08-29T06:00:00",
          "2021-08-29T07:00:00",
          "2021-08-29T08:00:00",
          "2021-08-29T09:00:00",
          "2021-08-29T10:00:00",
          "2021-08-29T11:00:00",
          "2021-08-29T12:00:00",
          "2021-08-29T13:00:00",
          "2021-08-29T14:00:00",
          "2021-08-29T15:00:00",
          "2021-08-29T16:00:00",
          "2021-08-29T17:00:00",
          "2021-08-29T18:00:00",
          "2021-08-29T19:00:00",
          "2021-08-29T20:00:00",
          "2021-08-29T21:00:00",
          "2021-08-29T22:00:00",
          "2021-08-29T23:00:00",
          "2021-08-30T00:00:00",
          "2021-08-30T01:00:00",
          "2021-08-30T02:00:00",
          "2021-08-30T03:00:00",
          "2021-08-30T04:00:00",
          "2021-08-30T05:00:00",
          "2021-08-30T06:00:00",
          "2021-08-30T07:00:00",
          "2021-08-30T08:00:00",
          "2021-08-30T09:00:00",
          "2021-08-30T10:00:00",
          "2021-08-30T11:00:00",
          "2021-08-30T12:00:00",
          "2021-08-30T13:00:00",
          "2021-08-30T14:00:00",
          "2021-08-30T15:00:00",
          "2021-08-30T16:00:00",
          "2021-08-30T17:00:00",
          "2021-08-30T18:00:00",
          "2021-08-30T19:00:00",
          "2021-08-30T20:00:00",
          "2021-08-30T21:00:00",
          "2021-08-30T22:00:00",
          "2021-08-30T23:00:00",
          "2021-08-31T00:00:00",
          "2021-08-31T01:00:00",
          "2021-08-31T03:00:00",
          "2021-08-31T05:00:00",
          "2021-08-31T06:00:00",
          "2021-08-31T07:00:00",
          "2021-08-31T08:00:00",
          "2021-08-31T09:00:00",
          "2021-08-31T10:00:00",
          "2021-08-31T11:00:00",
          "2021-08-31T12:00:00",
          "2021-08-31T13:00:00",
          "2021-08-31T14:00:00",
          "2021-08-31T15:00:00",
          "2021-08-31T16:00:00",
          "2021-08-31T17:00:00",
          "2021-08-31T18:00:00",
          "2021-08-31T19:00:00",
          "2021-08-31T20:00:00",
          "2021-08-31T21:00:00",
          "2021-08-31T22:00:00",
          "2021-08-31T23:00:00",
          "2021-09-01T00:00:00",
          "2021-09-01T01:00:00",
          "2021-09-01T02:00:00",
          "2021-09-01T04:00:00",
          "2021-09-01T05:00:00",
          "2021-09-01T07:00:00",
          "2021-09-01T08:00:00",
          "2021-09-01T09:00:00",
          "2021-09-01T10:00:00",
          "2021-09-01T11:00:00",
          "2021-09-01T12:00:00",
          "2021-09-01T13:00:00",
          "2021-09-01T14:00:00",
          "2021-09-01T15:00:00",
          "2021-09-01T16:00:00",
          "2021-09-01T17:00:00",
          "2021-09-01T18:00:00",
          "2021-09-01T19:00:00",
          "2021-09-01T20:00:00",
          "2021-09-01T21:00:00",
          "2021-09-01T22:00:00",
          "2021-09-01T23:00:00",
          "2021-09-02T02:00:00",
          "2021-09-02T06:00:00",
          "2021-09-02T07:00:00",
          "2021-09-02T08:00:00",
          "2021-09-02T09:00:00",
          "2021-09-02T10:00:00",
          "2021-09-02T11:00:00",
          "2021-09-02T12:00:00",
          "2021-09-02T13:00:00",
          "2021-09-02T14:00:00",
          "2021-09-02T15:00:00",
          "2021-09-02T16:00:00",
          "2021-09-02T17:00:00",
          "2021-09-02T18:00:00",
          "2021-09-02T19:00:00",
          "2021-09-02T20:00:00",
          "2021-09-02T21:00:00",
          "2021-09-02T22:00:00",
          "2021-09-02T23:00:00",
          "2021-09-03T00:00:00",
          "2021-09-03T02:00:00",
          "2021-09-03T06:00:00",
          "2021-09-03T07:00:00",
          "2021-09-03T08:00:00",
          "2021-09-03T09:00:00",
          "2021-09-03T10:00:00",
          "2021-09-03T11:00:00",
          "2021-09-03T12:00:00",
          "2021-09-03T13:00:00",
          "2021-09-03T14:00:00",
          "2021-09-03T15:00:00",
          "2021-09-03T16:00:00",
          "2021-09-03T17:00:00",
          "2021-09-03T18:00:00",
          "2021-09-03T19:00:00",
          "2021-09-03T20:00:00",
          "2021-09-03T21:00:00",
          "2021-09-03T22:00:00"
         ],
         "xaxis": "x",
         "y": [
          269,
          26,
          36,
          14,
          1,
          7,
          0,
          1,
          1,
          0,
          1,
          1,
          0,
          0,
          6,
          11,
          65,
          27,
          63,
          88,
          195,
          53,
          79,
          78,
          78,
          43,
          73,
          75,
          45,
          32,
          63,
          34,
          43,
          19,
          11,
          2,
          32,
          39,
          209,
          266,
          91,
          183,
          304,
          309,
          291,
          214,
          313,
          226,
          255,
          98,
          209,
          202,
          301,
          239,
          167,
          68,
          49,
          21,
          8,
          19,
          35,
          44,
          193,
          220,
          375,
          327,
          270,
          195,
          204,
          194,
          226,
          147,
          193,
          270,
          205,
          172,
          289,
          275,
          426,
          85,
          43,
          42,
          5,
          30,
          93,
          31,
          146,
          93,
          257,
          275,
          257,
          124,
          294,
          152,
          508,
          466,
          442,
          280,
          327,
          351,
          672,
          558,
          625,
          320,
          196,
          159,
          128,
          65,
          78,
          151,
          226,
          289,
          397,
          376,
          235,
          341,
          353,
          544,
          626,
          392,
          352,
          829,
          459,
          311,
          353,
          497,
          220,
          68,
          74,
          60,
          3,
          2,
          14,
          3,
          17,
          114,
          101,
          195,
          136,
          93,
          172,
          46,
          21,
          19,
          52,
          6,
          11,
          5,
          9,
          4,
          9,
          0,
          1,
          0,
          0,
          0,
          0,
          2,
          9,
          5,
          5,
          3,
          9,
          24,
          3,
          6,
          8,
          7,
          3,
          9,
          0,
          4,
          0,
          0,
          10,
          6,
          0,
          10,
          0,
          3,
          1,
          12,
          38,
          3,
          15,
          26,
          3,
          1,
          0,
          0,
          2,
          4,
          2,
          8,
          10,
          7,
          0,
          4,
          4,
          7,
          6,
          3,
          5,
          0,
          0,
          0,
          1,
          0,
          0,
          0,
          0,
          5,
          7,
          10,
          0,
          0,
          2,
          0,
          0,
          15,
          2,
          29,
          10,
          2,
          4,
          0,
          1,
          0,
          0,
          0,
          0,
          0,
          0,
          10
         ],
         "yaxis": "y"
        }
       ],
       "layout": {
        "legend": {
         "tracegroupgap": 0
        },
        "margin": {
         "t": 60
        },
        "template": {
         "data": {
          "bar": [
           {
            "error_x": {
             "color": "#2a3f5f"
            },
            "error_y": {
             "color": "#2a3f5f"
            },
            "marker": {
             "line": {
              "color": "#E5ECF6",
              "width": 0.5
             }
            },
            "type": "bar"
           }
          ],
          "barpolar": [
           {
            "marker": {
             "line": {
              "color": "#E5ECF6",
              "width": 0.5
             }
            },
            "type": "barpolar"
           }
          ],
          "carpet": [
           {
            "aaxis": {
             "endlinecolor": "#2a3f5f",
             "gridcolor": "white",
             "linecolor": "white",
             "minorgridcolor": "white",
             "startlinecolor": "#2a3f5f"
            },
            "baxis": {
             "endlinecolor": "#2a3f5f",
             "gridcolor": "white",
             "linecolor": "white",
             "minorgridcolor": "white",
             "startlinecolor": "#2a3f5f"
            },
            "type": "carpet"
           }
          ],
          "choropleth": [
           {
            "colorbar": {
             "outlinewidth": 0,
             "ticks": ""
            },
            "type": "choropleth"
           }
          ],
          "contour": [
           {
            "colorbar": {
             "outlinewidth": 0,
             "ticks": ""
            },
            "colorscale": [
             [
              0,
              "#0d0887"
             ],
             [
              0.1111111111111111,
              "#46039f"
             ],
             [
              0.2222222222222222,
              "#7201a8"
             ],
             [
              0.3333333333333333,
              "#9c179e"
             ],
             [
              0.4444444444444444,
              "#bd3786"
             ],
             [
              0.5555555555555556,
              "#d8576b"
             ],
             [
              0.6666666666666666,
              "#ed7953"
             ],
             [
              0.7777777777777778,
              "#fb9f3a"
             ],
             [
              0.8888888888888888,
              "#fdca26"
             ],
             [
              1,
              "#f0f921"
             ]
            ],
            "type": "contour"
           }
          ],
          "contourcarpet": [
           {
            "colorbar": {
             "outlinewidth": 0,
             "ticks": ""
            },
            "type": "contourcarpet"
           }
          ],
          "heatmap": [
           {
            "colorbar": {
             "outlinewidth": 0,
             "ticks": ""
            },
            "colorscale": [
             [
              0,
              "#0d0887"
             ],
             [
              0.1111111111111111,
              "#46039f"
             ],
             [
              0.2222222222222222,
              "#7201a8"
             ],
             [
              0.3333333333333333,
              "#9c179e"
             ],
             [
              0.4444444444444444,
              "#bd3786"
             ],
             [
              0.5555555555555556,
              "#d8576b"
             ],
             [
              0.6666666666666666,
              "#ed7953"
             ],
             [
              0.7777777777777778,
              "#fb9f3a"
             ],
             [
              0.8888888888888888,
              "#fdca26"
             ],
             [
              1,
              "#f0f921"
             ]
            ],
            "type": "heatmap"
           }
          ],
          "heatmapgl": [
           {
            "colorbar": {
             "outlinewidth": 0,
             "ticks": ""
            },
            "colorscale": [
             [
              0,
              "#0d0887"
             ],
             [
              0.1111111111111111,
              "#46039f"
             ],
             [
              0.2222222222222222,
              "#7201a8"
             ],
             [
              0.3333333333333333,
              "#9c179e"
             ],
             [
              0.4444444444444444,
              "#bd3786"
             ],
             [
              0.5555555555555556,
              "#d8576b"
             ],
             [
              0.6666666666666666,
              "#ed7953"
             ],
             [
              0.7777777777777778,
              "#fb9f3a"
             ],
             [
              0.8888888888888888,
              "#fdca26"
             ],
             [
              1,
              "#f0f921"
             ]
            ],
            "type": "heatmapgl"
           }
          ],
          "histogram": [
           {
            "marker": {
             "colorbar": {
              "outlinewidth": 0,
              "ticks": ""
             }
            },
            "type": "histogram"
           }
          ],
          "histogram2d": [
           {
            "colorbar": {
             "outlinewidth": 0,
             "ticks": ""
            },
            "colorscale": [
             [
              0,
              "#0d0887"
             ],
             [
              0.1111111111111111,
              "#46039f"
             ],
             [
              0.2222222222222222,
              "#7201a8"
             ],
             [
              0.3333333333333333,
              "#9c179e"
             ],
             [
              0.4444444444444444,
              "#bd3786"
             ],
             [
              0.5555555555555556,
              "#d8576b"
             ],
             [
              0.6666666666666666,
              "#ed7953"
             ],
             [
              0.7777777777777778,
              "#fb9f3a"
             ],
             [
              0.8888888888888888,
              "#fdca26"
             ],
             [
              1,
              "#f0f921"
             ]
            ],
            "type": "histogram2d"
           }
          ],
          "histogram2dcontour": [
           {
            "colorbar": {
             "outlinewidth": 0,
             "ticks": ""
            },
            "colorscale": [
             [
              0,
              "#0d0887"
             ],
             [
              0.1111111111111111,
              "#46039f"
             ],
             [
              0.2222222222222222,
              "#7201a8"
             ],
             [
              0.3333333333333333,
              "#9c179e"
             ],
             [
              0.4444444444444444,
              "#bd3786"
             ],
             [
              0.5555555555555556,
              "#d8576b"
             ],
             [
              0.6666666666666666,
              "#ed7953"
             ],
             [
              0.7777777777777778,
              "#fb9f3a"
             ],
             [
              0.8888888888888888,
              "#fdca26"
             ],
             [
              1,
              "#f0f921"
             ]
            ],
            "type": "histogram2dcontour"
           }
          ],
          "mesh3d": [
           {
            "colorbar": {
             "outlinewidth": 0,
             "ticks": ""
            },
            "type": "mesh3d"
           }
          ],
          "parcoords": [
           {
            "line": {
             "colorbar": {
              "outlinewidth": 0,
              "ticks": ""
             }
            },
            "type": "parcoords"
           }
          ],
          "pie": [
           {
            "automargin": true,
            "type": "pie"
           }
          ],
          "scatter": [
           {
            "marker": {
             "colorbar": {
              "outlinewidth": 0,
              "ticks": ""
             }
            },
            "type": "scatter"
           }
          ],
          "scatter3d": [
           {
            "line": {
             "colorbar": {
              "outlinewidth": 0,
              "ticks": ""
             }
            },
            "marker": {
             "colorbar": {
              "outlinewidth": 0,
              "ticks": ""
             }
            },
            "type": "scatter3d"
           }
          ],
          "scattercarpet": [
           {
            "marker": {
             "colorbar": {
              "outlinewidth": 0,
              "ticks": ""
             }
            },
            "type": "scattercarpet"
           }
          ],
          "scattergeo": [
           {
            "marker": {
             "colorbar": {
              "outlinewidth": 0,
              "ticks": ""
             }
            },
            "type": "scattergeo"
           }
          ],
          "scattergl": [
           {
            "marker": {
             "colorbar": {
              "outlinewidth": 0,
              "ticks": ""
             }
            },
            "type": "scattergl"
           }
          ],
          "scattermapbox": [
           {
            "marker": {
             "colorbar": {
              "outlinewidth": 0,
              "ticks": ""
             }
            },
            "type": "scattermapbox"
           }
          ],
          "scatterpolar": [
           {
            "marker": {
             "colorbar": {
              "outlinewidth": 0,
              "ticks": ""
             }
            },
            "type": "scatterpolar"
           }
          ],
          "scatterpolargl": [
           {
            "marker": {
             "colorbar": {
              "outlinewidth": 0,
              "ticks": ""
             }
            },
            "type": "scatterpolargl"
           }
          ],
          "scatterternary": [
           {
            "marker": {
             "colorbar": {
              "outlinewidth": 0,
              "ticks": ""
             }
            },
            "type": "scatterternary"
           }
          ],
          "surface": [
           {
            "colorbar": {
             "outlinewidth": 0,
             "ticks": ""
            },
            "colorscale": [
             [
              0,
              "#0d0887"
             ],
             [
              0.1111111111111111,
              "#46039f"
             ],
             [
              0.2222222222222222,
              "#7201a8"
             ],
             [
              0.3333333333333333,
              "#9c179e"
             ],
             [
              0.4444444444444444,
              "#bd3786"
             ],
             [
              0.5555555555555556,
              "#d8576b"
             ],
             [
              0.6666666666666666,
              "#ed7953"
             ],
             [
              0.7777777777777778,
              "#fb9f3a"
             ],
             [
              0.8888888888888888,
              "#fdca26"
             ],
             [
              1,
              "#f0f921"
             ]
            ],
            "type": "surface"
           }
          ],
          "table": [
           {
            "cells": {
             "fill": {
              "color": "#EBF0F8"
             },
             "line": {
              "color": "white"
             }
            },
            "header": {
             "fill": {
              "color": "#C8D4E3"
             },
             "line": {
              "color": "white"
             }
            },
            "type": "table"
           }
          ]
         },
         "layout": {
          "annotationdefaults": {
           "arrowcolor": "#2a3f5f",
           "arrowhead": 0,
           "arrowwidth": 1
          },
          "coloraxis": {
           "colorbar": {
            "outlinewidth": 0,
            "ticks": ""
           }
          },
          "colorscale": {
           "diverging": [
            [
             0,
             "#8e0152"
            ],
            [
             0.1,
             "#c51b7d"
            ],
            [
             0.2,
             "#de77ae"
            ],
            [
             0.3,
             "#f1b6da"
            ],
            [
             0.4,
             "#fde0ef"
            ],
            [
             0.5,
             "#f7f7f7"
            ],
            [
             0.6,
             "#e6f5d0"
            ],
            [
             0.7,
             "#b8e186"
            ],
            [
             0.8,
             "#7fbc41"
            ],
            [
             0.9,
             "#4d9221"
            ],
            [
             1,
             "#276419"
            ]
           ],
           "sequential": [
            [
             0,
             "#0d0887"
            ],
            [
             0.1111111111111111,
             "#46039f"
            ],
            [
             0.2222222222222222,
             "#7201a8"
            ],
            [
             0.3333333333333333,
             "#9c179e"
            ],
            [
             0.4444444444444444,
             "#bd3786"
            ],
            [
             0.5555555555555556,
             "#d8576b"
            ],
            [
             0.6666666666666666,
             "#ed7953"
            ],
            [
             0.7777777777777778,
             "#fb9f3a"
            ],
            [
             0.8888888888888888,
             "#fdca26"
            ],
            [
             1,
             "#f0f921"
            ]
           ],
           "sequentialminus": [
            [
             0,
             "#0d0887"
            ],
            [
             0.1111111111111111,
             "#46039f"
            ],
            [
             0.2222222222222222,
             "#7201a8"
            ],
            [
             0.3333333333333333,
             "#9c179e"
            ],
            [
             0.4444444444444444,
             "#bd3786"
            ],
            [
             0.5555555555555556,
             "#d8576b"
            ],
            [
             0.6666666666666666,
             "#ed7953"
            ],
            [
             0.7777777777777778,
             "#fb9f3a"
            ],
            [
             0.8888888888888888,
             "#fdca26"
            ],
            [
             1,
             "#f0f921"
            ]
           ]
          },
          "colorway": [
           "#636efa",
           "#EF553B",
           "#00cc96",
           "#ab63fa",
           "#FFA15A",
           "#19d3f3",
           "#FF6692",
           "#B6E880",
           "#FF97FF",
           "#FECB52"
          ],
          "font": {
           "color": "#2a3f5f"
          },
          "geo": {
           "bgcolor": "white",
           "lakecolor": "white",
           "landcolor": "#E5ECF6",
           "showlakes": true,
           "showland": true,
           "subunitcolor": "white"
          },
          "hoverlabel": {
           "align": "left"
          },
          "hovermode": "closest",
          "mapbox": {
           "style": "light"
          },
          "paper_bgcolor": "white",
          "plot_bgcolor": "#E5ECF6",
          "polar": {
           "angularaxis": {
            "gridcolor": "white",
            "linecolor": "white",
            "ticks": ""
           },
           "bgcolor": "#E5ECF6",
           "radialaxis": {
            "gridcolor": "white",
            "linecolor": "white",
            "ticks": ""
           }
          },
          "scene": {
           "xaxis": {
            "backgroundcolor": "#E5ECF6",
            "gridcolor": "white",
            "gridwidth": 2,
            "linecolor": "white",
            "showbackground": true,
            "ticks": "",
            "zerolinecolor": "white"
           },
           "yaxis": {
            "backgroundcolor": "#E5ECF6",
            "gridcolor": "white",
            "gridwidth": 2,
            "linecolor": "white",
            "showbackground": true,
            "ticks": "",
            "zerolinecolor": "white"
           },
           "zaxis": {
            "backgroundcolor": "#E5ECF6",
            "gridcolor": "white",
            "gridwidth": 2,
            "linecolor": "white",
            "showbackground": true,
            "ticks": "",
            "zerolinecolor": "white"
           }
          },
          "shapedefaults": {
           "line": {
            "color": "#2a3f5f"
           }
          },
          "ternary": {
           "aaxis": {
            "gridcolor": "white",
            "linecolor": "white",
            "ticks": ""
           },
           "baxis": {
            "gridcolor": "white",
            "linecolor": "white",
            "ticks": ""
           },
           "bgcolor": "#E5ECF6",
           "caxis": {
            "gridcolor": "white",
            "linecolor": "white",
            "ticks": ""
           }
          },
          "title": {
           "x": 0.05
          },
          "xaxis": {
           "automargin": true,
           "gridcolor": "white",
           "linecolor": "white",
           "ticks": "",
           "title": {
            "standoff": 15
           },
           "zerolinecolor": "white",
           "zerolinewidth": 2
          },
          "yaxis": {
           "automargin": true,
           "gridcolor": "white",
           "linecolor": "white",
           "ticks": "",
           "title": {
            "standoff": 15
           },
           "zerolinecolor": "white",
           "zerolinewidth": 2
          }
         }
        },
        "xaxis": {
         "anchor": "y",
         "domain": [
          0,
          1
         ],
         "title": {
          "text": "Post Hour"
         }
        },
        "yaxis": {
         "anchor": "x",
         "domain": [
          0,
          1
         ],
         "title": {
          "text": "Total Thumbs Down"
         }
        }
       }
      },
      "text/html": [
       "<div>                            <div id=\"04d9aa37-24f2-467b-a728-00cbe4ed20ee\" class=\"plotly-graph-div\" style=\"height:525px; width:100%;\"></div>            <script type=\"text/javascript\">                require([\"plotly\"], function(Plotly) {                    window.PLOTLYENV=window.PLOTLYENV || {};                                    if (document.getElementById(\"04d9aa37-24f2-467b-a728-00cbe4ed20ee\")) {                    Plotly.newPlot(                        \"04d9aa37-24f2-467b-a728-00cbe4ed20ee\",                        [{\"hovertemplate\": \"Post Hour=%{x}<br>Total Thumbs Down=%{y}<extra></extra>\", \"legendgroup\": \"\", \"line\": {\"color\": \"#636efa\", \"dash\": \"solid\"}, \"mode\": \"lines\", \"name\": \"\", \"orientation\": \"v\", \"showlegend\": false, \"type\": \"scatter\", \"x\": [\"2021-08-24T15:00:00\", \"2021-08-24T16:00:00\", \"2021-08-24T17:00:00\", \"2021-08-24T18:00:00\", \"2021-08-24T19:00:00\", \"2021-08-24T20:00:00\", \"2021-08-24T21:00:00\", \"2021-08-24T22:00:00\", \"2021-08-24T23:00:00\", \"2021-08-25T00:00:00\", \"2021-08-25T01:00:00\", \"2021-08-25T02:00:00\", \"2021-08-25T03:00:00\", \"2021-08-25T04:00:00\", \"2021-08-25T05:00:00\", \"2021-08-25T06:00:00\", \"2021-08-25T07:00:00\", \"2021-08-25T08:00:00\", \"2021-08-25T09:00:00\", \"2021-08-25T10:00:00\", \"2021-08-25T11:00:00\", \"2021-08-25T12:00:00\", \"2021-08-25T13:00:00\", \"2021-08-25T14:00:00\", \"2021-08-25T15:00:00\", \"2021-08-25T16:00:00\", \"2021-08-25T17:00:00\", \"2021-08-25T18:00:00\", \"2021-08-25T19:00:00\", \"2021-08-25T20:00:00\", \"2021-08-25T21:00:00\", \"2021-08-25T22:00:00\", \"2021-08-25T23:00:00\", \"2021-08-26T00:00:00\", \"2021-08-26T01:00:00\", \"2021-08-26T03:00:00\", \"2021-08-26T04:00:00\", \"2021-08-26T05:00:00\", \"2021-08-26T06:00:00\", \"2021-08-26T07:00:00\", \"2021-08-26T08:00:00\", \"2021-08-26T09:00:00\", \"2021-08-26T10:00:00\", \"2021-08-26T11:00:00\", \"2021-08-26T12:00:00\", \"2021-08-26T13:00:00\", \"2021-08-26T14:00:00\", \"2021-08-26T15:00:00\", \"2021-08-26T16:00:00\", \"2021-08-26T17:00:00\", \"2021-08-26T18:00:00\", \"2021-08-26T19:00:00\", \"2021-08-26T20:00:00\", \"2021-08-26T21:00:00\", \"2021-08-26T22:00:00\", \"2021-08-26T23:00:00\", \"2021-08-27T00:00:00\", \"2021-08-27T01:00:00\", \"2021-08-27T02:00:00\", \"2021-08-27T03:00:00\", \"2021-08-27T04:00:00\", \"2021-08-27T05:00:00\", \"2021-08-27T06:00:00\", \"2021-08-27T07:00:00\", \"2021-08-27T08:00:00\", \"2021-08-27T09:00:00\", \"2021-08-27T10:00:00\", \"2021-08-27T11:00:00\", \"2021-08-27T12:00:00\", \"2021-08-27T13:00:00\", \"2021-08-27T14:00:00\", \"2021-08-27T15:00:00\", \"2021-08-27T16:00:00\", \"2021-08-27T17:00:00\", \"2021-08-27T18:00:00\", \"2021-08-27T19:00:00\", \"2021-08-27T20:00:00\", \"2021-08-27T21:00:00\", \"2021-08-27T22:00:00\", \"2021-08-27T23:00:00\", \"2021-08-28T00:00:00\", \"2021-08-28T01:00:00\", \"2021-08-28T02:00:00\", \"2021-08-28T03:00:00\", \"2021-08-28T04:00:00\", \"2021-08-28T05:00:00\", \"2021-08-28T06:00:00\", \"2021-08-28T07:00:00\", \"2021-08-28T08:00:00\", \"2021-08-28T09:00:00\", \"2021-08-28T10:00:00\", \"2021-08-28T11:00:00\", \"2021-08-28T12:00:00\", \"2021-08-28T13:00:00\", \"2021-08-28T14:00:00\", \"2021-08-28T15:00:00\", \"2021-08-28T16:00:00\", \"2021-08-28T17:00:00\", \"2021-08-28T18:00:00\", \"2021-08-28T19:00:00\", \"2021-08-28T20:00:00\", \"2021-08-28T21:00:00\", \"2021-08-28T22:00:00\", \"2021-08-28T23:00:00\", \"2021-08-29T00:00:00\", \"2021-08-29T01:00:00\", \"2021-08-29T02:00:00\", \"2021-08-29T03:00:00\", \"2021-08-29T04:00:00\", \"2021-08-29T05:00:00\", \"2021-08-29T06:00:00\", \"2021-08-29T07:00:00\", \"2021-08-29T08:00:00\", \"2021-08-29T09:00:00\", \"2021-08-29T10:00:00\", \"2021-08-29T11:00:00\", \"2021-08-29T12:00:00\", \"2021-08-29T13:00:00\", \"2021-08-29T14:00:00\", \"2021-08-29T15:00:00\", \"2021-08-29T16:00:00\", \"2021-08-29T17:00:00\", \"2021-08-29T18:00:00\", \"2021-08-29T19:00:00\", \"2021-08-29T20:00:00\", \"2021-08-29T21:00:00\", \"2021-08-29T22:00:00\", \"2021-08-29T23:00:00\", \"2021-08-30T00:00:00\", \"2021-08-30T01:00:00\", \"2021-08-30T02:00:00\", \"2021-08-30T03:00:00\", \"2021-08-30T04:00:00\", \"2021-08-30T05:00:00\", \"2021-08-30T06:00:00\", \"2021-08-30T07:00:00\", \"2021-08-30T08:00:00\", \"2021-08-30T09:00:00\", \"2021-08-30T10:00:00\", \"2021-08-30T11:00:00\", \"2021-08-30T12:00:00\", \"2021-08-30T13:00:00\", \"2021-08-30T14:00:00\", \"2021-08-30T15:00:00\", \"2021-08-30T16:00:00\", \"2021-08-30T17:00:00\", \"2021-08-30T18:00:00\", \"2021-08-30T19:00:00\", \"2021-08-30T20:00:00\", \"2021-08-30T21:00:00\", \"2021-08-30T22:00:00\", \"2021-08-30T23:00:00\", \"2021-08-31T00:00:00\", \"2021-08-31T01:00:00\", \"2021-08-31T03:00:00\", \"2021-08-31T05:00:00\", \"2021-08-31T06:00:00\", \"2021-08-31T07:00:00\", \"2021-08-31T08:00:00\", \"2021-08-31T09:00:00\", \"2021-08-31T10:00:00\", \"2021-08-31T11:00:00\", \"2021-08-31T12:00:00\", \"2021-08-31T13:00:00\", \"2021-08-31T14:00:00\", \"2021-08-31T15:00:00\", \"2021-08-31T16:00:00\", \"2021-08-31T17:00:00\", \"2021-08-31T18:00:00\", \"2021-08-31T19:00:00\", \"2021-08-31T20:00:00\", \"2021-08-31T21:00:00\", \"2021-08-31T22:00:00\", \"2021-08-31T23:00:00\", \"2021-09-01T00:00:00\", \"2021-09-01T01:00:00\", \"2021-09-01T02:00:00\", \"2021-09-01T04:00:00\", \"2021-09-01T05:00:00\", \"2021-09-01T07:00:00\", \"2021-09-01T08:00:00\", \"2021-09-01T09:00:00\", \"2021-09-01T10:00:00\", \"2021-09-01T11:00:00\", \"2021-09-01T12:00:00\", \"2021-09-01T13:00:00\", \"2021-09-01T14:00:00\", \"2021-09-01T15:00:00\", \"2021-09-01T16:00:00\", \"2021-09-01T17:00:00\", \"2021-09-01T18:00:00\", \"2021-09-01T19:00:00\", \"2021-09-01T20:00:00\", \"2021-09-01T21:00:00\", \"2021-09-01T22:00:00\", \"2021-09-01T23:00:00\", \"2021-09-02T02:00:00\", \"2021-09-02T06:00:00\", \"2021-09-02T07:00:00\", \"2021-09-02T08:00:00\", \"2021-09-02T09:00:00\", \"2021-09-02T10:00:00\", \"2021-09-02T11:00:00\", \"2021-09-02T12:00:00\", \"2021-09-02T13:00:00\", \"2021-09-02T14:00:00\", \"2021-09-02T15:00:00\", \"2021-09-02T16:00:00\", \"2021-09-02T17:00:00\", \"2021-09-02T18:00:00\", \"2021-09-02T19:00:00\", \"2021-09-02T20:00:00\", \"2021-09-02T21:00:00\", \"2021-09-02T22:00:00\", \"2021-09-02T23:00:00\", \"2021-09-03T00:00:00\", \"2021-09-03T02:00:00\", \"2021-09-03T06:00:00\", \"2021-09-03T07:00:00\", \"2021-09-03T08:00:00\", \"2021-09-03T09:00:00\", \"2021-09-03T10:00:00\", \"2021-09-03T11:00:00\", \"2021-09-03T12:00:00\", \"2021-09-03T13:00:00\", \"2021-09-03T14:00:00\", \"2021-09-03T15:00:00\", \"2021-09-03T16:00:00\", \"2021-09-03T17:00:00\", \"2021-09-03T18:00:00\", \"2021-09-03T19:00:00\", \"2021-09-03T20:00:00\", \"2021-09-03T21:00:00\", \"2021-09-03T22:00:00\"], \"xaxis\": \"x\", \"y\": [269, 26, 36, 14, 1, 7, 0, 1, 1, 0, 1, 1, 0, 0, 6, 11, 65, 27, 63, 88, 195, 53, 79, 78, 78, 43, 73, 75, 45, 32, 63, 34, 43, 19, 11, 2, 32, 39, 209, 266, 91, 183, 304, 309, 291, 214, 313, 226, 255, 98, 209, 202, 301, 239, 167, 68, 49, 21, 8, 19, 35, 44, 193, 220, 375, 327, 270, 195, 204, 194, 226, 147, 193, 270, 205, 172, 289, 275, 426, 85, 43, 42, 5, 30, 93, 31, 146, 93, 257, 275, 257, 124, 294, 152, 508, 466, 442, 280, 327, 351, 672, 558, 625, 320, 196, 159, 128, 65, 78, 151, 226, 289, 397, 376, 235, 341, 353, 544, 626, 392, 352, 829, 459, 311, 353, 497, 220, 68, 74, 60, 3, 2, 14, 3, 17, 114, 101, 195, 136, 93, 172, 46, 21, 19, 52, 6, 11, 5, 9, 4, 9, 0, 1, 0, 0, 0, 0, 2, 9, 5, 5, 3, 9, 24, 3, 6, 8, 7, 3, 9, 0, 4, 0, 0, 10, 6, 0, 10, 0, 3, 1, 12, 38, 3, 15, 26, 3, 1, 0, 0, 2, 4, 2, 8, 10, 7, 0, 4, 4, 7, 6, 3, 5, 0, 0, 0, 1, 0, 0, 0, 0, 5, 7, 10, 0, 0, 2, 0, 0, 15, 2, 29, 10, 2, 4, 0, 1, 0, 0, 0, 0, 0, 0, 10], \"yaxis\": \"y\"}],                        {\"legend\": {\"tracegroupgap\": 0}, \"margin\": {\"t\": 60}, \"template\": {\"data\": {\"bar\": [{\"error_x\": {\"color\": \"#2a3f5f\"}, \"error_y\": {\"color\": \"#2a3f5f\"}, \"marker\": {\"line\": {\"color\": \"#E5ECF6\", \"width\": 0.5}}, \"type\": \"bar\"}], \"barpolar\": [{\"marker\": {\"line\": {\"color\": \"#E5ECF6\", \"width\": 0.5}}, \"type\": \"barpolar\"}], \"carpet\": [{\"aaxis\": {\"endlinecolor\": \"#2a3f5f\", \"gridcolor\": \"white\", \"linecolor\": \"white\", \"minorgridcolor\": \"white\", \"startlinecolor\": \"#2a3f5f\"}, \"baxis\": {\"endlinecolor\": \"#2a3f5f\", \"gridcolor\": \"white\", \"linecolor\": \"white\", \"minorgridcolor\": \"white\", \"startlinecolor\": \"#2a3f5f\"}, \"type\": \"carpet\"}], \"choropleth\": [{\"colorbar\": {\"outlinewidth\": 0, \"ticks\": \"\"}, \"type\": \"choropleth\"}], \"contour\": [{\"colorbar\": {\"outlinewidth\": 0, \"ticks\": \"\"}, \"colorscale\": [[0.0, \"#0d0887\"], [0.1111111111111111, \"#46039f\"], [0.2222222222222222, \"#7201a8\"], [0.3333333333333333, \"#9c179e\"], [0.4444444444444444, \"#bd3786\"], [0.5555555555555556, \"#d8576b\"], [0.6666666666666666, \"#ed7953\"], [0.7777777777777778, \"#fb9f3a\"], [0.8888888888888888, \"#fdca26\"], [1.0, \"#f0f921\"]], \"type\": \"contour\"}], \"contourcarpet\": [{\"colorbar\": {\"outlinewidth\": 0, \"ticks\": \"\"}, \"type\": \"contourcarpet\"}], \"heatmap\": [{\"colorbar\": {\"outlinewidth\": 0, \"ticks\": \"\"}, \"colorscale\": [[0.0, \"#0d0887\"], [0.1111111111111111, \"#46039f\"], [0.2222222222222222, \"#7201a8\"], [0.3333333333333333, \"#9c179e\"], [0.4444444444444444, \"#bd3786\"], [0.5555555555555556, \"#d8576b\"], [0.6666666666666666, \"#ed7953\"], [0.7777777777777778, \"#fb9f3a\"], [0.8888888888888888, \"#fdca26\"], [1.0, \"#f0f921\"]], \"type\": \"heatmap\"}], \"heatmapgl\": [{\"colorbar\": {\"outlinewidth\": 0, \"ticks\": \"\"}, \"colorscale\": [[0.0, \"#0d0887\"], [0.1111111111111111, \"#46039f\"], [0.2222222222222222, \"#7201a8\"], [0.3333333333333333, \"#9c179e\"], [0.4444444444444444, \"#bd3786\"], [0.5555555555555556, \"#d8576b\"], [0.6666666666666666, \"#ed7953\"], [0.7777777777777778, \"#fb9f3a\"], [0.8888888888888888, \"#fdca26\"], [1.0, \"#f0f921\"]], \"type\": \"heatmapgl\"}], \"histogram\": [{\"marker\": {\"colorbar\": {\"outlinewidth\": 0, \"ticks\": \"\"}}, \"type\": \"histogram\"}], \"histogram2d\": [{\"colorbar\": {\"outlinewidth\": 0, \"ticks\": \"\"}, \"colorscale\": [[0.0, \"#0d0887\"], [0.1111111111111111, \"#46039f\"], [0.2222222222222222, \"#7201a8\"], [0.3333333333333333, \"#9c179e\"], [0.4444444444444444, \"#bd3786\"], [0.5555555555555556, \"#d8576b\"], [0.6666666666666666, \"#ed7953\"], [0.7777777777777778, \"#fb9f3a\"], [0.8888888888888888, \"#fdca26\"], [1.0, \"#f0f921\"]], \"type\": \"histogram2d\"}], \"histogram2dcontour\": [{\"colorbar\": {\"outlinewidth\": 0, \"ticks\": \"\"}, \"colorscale\": [[0.0, \"#0d0887\"], [0.1111111111111111, \"#46039f\"], [0.2222222222222222, \"#7201a8\"], [0.3333333333333333, \"#9c179e\"], [0.4444444444444444, \"#bd3786\"], [0.5555555555555556, \"#d8576b\"], [0.6666666666666666, \"#ed7953\"], [0.7777777777777778, \"#fb9f3a\"], [0.8888888888888888, \"#fdca26\"], [1.0, \"#f0f921\"]], \"type\": \"histogram2dcontour\"}], \"mesh3d\": [{\"colorbar\": {\"outlinewidth\": 0, \"ticks\": \"\"}, \"type\": \"mesh3d\"}], \"parcoords\": [{\"line\": {\"colorbar\": {\"outlinewidth\": 0, \"ticks\": \"\"}}, \"type\": \"parcoords\"}], \"pie\": [{\"automargin\": true, \"type\": \"pie\"}], \"scatter\": [{\"marker\": {\"colorbar\": {\"outlinewidth\": 0, \"ticks\": \"\"}}, \"type\": \"scatter\"}], \"scatter3d\": [{\"line\": {\"colorbar\": {\"outlinewidth\": 0, \"ticks\": \"\"}}, \"marker\": {\"colorbar\": {\"outlinewidth\": 0, \"ticks\": \"\"}}, \"type\": \"scatter3d\"}], \"scattercarpet\": [{\"marker\": {\"colorbar\": {\"outlinewidth\": 0, \"ticks\": \"\"}}, \"type\": \"scattercarpet\"}], \"scattergeo\": [{\"marker\": {\"colorbar\": {\"outlinewidth\": 0, \"ticks\": \"\"}}, \"type\": \"scattergeo\"}], \"scattergl\": [{\"marker\": {\"colorbar\": {\"outlinewidth\": 0, \"ticks\": \"\"}}, \"type\": \"scattergl\"}], \"scattermapbox\": [{\"marker\": {\"colorbar\": {\"outlinewidth\": 0, \"ticks\": \"\"}}, \"type\": \"scattermapbox\"}], \"scatterpolar\": [{\"marker\": {\"colorbar\": {\"outlinewidth\": 0, \"ticks\": \"\"}}, \"type\": \"scatterpolar\"}], \"scatterpolargl\": [{\"marker\": {\"colorbar\": {\"outlinewidth\": 0, \"ticks\": \"\"}}, \"type\": \"scatterpolargl\"}], \"scatterternary\": [{\"marker\": {\"colorbar\": {\"outlinewidth\": 0, \"ticks\": \"\"}}, \"type\": \"scatterternary\"}], \"surface\": [{\"colorbar\": {\"outlinewidth\": 0, \"ticks\": \"\"}, \"colorscale\": [[0.0, \"#0d0887\"], [0.1111111111111111, \"#46039f\"], [0.2222222222222222, \"#7201a8\"], [0.3333333333333333, \"#9c179e\"], [0.4444444444444444, \"#bd3786\"], [0.5555555555555556, \"#d8576b\"], [0.6666666666666666, \"#ed7953\"], [0.7777777777777778, \"#fb9f3a\"], [0.8888888888888888, \"#fdca26\"], [1.0, \"#f0f921\"]], \"type\": \"surface\"}], \"table\": [{\"cells\": {\"fill\": {\"color\": \"#EBF0F8\"}, \"line\": {\"color\": \"white\"}}, \"header\": {\"fill\": {\"color\": \"#C8D4E3\"}, \"line\": {\"color\": \"white\"}}, \"type\": \"table\"}]}, \"layout\": {\"annotationdefaults\": {\"arrowcolor\": \"#2a3f5f\", \"arrowhead\": 0, \"arrowwidth\": 1}, \"coloraxis\": {\"colorbar\": {\"outlinewidth\": 0, \"ticks\": \"\"}}, \"colorscale\": {\"diverging\": [[0, \"#8e0152\"], [0.1, \"#c51b7d\"], [0.2, \"#de77ae\"], [0.3, \"#f1b6da\"], [0.4, \"#fde0ef\"], [0.5, \"#f7f7f7\"], [0.6, \"#e6f5d0\"], [0.7, \"#b8e186\"], [0.8, \"#7fbc41\"], [0.9, \"#4d9221\"], [1, \"#276419\"]], \"sequential\": [[0.0, \"#0d0887\"], [0.1111111111111111, \"#46039f\"], [0.2222222222222222, \"#7201a8\"], [0.3333333333333333, \"#9c179e\"], [0.4444444444444444, \"#bd3786\"], [0.5555555555555556, \"#d8576b\"], [0.6666666666666666, \"#ed7953\"], [0.7777777777777778, \"#fb9f3a\"], [0.8888888888888888, \"#fdca26\"], [1.0, \"#f0f921\"]], \"sequentialminus\": [[0.0, \"#0d0887\"], [0.1111111111111111, \"#46039f\"], [0.2222222222222222, \"#7201a8\"], [0.3333333333333333, \"#9c179e\"], [0.4444444444444444, \"#bd3786\"], [0.5555555555555556, \"#d8576b\"], [0.6666666666666666, \"#ed7953\"], [0.7777777777777778, \"#fb9f3a\"], [0.8888888888888888, \"#fdca26\"], [1.0, \"#f0f921\"]]}, \"colorway\": [\"#636efa\", \"#EF553B\", \"#00cc96\", \"#ab63fa\", \"#FFA15A\", \"#19d3f3\", \"#FF6692\", \"#B6E880\", \"#FF97FF\", \"#FECB52\"], \"font\": {\"color\": \"#2a3f5f\"}, \"geo\": {\"bgcolor\": \"white\", \"lakecolor\": \"white\", \"landcolor\": \"#E5ECF6\", \"showlakes\": true, \"showland\": true, \"subunitcolor\": \"white\"}, \"hoverlabel\": {\"align\": \"left\"}, \"hovermode\": \"closest\", \"mapbox\": {\"style\": \"light\"}, \"paper_bgcolor\": \"white\", \"plot_bgcolor\": \"#E5ECF6\", \"polar\": {\"angularaxis\": {\"gridcolor\": \"white\", \"linecolor\": \"white\", \"ticks\": \"\"}, \"bgcolor\": \"#E5ECF6\", \"radialaxis\": {\"gridcolor\": \"white\", \"linecolor\": \"white\", \"ticks\": \"\"}}, \"scene\": {\"xaxis\": {\"backgroundcolor\": \"#E5ECF6\", \"gridcolor\": \"white\", \"gridwidth\": 2, \"linecolor\": \"white\", \"showbackground\": true, \"ticks\": \"\", \"zerolinecolor\": \"white\"}, \"yaxis\": {\"backgroundcolor\": \"#E5ECF6\", \"gridcolor\": \"white\", \"gridwidth\": 2, \"linecolor\": \"white\", \"showbackground\": true, \"ticks\": \"\", \"zerolinecolor\": \"white\"}, \"zaxis\": {\"backgroundcolor\": \"#E5ECF6\", \"gridcolor\": \"white\", \"gridwidth\": 2, \"linecolor\": \"white\", \"showbackground\": true, \"ticks\": \"\", \"zerolinecolor\": \"white\"}}, \"shapedefaults\": {\"line\": {\"color\": \"#2a3f5f\"}}, \"ternary\": {\"aaxis\": {\"gridcolor\": \"white\", \"linecolor\": \"white\", \"ticks\": \"\"}, \"baxis\": {\"gridcolor\": \"white\", \"linecolor\": \"white\", \"ticks\": \"\"}, \"bgcolor\": \"#E5ECF6\", \"caxis\": {\"gridcolor\": \"white\", \"linecolor\": \"white\", \"ticks\": \"\"}}, \"title\": {\"x\": 0.05}, \"xaxis\": {\"automargin\": true, \"gridcolor\": \"white\", \"linecolor\": \"white\", \"ticks\": \"\", \"title\": {\"standoff\": 15}, \"zerolinecolor\": \"white\", \"zerolinewidth\": 2}, \"yaxis\": {\"automargin\": true, \"gridcolor\": \"white\", \"linecolor\": \"white\", \"ticks\": \"\", \"title\": {\"standoff\": 15}, \"zerolinecolor\": \"white\", \"zerolinewidth\": 2}}}, \"xaxis\": {\"anchor\": \"y\", \"domain\": [0.0, 1.0], \"title\": {\"text\": \"Post Hour\"}}, \"yaxis\": {\"anchor\": \"x\", \"domain\": [0.0, 1.0], \"title\": {\"text\": \"Total Thumbs Down\"}}},                        {\"responsive\": true}                    ).then(function(){\n",
       "                            \n",
       "var gd = document.getElementById('04d9aa37-24f2-467b-a728-00cbe4ed20ee');\n",
       "var x = new MutationObserver(function (mutations, observer) {{\n",
       "        var display = window.getComputedStyle(gd).display;\n",
       "        if (!display || display === 'none') {{\n",
       "            console.log([gd, 'removed!']);\n",
       "            Plotly.purge(gd);\n",
       "            observer.disconnect();\n",
       "        }}\n",
       "}});\n",
       "\n",
       "// Listen for the removal of the full notebook cells\n",
       "var notebookContainer = gd.closest('#notebook-container');\n",
       "if (notebookContainer) {{\n",
       "    x.observe(notebookContainer, {childList: true});\n",
       "}}\n",
       "\n",
       "// Listen for the clearing of the current output cell\n",
       "var outputEl = gd.closest('.output');\n",
       "if (outputEl) {{\n",
       "    x.observe(outputEl, {childList: true});\n",
       "}}\n",
       "\n",
       "                        })                };                });            </script>        </div>"
      ]
     },
     "metadata": {},
     "output_type": "display_data"
    },
    {
     "data": {
      "application/vnd.plotly.v1+json": {
       "config": {
        "plotlyServerURL": "https://plot.ly"
       },
       "data": [
        {
         "hovertemplate": "Post Hour=%{x}<br>Total Reactions=%{y}<extra></extra>",
         "legendgroup": "",
         "line": {
          "color": "#636efa",
          "dash": "solid"
         },
         "mode": "lines",
         "name": "",
         "orientation": "v",
         "showlegend": false,
         "type": "scatter",
         "x": [
          "2021-08-24T15:00:00",
          "2021-08-24T16:00:00",
          "2021-08-24T17:00:00",
          "2021-08-24T18:00:00",
          "2021-08-24T19:00:00",
          "2021-08-24T20:00:00",
          "2021-08-24T21:00:00",
          "2021-08-24T22:00:00",
          "2021-08-24T23:00:00",
          "2021-08-25T00:00:00",
          "2021-08-25T01:00:00",
          "2021-08-25T02:00:00",
          "2021-08-25T03:00:00",
          "2021-08-25T04:00:00",
          "2021-08-25T05:00:00",
          "2021-08-25T06:00:00",
          "2021-08-25T07:00:00",
          "2021-08-25T08:00:00",
          "2021-08-25T09:00:00",
          "2021-08-25T10:00:00",
          "2021-08-25T11:00:00",
          "2021-08-25T12:00:00",
          "2021-08-25T13:00:00",
          "2021-08-25T14:00:00",
          "2021-08-25T15:00:00",
          "2021-08-25T16:00:00",
          "2021-08-25T17:00:00",
          "2021-08-25T18:00:00",
          "2021-08-25T19:00:00",
          "2021-08-25T20:00:00",
          "2021-08-25T21:00:00",
          "2021-08-25T22:00:00",
          "2021-08-25T23:00:00",
          "2021-08-26T00:00:00",
          "2021-08-26T01:00:00",
          "2021-08-26T03:00:00",
          "2021-08-26T04:00:00",
          "2021-08-26T05:00:00",
          "2021-08-26T06:00:00",
          "2021-08-26T07:00:00",
          "2021-08-26T08:00:00",
          "2021-08-26T09:00:00",
          "2021-08-26T10:00:00",
          "2021-08-26T11:00:00",
          "2021-08-26T12:00:00",
          "2021-08-26T13:00:00",
          "2021-08-26T14:00:00",
          "2021-08-26T15:00:00",
          "2021-08-26T16:00:00",
          "2021-08-26T17:00:00",
          "2021-08-26T18:00:00",
          "2021-08-26T19:00:00",
          "2021-08-26T20:00:00",
          "2021-08-26T21:00:00",
          "2021-08-26T22:00:00",
          "2021-08-26T23:00:00",
          "2021-08-27T00:00:00",
          "2021-08-27T01:00:00",
          "2021-08-27T02:00:00",
          "2021-08-27T03:00:00",
          "2021-08-27T04:00:00",
          "2021-08-27T05:00:00",
          "2021-08-27T06:00:00",
          "2021-08-27T07:00:00",
          "2021-08-27T08:00:00",
          "2021-08-27T09:00:00",
          "2021-08-27T10:00:00",
          "2021-08-27T11:00:00",
          "2021-08-27T12:00:00",
          "2021-08-27T13:00:00",
          "2021-08-27T14:00:00",
          "2021-08-27T15:00:00",
          "2021-08-27T16:00:00",
          "2021-08-27T17:00:00",
          "2021-08-27T18:00:00",
          "2021-08-27T19:00:00",
          "2021-08-27T20:00:00",
          "2021-08-27T21:00:00",
          "2021-08-27T22:00:00",
          "2021-08-27T23:00:00",
          "2021-08-28T00:00:00",
          "2021-08-28T01:00:00",
          "2021-08-28T02:00:00",
          "2021-08-28T03:00:00",
          "2021-08-28T04:00:00",
          "2021-08-28T05:00:00",
          "2021-08-28T06:00:00",
          "2021-08-28T07:00:00",
          "2021-08-28T08:00:00",
          "2021-08-28T09:00:00",
          "2021-08-28T10:00:00",
          "2021-08-28T11:00:00",
          "2021-08-28T12:00:00",
          "2021-08-28T13:00:00",
          "2021-08-28T14:00:00",
          "2021-08-28T15:00:00",
          "2021-08-28T16:00:00",
          "2021-08-28T17:00:00",
          "2021-08-28T18:00:00",
          "2021-08-28T19:00:00",
          "2021-08-28T20:00:00",
          "2021-08-28T21:00:00",
          "2021-08-28T22:00:00",
          "2021-08-28T23:00:00",
          "2021-08-29T00:00:00",
          "2021-08-29T01:00:00",
          "2021-08-29T02:00:00",
          "2021-08-29T03:00:00",
          "2021-08-29T04:00:00",
          "2021-08-29T05:00:00",
          "2021-08-29T06:00:00",
          "2021-08-29T07:00:00",
          "2021-08-29T08:00:00",
          "2021-08-29T09:00:00",
          "2021-08-29T10:00:00",
          "2021-08-29T11:00:00",
          "2021-08-29T12:00:00",
          "2021-08-29T13:00:00",
          "2021-08-29T14:00:00",
          "2021-08-29T15:00:00",
          "2021-08-29T16:00:00",
          "2021-08-29T17:00:00",
          "2021-08-29T18:00:00",
          "2021-08-29T19:00:00",
          "2021-08-29T20:00:00",
          "2021-08-29T21:00:00",
          "2021-08-29T22:00:00",
          "2021-08-29T23:00:00",
          "2021-08-30T00:00:00",
          "2021-08-30T01:00:00",
          "2021-08-30T02:00:00",
          "2021-08-30T03:00:00",
          "2021-08-30T04:00:00",
          "2021-08-30T05:00:00",
          "2021-08-30T06:00:00",
          "2021-08-30T07:00:00",
          "2021-08-30T08:00:00",
          "2021-08-30T09:00:00",
          "2021-08-30T10:00:00",
          "2021-08-30T11:00:00",
          "2021-08-30T12:00:00",
          "2021-08-30T13:00:00",
          "2021-08-30T14:00:00",
          "2021-08-30T15:00:00",
          "2021-08-30T16:00:00",
          "2021-08-30T17:00:00",
          "2021-08-30T18:00:00",
          "2021-08-30T19:00:00",
          "2021-08-30T20:00:00",
          "2021-08-30T21:00:00",
          "2021-08-30T22:00:00",
          "2021-08-30T23:00:00",
          "2021-08-31T00:00:00",
          "2021-08-31T01:00:00",
          "2021-08-31T03:00:00",
          "2021-08-31T05:00:00",
          "2021-08-31T06:00:00",
          "2021-08-31T07:00:00",
          "2021-08-31T08:00:00",
          "2021-08-31T09:00:00",
          "2021-08-31T10:00:00",
          "2021-08-31T11:00:00",
          "2021-08-31T12:00:00",
          "2021-08-31T13:00:00",
          "2021-08-31T14:00:00",
          "2021-08-31T15:00:00",
          "2021-08-31T16:00:00",
          "2021-08-31T17:00:00",
          "2021-08-31T18:00:00",
          "2021-08-31T19:00:00",
          "2021-08-31T20:00:00",
          "2021-08-31T21:00:00",
          "2021-08-31T22:00:00",
          "2021-08-31T23:00:00",
          "2021-09-01T00:00:00",
          "2021-09-01T01:00:00",
          "2021-09-01T02:00:00",
          "2021-09-01T04:00:00",
          "2021-09-01T05:00:00",
          "2021-09-01T07:00:00",
          "2021-09-01T08:00:00",
          "2021-09-01T09:00:00",
          "2021-09-01T10:00:00",
          "2021-09-01T11:00:00",
          "2021-09-01T12:00:00",
          "2021-09-01T13:00:00",
          "2021-09-01T14:00:00",
          "2021-09-01T15:00:00",
          "2021-09-01T16:00:00",
          "2021-09-01T17:00:00",
          "2021-09-01T18:00:00",
          "2021-09-01T19:00:00",
          "2021-09-01T20:00:00",
          "2021-09-01T21:00:00",
          "2021-09-01T22:00:00",
          "2021-09-01T23:00:00",
          "2021-09-02T02:00:00",
          "2021-09-02T06:00:00",
          "2021-09-02T07:00:00",
          "2021-09-02T08:00:00",
          "2021-09-02T09:00:00",
          "2021-09-02T10:00:00",
          "2021-09-02T11:00:00",
          "2021-09-02T12:00:00",
          "2021-09-02T13:00:00",
          "2021-09-02T14:00:00",
          "2021-09-02T15:00:00",
          "2021-09-02T16:00:00",
          "2021-09-02T17:00:00",
          "2021-09-02T18:00:00",
          "2021-09-02T19:00:00",
          "2021-09-02T20:00:00",
          "2021-09-02T21:00:00",
          "2021-09-02T22:00:00",
          "2021-09-02T23:00:00",
          "2021-09-03T00:00:00",
          "2021-09-03T02:00:00",
          "2021-09-03T06:00:00",
          "2021-09-03T07:00:00",
          "2021-09-03T08:00:00",
          "2021-09-03T09:00:00",
          "2021-09-03T10:00:00",
          "2021-09-03T11:00:00",
          "2021-09-03T12:00:00",
          "2021-09-03T13:00:00",
          "2021-09-03T14:00:00",
          "2021-09-03T15:00:00",
          "2021-09-03T16:00:00",
          "2021-09-03T17:00:00",
          "2021-09-03T18:00:00",
          "2021-09-03T19:00:00",
          "2021-09-03T20:00:00",
          "2021-09-03T21:00:00",
          "2021-09-03T22:00:00"
         ],
         "xaxis": "x",
         "y": [
          939,
          154,
          96,
          84,
          61,
          40,
          19,
          16,
          63,
          6,
          9,
          43,
          24,
          8,
          25,
          211,
          375,
          191,
          338,
          379,
          853,
          570,
          558,
          390,
          445,
          475,
          338,
          336,
          526,
          839,
          525,
          214,
          242,
          165,
          81,
          56,
          42,
          238,
          598,
          1068,
          859,
          1039,
          1229,
          1465,
          1068,
          1067,
          1183,
          940,
          1009,
          542,
          835,
          841,
          1027,
          1391,
          749,
          364,
          182,
          46,
          34,
          27,
          255,
          213,
          735,
          1134,
          1265,
          1631,
          1683,
          1460,
          1513,
          1613,
          1372,
          979,
          1505,
          1209,
          1371,
          1121,
          1258,
          1742,
          2127,
          795,
          484,
          222,
          64,
          234,
          378,
          267,
          790,
          807,
          1213,
          1401,
          1154,
          578,
          1155,
          1082,
          2338,
          2627,
          2174,
          1303,
          1494,
          1917,
          3191,
          2297,
          2642,
          2053,
          1078,
          989,
          918,
          529,
          1001,
          1165,
          1815,
          2899,
          2495,
          2265,
          1941,
          2950,
          2657,
          2345,
          3839,
          3083,
          2452,
          3982,
          2950,
          3423,
          4465,
          4186,
          2375,
          1133,
          384,
          218,
          14,
          10,
          62,
          64,
          263,
          965,
          642,
          1265,
          697,
          778,
          881,
          605,
          484,
          447,
          458,
          125,
          137,
          251,
          76,
          231,
          131,
          105,
          49,
          78,
          32,
          9,
          43,
          63,
          37,
          38,
          29,
          48,
          103,
          133,
          94,
          55,
          81,
          37,
          14,
          33,
          28,
          128,
          66,
          80,
          31,
          11,
          11,
          24,
          9,
          27,
          47,
          97,
          105,
          21,
          127,
          96,
          49,
          11,
          49,
          49,
          43,
          75,
          61,
          255,
          332,
          116,
          9,
          55,
          64,
          49,
          29,
          71,
          22,
          0,
          6,
          52,
          11,
          2,
          1,
          1,
          0,
          55,
          52,
          17,
          12,
          14,
          8,
          3,
          13,
          34,
          10,
          59,
          39,
          8,
          10,
          31,
          23,
          4,
          7,
          0,
          0,
          0,
          10,
          10
         ],
         "yaxis": "y"
        }
       ],
       "layout": {
        "legend": {
         "tracegroupgap": 0
        },
        "margin": {
         "t": 60
        },
        "template": {
         "data": {
          "bar": [
           {
            "error_x": {
             "color": "#2a3f5f"
            },
            "error_y": {
             "color": "#2a3f5f"
            },
            "marker": {
             "line": {
              "color": "#E5ECF6",
              "width": 0.5
             }
            },
            "type": "bar"
           }
          ],
          "barpolar": [
           {
            "marker": {
             "line": {
              "color": "#E5ECF6",
              "width": 0.5
             }
            },
            "type": "barpolar"
           }
          ],
          "carpet": [
           {
            "aaxis": {
             "endlinecolor": "#2a3f5f",
             "gridcolor": "white",
             "linecolor": "white",
             "minorgridcolor": "white",
             "startlinecolor": "#2a3f5f"
            },
            "baxis": {
             "endlinecolor": "#2a3f5f",
             "gridcolor": "white",
             "linecolor": "white",
             "minorgridcolor": "white",
             "startlinecolor": "#2a3f5f"
            },
            "type": "carpet"
           }
          ],
          "choropleth": [
           {
            "colorbar": {
             "outlinewidth": 0,
             "ticks": ""
            },
            "type": "choropleth"
           }
          ],
          "contour": [
           {
            "colorbar": {
             "outlinewidth": 0,
             "ticks": ""
            },
            "colorscale": [
             [
              0,
              "#0d0887"
             ],
             [
              0.1111111111111111,
              "#46039f"
             ],
             [
              0.2222222222222222,
              "#7201a8"
             ],
             [
              0.3333333333333333,
              "#9c179e"
             ],
             [
              0.4444444444444444,
              "#bd3786"
             ],
             [
              0.5555555555555556,
              "#d8576b"
             ],
             [
              0.6666666666666666,
              "#ed7953"
             ],
             [
              0.7777777777777778,
              "#fb9f3a"
             ],
             [
              0.8888888888888888,
              "#fdca26"
             ],
             [
              1,
              "#f0f921"
             ]
            ],
            "type": "contour"
           }
          ],
          "contourcarpet": [
           {
            "colorbar": {
             "outlinewidth": 0,
             "ticks": ""
            },
            "type": "contourcarpet"
           }
          ],
          "heatmap": [
           {
            "colorbar": {
             "outlinewidth": 0,
             "ticks": ""
            },
            "colorscale": [
             [
              0,
              "#0d0887"
             ],
             [
              0.1111111111111111,
              "#46039f"
             ],
             [
              0.2222222222222222,
              "#7201a8"
             ],
             [
              0.3333333333333333,
              "#9c179e"
             ],
             [
              0.4444444444444444,
              "#bd3786"
             ],
             [
              0.5555555555555556,
              "#d8576b"
             ],
             [
              0.6666666666666666,
              "#ed7953"
             ],
             [
              0.7777777777777778,
              "#fb9f3a"
             ],
             [
              0.8888888888888888,
              "#fdca26"
             ],
             [
              1,
              "#f0f921"
             ]
            ],
            "type": "heatmap"
           }
          ],
          "heatmapgl": [
           {
            "colorbar": {
             "outlinewidth": 0,
             "ticks": ""
            },
            "colorscale": [
             [
              0,
              "#0d0887"
             ],
             [
              0.1111111111111111,
              "#46039f"
             ],
             [
              0.2222222222222222,
              "#7201a8"
             ],
             [
              0.3333333333333333,
              "#9c179e"
             ],
             [
              0.4444444444444444,
              "#bd3786"
             ],
             [
              0.5555555555555556,
              "#d8576b"
             ],
             [
              0.6666666666666666,
              "#ed7953"
             ],
             [
              0.7777777777777778,
              "#fb9f3a"
             ],
             [
              0.8888888888888888,
              "#fdca26"
             ],
             [
              1,
              "#f0f921"
             ]
            ],
            "type": "heatmapgl"
           }
          ],
          "histogram": [
           {
            "marker": {
             "colorbar": {
              "outlinewidth": 0,
              "ticks": ""
             }
            },
            "type": "histogram"
           }
          ],
          "histogram2d": [
           {
            "colorbar": {
             "outlinewidth": 0,
             "ticks": ""
            },
            "colorscale": [
             [
              0,
              "#0d0887"
             ],
             [
              0.1111111111111111,
              "#46039f"
             ],
             [
              0.2222222222222222,
              "#7201a8"
             ],
             [
              0.3333333333333333,
              "#9c179e"
             ],
             [
              0.4444444444444444,
              "#bd3786"
             ],
             [
              0.5555555555555556,
              "#d8576b"
             ],
             [
              0.6666666666666666,
              "#ed7953"
             ],
             [
              0.7777777777777778,
              "#fb9f3a"
             ],
             [
              0.8888888888888888,
              "#fdca26"
             ],
             [
              1,
              "#f0f921"
             ]
            ],
            "type": "histogram2d"
           }
          ],
          "histogram2dcontour": [
           {
            "colorbar": {
             "outlinewidth": 0,
             "ticks": ""
            },
            "colorscale": [
             [
              0,
              "#0d0887"
             ],
             [
              0.1111111111111111,
              "#46039f"
             ],
             [
              0.2222222222222222,
              "#7201a8"
             ],
             [
              0.3333333333333333,
              "#9c179e"
             ],
             [
              0.4444444444444444,
              "#bd3786"
             ],
             [
              0.5555555555555556,
              "#d8576b"
             ],
             [
              0.6666666666666666,
              "#ed7953"
             ],
             [
              0.7777777777777778,
              "#fb9f3a"
             ],
             [
              0.8888888888888888,
              "#fdca26"
             ],
             [
              1,
              "#f0f921"
             ]
            ],
            "type": "histogram2dcontour"
           }
          ],
          "mesh3d": [
           {
            "colorbar": {
             "outlinewidth": 0,
             "ticks": ""
            },
            "type": "mesh3d"
           }
          ],
          "parcoords": [
           {
            "line": {
             "colorbar": {
              "outlinewidth": 0,
              "ticks": ""
             }
            },
            "type": "parcoords"
           }
          ],
          "pie": [
           {
            "automargin": true,
            "type": "pie"
           }
          ],
          "scatter": [
           {
            "marker": {
             "colorbar": {
              "outlinewidth": 0,
              "ticks": ""
             }
            },
            "type": "scatter"
           }
          ],
          "scatter3d": [
           {
            "line": {
             "colorbar": {
              "outlinewidth": 0,
              "ticks": ""
             }
            },
            "marker": {
             "colorbar": {
              "outlinewidth": 0,
              "ticks": ""
             }
            },
            "type": "scatter3d"
           }
          ],
          "scattercarpet": [
           {
            "marker": {
             "colorbar": {
              "outlinewidth": 0,
              "ticks": ""
             }
            },
            "type": "scattercarpet"
           }
          ],
          "scattergeo": [
           {
            "marker": {
             "colorbar": {
              "outlinewidth": 0,
              "ticks": ""
             }
            },
            "type": "scattergeo"
           }
          ],
          "scattergl": [
           {
            "marker": {
             "colorbar": {
              "outlinewidth": 0,
              "ticks": ""
             }
            },
            "type": "scattergl"
           }
          ],
          "scattermapbox": [
           {
            "marker": {
             "colorbar": {
              "outlinewidth": 0,
              "ticks": ""
             }
            },
            "type": "scattermapbox"
           }
          ],
          "scatterpolar": [
           {
            "marker": {
             "colorbar": {
              "outlinewidth": 0,
              "ticks": ""
             }
            },
            "type": "scatterpolar"
           }
          ],
          "scatterpolargl": [
           {
            "marker": {
             "colorbar": {
              "outlinewidth": 0,
              "ticks": ""
             }
            },
            "type": "scatterpolargl"
           }
          ],
          "scatterternary": [
           {
            "marker": {
             "colorbar": {
              "outlinewidth": 0,
              "ticks": ""
             }
            },
            "type": "scatterternary"
           }
          ],
          "surface": [
           {
            "colorbar": {
             "outlinewidth": 0,
             "ticks": ""
            },
            "colorscale": [
             [
              0,
              "#0d0887"
             ],
             [
              0.1111111111111111,
              "#46039f"
             ],
             [
              0.2222222222222222,
              "#7201a8"
             ],
             [
              0.3333333333333333,
              "#9c179e"
             ],
             [
              0.4444444444444444,
              "#bd3786"
             ],
             [
              0.5555555555555556,
              "#d8576b"
             ],
             [
              0.6666666666666666,
              "#ed7953"
             ],
             [
              0.7777777777777778,
              "#fb9f3a"
             ],
             [
              0.8888888888888888,
              "#fdca26"
             ],
             [
              1,
              "#f0f921"
             ]
            ],
            "type": "surface"
           }
          ],
          "table": [
           {
            "cells": {
             "fill": {
              "color": "#EBF0F8"
             },
             "line": {
              "color": "white"
             }
            },
            "header": {
             "fill": {
              "color": "#C8D4E3"
             },
             "line": {
              "color": "white"
             }
            },
            "type": "table"
           }
          ]
         },
         "layout": {
          "annotationdefaults": {
           "arrowcolor": "#2a3f5f",
           "arrowhead": 0,
           "arrowwidth": 1
          },
          "coloraxis": {
           "colorbar": {
            "outlinewidth": 0,
            "ticks": ""
           }
          },
          "colorscale": {
           "diverging": [
            [
             0,
             "#8e0152"
            ],
            [
             0.1,
             "#c51b7d"
            ],
            [
             0.2,
             "#de77ae"
            ],
            [
             0.3,
             "#f1b6da"
            ],
            [
             0.4,
             "#fde0ef"
            ],
            [
             0.5,
             "#f7f7f7"
            ],
            [
             0.6,
             "#e6f5d0"
            ],
            [
             0.7,
             "#b8e186"
            ],
            [
             0.8,
             "#7fbc41"
            ],
            [
             0.9,
             "#4d9221"
            ],
            [
             1,
             "#276419"
            ]
           ],
           "sequential": [
            [
             0,
             "#0d0887"
            ],
            [
             0.1111111111111111,
             "#46039f"
            ],
            [
             0.2222222222222222,
             "#7201a8"
            ],
            [
             0.3333333333333333,
             "#9c179e"
            ],
            [
             0.4444444444444444,
             "#bd3786"
            ],
            [
             0.5555555555555556,
             "#d8576b"
            ],
            [
             0.6666666666666666,
             "#ed7953"
            ],
            [
             0.7777777777777778,
             "#fb9f3a"
            ],
            [
             0.8888888888888888,
             "#fdca26"
            ],
            [
             1,
             "#f0f921"
            ]
           ],
           "sequentialminus": [
            [
             0,
             "#0d0887"
            ],
            [
             0.1111111111111111,
             "#46039f"
            ],
            [
             0.2222222222222222,
             "#7201a8"
            ],
            [
             0.3333333333333333,
             "#9c179e"
            ],
            [
             0.4444444444444444,
             "#bd3786"
            ],
            [
             0.5555555555555556,
             "#d8576b"
            ],
            [
             0.6666666666666666,
             "#ed7953"
            ],
            [
             0.7777777777777778,
             "#fb9f3a"
            ],
            [
             0.8888888888888888,
             "#fdca26"
            ],
            [
             1,
             "#f0f921"
            ]
           ]
          },
          "colorway": [
           "#636efa",
           "#EF553B",
           "#00cc96",
           "#ab63fa",
           "#FFA15A",
           "#19d3f3",
           "#FF6692",
           "#B6E880",
           "#FF97FF",
           "#FECB52"
          ],
          "font": {
           "color": "#2a3f5f"
          },
          "geo": {
           "bgcolor": "white",
           "lakecolor": "white",
           "landcolor": "#E5ECF6",
           "showlakes": true,
           "showland": true,
           "subunitcolor": "white"
          },
          "hoverlabel": {
           "align": "left"
          },
          "hovermode": "closest",
          "mapbox": {
           "style": "light"
          },
          "paper_bgcolor": "white",
          "plot_bgcolor": "#E5ECF6",
          "polar": {
           "angularaxis": {
            "gridcolor": "white",
            "linecolor": "white",
            "ticks": ""
           },
           "bgcolor": "#E5ECF6",
           "radialaxis": {
            "gridcolor": "white",
            "linecolor": "white",
            "ticks": ""
           }
          },
          "scene": {
           "xaxis": {
            "backgroundcolor": "#E5ECF6",
            "gridcolor": "white",
            "gridwidth": 2,
            "linecolor": "white",
            "showbackground": true,
            "ticks": "",
            "zerolinecolor": "white"
           },
           "yaxis": {
            "backgroundcolor": "#E5ECF6",
            "gridcolor": "white",
            "gridwidth": 2,
            "linecolor": "white",
            "showbackground": true,
            "ticks": "",
            "zerolinecolor": "white"
           },
           "zaxis": {
            "backgroundcolor": "#E5ECF6",
            "gridcolor": "white",
            "gridwidth": 2,
            "linecolor": "white",
            "showbackground": true,
            "ticks": "",
            "zerolinecolor": "white"
           }
          },
          "shapedefaults": {
           "line": {
            "color": "#2a3f5f"
           }
          },
          "ternary": {
           "aaxis": {
            "gridcolor": "white",
            "linecolor": "white",
            "ticks": ""
           },
           "baxis": {
            "gridcolor": "white",
            "linecolor": "white",
            "ticks": ""
           },
           "bgcolor": "#E5ECF6",
           "caxis": {
            "gridcolor": "white",
            "linecolor": "white",
            "ticks": ""
           }
          },
          "title": {
           "x": 0.05
          },
          "xaxis": {
           "automargin": true,
           "gridcolor": "white",
           "linecolor": "white",
           "ticks": "",
           "title": {
            "standoff": 15
           },
           "zerolinecolor": "white",
           "zerolinewidth": 2
          },
          "yaxis": {
           "automargin": true,
           "gridcolor": "white",
           "linecolor": "white",
           "ticks": "",
           "title": {
            "standoff": 15
           },
           "zerolinecolor": "white",
           "zerolinewidth": 2
          }
         }
        },
        "xaxis": {
         "anchor": "y",
         "domain": [
          0,
          1
         ],
         "title": {
          "text": "Post Hour"
         }
        },
        "yaxis": {
         "anchor": "x",
         "domain": [
          0,
          1
         ],
         "title": {
          "text": "Total Reactions"
         }
        }
       }
      },
      "text/html": [
       "<div>                            <div id=\"9796cc1a-f3b1-41cb-95d5-31ba016ad7c0\" class=\"plotly-graph-div\" style=\"height:525px; width:100%;\"></div>            <script type=\"text/javascript\">                require([\"plotly\"], function(Plotly) {                    window.PLOTLYENV=window.PLOTLYENV || {};                                    if (document.getElementById(\"9796cc1a-f3b1-41cb-95d5-31ba016ad7c0\")) {                    Plotly.newPlot(                        \"9796cc1a-f3b1-41cb-95d5-31ba016ad7c0\",                        [{\"hovertemplate\": \"Post Hour=%{x}<br>Total Reactions=%{y}<extra></extra>\", \"legendgroup\": \"\", \"line\": {\"color\": \"#636efa\", \"dash\": \"solid\"}, \"mode\": \"lines\", \"name\": \"\", \"orientation\": \"v\", \"showlegend\": false, \"type\": \"scatter\", \"x\": [\"2021-08-24T15:00:00\", \"2021-08-24T16:00:00\", \"2021-08-24T17:00:00\", \"2021-08-24T18:00:00\", \"2021-08-24T19:00:00\", \"2021-08-24T20:00:00\", \"2021-08-24T21:00:00\", \"2021-08-24T22:00:00\", \"2021-08-24T23:00:00\", \"2021-08-25T00:00:00\", \"2021-08-25T01:00:00\", \"2021-08-25T02:00:00\", \"2021-08-25T03:00:00\", \"2021-08-25T04:00:00\", \"2021-08-25T05:00:00\", \"2021-08-25T06:00:00\", \"2021-08-25T07:00:00\", \"2021-08-25T08:00:00\", \"2021-08-25T09:00:00\", \"2021-08-25T10:00:00\", \"2021-08-25T11:00:00\", \"2021-08-25T12:00:00\", \"2021-08-25T13:00:00\", \"2021-08-25T14:00:00\", \"2021-08-25T15:00:00\", \"2021-08-25T16:00:00\", \"2021-08-25T17:00:00\", \"2021-08-25T18:00:00\", \"2021-08-25T19:00:00\", \"2021-08-25T20:00:00\", \"2021-08-25T21:00:00\", \"2021-08-25T22:00:00\", \"2021-08-25T23:00:00\", \"2021-08-26T00:00:00\", \"2021-08-26T01:00:00\", \"2021-08-26T03:00:00\", \"2021-08-26T04:00:00\", \"2021-08-26T05:00:00\", \"2021-08-26T06:00:00\", \"2021-08-26T07:00:00\", \"2021-08-26T08:00:00\", \"2021-08-26T09:00:00\", \"2021-08-26T10:00:00\", \"2021-08-26T11:00:00\", \"2021-08-26T12:00:00\", \"2021-08-26T13:00:00\", \"2021-08-26T14:00:00\", \"2021-08-26T15:00:00\", \"2021-08-26T16:00:00\", \"2021-08-26T17:00:00\", \"2021-08-26T18:00:00\", \"2021-08-26T19:00:00\", \"2021-08-26T20:00:00\", \"2021-08-26T21:00:00\", \"2021-08-26T22:00:00\", \"2021-08-26T23:00:00\", \"2021-08-27T00:00:00\", \"2021-08-27T01:00:00\", \"2021-08-27T02:00:00\", \"2021-08-27T03:00:00\", \"2021-08-27T04:00:00\", \"2021-08-27T05:00:00\", \"2021-08-27T06:00:00\", \"2021-08-27T07:00:00\", \"2021-08-27T08:00:00\", \"2021-08-27T09:00:00\", \"2021-08-27T10:00:00\", \"2021-08-27T11:00:00\", \"2021-08-27T12:00:00\", \"2021-08-27T13:00:00\", \"2021-08-27T14:00:00\", \"2021-08-27T15:00:00\", \"2021-08-27T16:00:00\", \"2021-08-27T17:00:00\", \"2021-08-27T18:00:00\", \"2021-08-27T19:00:00\", \"2021-08-27T20:00:00\", \"2021-08-27T21:00:00\", \"2021-08-27T22:00:00\", \"2021-08-27T23:00:00\", \"2021-08-28T00:00:00\", \"2021-08-28T01:00:00\", \"2021-08-28T02:00:00\", \"2021-08-28T03:00:00\", \"2021-08-28T04:00:00\", \"2021-08-28T05:00:00\", \"2021-08-28T06:00:00\", \"2021-08-28T07:00:00\", \"2021-08-28T08:00:00\", \"2021-08-28T09:00:00\", \"2021-08-28T10:00:00\", \"2021-08-28T11:00:00\", \"2021-08-28T12:00:00\", \"2021-08-28T13:00:00\", \"2021-08-28T14:00:00\", \"2021-08-28T15:00:00\", \"2021-08-28T16:00:00\", \"2021-08-28T17:00:00\", \"2021-08-28T18:00:00\", \"2021-08-28T19:00:00\", \"2021-08-28T20:00:00\", \"2021-08-28T21:00:00\", \"2021-08-28T22:00:00\", \"2021-08-28T23:00:00\", \"2021-08-29T00:00:00\", \"2021-08-29T01:00:00\", \"2021-08-29T02:00:00\", \"2021-08-29T03:00:00\", \"2021-08-29T04:00:00\", \"2021-08-29T05:00:00\", \"2021-08-29T06:00:00\", \"2021-08-29T07:00:00\", \"2021-08-29T08:00:00\", \"2021-08-29T09:00:00\", \"2021-08-29T10:00:00\", \"2021-08-29T11:00:00\", \"2021-08-29T12:00:00\", \"2021-08-29T13:00:00\", \"2021-08-29T14:00:00\", \"2021-08-29T15:00:00\", \"2021-08-29T16:00:00\", \"2021-08-29T17:00:00\", \"2021-08-29T18:00:00\", \"2021-08-29T19:00:00\", \"2021-08-29T20:00:00\", \"2021-08-29T21:00:00\", \"2021-08-29T22:00:00\", \"2021-08-29T23:00:00\", \"2021-08-30T00:00:00\", \"2021-08-30T01:00:00\", \"2021-08-30T02:00:00\", \"2021-08-30T03:00:00\", \"2021-08-30T04:00:00\", \"2021-08-30T05:00:00\", \"2021-08-30T06:00:00\", \"2021-08-30T07:00:00\", \"2021-08-30T08:00:00\", \"2021-08-30T09:00:00\", \"2021-08-30T10:00:00\", \"2021-08-30T11:00:00\", \"2021-08-30T12:00:00\", \"2021-08-30T13:00:00\", \"2021-08-30T14:00:00\", \"2021-08-30T15:00:00\", \"2021-08-30T16:00:00\", \"2021-08-30T17:00:00\", \"2021-08-30T18:00:00\", \"2021-08-30T19:00:00\", \"2021-08-30T20:00:00\", \"2021-08-30T21:00:00\", \"2021-08-30T22:00:00\", \"2021-08-30T23:00:00\", \"2021-08-31T00:00:00\", \"2021-08-31T01:00:00\", \"2021-08-31T03:00:00\", \"2021-08-31T05:00:00\", \"2021-08-31T06:00:00\", \"2021-08-31T07:00:00\", \"2021-08-31T08:00:00\", \"2021-08-31T09:00:00\", \"2021-08-31T10:00:00\", \"2021-08-31T11:00:00\", \"2021-08-31T12:00:00\", \"2021-08-31T13:00:00\", \"2021-08-31T14:00:00\", \"2021-08-31T15:00:00\", \"2021-08-31T16:00:00\", \"2021-08-31T17:00:00\", \"2021-08-31T18:00:00\", \"2021-08-31T19:00:00\", \"2021-08-31T20:00:00\", \"2021-08-31T21:00:00\", \"2021-08-31T22:00:00\", \"2021-08-31T23:00:00\", \"2021-09-01T00:00:00\", \"2021-09-01T01:00:00\", \"2021-09-01T02:00:00\", \"2021-09-01T04:00:00\", \"2021-09-01T05:00:00\", \"2021-09-01T07:00:00\", \"2021-09-01T08:00:00\", \"2021-09-01T09:00:00\", \"2021-09-01T10:00:00\", \"2021-09-01T11:00:00\", \"2021-09-01T12:00:00\", \"2021-09-01T13:00:00\", \"2021-09-01T14:00:00\", \"2021-09-01T15:00:00\", \"2021-09-01T16:00:00\", \"2021-09-01T17:00:00\", \"2021-09-01T18:00:00\", \"2021-09-01T19:00:00\", \"2021-09-01T20:00:00\", \"2021-09-01T21:00:00\", \"2021-09-01T22:00:00\", \"2021-09-01T23:00:00\", \"2021-09-02T02:00:00\", \"2021-09-02T06:00:00\", \"2021-09-02T07:00:00\", \"2021-09-02T08:00:00\", \"2021-09-02T09:00:00\", \"2021-09-02T10:00:00\", \"2021-09-02T11:00:00\", \"2021-09-02T12:00:00\", \"2021-09-02T13:00:00\", \"2021-09-02T14:00:00\", \"2021-09-02T15:00:00\", \"2021-09-02T16:00:00\", \"2021-09-02T17:00:00\", \"2021-09-02T18:00:00\", \"2021-09-02T19:00:00\", \"2021-09-02T20:00:00\", \"2021-09-02T21:00:00\", \"2021-09-02T22:00:00\", \"2021-09-02T23:00:00\", \"2021-09-03T00:00:00\", \"2021-09-03T02:00:00\", \"2021-09-03T06:00:00\", \"2021-09-03T07:00:00\", \"2021-09-03T08:00:00\", \"2021-09-03T09:00:00\", \"2021-09-03T10:00:00\", \"2021-09-03T11:00:00\", \"2021-09-03T12:00:00\", \"2021-09-03T13:00:00\", \"2021-09-03T14:00:00\", \"2021-09-03T15:00:00\", \"2021-09-03T16:00:00\", \"2021-09-03T17:00:00\", \"2021-09-03T18:00:00\", \"2021-09-03T19:00:00\", \"2021-09-03T20:00:00\", \"2021-09-03T21:00:00\", \"2021-09-03T22:00:00\"], \"xaxis\": \"x\", \"y\": [939, 154, 96, 84, 61, 40, 19, 16, 63, 6, 9, 43, 24, 8, 25, 211, 375, 191, 338, 379, 853, 570, 558, 390, 445, 475, 338, 336, 526, 839, 525, 214, 242, 165, 81, 56, 42, 238, 598, 1068, 859, 1039, 1229, 1465, 1068, 1067, 1183, 940, 1009, 542, 835, 841, 1027, 1391, 749, 364, 182, 46, 34, 27, 255, 213, 735, 1134, 1265, 1631, 1683, 1460, 1513, 1613, 1372, 979, 1505, 1209, 1371, 1121, 1258, 1742, 2127, 795, 484, 222, 64, 234, 378, 267, 790, 807, 1213, 1401, 1154, 578, 1155, 1082, 2338, 2627, 2174, 1303, 1494, 1917, 3191, 2297, 2642, 2053, 1078, 989, 918, 529, 1001, 1165, 1815, 2899, 2495, 2265, 1941, 2950, 2657, 2345, 3839, 3083, 2452, 3982, 2950, 3423, 4465, 4186, 2375, 1133, 384, 218, 14, 10, 62, 64, 263, 965, 642, 1265, 697, 778, 881, 605, 484, 447, 458, 125, 137, 251, 76, 231, 131, 105, 49, 78, 32, 9, 43, 63, 37, 38, 29, 48, 103, 133, 94, 55, 81, 37, 14, 33, 28, 128, 66, 80, 31, 11, 11, 24, 9, 27, 47, 97, 105, 21, 127, 96, 49, 11, 49, 49, 43, 75, 61, 255, 332, 116, 9, 55, 64, 49, 29, 71, 22, 0, 6, 52, 11, 2, 1, 1, 0, 55, 52, 17, 12, 14, 8, 3, 13, 34, 10, 59, 39, 8, 10, 31, 23, 4, 7, 0, 0, 0, 10, 10], \"yaxis\": \"y\"}],                        {\"legend\": {\"tracegroupgap\": 0}, \"margin\": {\"t\": 60}, \"template\": {\"data\": {\"bar\": [{\"error_x\": {\"color\": \"#2a3f5f\"}, \"error_y\": {\"color\": \"#2a3f5f\"}, \"marker\": {\"line\": {\"color\": \"#E5ECF6\", \"width\": 0.5}}, \"type\": \"bar\"}], \"barpolar\": [{\"marker\": {\"line\": {\"color\": \"#E5ECF6\", \"width\": 0.5}}, \"type\": \"barpolar\"}], \"carpet\": [{\"aaxis\": {\"endlinecolor\": \"#2a3f5f\", \"gridcolor\": \"white\", \"linecolor\": \"white\", \"minorgridcolor\": \"white\", \"startlinecolor\": \"#2a3f5f\"}, \"baxis\": {\"endlinecolor\": \"#2a3f5f\", \"gridcolor\": \"white\", \"linecolor\": \"white\", \"minorgridcolor\": \"white\", \"startlinecolor\": \"#2a3f5f\"}, \"type\": \"carpet\"}], \"choropleth\": [{\"colorbar\": {\"outlinewidth\": 0, \"ticks\": \"\"}, \"type\": \"choropleth\"}], \"contour\": [{\"colorbar\": {\"outlinewidth\": 0, \"ticks\": \"\"}, \"colorscale\": [[0.0, \"#0d0887\"], [0.1111111111111111, \"#46039f\"], [0.2222222222222222, \"#7201a8\"], [0.3333333333333333, \"#9c179e\"], [0.4444444444444444, \"#bd3786\"], [0.5555555555555556, \"#d8576b\"], [0.6666666666666666, \"#ed7953\"], [0.7777777777777778, \"#fb9f3a\"], [0.8888888888888888, \"#fdca26\"], [1.0, \"#f0f921\"]], \"type\": \"contour\"}], \"contourcarpet\": [{\"colorbar\": {\"outlinewidth\": 0, \"ticks\": \"\"}, \"type\": \"contourcarpet\"}], \"heatmap\": [{\"colorbar\": {\"outlinewidth\": 0, \"ticks\": \"\"}, \"colorscale\": [[0.0, \"#0d0887\"], [0.1111111111111111, \"#46039f\"], [0.2222222222222222, \"#7201a8\"], [0.3333333333333333, \"#9c179e\"], [0.4444444444444444, \"#bd3786\"], [0.5555555555555556, \"#d8576b\"], [0.6666666666666666, \"#ed7953\"], [0.7777777777777778, \"#fb9f3a\"], [0.8888888888888888, \"#fdca26\"], [1.0, \"#f0f921\"]], \"type\": \"heatmap\"}], \"heatmapgl\": [{\"colorbar\": {\"outlinewidth\": 0, \"ticks\": \"\"}, \"colorscale\": [[0.0, \"#0d0887\"], [0.1111111111111111, \"#46039f\"], [0.2222222222222222, \"#7201a8\"], [0.3333333333333333, \"#9c179e\"], [0.4444444444444444, \"#bd3786\"], [0.5555555555555556, \"#d8576b\"], [0.6666666666666666, \"#ed7953\"], [0.7777777777777778, \"#fb9f3a\"], [0.8888888888888888, \"#fdca26\"], [1.0, \"#f0f921\"]], \"type\": \"heatmapgl\"}], \"histogram\": [{\"marker\": {\"colorbar\": {\"outlinewidth\": 0, \"ticks\": \"\"}}, \"type\": \"histogram\"}], \"histogram2d\": [{\"colorbar\": {\"outlinewidth\": 0, \"ticks\": \"\"}, \"colorscale\": [[0.0, \"#0d0887\"], [0.1111111111111111, \"#46039f\"], [0.2222222222222222, \"#7201a8\"], [0.3333333333333333, \"#9c179e\"], [0.4444444444444444, \"#bd3786\"], [0.5555555555555556, \"#d8576b\"], [0.6666666666666666, \"#ed7953\"], [0.7777777777777778, \"#fb9f3a\"], [0.8888888888888888, \"#fdca26\"], [1.0, \"#f0f921\"]], \"type\": \"histogram2d\"}], \"histogram2dcontour\": [{\"colorbar\": {\"outlinewidth\": 0, \"ticks\": \"\"}, \"colorscale\": [[0.0, \"#0d0887\"], [0.1111111111111111, \"#46039f\"], [0.2222222222222222, \"#7201a8\"], [0.3333333333333333, \"#9c179e\"], [0.4444444444444444, \"#bd3786\"], [0.5555555555555556, \"#d8576b\"], [0.6666666666666666, \"#ed7953\"], [0.7777777777777778, \"#fb9f3a\"], [0.8888888888888888, \"#fdca26\"], [1.0, \"#f0f921\"]], \"type\": \"histogram2dcontour\"}], \"mesh3d\": [{\"colorbar\": {\"outlinewidth\": 0, \"ticks\": \"\"}, \"type\": \"mesh3d\"}], \"parcoords\": [{\"line\": {\"colorbar\": {\"outlinewidth\": 0, \"ticks\": \"\"}}, \"type\": \"parcoords\"}], \"pie\": [{\"automargin\": true, \"type\": \"pie\"}], \"scatter\": [{\"marker\": {\"colorbar\": {\"outlinewidth\": 0, \"ticks\": \"\"}}, \"type\": \"scatter\"}], \"scatter3d\": [{\"line\": {\"colorbar\": {\"outlinewidth\": 0, \"ticks\": \"\"}}, \"marker\": {\"colorbar\": {\"outlinewidth\": 0, \"ticks\": \"\"}}, \"type\": \"scatter3d\"}], \"scattercarpet\": [{\"marker\": {\"colorbar\": {\"outlinewidth\": 0, \"ticks\": \"\"}}, \"type\": \"scattercarpet\"}], \"scattergeo\": [{\"marker\": {\"colorbar\": {\"outlinewidth\": 0, \"ticks\": \"\"}}, \"type\": \"scattergeo\"}], \"scattergl\": [{\"marker\": {\"colorbar\": {\"outlinewidth\": 0, \"ticks\": \"\"}}, \"type\": \"scattergl\"}], \"scattermapbox\": [{\"marker\": {\"colorbar\": {\"outlinewidth\": 0, \"ticks\": \"\"}}, \"type\": \"scattermapbox\"}], \"scatterpolar\": [{\"marker\": {\"colorbar\": {\"outlinewidth\": 0, \"ticks\": \"\"}}, \"type\": \"scatterpolar\"}], \"scatterpolargl\": [{\"marker\": {\"colorbar\": {\"outlinewidth\": 0, \"ticks\": \"\"}}, \"type\": \"scatterpolargl\"}], \"scatterternary\": [{\"marker\": {\"colorbar\": {\"outlinewidth\": 0, \"ticks\": \"\"}}, \"type\": \"scatterternary\"}], \"surface\": [{\"colorbar\": {\"outlinewidth\": 0, \"ticks\": \"\"}, \"colorscale\": [[0.0, \"#0d0887\"], [0.1111111111111111, \"#46039f\"], [0.2222222222222222, \"#7201a8\"], [0.3333333333333333, \"#9c179e\"], [0.4444444444444444, \"#bd3786\"], [0.5555555555555556, \"#d8576b\"], [0.6666666666666666, \"#ed7953\"], [0.7777777777777778, \"#fb9f3a\"], [0.8888888888888888, \"#fdca26\"], [1.0, \"#f0f921\"]], \"type\": \"surface\"}], \"table\": [{\"cells\": {\"fill\": {\"color\": \"#EBF0F8\"}, \"line\": {\"color\": \"white\"}}, \"header\": {\"fill\": {\"color\": \"#C8D4E3\"}, \"line\": {\"color\": \"white\"}}, \"type\": \"table\"}]}, \"layout\": {\"annotationdefaults\": {\"arrowcolor\": \"#2a3f5f\", \"arrowhead\": 0, \"arrowwidth\": 1}, \"coloraxis\": {\"colorbar\": {\"outlinewidth\": 0, \"ticks\": \"\"}}, \"colorscale\": {\"diverging\": [[0, \"#8e0152\"], [0.1, \"#c51b7d\"], [0.2, \"#de77ae\"], [0.3, \"#f1b6da\"], [0.4, \"#fde0ef\"], [0.5, \"#f7f7f7\"], [0.6, \"#e6f5d0\"], [0.7, \"#b8e186\"], [0.8, \"#7fbc41\"], [0.9, \"#4d9221\"], [1, \"#276419\"]], \"sequential\": [[0.0, \"#0d0887\"], [0.1111111111111111, \"#46039f\"], [0.2222222222222222, \"#7201a8\"], [0.3333333333333333, \"#9c179e\"], [0.4444444444444444, \"#bd3786\"], [0.5555555555555556, \"#d8576b\"], [0.6666666666666666, \"#ed7953\"], [0.7777777777777778, \"#fb9f3a\"], [0.8888888888888888, \"#fdca26\"], [1.0, \"#f0f921\"]], \"sequentialminus\": [[0.0, \"#0d0887\"], [0.1111111111111111, \"#46039f\"], [0.2222222222222222, \"#7201a8\"], [0.3333333333333333, \"#9c179e\"], [0.4444444444444444, \"#bd3786\"], [0.5555555555555556, \"#d8576b\"], [0.6666666666666666, \"#ed7953\"], [0.7777777777777778, \"#fb9f3a\"], [0.8888888888888888, \"#fdca26\"], [1.0, \"#f0f921\"]]}, \"colorway\": [\"#636efa\", \"#EF553B\", \"#00cc96\", \"#ab63fa\", \"#FFA15A\", \"#19d3f3\", \"#FF6692\", \"#B6E880\", \"#FF97FF\", \"#FECB52\"], \"font\": {\"color\": \"#2a3f5f\"}, \"geo\": {\"bgcolor\": \"white\", \"lakecolor\": \"white\", \"landcolor\": \"#E5ECF6\", \"showlakes\": true, \"showland\": true, \"subunitcolor\": \"white\"}, \"hoverlabel\": {\"align\": \"left\"}, \"hovermode\": \"closest\", \"mapbox\": {\"style\": \"light\"}, \"paper_bgcolor\": \"white\", \"plot_bgcolor\": \"#E5ECF6\", \"polar\": {\"angularaxis\": {\"gridcolor\": \"white\", \"linecolor\": \"white\", \"ticks\": \"\"}, \"bgcolor\": \"#E5ECF6\", \"radialaxis\": {\"gridcolor\": \"white\", \"linecolor\": \"white\", \"ticks\": \"\"}}, \"scene\": {\"xaxis\": {\"backgroundcolor\": \"#E5ECF6\", \"gridcolor\": \"white\", \"gridwidth\": 2, \"linecolor\": \"white\", \"showbackground\": true, \"ticks\": \"\", \"zerolinecolor\": \"white\"}, \"yaxis\": {\"backgroundcolor\": \"#E5ECF6\", \"gridcolor\": \"white\", \"gridwidth\": 2, \"linecolor\": \"white\", \"showbackground\": true, \"ticks\": \"\", \"zerolinecolor\": \"white\"}, \"zaxis\": {\"backgroundcolor\": \"#E5ECF6\", \"gridcolor\": \"white\", \"gridwidth\": 2, \"linecolor\": \"white\", \"showbackground\": true, \"ticks\": \"\", \"zerolinecolor\": \"white\"}}, \"shapedefaults\": {\"line\": {\"color\": \"#2a3f5f\"}}, \"ternary\": {\"aaxis\": {\"gridcolor\": \"white\", \"linecolor\": \"white\", \"ticks\": \"\"}, \"baxis\": {\"gridcolor\": \"white\", \"linecolor\": \"white\", \"ticks\": \"\"}, \"bgcolor\": \"#E5ECF6\", \"caxis\": {\"gridcolor\": \"white\", \"linecolor\": \"white\", \"ticks\": \"\"}}, \"title\": {\"x\": 0.05}, \"xaxis\": {\"automargin\": true, \"gridcolor\": \"white\", \"linecolor\": \"white\", \"ticks\": \"\", \"title\": {\"standoff\": 15}, \"zerolinecolor\": \"white\", \"zerolinewidth\": 2}, \"yaxis\": {\"automargin\": true, \"gridcolor\": \"white\", \"linecolor\": \"white\", \"ticks\": \"\", \"title\": {\"standoff\": 15}, \"zerolinecolor\": \"white\", \"zerolinewidth\": 2}}}, \"xaxis\": {\"anchor\": \"y\", \"domain\": [0.0, 1.0], \"title\": {\"text\": \"Post Hour\"}}, \"yaxis\": {\"anchor\": \"x\", \"domain\": [0.0, 1.0], \"title\": {\"text\": \"Total Reactions\"}}},                        {\"responsive\": true}                    ).then(function(){\n",
       "                            \n",
       "var gd = document.getElementById('9796cc1a-f3b1-41cb-95d5-31ba016ad7c0');\n",
       "var x = new MutationObserver(function (mutations, observer) {{\n",
       "        var display = window.getComputedStyle(gd).display;\n",
       "        if (!display || display === 'none') {{\n",
       "            console.log([gd, 'removed!']);\n",
       "            Plotly.purge(gd);\n",
       "            observer.disconnect();\n",
       "        }}\n",
       "}});\n",
       "\n",
       "// Listen for the removal of the full notebook cells\n",
       "var notebookContainer = gd.closest('#notebook-container');\n",
       "if (notebookContainer) {{\n",
       "    x.observe(notebookContainer, {childList: true});\n",
       "}}\n",
       "\n",
       "// Listen for the clearing of the current output cell\n",
       "var outputEl = gd.closest('.output');\n",
       "if (outputEl) {{\n",
       "    x.observe(outputEl, {childList: true});\n",
       "}}\n",
       "\n",
       "                        })                };                });            </script>        </div>"
      ]
     },
     "metadata": {},
     "output_type": "display_data"
    },
    {
     "data": {
      "application/vnd.plotly.v1+json": {
       "config": {
        "plotlyServerURL": "https://plot.ly"
       },
       "data": [
        {
         "hovertemplate": "Post Hour=%{x}<br>Reaction Positive %=%{y}<extra></extra>",
         "legendgroup": "",
         "line": {
          "color": "#636efa",
          "dash": "solid"
         },
         "mode": "lines",
         "name": "",
         "orientation": "v",
         "showlegend": false,
         "type": "scatter",
         "x": [
          "2021-08-24T15:00:00",
          "2021-08-24T16:00:00",
          "2021-08-24T17:00:00",
          "2021-08-24T18:00:00",
          "2021-08-24T19:00:00",
          "2021-08-24T20:00:00",
          "2021-08-24T21:00:00",
          "2021-08-24T22:00:00",
          "2021-08-24T23:00:00",
          "2021-08-25T00:00:00",
          "2021-08-25T01:00:00",
          "2021-08-25T02:00:00",
          "2021-08-25T03:00:00",
          "2021-08-25T04:00:00",
          "2021-08-25T05:00:00",
          "2021-08-25T06:00:00",
          "2021-08-25T07:00:00",
          "2021-08-25T08:00:00",
          "2021-08-25T09:00:00",
          "2021-08-25T10:00:00",
          "2021-08-25T11:00:00",
          "2021-08-25T12:00:00",
          "2021-08-25T13:00:00",
          "2021-08-25T14:00:00",
          "2021-08-25T15:00:00",
          "2021-08-25T16:00:00",
          "2021-08-25T17:00:00",
          "2021-08-25T18:00:00",
          "2021-08-25T19:00:00",
          "2021-08-25T20:00:00",
          "2021-08-25T21:00:00",
          "2021-08-25T22:00:00",
          "2021-08-25T23:00:00",
          "2021-08-26T00:00:00",
          "2021-08-26T01:00:00",
          "2021-08-26T03:00:00",
          "2021-08-26T04:00:00",
          "2021-08-26T05:00:00",
          "2021-08-26T06:00:00",
          "2021-08-26T07:00:00",
          "2021-08-26T08:00:00",
          "2021-08-26T09:00:00",
          "2021-08-26T10:00:00",
          "2021-08-26T11:00:00",
          "2021-08-26T12:00:00",
          "2021-08-26T13:00:00",
          "2021-08-26T14:00:00",
          "2021-08-26T15:00:00",
          "2021-08-26T16:00:00",
          "2021-08-26T17:00:00",
          "2021-08-26T18:00:00",
          "2021-08-26T19:00:00",
          "2021-08-26T20:00:00",
          "2021-08-26T21:00:00",
          "2021-08-26T22:00:00",
          "2021-08-26T23:00:00",
          "2021-08-27T00:00:00",
          "2021-08-27T01:00:00",
          "2021-08-27T02:00:00",
          "2021-08-27T03:00:00",
          "2021-08-27T04:00:00",
          "2021-08-27T05:00:00",
          "2021-08-27T06:00:00",
          "2021-08-27T07:00:00",
          "2021-08-27T08:00:00",
          "2021-08-27T09:00:00",
          "2021-08-27T10:00:00",
          "2021-08-27T11:00:00",
          "2021-08-27T12:00:00",
          "2021-08-27T13:00:00",
          "2021-08-27T14:00:00",
          "2021-08-27T15:00:00",
          "2021-08-27T16:00:00",
          "2021-08-27T17:00:00",
          "2021-08-27T18:00:00",
          "2021-08-27T19:00:00",
          "2021-08-27T20:00:00",
          "2021-08-27T21:00:00",
          "2021-08-27T22:00:00",
          "2021-08-27T23:00:00",
          "2021-08-28T00:00:00",
          "2021-08-28T01:00:00",
          "2021-08-28T02:00:00",
          "2021-08-28T03:00:00",
          "2021-08-28T04:00:00",
          "2021-08-28T05:00:00",
          "2021-08-28T06:00:00",
          "2021-08-28T07:00:00",
          "2021-08-28T08:00:00",
          "2021-08-28T09:00:00",
          "2021-08-28T10:00:00",
          "2021-08-28T11:00:00",
          "2021-08-28T12:00:00",
          "2021-08-28T13:00:00",
          "2021-08-28T14:00:00",
          "2021-08-28T15:00:00",
          "2021-08-28T16:00:00",
          "2021-08-28T17:00:00",
          "2021-08-28T18:00:00",
          "2021-08-28T19:00:00",
          "2021-08-28T20:00:00",
          "2021-08-28T21:00:00",
          "2021-08-28T22:00:00",
          "2021-08-28T23:00:00",
          "2021-08-29T00:00:00",
          "2021-08-29T01:00:00",
          "2021-08-29T02:00:00",
          "2021-08-29T03:00:00",
          "2021-08-29T04:00:00",
          "2021-08-29T05:00:00",
          "2021-08-29T06:00:00",
          "2021-08-29T07:00:00",
          "2021-08-29T08:00:00",
          "2021-08-29T09:00:00",
          "2021-08-29T10:00:00",
          "2021-08-29T11:00:00",
          "2021-08-29T12:00:00",
          "2021-08-29T13:00:00",
          "2021-08-29T14:00:00",
          "2021-08-29T15:00:00",
          "2021-08-29T16:00:00",
          "2021-08-29T17:00:00",
          "2021-08-29T18:00:00",
          "2021-08-29T19:00:00",
          "2021-08-29T20:00:00",
          "2021-08-29T21:00:00",
          "2021-08-29T22:00:00",
          "2021-08-29T23:00:00",
          "2021-08-30T00:00:00",
          "2021-08-30T01:00:00",
          "2021-08-30T02:00:00",
          "2021-08-30T03:00:00",
          "2021-08-30T04:00:00",
          "2021-08-30T05:00:00",
          "2021-08-30T06:00:00",
          "2021-08-30T07:00:00",
          "2021-08-30T08:00:00",
          "2021-08-30T09:00:00",
          "2021-08-30T10:00:00",
          "2021-08-30T11:00:00",
          "2021-08-30T12:00:00",
          "2021-08-30T13:00:00",
          "2021-08-30T14:00:00",
          "2021-08-30T15:00:00",
          "2021-08-30T16:00:00",
          "2021-08-30T17:00:00",
          "2021-08-30T18:00:00",
          "2021-08-30T19:00:00",
          "2021-08-30T20:00:00",
          "2021-08-30T21:00:00",
          "2021-08-30T22:00:00",
          "2021-08-30T23:00:00",
          "2021-08-31T00:00:00",
          "2021-08-31T01:00:00",
          "2021-08-31T03:00:00",
          "2021-08-31T05:00:00",
          "2021-08-31T06:00:00",
          "2021-08-31T07:00:00",
          "2021-08-31T08:00:00",
          "2021-08-31T09:00:00",
          "2021-08-31T10:00:00",
          "2021-08-31T11:00:00",
          "2021-08-31T12:00:00",
          "2021-08-31T13:00:00",
          "2021-08-31T14:00:00",
          "2021-08-31T15:00:00",
          "2021-08-31T16:00:00",
          "2021-08-31T17:00:00",
          "2021-08-31T18:00:00",
          "2021-08-31T19:00:00",
          "2021-08-31T20:00:00",
          "2021-08-31T21:00:00",
          "2021-08-31T22:00:00",
          "2021-08-31T23:00:00",
          "2021-09-01T00:00:00",
          "2021-09-01T01:00:00",
          "2021-09-01T02:00:00",
          "2021-09-01T04:00:00",
          "2021-09-01T05:00:00",
          "2021-09-01T07:00:00",
          "2021-09-01T08:00:00",
          "2021-09-01T09:00:00",
          "2021-09-01T10:00:00",
          "2021-09-01T11:00:00",
          "2021-09-01T12:00:00",
          "2021-09-01T13:00:00",
          "2021-09-01T14:00:00",
          "2021-09-01T15:00:00",
          "2021-09-01T16:00:00",
          "2021-09-01T17:00:00",
          "2021-09-01T18:00:00",
          "2021-09-01T19:00:00",
          "2021-09-01T20:00:00",
          "2021-09-01T21:00:00",
          "2021-09-01T22:00:00",
          "2021-09-01T23:00:00",
          "2021-09-02T02:00:00",
          "2021-09-02T06:00:00",
          "2021-09-02T07:00:00",
          "2021-09-02T08:00:00",
          "2021-09-02T09:00:00",
          "2021-09-02T10:00:00",
          "2021-09-02T11:00:00",
          "2021-09-02T12:00:00",
          "2021-09-02T13:00:00",
          "2021-09-02T14:00:00",
          "2021-09-02T15:00:00",
          "2021-09-02T16:00:00",
          "2021-09-02T17:00:00",
          "2021-09-02T18:00:00",
          "2021-09-02T19:00:00",
          "2021-09-02T20:00:00",
          "2021-09-02T21:00:00",
          "2021-09-02T22:00:00",
          "2021-09-02T23:00:00",
          "2021-09-03T00:00:00",
          "2021-09-03T02:00:00",
          "2021-09-03T06:00:00",
          "2021-09-03T07:00:00",
          "2021-09-03T08:00:00",
          "2021-09-03T09:00:00",
          "2021-09-03T10:00:00",
          "2021-09-03T11:00:00",
          "2021-09-03T12:00:00",
          "2021-09-03T13:00:00",
          "2021-09-03T14:00:00",
          "2021-09-03T15:00:00",
          "2021-09-03T16:00:00",
          "2021-09-03T17:00:00",
          "2021-09-03T18:00:00",
          "2021-09-03T19:00:00",
          "2021-09-03T20:00:00",
          "2021-09-03T21:00:00",
          "2021-09-03T22:00:00"
         ],
         "xaxis": "x",
         "y": [
          71.35250266240682,
          83.11688311688312,
          62.5,
          83.33333333333334,
          98.36065573770492,
          82.5,
          100,
          93.75,
          98.4126984126984,
          100,
          88.88888888888889,
          97.67441860465115,
          100,
          100,
          76,
          94.7867298578199,
          82.66666666666667,
          85.86387434554975,
          81.36094674556213,
          76.78100263852242,
          77.13950762016412,
          90.70175438596492,
          85.84229390681004,
          80,
          82.47191011235955,
          90.94736842105263,
          78.40236686390533,
          77.67857142857143,
          91.4448669201521,
          96.18593563766389,
          88,
          84.11214953271028,
          82.23140495867769,
          88.48484848484848,
          86.41975308641975,
          96.42857142857143,
          23.809523809523807,
          83.61344537815127,
          65.05016722408027,
          75.09363295880149,
          89.40628637951106,
          82.3869104908566,
          75.26444263628966,
          78.90784982935153,
          72.75280898876404,
          79.94376757263355,
          73.541842772612,
          75.95744680851064,
          74.72745292368683,
          81.91881918819189,
          74.97005988023953,
          75.98097502972652,
          70.69133398247322,
          82.81811646297628,
          77.70360480640855,
          81.31868131868131,
          73.07692307692307,
          54.347826086956516,
          76.47058823529412,
          29.629629629629626,
          86.27450980392157,
          79.34272300469483,
          73.74149659863946,
          80.59964726631394,
          70.35573122529645,
          79.95095033721643,
          83.9572192513369,
          86.64383561643835,
          86.51685393258427,
          87.9727216367018,
          83.52769679300292,
          84.98467824310521,
          87.17607973421927,
          77.66749379652606,
          85.0474106491612,
          84.65655664585192,
          77.02702702702703,
          84.21354764638347,
          79.97179125528913,
          89.30817610062893,
          91.11570247933885,
          81.08108108108108,
          92.1875,
          87.17948717948718,
          75.39682539682539,
          88.38951310861424,
          81.51898734177216,
          88.47583643122677,
          78.81286067600989,
          80.37116345467523,
          77.72963604852686,
          78.54671280276817,
          74.54545454545455,
          85.95194085027727,
          78.27202737382379,
          82.26113437381044,
          79.6688132474701,
          78.5111281657713,
          78.1124497991968,
          81.69014084507043,
          78.94077091820746,
          75.70744449281672,
          76.3436790310371,
          84.41305406721871,
          81.81818181818183,
          83.9231547017189,
          86.05664488017429,
          87.71266540642722,
          92.20779220779221,
          87.03862660944206,
          87.54820936639118,
          90.03104518799586,
          84.08817635270542,
          83.39955849889624,
          87.89283874291603,
          88.4406779661017,
          86.71433948061724,
          76.80170575692964,
          83.69367022662152,
          87.28511190398962,
          85.64437194127244,
          79.18131592164741,
          84.4406779661017,
          90.91440257084429,
          92.09406494960807,
          88.12709030100334,
          90.73684210526316,
          93.9982347749338,
          80.72916666666666,
          72.47706422018348,
          78.57142857142857,
          80,
          77.41935483870968,
          95.3125,
          93.5361216730038,
          88.18652849740933,
          84.26791277258567,
          84.58498023715416,
          80.48780487804879,
          88.04627249357327,
          80.47673098751419,
          92.39669421487604,
          95.66115702479338,
          95.74944071588367,
          88.64628820960698,
          95.19999999999999,
          91.97080291970804,
          98.00796812749005,
          88.1578947368421,
          98.26839826839827,
          93.12977099236642,
          100,
          97.95918367346938,
          100,
          100,
          100,
          100,
          96.82539682539682,
          75.67567567567568,
          86.8421052631579,
          82.75862068965517,
          93.75,
          91.2621359223301,
          81.95488721804512,
          96.80851063829788,
          89.0909090909091,
          90.12345679012346,
          81.08108108108108,
          78.57142857142857,
          72.72727272727273,
          100,
          96.875,
          100,
          100,
          67.74193548387096,
          45.45454545454545,
          100,
          58.333333333333336,
          100,
          88.88888888888889,
          97.87234042553192,
          87.62886597938144,
          63.8095238095238,
          85.71428571428571,
          88.18897637795276,
          72.91666666666666,
          93.87755102040816,
          90.9090909090909,
          100,
          100,
          95.34883720930233,
          94.66666666666667,
          96.72131147540983,
          96.86274509803921,
          96.98795180722891,
          93.96551724137932,
          100,
          92.72727272727272,
          93.75,
          85.71428571428571,
          79.3103448275862,
          95.77464788732394,
          77.27272727272727,
          null,
          100,
          100,
          90.9090909090909,
          100,
          100,
          100,
          null,
          90.9090909090909,
          86.53846153846155,
          41.17647058823529,
          100,
          100,
          75,
          100,
          100,
          55.88235294117647,
          80,
          50.847457627118644,
          74.35897435897436,
          75,
          60,
          100,
          95.65217391304348,
          100,
          100,
          null,
          null,
          null,
          100,
          0
         ],
         "yaxis": "y"
        }
       ],
       "layout": {
        "legend": {
         "tracegroupgap": 0
        },
        "margin": {
         "t": 60
        },
        "template": {
         "data": {
          "bar": [
           {
            "error_x": {
             "color": "#2a3f5f"
            },
            "error_y": {
             "color": "#2a3f5f"
            },
            "marker": {
             "line": {
              "color": "#E5ECF6",
              "width": 0.5
             }
            },
            "type": "bar"
           }
          ],
          "barpolar": [
           {
            "marker": {
             "line": {
              "color": "#E5ECF6",
              "width": 0.5
             }
            },
            "type": "barpolar"
           }
          ],
          "carpet": [
           {
            "aaxis": {
             "endlinecolor": "#2a3f5f",
             "gridcolor": "white",
             "linecolor": "white",
             "minorgridcolor": "white",
             "startlinecolor": "#2a3f5f"
            },
            "baxis": {
             "endlinecolor": "#2a3f5f",
             "gridcolor": "white",
             "linecolor": "white",
             "minorgridcolor": "white",
             "startlinecolor": "#2a3f5f"
            },
            "type": "carpet"
           }
          ],
          "choropleth": [
           {
            "colorbar": {
             "outlinewidth": 0,
             "ticks": ""
            },
            "type": "choropleth"
           }
          ],
          "contour": [
           {
            "colorbar": {
             "outlinewidth": 0,
             "ticks": ""
            },
            "colorscale": [
             [
              0,
              "#0d0887"
             ],
             [
              0.1111111111111111,
              "#46039f"
             ],
             [
              0.2222222222222222,
              "#7201a8"
             ],
             [
              0.3333333333333333,
              "#9c179e"
             ],
             [
              0.4444444444444444,
              "#bd3786"
             ],
             [
              0.5555555555555556,
              "#d8576b"
             ],
             [
              0.6666666666666666,
              "#ed7953"
             ],
             [
              0.7777777777777778,
              "#fb9f3a"
             ],
             [
              0.8888888888888888,
              "#fdca26"
             ],
             [
              1,
              "#f0f921"
             ]
            ],
            "type": "contour"
           }
          ],
          "contourcarpet": [
           {
            "colorbar": {
             "outlinewidth": 0,
             "ticks": ""
            },
            "type": "contourcarpet"
           }
          ],
          "heatmap": [
           {
            "colorbar": {
             "outlinewidth": 0,
             "ticks": ""
            },
            "colorscale": [
             [
              0,
              "#0d0887"
             ],
             [
              0.1111111111111111,
              "#46039f"
             ],
             [
              0.2222222222222222,
              "#7201a8"
             ],
             [
              0.3333333333333333,
              "#9c179e"
             ],
             [
              0.4444444444444444,
              "#bd3786"
             ],
             [
              0.5555555555555556,
              "#d8576b"
             ],
             [
              0.6666666666666666,
              "#ed7953"
             ],
             [
              0.7777777777777778,
              "#fb9f3a"
             ],
             [
              0.8888888888888888,
              "#fdca26"
             ],
             [
              1,
              "#f0f921"
             ]
            ],
            "type": "heatmap"
           }
          ],
          "heatmapgl": [
           {
            "colorbar": {
             "outlinewidth": 0,
             "ticks": ""
            },
            "colorscale": [
             [
              0,
              "#0d0887"
             ],
             [
              0.1111111111111111,
              "#46039f"
             ],
             [
              0.2222222222222222,
              "#7201a8"
             ],
             [
              0.3333333333333333,
              "#9c179e"
             ],
             [
              0.4444444444444444,
              "#bd3786"
             ],
             [
              0.5555555555555556,
              "#d8576b"
             ],
             [
              0.6666666666666666,
              "#ed7953"
             ],
             [
              0.7777777777777778,
              "#fb9f3a"
             ],
             [
              0.8888888888888888,
              "#fdca26"
             ],
             [
              1,
              "#f0f921"
             ]
            ],
            "type": "heatmapgl"
           }
          ],
          "histogram": [
           {
            "marker": {
             "colorbar": {
              "outlinewidth": 0,
              "ticks": ""
             }
            },
            "type": "histogram"
           }
          ],
          "histogram2d": [
           {
            "colorbar": {
             "outlinewidth": 0,
             "ticks": ""
            },
            "colorscale": [
             [
              0,
              "#0d0887"
             ],
             [
              0.1111111111111111,
              "#46039f"
             ],
             [
              0.2222222222222222,
              "#7201a8"
             ],
             [
              0.3333333333333333,
              "#9c179e"
             ],
             [
              0.4444444444444444,
              "#bd3786"
             ],
             [
              0.5555555555555556,
              "#d8576b"
             ],
             [
              0.6666666666666666,
              "#ed7953"
             ],
             [
              0.7777777777777778,
              "#fb9f3a"
             ],
             [
              0.8888888888888888,
              "#fdca26"
             ],
             [
              1,
              "#f0f921"
             ]
            ],
            "type": "histogram2d"
           }
          ],
          "histogram2dcontour": [
           {
            "colorbar": {
             "outlinewidth": 0,
             "ticks": ""
            },
            "colorscale": [
             [
              0,
              "#0d0887"
             ],
             [
              0.1111111111111111,
              "#46039f"
             ],
             [
              0.2222222222222222,
              "#7201a8"
             ],
             [
              0.3333333333333333,
              "#9c179e"
             ],
             [
              0.4444444444444444,
              "#bd3786"
             ],
             [
              0.5555555555555556,
              "#d8576b"
             ],
             [
              0.6666666666666666,
              "#ed7953"
             ],
             [
              0.7777777777777778,
              "#fb9f3a"
             ],
             [
              0.8888888888888888,
              "#fdca26"
             ],
             [
              1,
              "#f0f921"
             ]
            ],
            "type": "histogram2dcontour"
           }
          ],
          "mesh3d": [
           {
            "colorbar": {
             "outlinewidth": 0,
             "ticks": ""
            },
            "type": "mesh3d"
           }
          ],
          "parcoords": [
           {
            "line": {
             "colorbar": {
              "outlinewidth": 0,
              "ticks": ""
             }
            },
            "type": "parcoords"
           }
          ],
          "pie": [
           {
            "automargin": true,
            "type": "pie"
           }
          ],
          "scatter": [
           {
            "marker": {
             "colorbar": {
              "outlinewidth": 0,
              "ticks": ""
             }
            },
            "type": "scatter"
           }
          ],
          "scatter3d": [
           {
            "line": {
             "colorbar": {
              "outlinewidth": 0,
              "ticks": ""
             }
            },
            "marker": {
             "colorbar": {
              "outlinewidth": 0,
              "ticks": ""
             }
            },
            "type": "scatter3d"
           }
          ],
          "scattercarpet": [
           {
            "marker": {
             "colorbar": {
              "outlinewidth": 0,
              "ticks": ""
             }
            },
            "type": "scattercarpet"
           }
          ],
          "scattergeo": [
           {
            "marker": {
             "colorbar": {
              "outlinewidth": 0,
              "ticks": ""
             }
            },
            "type": "scattergeo"
           }
          ],
          "scattergl": [
           {
            "marker": {
             "colorbar": {
              "outlinewidth": 0,
              "ticks": ""
             }
            },
            "type": "scattergl"
           }
          ],
          "scattermapbox": [
           {
            "marker": {
             "colorbar": {
              "outlinewidth": 0,
              "ticks": ""
             }
            },
            "type": "scattermapbox"
           }
          ],
          "scatterpolar": [
           {
            "marker": {
             "colorbar": {
              "outlinewidth": 0,
              "ticks": ""
             }
            },
            "type": "scatterpolar"
           }
          ],
          "scatterpolargl": [
           {
            "marker": {
             "colorbar": {
              "outlinewidth": 0,
              "ticks": ""
             }
            },
            "type": "scatterpolargl"
           }
          ],
          "scatterternary": [
           {
            "marker": {
             "colorbar": {
              "outlinewidth": 0,
              "ticks": ""
             }
            },
            "type": "scatterternary"
           }
          ],
          "surface": [
           {
            "colorbar": {
             "outlinewidth": 0,
             "ticks": ""
            },
            "colorscale": [
             [
              0,
              "#0d0887"
             ],
             [
              0.1111111111111111,
              "#46039f"
             ],
             [
              0.2222222222222222,
              "#7201a8"
             ],
             [
              0.3333333333333333,
              "#9c179e"
             ],
             [
              0.4444444444444444,
              "#bd3786"
             ],
             [
              0.5555555555555556,
              "#d8576b"
             ],
             [
              0.6666666666666666,
              "#ed7953"
             ],
             [
              0.7777777777777778,
              "#fb9f3a"
             ],
             [
              0.8888888888888888,
              "#fdca26"
             ],
             [
              1,
              "#f0f921"
             ]
            ],
            "type": "surface"
           }
          ],
          "table": [
           {
            "cells": {
             "fill": {
              "color": "#EBF0F8"
             },
             "line": {
              "color": "white"
             }
            },
            "header": {
             "fill": {
              "color": "#C8D4E3"
             },
             "line": {
              "color": "white"
             }
            },
            "type": "table"
           }
          ]
         },
         "layout": {
          "annotationdefaults": {
           "arrowcolor": "#2a3f5f",
           "arrowhead": 0,
           "arrowwidth": 1
          },
          "coloraxis": {
           "colorbar": {
            "outlinewidth": 0,
            "ticks": ""
           }
          },
          "colorscale": {
           "diverging": [
            [
             0,
             "#8e0152"
            ],
            [
             0.1,
             "#c51b7d"
            ],
            [
             0.2,
             "#de77ae"
            ],
            [
             0.3,
             "#f1b6da"
            ],
            [
             0.4,
             "#fde0ef"
            ],
            [
             0.5,
             "#f7f7f7"
            ],
            [
             0.6,
             "#e6f5d0"
            ],
            [
             0.7,
             "#b8e186"
            ],
            [
             0.8,
             "#7fbc41"
            ],
            [
             0.9,
             "#4d9221"
            ],
            [
             1,
             "#276419"
            ]
           ],
           "sequential": [
            [
             0,
             "#0d0887"
            ],
            [
             0.1111111111111111,
             "#46039f"
            ],
            [
             0.2222222222222222,
             "#7201a8"
            ],
            [
             0.3333333333333333,
             "#9c179e"
            ],
            [
             0.4444444444444444,
             "#bd3786"
            ],
            [
             0.5555555555555556,
             "#d8576b"
            ],
            [
             0.6666666666666666,
             "#ed7953"
            ],
            [
             0.7777777777777778,
             "#fb9f3a"
            ],
            [
             0.8888888888888888,
             "#fdca26"
            ],
            [
             1,
             "#f0f921"
            ]
           ],
           "sequentialminus": [
            [
             0,
             "#0d0887"
            ],
            [
             0.1111111111111111,
             "#46039f"
            ],
            [
             0.2222222222222222,
             "#7201a8"
            ],
            [
             0.3333333333333333,
             "#9c179e"
            ],
            [
             0.4444444444444444,
             "#bd3786"
            ],
            [
             0.5555555555555556,
             "#d8576b"
            ],
            [
             0.6666666666666666,
             "#ed7953"
            ],
            [
             0.7777777777777778,
             "#fb9f3a"
            ],
            [
             0.8888888888888888,
             "#fdca26"
            ],
            [
             1,
             "#f0f921"
            ]
           ]
          },
          "colorway": [
           "#636efa",
           "#EF553B",
           "#00cc96",
           "#ab63fa",
           "#FFA15A",
           "#19d3f3",
           "#FF6692",
           "#B6E880",
           "#FF97FF",
           "#FECB52"
          ],
          "font": {
           "color": "#2a3f5f"
          },
          "geo": {
           "bgcolor": "white",
           "lakecolor": "white",
           "landcolor": "#E5ECF6",
           "showlakes": true,
           "showland": true,
           "subunitcolor": "white"
          },
          "hoverlabel": {
           "align": "left"
          },
          "hovermode": "closest",
          "mapbox": {
           "style": "light"
          },
          "paper_bgcolor": "white",
          "plot_bgcolor": "#E5ECF6",
          "polar": {
           "angularaxis": {
            "gridcolor": "white",
            "linecolor": "white",
            "ticks": ""
           },
           "bgcolor": "#E5ECF6",
           "radialaxis": {
            "gridcolor": "white",
            "linecolor": "white",
            "ticks": ""
           }
          },
          "scene": {
           "xaxis": {
            "backgroundcolor": "#E5ECF6",
            "gridcolor": "white",
            "gridwidth": 2,
            "linecolor": "white",
            "showbackground": true,
            "ticks": "",
            "zerolinecolor": "white"
           },
           "yaxis": {
            "backgroundcolor": "#E5ECF6",
            "gridcolor": "white",
            "gridwidth": 2,
            "linecolor": "white",
            "showbackground": true,
            "ticks": "",
            "zerolinecolor": "white"
           },
           "zaxis": {
            "backgroundcolor": "#E5ECF6",
            "gridcolor": "white",
            "gridwidth": 2,
            "linecolor": "white",
            "showbackground": true,
            "ticks": "",
            "zerolinecolor": "white"
           }
          },
          "shapedefaults": {
           "line": {
            "color": "#2a3f5f"
           }
          },
          "ternary": {
           "aaxis": {
            "gridcolor": "white",
            "linecolor": "white",
            "ticks": ""
           },
           "baxis": {
            "gridcolor": "white",
            "linecolor": "white",
            "ticks": ""
           },
           "bgcolor": "#E5ECF6",
           "caxis": {
            "gridcolor": "white",
            "linecolor": "white",
            "ticks": ""
           }
          },
          "title": {
           "x": 0.05
          },
          "xaxis": {
           "automargin": true,
           "gridcolor": "white",
           "linecolor": "white",
           "ticks": "",
           "title": {
            "standoff": 15
           },
           "zerolinecolor": "white",
           "zerolinewidth": 2
          },
          "yaxis": {
           "automargin": true,
           "gridcolor": "white",
           "linecolor": "white",
           "ticks": "",
           "title": {
            "standoff": 15
           },
           "zerolinecolor": "white",
           "zerolinewidth": 2
          }
         }
        },
        "xaxis": {
         "anchor": "y",
         "domain": [
          0,
          1
         ],
         "title": {
          "text": "Post Hour"
         }
        },
        "yaxis": {
         "anchor": "x",
         "domain": [
          0,
          1
         ],
         "title": {
          "text": "Reaction Positive %"
         }
        }
       }
      },
      "text/html": [
       "<div>                            <div id=\"5cba6fe1-7932-4a83-92b8-d1f14de3d914\" class=\"plotly-graph-div\" style=\"height:525px; width:100%;\"></div>            <script type=\"text/javascript\">                require([\"plotly\"], function(Plotly) {                    window.PLOTLYENV=window.PLOTLYENV || {};                                    if (document.getElementById(\"5cba6fe1-7932-4a83-92b8-d1f14de3d914\")) {                    Plotly.newPlot(                        \"5cba6fe1-7932-4a83-92b8-d1f14de3d914\",                        [{\"hovertemplate\": \"Post Hour=%{x}<br>Reaction Positive %=%{y}<extra></extra>\", \"legendgroup\": \"\", \"line\": {\"color\": \"#636efa\", \"dash\": \"solid\"}, \"mode\": \"lines\", \"name\": \"\", \"orientation\": \"v\", \"showlegend\": false, \"type\": \"scatter\", \"x\": [\"2021-08-24T15:00:00\", \"2021-08-24T16:00:00\", \"2021-08-24T17:00:00\", \"2021-08-24T18:00:00\", \"2021-08-24T19:00:00\", \"2021-08-24T20:00:00\", \"2021-08-24T21:00:00\", \"2021-08-24T22:00:00\", \"2021-08-24T23:00:00\", \"2021-08-25T00:00:00\", \"2021-08-25T01:00:00\", \"2021-08-25T02:00:00\", \"2021-08-25T03:00:00\", \"2021-08-25T04:00:00\", \"2021-08-25T05:00:00\", \"2021-08-25T06:00:00\", \"2021-08-25T07:00:00\", \"2021-08-25T08:00:00\", \"2021-08-25T09:00:00\", \"2021-08-25T10:00:00\", \"2021-08-25T11:00:00\", \"2021-08-25T12:00:00\", \"2021-08-25T13:00:00\", \"2021-08-25T14:00:00\", \"2021-08-25T15:00:00\", \"2021-08-25T16:00:00\", \"2021-08-25T17:00:00\", \"2021-08-25T18:00:00\", \"2021-08-25T19:00:00\", \"2021-08-25T20:00:00\", \"2021-08-25T21:00:00\", \"2021-08-25T22:00:00\", \"2021-08-25T23:00:00\", \"2021-08-26T00:00:00\", \"2021-08-26T01:00:00\", \"2021-08-26T03:00:00\", \"2021-08-26T04:00:00\", \"2021-08-26T05:00:00\", \"2021-08-26T06:00:00\", \"2021-08-26T07:00:00\", \"2021-08-26T08:00:00\", \"2021-08-26T09:00:00\", \"2021-08-26T10:00:00\", \"2021-08-26T11:00:00\", \"2021-08-26T12:00:00\", \"2021-08-26T13:00:00\", \"2021-08-26T14:00:00\", \"2021-08-26T15:00:00\", \"2021-08-26T16:00:00\", \"2021-08-26T17:00:00\", \"2021-08-26T18:00:00\", \"2021-08-26T19:00:00\", \"2021-08-26T20:00:00\", \"2021-08-26T21:00:00\", \"2021-08-26T22:00:00\", \"2021-08-26T23:00:00\", \"2021-08-27T00:00:00\", \"2021-08-27T01:00:00\", \"2021-08-27T02:00:00\", \"2021-08-27T03:00:00\", \"2021-08-27T04:00:00\", \"2021-08-27T05:00:00\", \"2021-08-27T06:00:00\", \"2021-08-27T07:00:00\", \"2021-08-27T08:00:00\", \"2021-08-27T09:00:00\", \"2021-08-27T10:00:00\", \"2021-08-27T11:00:00\", \"2021-08-27T12:00:00\", \"2021-08-27T13:00:00\", \"2021-08-27T14:00:00\", \"2021-08-27T15:00:00\", \"2021-08-27T16:00:00\", \"2021-08-27T17:00:00\", \"2021-08-27T18:00:00\", \"2021-08-27T19:00:00\", \"2021-08-27T20:00:00\", \"2021-08-27T21:00:00\", \"2021-08-27T22:00:00\", \"2021-08-27T23:00:00\", \"2021-08-28T00:00:00\", \"2021-08-28T01:00:00\", \"2021-08-28T02:00:00\", \"2021-08-28T03:00:00\", \"2021-08-28T04:00:00\", \"2021-08-28T05:00:00\", \"2021-08-28T06:00:00\", \"2021-08-28T07:00:00\", \"2021-08-28T08:00:00\", \"2021-08-28T09:00:00\", \"2021-08-28T10:00:00\", \"2021-08-28T11:00:00\", \"2021-08-28T12:00:00\", \"2021-08-28T13:00:00\", \"2021-08-28T14:00:00\", \"2021-08-28T15:00:00\", \"2021-08-28T16:00:00\", \"2021-08-28T17:00:00\", \"2021-08-28T18:00:00\", \"2021-08-28T19:00:00\", \"2021-08-28T20:00:00\", \"2021-08-28T21:00:00\", \"2021-08-28T22:00:00\", \"2021-08-28T23:00:00\", \"2021-08-29T00:00:00\", \"2021-08-29T01:00:00\", \"2021-08-29T02:00:00\", \"2021-08-29T03:00:00\", \"2021-08-29T04:00:00\", \"2021-08-29T05:00:00\", \"2021-08-29T06:00:00\", \"2021-08-29T07:00:00\", \"2021-08-29T08:00:00\", \"2021-08-29T09:00:00\", \"2021-08-29T10:00:00\", \"2021-08-29T11:00:00\", \"2021-08-29T12:00:00\", \"2021-08-29T13:00:00\", \"2021-08-29T14:00:00\", \"2021-08-29T15:00:00\", \"2021-08-29T16:00:00\", \"2021-08-29T17:00:00\", \"2021-08-29T18:00:00\", \"2021-08-29T19:00:00\", \"2021-08-29T20:00:00\", \"2021-08-29T21:00:00\", \"2021-08-29T22:00:00\", \"2021-08-29T23:00:00\", \"2021-08-30T00:00:00\", \"2021-08-30T01:00:00\", \"2021-08-30T02:00:00\", \"2021-08-30T03:00:00\", \"2021-08-30T04:00:00\", \"2021-08-30T05:00:00\", \"2021-08-30T06:00:00\", \"2021-08-30T07:00:00\", \"2021-08-30T08:00:00\", \"2021-08-30T09:00:00\", \"2021-08-30T10:00:00\", \"2021-08-30T11:00:00\", \"2021-08-30T12:00:00\", \"2021-08-30T13:00:00\", \"2021-08-30T14:00:00\", \"2021-08-30T15:00:00\", \"2021-08-30T16:00:00\", \"2021-08-30T17:00:00\", \"2021-08-30T18:00:00\", \"2021-08-30T19:00:00\", \"2021-08-30T20:00:00\", \"2021-08-30T21:00:00\", \"2021-08-30T22:00:00\", \"2021-08-30T23:00:00\", \"2021-08-31T00:00:00\", \"2021-08-31T01:00:00\", \"2021-08-31T03:00:00\", \"2021-08-31T05:00:00\", \"2021-08-31T06:00:00\", \"2021-08-31T07:00:00\", \"2021-08-31T08:00:00\", \"2021-08-31T09:00:00\", \"2021-08-31T10:00:00\", \"2021-08-31T11:00:00\", \"2021-08-31T12:00:00\", \"2021-08-31T13:00:00\", \"2021-08-31T14:00:00\", \"2021-08-31T15:00:00\", \"2021-08-31T16:00:00\", \"2021-08-31T17:00:00\", \"2021-08-31T18:00:00\", \"2021-08-31T19:00:00\", \"2021-08-31T20:00:00\", \"2021-08-31T21:00:00\", \"2021-08-31T22:00:00\", \"2021-08-31T23:00:00\", \"2021-09-01T00:00:00\", \"2021-09-01T01:00:00\", \"2021-09-01T02:00:00\", \"2021-09-01T04:00:00\", \"2021-09-01T05:00:00\", \"2021-09-01T07:00:00\", \"2021-09-01T08:00:00\", \"2021-09-01T09:00:00\", \"2021-09-01T10:00:00\", \"2021-09-01T11:00:00\", \"2021-09-01T12:00:00\", \"2021-09-01T13:00:00\", \"2021-09-01T14:00:00\", \"2021-09-01T15:00:00\", \"2021-09-01T16:00:00\", \"2021-09-01T17:00:00\", \"2021-09-01T18:00:00\", \"2021-09-01T19:00:00\", \"2021-09-01T20:00:00\", \"2021-09-01T21:00:00\", \"2021-09-01T22:00:00\", \"2021-09-01T23:00:00\", \"2021-09-02T02:00:00\", \"2021-09-02T06:00:00\", \"2021-09-02T07:00:00\", \"2021-09-02T08:00:00\", \"2021-09-02T09:00:00\", \"2021-09-02T10:00:00\", \"2021-09-02T11:00:00\", \"2021-09-02T12:00:00\", \"2021-09-02T13:00:00\", \"2021-09-02T14:00:00\", \"2021-09-02T15:00:00\", \"2021-09-02T16:00:00\", \"2021-09-02T17:00:00\", \"2021-09-02T18:00:00\", \"2021-09-02T19:00:00\", \"2021-09-02T20:00:00\", \"2021-09-02T21:00:00\", \"2021-09-02T22:00:00\", \"2021-09-02T23:00:00\", \"2021-09-03T00:00:00\", \"2021-09-03T02:00:00\", \"2021-09-03T06:00:00\", \"2021-09-03T07:00:00\", \"2021-09-03T08:00:00\", \"2021-09-03T09:00:00\", \"2021-09-03T10:00:00\", \"2021-09-03T11:00:00\", \"2021-09-03T12:00:00\", \"2021-09-03T13:00:00\", \"2021-09-03T14:00:00\", \"2021-09-03T15:00:00\", \"2021-09-03T16:00:00\", \"2021-09-03T17:00:00\", \"2021-09-03T18:00:00\", \"2021-09-03T19:00:00\", \"2021-09-03T20:00:00\", \"2021-09-03T21:00:00\", \"2021-09-03T22:00:00\"], \"xaxis\": \"x\", \"y\": [71.35250266240682, 83.11688311688312, 62.5, 83.33333333333334, 98.36065573770492, 82.5, 100.0, 93.75, 98.4126984126984, 100.0, 88.88888888888889, 97.67441860465115, 100.0, 100.0, 76.0, 94.7867298578199, 82.66666666666667, 85.86387434554975, 81.36094674556213, 76.78100263852242, 77.13950762016412, 90.70175438596492, 85.84229390681004, 80.0, 82.47191011235955, 90.94736842105263, 78.40236686390533, 77.67857142857143, 91.4448669201521, 96.18593563766389, 88.0, 84.11214953271028, 82.23140495867769, 88.48484848484848, 86.41975308641975, 96.42857142857143, 23.809523809523807, 83.61344537815127, 65.05016722408027, 75.09363295880149, 89.40628637951106, 82.3869104908566, 75.26444263628966, 78.90784982935153, 72.75280898876404, 79.94376757263355, 73.541842772612, 75.95744680851064, 74.72745292368683, 81.91881918819189, 74.97005988023953, 75.98097502972652, 70.69133398247322, 82.81811646297628, 77.70360480640855, 81.31868131868131, 73.07692307692307, 54.347826086956516, 76.47058823529412, 29.629629629629626, 86.27450980392157, 79.34272300469483, 73.74149659863946, 80.59964726631394, 70.35573122529645, 79.95095033721643, 83.9572192513369, 86.64383561643835, 86.51685393258427, 87.9727216367018, 83.52769679300292, 84.98467824310521, 87.17607973421927, 77.66749379652606, 85.0474106491612, 84.65655664585192, 77.02702702702703, 84.21354764638347, 79.97179125528913, 89.30817610062893, 91.11570247933885, 81.08108108108108, 92.1875, 87.17948717948718, 75.39682539682539, 88.38951310861424, 81.51898734177216, 88.47583643122677, 78.81286067600989, 80.37116345467523, 77.72963604852686, 78.54671280276817, 74.54545454545455, 85.95194085027727, 78.27202737382379, 82.26113437381044, 79.6688132474701, 78.5111281657713, 78.1124497991968, 81.69014084507043, 78.94077091820746, 75.70744449281672, 76.3436790310371, 84.41305406721871, 81.81818181818183, 83.9231547017189, 86.05664488017429, 87.71266540642722, 92.20779220779221, 87.03862660944206, 87.54820936639118, 90.03104518799586, 84.08817635270542, 83.39955849889624, 87.89283874291603, 88.4406779661017, 86.71433948061724, 76.80170575692964, 83.69367022662152, 87.28511190398962, 85.64437194127244, 79.18131592164741, 84.4406779661017, 90.91440257084429, 92.09406494960807, 88.12709030100334, 90.73684210526316, 93.9982347749338, 80.72916666666666, 72.47706422018348, 78.57142857142857, 80.0, 77.41935483870968, 95.3125, 93.5361216730038, 88.18652849740933, 84.26791277258567, 84.58498023715416, 80.48780487804879, 88.04627249357327, 80.47673098751419, 92.39669421487604, 95.66115702479338, 95.74944071588367, 88.64628820960698, 95.19999999999999, 91.97080291970804, 98.00796812749005, 88.1578947368421, 98.26839826839827, 93.12977099236642, 100.0, 97.95918367346938, 100.0, 100.0, 100.0, 100.0, 96.82539682539682, 75.67567567567568, 86.8421052631579, 82.75862068965517, 93.75, 91.2621359223301, 81.95488721804512, 96.80851063829788, 89.0909090909091, 90.12345679012346, 81.08108108108108, 78.57142857142857, 72.72727272727273, 100.0, 96.875, 100.0, 100.0, 67.74193548387096, 45.45454545454545, 100.0, 58.333333333333336, 100.0, 88.88888888888889, 97.87234042553192, 87.62886597938144, 63.8095238095238, 85.71428571428571, 88.18897637795276, 72.91666666666666, 93.87755102040816, 90.9090909090909, 100.0, 100.0, 95.34883720930233, 94.66666666666667, 96.72131147540983, 96.86274509803921, 96.98795180722891, 93.96551724137932, 100.0, 92.72727272727272, 93.75, 85.71428571428571, 79.3103448275862, 95.77464788732394, 77.27272727272727, null, 100.0, 100.0, 90.9090909090909, 100.0, 100.0, 100.0, null, 90.9090909090909, 86.53846153846155, 41.17647058823529, 100.0, 100.0, 75.0, 100.0, 100.0, 55.88235294117647, 80.0, 50.847457627118644, 74.35897435897436, 75.0, 60.0, 100.0, 95.65217391304348, 100.0, 100.0, null, null, null, 100.0, 0.0], \"yaxis\": \"y\"}],                        {\"legend\": {\"tracegroupgap\": 0}, \"margin\": {\"t\": 60}, \"template\": {\"data\": {\"bar\": [{\"error_x\": {\"color\": \"#2a3f5f\"}, \"error_y\": {\"color\": \"#2a3f5f\"}, \"marker\": {\"line\": {\"color\": \"#E5ECF6\", \"width\": 0.5}}, \"type\": \"bar\"}], \"barpolar\": [{\"marker\": {\"line\": {\"color\": \"#E5ECF6\", \"width\": 0.5}}, \"type\": \"barpolar\"}], \"carpet\": [{\"aaxis\": {\"endlinecolor\": \"#2a3f5f\", \"gridcolor\": \"white\", \"linecolor\": \"white\", \"minorgridcolor\": \"white\", \"startlinecolor\": \"#2a3f5f\"}, \"baxis\": {\"endlinecolor\": \"#2a3f5f\", \"gridcolor\": \"white\", \"linecolor\": \"white\", \"minorgridcolor\": \"white\", \"startlinecolor\": \"#2a3f5f\"}, \"type\": \"carpet\"}], \"choropleth\": [{\"colorbar\": {\"outlinewidth\": 0, \"ticks\": \"\"}, \"type\": \"choropleth\"}], \"contour\": [{\"colorbar\": {\"outlinewidth\": 0, \"ticks\": \"\"}, \"colorscale\": [[0.0, \"#0d0887\"], [0.1111111111111111, \"#46039f\"], [0.2222222222222222, \"#7201a8\"], [0.3333333333333333, \"#9c179e\"], [0.4444444444444444, \"#bd3786\"], [0.5555555555555556, \"#d8576b\"], [0.6666666666666666, \"#ed7953\"], [0.7777777777777778, \"#fb9f3a\"], [0.8888888888888888, \"#fdca26\"], [1.0, \"#f0f921\"]], \"type\": \"contour\"}], \"contourcarpet\": [{\"colorbar\": {\"outlinewidth\": 0, \"ticks\": \"\"}, \"type\": \"contourcarpet\"}], \"heatmap\": [{\"colorbar\": {\"outlinewidth\": 0, \"ticks\": \"\"}, \"colorscale\": [[0.0, \"#0d0887\"], [0.1111111111111111, \"#46039f\"], [0.2222222222222222, \"#7201a8\"], [0.3333333333333333, \"#9c179e\"], [0.4444444444444444, \"#bd3786\"], [0.5555555555555556, \"#d8576b\"], [0.6666666666666666, \"#ed7953\"], [0.7777777777777778, \"#fb9f3a\"], [0.8888888888888888, \"#fdca26\"], [1.0, \"#f0f921\"]], \"type\": \"heatmap\"}], \"heatmapgl\": [{\"colorbar\": {\"outlinewidth\": 0, \"ticks\": \"\"}, \"colorscale\": [[0.0, \"#0d0887\"], [0.1111111111111111, \"#46039f\"], [0.2222222222222222, \"#7201a8\"], [0.3333333333333333, \"#9c179e\"], [0.4444444444444444, \"#bd3786\"], [0.5555555555555556, \"#d8576b\"], [0.6666666666666666, \"#ed7953\"], [0.7777777777777778, \"#fb9f3a\"], [0.8888888888888888, \"#fdca26\"], [1.0, \"#f0f921\"]], \"type\": \"heatmapgl\"}], \"histogram\": [{\"marker\": {\"colorbar\": {\"outlinewidth\": 0, \"ticks\": \"\"}}, \"type\": \"histogram\"}], \"histogram2d\": [{\"colorbar\": {\"outlinewidth\": 0, \"ticks\": \"\"}, \"colorscale\": [[0.0, \"#0d0887\"], [0.1111111111111111, \"#46039f\"], [0.2222222222222222, \"#7201a8\"], [0.3333333333333333, \"#9c179e\"], [0.4444444444444444, \"#bd3786\"], [0.5555555555555556, \"#d8576b\"], [0.6666666666666666, \"#ed7953\"], [0.7777777777777778, \"#fb9f3a\"], [0.8888888888888888, \"#fdca26\"], [1.0, \"#f0f921\"]], \"type\": \"histogram2d\"}], \"histogram2dcontour\": [{\"colorbar\": {\"outlinewidth\": 0, \"ticks\": \"\"}, \"colorscale\": [[0.0, \"#0d0887\"], [0.1111111111111111, \"#46039f\"], [0.2222222222222222, \"#7201a8\"], [0.3333333333333333, \"#9c179e\"], [0.4444444444444444, \"#bd3786\"], [0.5555555555555556, \"#d8576b\"], [0.6666666666666666, \"#ed7953\"], [0.7777777777777778, \"#fb9f3a\"], [0.8888888888888888, \"#fdca26\"], [1.0, \"#f0f921\"]], \"type\": \"histogram2dcontour\"}], \"mesh3d\": [{\"colorbar\": {\"outlinewidth\": 0, \"ticks\": \"\"}, \"type\": \"mesh3d\"}], \"parcoords\": [{\"line\": {\"colorbar\": {\"outlinewidth\": 0, \"ticks\": \"\"}}, \"type\": \"parcoords\"}], \"pie\": [{\"automargin\": true, \"type\": \"pie\"}], \"scatter\": [{\"marker\": {\"colorbar\": {\"outlinewidth\": 0, \"ticks\": \"\"}}, \"type\": \"scatter\"}], \"scatter3d\": [{\"line\": {\"colorbar\": {\"outlinewidth\": 0, \"ticks\": \"\"}}, \"marker\": {\"colorbar\": {\"outlinewidth\": 0, \"ticks\": \"\"}}, \"type\": \"scatter3d\"}], \"scattercarpet\": [{\"marker\": {\"colorbar\": {\"outlinewidth\": 0, \"ticks\": \"\"}}, \"type\": \"scattercarpet\"}], \"scattergeo\": [{\"marker\": {\"colorbar\": {\"outlinewidth\": 0, \"ticks\": \"\"}}, \"type\": \"scattergeo\"}], \"scattergl\": [{\"marker\": {\"colorbar\": {\"outlinewidth\": 0, \"ticks\": \"\"}}, \"type\": \"scattergl\"}], \"scattermapbox\": [{\"marker\": {\"colorbar\": {\"outlinewidth\": 0, \"ticks\": \"\"}}, \"type\": \"scattermapbox\"}], \"scatterpolar\": [{\"marker\": {\"colorbar\": {\"outlinewidth\": 0, \"ticks\": \"\"}}, \"type\": \"scatterpolar\"}], \"scatterpolargl\": [{\"marker\": {\"colorbar\": {\"outlinewidth\": 0, \"ticks\": \"\"}}, \"type\": \"scatterpolargl\"}], \"scatterternary\": [{\"marker\": {\"colorbar\": {\"outlinewidth\": 0, \"ticks\": \"\"}}, \"type\": \"scatterternary\"}], \"surface\": [{\"colorbar\": {\"outlinewidth\": 0, \"ticks\": \"\"}, \"colorscale\": [[0.0, \"#0d0887\"], [0.1111111111111111, \"#46039f\"], [0.2222222222222222, \"#7201a8\"], [0.3333333333333333, \"#9c179e\"], [0.4444444444444444, \"#bd3786\"], [0.5555555555555556, \"#d8576b\"], [0.6666666666666666, \"#ed7953\"], [0.7777777777777778, \"#fb9f3a\"], [0.8888888888888888, \"#fdca26\"], [1.0, \"#f0f921\"]], \"type\": \"surface\"}], \"table\": [{\"cells\": {\"fill\": {\"color\": \"#EBF0F8\"}, \"line\": {\"color\": \"white\"}}, \"header\": {\"fill\": {\"color\": \"#C8D4E3\"}, \"line\": {\"color\": \"white\"}}, \"type\": \"table\"}]}, \"layout\": {\"annotationdefaults\": {\"arrowcolor\": \"#2a3f5f\", \"arrowhead\": 0, \"arrowwidth\": 1}, \"coloraxis\": {\"colorbar\": {\"outlinewidth\": 0, \"ticks\": \"\"}}, \"colorscale\": {\"diverging\": [[0, \"#8e0152\"], [0.1, \"#c51b7d\"], [0.2, \"#de77ae\"], [0.3, \"#f1b6da\"], [0.4, \"#fde0ef\"], [0.5, \"#f7f7f7\"], [0.6, \"#e6f5d0\"], [0.7, \"#b8e186\"], [0.8, \"#7fbc41\"], [0.9, \"#4d9221\"], [1, \"#276419\"]], \"sequential\": [[0.0, \"#0d0887\"], [0.1111111111111111, \"#46039f\"], [0.2222222222222222, \"#7201a8\"], [0.3333333333333333, \"#9c179e\"], [0.4444444444444444, \"#bd3786\"], [0.5555555555555556, \"#d8576b\"], [0.6666666666666666, \"#ed7953\"], [0.7777777777777778, \"#fb9f3a\"], [0.8888888888888888, \"#fdca26\"], [1.0, \"#f0f921\"]], \"sequentialminus\": [[0.0, \"#0d0887\"], [0.1111111111111111, \"#46039f\"], [0.2222222222222222, \"#7201a8\"], [0.3333333333333333, \"#9c179e\"], [0.4444444444444444, \"#bd3786\"], [0.5555555555555556, \"#d8576b\"], [0.6666666666666666, \"#ed7953\"], [0.7777777777777778, \"#fb9f3a\"], [0.8888888888888888, \"#fdca26\"], [1.0, \"#f0f921\"]]}, \"colorway\": [\"#636efa\", \"#EF553B\", \"#00cc96\", \"#ab63fa\", \"#FFA15A\", \"#19d3f3\", \"#FF6692\", \"#B6E880\", \"#FF97FF\", \"#FECB52\"], \"font\": {\"color\": \"#2a3f5f\"}, \"geo\": {\"bgcolor\": \"white\", \"lakecolor\": \"white\", \"landcolor\": \"#E5ECF6\", \"showlakes\": true, \"showland\": true, \"subunitcolor\": \"white\"}, \"hoverlabel\": {\"align\": \"left\"}, \"hovermode\": \"closest\", \"mapbox\": {\"style\": \"light\"}, \"paper_bgcolor\": \"white\", \"plot_bgcolor\": \"#E5ECF6\", \"polar\": {\"angularaxis\": {\"gridcolor\": \"white\", \"linecolor\": \"white\", \"ticks\": \"\"}, \"bgcolor\": \"#E5ECF6\", \"radialaxis\": {\"gridcolor\": \"white\", \"linecolor\": \"white\", \"ticks\": \"\"}}, \"scene\": {\"xaxis\": {\"backgroundcolor\": \"#E5ECF6\", \"gridcolor\": \"white\", \"gridwidth\": 2, \"linecolor\": \"white\", \"showbackground\": true, \"ticks\": \"\", \"zerolinecolor\": \"white\"}, \"yaxis\": {\"backgroundcolor\": \"#E5ECF6\", \"gridcolor\": \"white\", \"gridwidth\": 2, \"linecolor\": \"white\", \"showbackground\": true, \"ticks\": \"\", \"zerolinecolor\": \"white\"}, \"zaxis\": {\"backgroundcolor\": \"#E5ECF6\", \"gridcolor\": \"white\", \"gridwidth\": 2, \"linecolor\": \"white\", \"showbackground\": true, \"ticks\": \"\", \"zerolinecolor\": \"white\"}}, \"shapedefaults\": {\"line\": {\"color\": \"#2a3f5f\"}}, \"ternary\": {\"aaxis\": {\"gridcolor\": \"white\", \"linecolor\": \"white\", \"ticks\": \"\"}, \"baxis\": {\"gridcolor\": \"white\", \"linecolor\": \"white\", \"ticks\": \"\"}, \"bgcolor\": \"#E5ECF6\", \"caxis\": {\"gridcolor\": \"white\", \"linecolor\": \"white\", \"ticks\": \"\"}}, \"title\": {\"x\": 0.05}, \"xaxis\": {\"automargin\": true, \"gridcolor\": \"white\", \"linecolor\": \"white\", \"ticks\": \"\", \"title\": {\"standoff\": 15}, \"zerolinecolor\": \"white\", \"zerolinewidth\": 2}, \"yaxis\": {\"automargin\": true, \"gridcolor\": \"white\", \"linecolor\": \"white\", \"ticks\": \"\", \"title\": {\"standoff\": 15}, \"zerolinecolor\": \"white\", \"zerolinewidth\": 2}}}, \"xaxis\": {\"anchor\": \"y\", \"domain\": [0.0, 1.0], \"title\": {\"text\": \"Post Hour\"}}, \"yaxis\": {\"anchor\": \"x\", \"domain\": [0.0, 1.0], \"title\": {\"text\": \"Reaction Positive %\"}}},                        {\"responsive\": true}                    ).then(function(){\n",
       "                            \n",
       "var gd = document.getElementById('5cba6fe1-7932-4a83-92b8-d1f14de3d914');\n",
       "var x = new MutationObserver(function (mutations, observer) {{\n",
       "        var display = window.getComputedStyle(gd).display;\n",
       "        if (!display || display === 'none') {{\n",
       "            console.log([gd, 'removed!']);\n",
       "            Plotly.purge(gd);\n",
       "            observer.disconnect();\n",
       "        }}\n",
       "}});\n",
       "\n",
       "// Listen for the removal of the full notebook cells\n",
       "var notebookContainer = gd.closest('#notebook-container');\n",
       "if (notebookContainer) {{\n",
       "    x.observe(notebookContainer, {childList: true});\n",
       "}}\n",
       "\n",
       "// Listen for the clearing of the current output cell\n",
       "var outputEl = gd.closest('.output');\n",
       "if (outputEl) {{\n",
       "    x.observe(outputEl, {childList: true});\n",
       "}}\n",
       "\n",
       "                        })                };                });            </script>        </div>"
      ]
     },
     "metadata": {},
     "output_type": "display_data"
    }
   ],
   "source": [
    "hour_data = post_data_import.groupby(by='Post Hour').agg({'User' : 'nunique',\n",
    "                                                  'Post' : 'count',\n",
    "                                                  'Images': \"sum\",\n",
    "                                                  'Thumbs Up' : \"sum\",\n",
    "                                                  'Thumbs Down' : 'sum', \n",
    "                                                  'Reactions': 'sum'})\n",
    "\n",
    "hour_data['Reaction Positive %'] = ((hour_data['Thumbs Up'])/(hour_data['Thumbs Down']+hour_data['Thumbs Up']))*100\n",
    "\n",
    "hour_data.rename(columns={'User': \"Unique Posters\", \n",
    "                          'Post' : 'Total Posts', \n",
    "                          'Images' : \"Images Posted\", \n",
    "                          'Thumbs Up': \"Total Thumbs up\", \n",
    "                          \"Thumbs Down\": \"Total Thumbs Down\", \n",
    "                         'Reactions' : \"Total Reactions\"}, inplace=True)\n",
    "\n",
    "import plotly.express as px\n",
    "hour_filter = hour_data[hour_data.index < \"09/04/2021\"]\n",
    "\n",
    "for i in hour_filter.columns:\n",
    "    \n",
    "    fig = px.line(hour_filter, x=hour_filter.index, y=i)\n",
    "\n",
    "    fig.show()"
   ]
  },
  {
   "cell_type": "code",
   "execution_count": 239,
   "metadata": {
    "scrolled": false
   },
   "outputs": [
    {
     "data": {
      "application/vnd.plotly.v1+json": {
       "config": {
        "plotlyServerURL": "https://plot.ly"
       },
       "data": [
        {
         "hovertemplate": "Post Day=%{x}<br>Unique Posters=%{y}<extra></extra>",
         "legendgroup": "",
         "line": {
          "color": "#636efa",
          "dash": "solid"
         },
         "mode": "lines",
         "name": "",
         "orientation": "v",
         "showlegend": false,
         "type": "scatter",
         "x": [
          "2021-08-24T00:00:00",
          "2021-08-25T00:00:00",
          "2021-08-26T00:00:00",
          "2021-08-27T00:00:00",
          "2021-08-28T00:00:00",
          "2021-08-29T00:00:00",
          "2021-08-30T00:00:00",
          "2021-08-31T00:00:00",
          "2021-09-01T00:00:00",
          "2021-09-02T00:00:00",
          "2021-09-03T00:00:00"
         ],
         "xaxis": "x",
         "y": [
          56,
          235,
          443,
          712,
          784,
          1193,
          397,
          132,
          105,
          50,
          35
         ],
         "yaxis": "y"
        }
       ],
       "layout": {
        "legend": {
         "tracegroupgap": 0
        },
        "margin": {
         "t": 60
        },
        "template": {
         "data": {
          "bar": [
           {
            "error_x": {
             "color": "#2a3f5f"
            },
            "error_y": {
             "color": "#2a3f5f"
            },
            "marker": {
             "line": {
              "color": "#E5ECF6",
              "width": 0.5
             }
            },
            "type": "bar"
           }
          ],
          "barpolar": [
           {
            "marker": {
             "line": {
              "color": "#E5ECF6",
              "width": 0.5
             }
            },
            "type": "barpolar"
           }
          ],
          "carpet": [
           {
            "aaxis": {
             "endlinecolor": "#2a3f5f",
             "gridcolor": "white",
             "linecolor": "white",
             "minorgridcolor": "white",
             "startlinecolor": "#2a3f5f"
            },
            "baxis": {
             "endlinecolor": "#2a3f5f",
             "gridcolor": "white",
             "linecolor": "white",
             "minorgridcolor": "white",
             "startlinecolor": "#2a3f5f"
            },
            "type": "carpet"
           }
          ],
          "choropleth": [
           {
            "colorbar": {
             "outlinewidth": 0,
             "ticks": ""
            },
            "type": "choropleth"
           }
          ],
          "contour": [
           {
            "colorbar": {
             "outlinewidth": 0,
             "ticks": ""
            },
            "colorscale": [
             [
              0,
              "#0d0887"
             ],
             [
              0.1111111111111111,
              "#46039f"
             ],
             [
              0.2222222222222222,
              "#7201a8"
             ],
             [
              0.3333333333333333,
              "#9c179e"
             ],
             [
              0.4444444444444444,
              "#bd3786"
             ],
             [
              0.5555555555555556,
              "#d8576b"
             ],
             [
              0.6666666666666666,
              "#ed7953"
             ],
             [
              0.7777777777777778,
              "#fb9f3a"
             ],
             [
              0.8888888888888888,
              "#fdca26"
             ],
             [
              1,
              "#f0f921"
             ]
            ],
            "type": "contour"
           }
          ],
          "contourcarpet": [
           {
            "colorbar": {
             "outlinewidth": 0,
             "ticks": ""
            },
            "type": "contourcarpet"
           }
          ],
          "heatmap": [
           {
            "colorbar": {
             "outlinewidth": 0,
             "ticks": ""
            },
            "colorscale": [
             [
              0,
              "#0d0887"
             ],
             [
              0.1111111111111111,
              "#46039f"
             ],
             [
              0.2222222222222222,
              "#7201a8"
             ],
             [
              0.3333333333333333,
              "#9c179e"
             ],
             [
              0.4444444444444444,
              "#bd3786"
             ],
             [
              0.5555555555555556,
              "#d8576b"
             ],
             [
              0.6666666666666666,
              "#ed7953"
             ],
             [
              0.7777777777777778,
              "#fb9f3a"
             ],
             [
              0.8888888888888888,
              "#fdca26"
             ],
             [
              1,
              "#f0f921"
             ]
            ],
            "type": "heatmap"
           }
          ],
          "heatmapgl": [
           {
            "colorbar": {
             "outlinewidth": 0,
             "ticks": ""
            },
            "colorscale": [
             [
              0,
              "#0d0887"
             ],
             [
              0.1111111111111111,
              "#46039f"
             ],
             [
              0.2222222222222222,
              "#7201a8"
             ],
             [
              0.3333333333333333,
              "#9c179e"
             ],
             [
              0.4444444444444444,
              "#bd3786"
             ],
             [
              0.5555555555555556,
              "#d8576b"
             ],
             [
              0.6666666666666666,
              "#ed7953"
             ],
             [
              0.7777777777777778,
              "#fb9f3a"
             ],
             [
              0.8888888888888888,
              "#fdca26"
             ],
             [
              1,
              "#f0f921"
             ]
            ],
            "type": "heatmapgl"
           }
          ],
          "histogram": [
           {
            "marker": {
             "colorbar": {
              "outlinewidth": 0,
              "ticks": ""
             }
            },
            "type": "histogram"
           }
          ],
          "histogram2d": [
           {
            "colorbar": {
             "outlinewidth": 0,
             "ticks": ""
            },
            "colorscale": [
             [
              0,
              "#0d0887"
             ],
             [
              0.1111111111111111,
              "#46039f"
             ],
             [
              0.2222222222222222,
              "#7201a8"
             ],
             [
              0.3333333333333333,
              "#9c179e"
             ],
             [
              0.4444444444444444,
              "#bd3786"
             ],
             [
              0.5555555555555556,
              "#d8576b"
             ],
             [
              0.6666666666666666,
              "#ed7953"
             ],
             [
              0.7777777777777778,
              "#fb9f3a"
             ],
             [
              0.8888888888888888,
              "#fdca26"
             ],
             [
              1,
              "#f0f921"
             ]
            ],
            "type": "histogram2d"
           }
          ],
          "histogram2dcontour": [
           {
            "colorbar": {
             "outlinewidth": 0,
             "ticks": ""
            },
            "colorscale": [
             [
              0,
              "#0d0887"
             ],
             [
              0.1111111111111111,
              "#46039f"
             ],
             [
              0.2222222222222222,
              "#7201a8"
             ],
             [
              0.3333333333333333,
              "#9c179e"
             ],
             [
              0.4444444444444444,
              "#bd3786"
             ],
             [
              0.5555555555555556,
              "#d8576b"
             ],
             [
              0.6666666666666666,
              "#ed7953"
             ],
             [
              0.7777777777777778,
              "#fb9f3a"
             ],
             [
              0.8888888888888888,
              "#fdca26"
             ],
             [
              1,
              "#f0f921"
             ]
            ],
            "type": "histogram2dcontour"
           }
          ],
          "mesh3d": [
           {
            "colorbar": {
             "outlinewidth": 0,
             "ticks": ""
            },
            "type": "mesh3d"
           }
          ],
          "parcoords": [
           {
            "line": {
             "colorbar": {
              "outlinewidth": 0,
              "ticks": ""
             }
            },
            "type": "parcoords"
           }
          ],
          "pie": [
           {
            "automargin": true,
            "type": "pie"
           }
          ],
          "scatter": [
           {
            "marker": {
             "colorbar": {
              "outlinewidth": 0,
              "ticks": ""
             }
            },
            "type": "scatter"
           }
          ],
          "scatter3d": [
           {
            "line": {
             "colorbar": {
              "outlinewidth": 0,
              "ticks": ""
             }
            },
            "marker": {
             "colorbar": {
              "outlinewidth": 0,
              "ticks": ""
             }
            },
            "type": "scatter3d"
           }
          ],
          "scattercarpet": [
           {
            "marker": {
             "colorbar": {
              "outlinewidth": 0,
              "ticks": ""
             }
            },
            "type": "scattercarpet"
           }
          ],
          "scattergeo": [
           {
            "marker": {
             "colorbar": {
              "outlinewidth": 0,
              "ticks": ""
             }
            },
            "type": "scattergeo"
           }
          ],
          "scattergl": [
           {
            "marker": {
             "colorbar": {
              "outlinewidth": 0,
              "ticks": ""
             }
            },
            "type": "scattergl"
           }
          ],
          "scattermapbox": [
           {
            "marker": {
             "colorbar": {
              "outlinewidth": 0,
              "ticks": ""
             }
            },
            "type": "scattermapbox"
           }
          ],
          "scatterpolar": [
           {
            "marker": {
             "colorbar": {
              "outlinewidth": 0,
              "ticks": ""
             }
            },
            "type": "scatterpolar"
           }
          ],
          "scatterpolargl": [
           {
            "marker": {
             "colorbar": {
              "outlinewidth": 0,
              "ticks": ""
             }
            },
            "type": "scatterpolargl"
           }
          ],
          "scatterternary": [
           {
            "marker": {
             "colorbar": {
              "outlinewidth": 0,
              "ticks": ""
             }
            },
            "type": "scatterternary"
           }
          ],
          "surface": [
           {
            "colorbar": {
             "outlinewidth": 0,
             "ticks": ""
            },
            "colorscale": [
             [
              0,
              "#0d0887"
             ],
             [
              0.1111111111111111,
              "#46039f"
             ],
             [
              0.2222222222222222,
              "#7201a8"
             ],
             [
              0.3333333333333333,
              "#9c179e"
             ],
             [
              0.4444444444444444,
              "#bd3786"
             ],
             [
              0.5555555555555556,
              "#d8576b"
             ],
             [
              0.6666666666666666,
              "#ed7953"
             ],
             [
              0.7777777777777778,
              "#fb9f3a"
             ],
             [
              0.8888888888888888,
              "#fdca26"
             ],
             [
              1,
              "#f0f921"
             ]
            ],
            "type": "surface"
           }
          ],
          "table": [
           {
            "cells": {
             "fill": {
              "color": "#EBF0F8"
             },
             "line": {
              "color": "white"
             }
            },
            "header": {
             "fill": {
              "color": "#C8D4E3"
             },
             "line": {
              "color": "white"
             }
            },
            "type": "table"
           }
          ]
         },
         "layout": {
          "annotationdefaults": {
           "arrowcolor": "#2a3f5f",
           "arrowhead": 0,
           "arrowwidth": 1
          },
          "coloraxis": {
           "colorbar": {
            "outlinewidth": 0,
            "ticks": ""
           }
          },
          "colorscale": {
           "diverging": [
            [
             0,
             "#8e0152"
            ],
            [
             0.1,
             "#c51b7d"
            ],
            [
             0.2,
             "#de77ae"
            ],
            [
             0.3,
             "#f1b6da"
            ],
            [
             0.4,
             "#fde0ef"
            ],
            [
             0.5,
             "#f7f7f7"
            ],
            [
             0.6,
             "#e6f5d0"
            ],
            [
             0.7,
             "#b8e186"
            ],
            [
             0.8,
             "#7fbc41"
            ],
            [
             0.9,
             "#4d9221"
            ],
            [
             1,
             "#276419"
            ]
           ],
           "sequential": [
            [
             0,
             "#0d0887"
            ],
            [
             0.1111111111111111,
             "#46039f"
            ],
            [
             0.2222222222222222,
             "#7201a8"
            ],
            [
             0.3333333333333333,
             "#9c179e"
            ],
            [
             0.4444444444444444,
             "#bd3786"
            ],
            [
             0.5555555555555556,
             "#d8576b"
            ],
            [
             0.6666666666666666,
             "#ed7953"
            ],
            [
             0.7777777777777778,
             "#fb9f3a"
            ],
            [
             0.8888888888888888,
             "#fdca26"
            ],
            [
             1,
             "#f0f921"
            ]
           ],
           "sequentialminus": [
            [
             0,
             "#0d0887"
            ],
            [
             0.1111111111111111,
             "#46039f"
            ],
            [
             0.2222222222222222,
             "#7201a8"
            ],
            [
             0.3333333333333333,
             "#9c179e"
            ],
            [
             0.4444444444444444,
             "#bd3786"
            ],
            [
             0.5555555555555556,
             "#d8576b"
            ],
            [
             0.6666666666666666,
             "#ed7953"
            ],
            [
             0.7777777777777778,
             "#fb9f3a"
            ],
            [
             0.8888888888888888,
             "#fdca26"
            ],
            [
             1,
             "#f0f921"
            ]
           ]
          },
          "colorway": [
           "#636efa",
           "#EF553B",
           "#00cc96",
           "#ab63fa",
           "#FFA15A",
           "#19d3f3",
           "#FF6692",
           "#B6E880",
           "#FF97FF",
           "#FECB52"
          ],
          "font": {
           "color": "#2a3f5f"
          },
          "geo": {
           "bgcolor": "white",
           "lakecolor": "white",
           "landcolor": "#E5ECF6",
           "showlakes": true,
           "showland": true,
           "subunitcolor": "white"
          },
          "hoverlabel": {
           "align": "left"
          },
          "hovermode": "closest",
          "mapbox": {
           "style": "light"
          },
          "paper_bgcolor": "white",
          "plot_bgcolor": "#E5ECF6",
          "polar": {
           "angularaxis": {
            "gridcolor": "white",
            "linecolor": "white",
            "ticks": ""
           },
           "bgcolor": "#E5ECF6",
           "radialaxis": {
            "gridcolor": "white",
            "linecolor": "white",
            "ticks": ""
           }
          },
          "scene": {
           "xaxis": {
            "backgroundcolor": "#E5ECF6",
            "gridcolor": "white",
            "gridwidth": 2,
            "linecolor": "white",
            "showbackground": true,
            "ticks": "",
            "zerolinecolor": "white"
           },
           "yaxis": {
            "backgroundcolor": "#E5ECF6",
            "gridcolor": "white",
            "gridwidth": 2,
            "linecolor": "white",
            "showbackground": true,
            "ticks": "",
            "zerolinecolor": "white"
           },
           "zaxis": {
            "backgroundcolor": "#E5ECF6",
            "gridcolor": "white",
            "gridwidth": 2,
            "linecolor": "white",
            "showbackground": true,
            "ticks": "",
            "zerolinecolor": "white"
           }
          },
          "shapedefaults": {
           "line": {
            "color": "#2a3f5f"
           }
          },
          "ternary": {
           "aaxis": {
            "gridcolor": "white",
            "linecolor": "white",
            "ticks": ""
           },
           "baxis": {
            "gridcolor": "white",
            "linecolor": "white",
            "ticks": ""
           },
           "bgcolor": "#E5ECF6",
           "caxis": {
            "gridcolor": "white",
            "linecolor": "white",
            "ticks": ""
           }
          },
          "title": {
           "x": 0.05
          },
          "xaxis": {
           "automargin": true,
           "gridcolor": "white",
           "linecolor": "white",
           "ticks": "",
           "title": {
            "standoff": 15
           },
           "zerolinecolor": "white",
           "zerolinewidth": 2
          },
          "yaxis": {
           "automargin": true,
           "gridcolor": "white",
           "linecolor": "white",
           "ticks": "",
           "title": {
            "standoff": 15
           },
           "zerolinecolor": "white",
           "zerolinewidth": 2
          }
         }
        },
        "xaxis": {
         "anchor": "y",
         "domain": [
          0,
          1
         ],
         "title": {
          "text": "Post Day"
         }
        },
        "yaxis": {
         "anchor": "x",
         "domain": [
          0,
          1
         ],
         "title": {
          "text": "Unique Posters"
         }
        }
       }
      },
      "text/html": [
       "<div>                            <div id=\"788ca35c-70e8-4b76-8c76-2d46169b0074\" class=\"plotly-graph-div\" style=\"height:525px; width:100%;\"></div>            <script type=\"text/javascript\">                require([\"plotly\"], function(Plotly) {                    window.PLOTLYENV=window.PLOTLYENV || {};                                    if (document.getElementById(\"788ca35c-70e8-4b76-8c76-2d46169b0074\")) {                    Plotly.newPlot(                        \"788ca35c-70e8-4b76-8c76-2d46169b0074\",                        [{\"hovertemplate\": \"Post Day=%{x}<br>Unique Posters=%{y}<extra></extra>\", \"legendgroup\": \"\", \"line\": {\"color\": \"#636efa\", \"dash\": \"solid\"}, \"mode\": \"lines\", \"name\": \"\", \"orientation\": \"v\", \"showlegend\": false, \"type\": \"scatter\", \"x\": [\"2021-08-24T00:00:00\", \"2021-08-25T00:00:00\", \"2021-08-26T00:00:00\", \"2021-08-27T00:00:00\", \"2021-08-28T00:00:00\", \"2021-08-29T00:00:00\", \"2021-08-30T00:00:00\", \"2021-08-31T00:00:00\", \"2021-09-01T00:00:00\", \"2021-09-02T00:00:00\", \"2021-09-03T00:00:00\"], \"xaxis\": \"x\", \"y\": [56, 235, 443, 712, 784, 1193, 397, 132, 105, 50, 35], \"yaxis\": \"y\"}],                        {\"legend\": {\"tracegroupgap\": 0}, \"margin\": {\"t\": 60}, \"template\": {\"data\": {\"bar\": [{\"error_x\": {\"color\": \"#2a3f5f\"}, \"error_y\": {\"color\": \"#2a3f5f\"}, \"marker\": {\"line\": {\"color\": \"#E5ECF6\", \"width\": 0.5}}, \"type\": \"bar\"}], \"barpolar\": [{\"marker\": {\"line\": {\"color\": \"#E5ECF6\", \"width\": 0.5}}, \"type\": \"barpolar\"}], \"carpet\": [{\"aaxis\": {\"endlinecolor\": \"#2a3f5f\", \"gridcolor\": \"white\", \"linecolor\": \"white\", \"minorgridcolor\": \"white\", \"startlinecolor\": \"#2a3f5f\"}, \"baxis\": {\"endlinecolor\": \"#2a3f5f\", \"gridcolor\": \"white\", \"linecolor\": \"white\", \"minorgridcolor\": \"white\", \"startlinecolor\": \"#2a3f5f\"}, \"type\": \"carpet\"}], \"choropleth\": [{\"colorbar\": {\"outlinewidth\": 0, \"ticks\": \"\"}, \"type\": \"choropleth\"}], \"contour\": [{\"colorbar\": {\"outlinewidth\": 0, \"ticks\": \"\"}, \"colorscale\": [[0.0, \"#0d0887\"], [0.1111111111111111, \"#46039f\"], [0.2222222222222222, \"#7201a8\"], [0.3333333333333333, \"#9c179e\"], [0.4444444444444444, \"#bd3786\"], [0.5555555555555556, \"#d8576b\"], [0.6666666666666666, \"#ed7953\"], [0.7777777777777778, \"#fb9f3a\"], [0.8888888888888888, \"#fdca26\"], [1.0, \"#f0f921\"]], \"type\": \"contour\"}], \"contourcarpet\": [{\"colorbar\": {\"outlinewidth\": 0, \"ticks\": \"\"}, \"type\": \"contourcarpet\"}], \"heatmap\": [{\"colorbar\": {\"outlinewidth\": 0, \"ticks\": \"\"}, \"colorscale\": [[0.0, \"#0d0887\"], [0.1111111111111111, \"#46039f\"], [0.2222222222222222, \"#7201a8\"], [0.3333333333333333, \"#9c179e\"], [0.4444444444444444, \"#bd3786\"], [0.5555555555555556, \"#d8576b\"], [0.6666666666666666, \"#ed7953\"], [0.7777777777777778, \"#fb9f3a\"], [0.8888888888888888, \"#fdca26\"], [1.0, \"#f0f921\"]], \"type\": \"heatmap\"}], \"heatmapgl\": [{\"colorbar\": {\"outlinewidth\": 0, \"ticks\": \"\"}, \"colorscale\": [[0.0, \"#0d0887\"], [0.1111111111111111, \"#46039f\"], [0.2222222222222222, \"#7201a8\"], [0.3333333333333333, \"#9c179e\"], [0.4444444444444444, \"#bd3786\"], [0.5555555555555556, \"#d8576b\"], [0.6666666666666666, \"#ed7953\"], [0.7777777777777778, \"#fb9f3a\"], [0.8888888888888888, \"#fdca26\"], [1.0, \"#f0f921\"]], \"type\": \"heatmapgl\"}], \"histogram\": [{\"marker\": {\"colorbar\": {\"outlinewidth\": 0, \"ticks\": \"\"}}, \"type\": \"histogram\"}], \"histogram2d\": [{\"colorbar\": {\"outlinewidth\": 0, \"ticks\": \"\"}, \"colorscale\": [[0.0, \"#0d0887\"], [0.1111111111111111, \"#46039f\"], [0.2222222222222222, \"#7201a8\"], [0.3333333333333333, \"#9c179e\"], [0.4444444444444444, \"#bd3786\"], [0.5555555555555556, \"#d8576b\"], [0.6666666666666666, \"#ed7953\"], [0.7777777777777778, \"#fb9f3a\"], [0.8888888888888888, \"#fdca26\"], [1.0, \"#f0f921\"]], \"type\": \"histogram2d\"}], \"histogram2dcontour\": [{\"colorbar\": {\"outlinewidth\": 0, \"ticks\": \"\"}, \"colorscale\": [[0.0, \"#0d0887\"], [0.1111111111111111, \"#46039f\"], [0.2222222222222222, \"#7201a8\"], [0.3333333333333333, \"#9c179e\"], [0.4444444444444444, \"#bd3786\"], [0.5555555555555556, \"#d8576b\"], [0.6666666666666666, \"#ed7953\"], [0.7777777777777778, \"#fb9f3a\"], [0.8888888888888888, \"#fdca26\"], [1.0, \"#f0f921\"]], \"type\": \"histogram2dcontour\"}], \"mesh3d\": [{\"colorbar\": {\"outlinewidth\": 0, \"ticks\": \"\"}, \"type\": \"mesh3d\"}], \"parcoords\": [{\"line\": {\"colorbar\": {\"outlinewidth\": 0, \"ticks\": \"\"}}, \"type\": \"parcoords\"}], \"pie\": [{\"automargin\": true, \"type\": \"pie\"}], \"scatter\": [{\"marker\": {\"colorbar\": {\"outlinewidth\": 0, \"ticks\": \"\"}}, \"type\": \"scatter\"}], \"scatter3d\": [{\"line\": {\"colorbar\": {\"outlinewidth\": 0, \"ticks\": \"\"}}, \"marker\": {\"colorbar\": {\"outlinewidth\": 0, \"ticks\": \"\"}}, \"type\": \"scatter3d\"}], \"scattercarpet\": [{\"marker\": {\"colorbar\": {\"outlinewidth\": 0, \"ticks\": \"\"}}, \"type\": \"scattercarpet\"}], \"scattergeo\": [{\"marker\": {\"colorbar\": {\"outlinewidth\": 0, \"ticks\": \"\"}}, \"type\": \"scattergeo\"}], \"scattergl\": [{\"marker\": {\"colorbar\": {\"outlinewidth\": 0, \"ticks\": \"\"}}, \"type\": \"scattergl\"}], \"scattermapbox\": [{\"marker\": {\"colorbar\": {\"outlinewidth\": 0, \"ticks\": \"\"}}, \"type\": \"scattermapbox\"}], \"scatterpolar\": [{\"marker\": {\"colorbar\": {\"outlinewidth\": 0, \"ticks\": \"\"}}, \"type\": \"scatterpolar\"}], \"scatterpolargl\": [{\"marker\": {\"colorbar\": {\"outlinewidth\": 0, \"ticks\": \"\"}}, \"type\": \"scatterpolargl\"}], \"scatterternary\": [{\"marker\": {\"colorbar\": {\"outlinewidth\": 0, \"ticks\": \"\"}}, \"type\": \"scatterternary\"}], \"surface\": [{\"colorbar\": {\"outlinewidth\": 0, \"ticks\": \"\"}, \"colorscale\": [[0.0, \"#0d0887\"], [0.1111111111111111, \"#46039f\"], [0.2222222222222222, \"#7201a8\"], [0.3333333333333333, \"#9c179e\"], [0.4444444444444444, \"#bd3786\"], [0.5555555555555556, \"#d8576b\"], [0.6666666666666666, \"#ed7953\"], [0.7777777777777778, \"#fb9f3a\"], [0.8888888888888888, \"#fdca26\"], [1.0, \"#f0f921\"]], \"type\": \"surface\"}], \"table\": [{\"cells\": {\"fill\": {\"color\": \"#EBF0F8\"}, \"line\": {\"color\": \"white\"}}, \"header\": {\"fill\": {\"color\": \"#C8D4E3\"}, \"line\": {\"color\": \"white\"}}, \"type\": \"table\"}]}, \"layout\": {\"annotationdefaults\": {\"arrowcolor\": \"#2a3f5f\", \"arrowhead\": 0, \"arrowwidth\": 1}, \"coloraxis\": {\"colorbar\": {\"outlinewidth\": 0, \"ticks\": \"\"}}, \"colorscale\": {\"diverging\": [[0, \"#8e0152\"], [0.1, \"#c51b7d\"], [0.2, \"#de77ae\"], [0.3, \"#f1b6da\"], [0.4, \"#fde0ef\"], [0.5, \"#f7f7f7\"], [0.6, \"#e6f5d0\"], [0.7, \"#b8e186\"], [0.8, \"#7fbc41\"], [0.9, \"#4d9221\"], [1, \"#276419\"]], \"sequential\": [[0.0, \"#0d0887\"], [0.1111111111111111, \"#46039f\"], [0.2222222222222222, \"#7201a8\"], [0.3333333333333333, \"#9c179e\"], [0.4444444444444444, \"#bd3786\"], [0.5555555555555556, \"#d8576b\"], [0.6666666666666666, \"#ed7953\"], [0.7777777777777778, \"#fb9f3a\"], [0.8888888888888888, \"#fdca26\"], [1.0, \"#f0f921\"]], \"sequentialminus\": [[0.0, \"#0d0887\"], [0.1111111111111111, \"#46039f\"], [0.2222222222222222, \"#7201a8\"], [0.3333333333333333, \"#9c179e\"], [0.4444444444444444, \"#bd3786\"], [0.5555555555555556, \"#d8576b\"], [0.6666666666666666, \"#ed7953\"], [0.7777777777777778, \"#fb9f3a\"], [0.8888888888888888, \"#fdca26\"], [1.0, \"#f0f921\"]]}, \"colorway\": [\"#636efa\", \"#EF553B\", \"#00cc96\", \"#ab63fa\", \"#FFA15A\", \"#19d3f3\", \"#FF6692\", \"#B6E880\", \"#FF97FF\", \"#FECB52\"], \"font\": {\"color\": \"#2a3f5f\"}, \"geo\": {\"bgcolor\": \"white\", \"lakecolor\": \"white\", \"landcolor\": \"#E5ECF6\", \"showlakes\": true, \"showland\": true, \"subunitcolor\": \"white\"}, \"hoverlabel\": {\"align\": \"left\"}, \"hovermode\": \"closest\", \"mapbox\": {\"style\": \"light\"}, \"paper_bgcolor\": \"white\", \"plot_bgcolor\": \"#E5ECF6\", \"polar\": {\"angularaxis\": {\"gridcolor\": \"white\", \"linecolor\": \"white\", \"ticks\": \"\"}, \"bgcolor\": \"#E5ECF6\", \"radialaxis\": {\"gridcolor\": \"white\", \"linecolor\": \"white\", \"ticks\": \"\"}}, \"scene\": {\"xaxis\": {\"backgroundcolor\": \"#E5ECF6\", \"gridcolor\": \"white\", \"gridwidth\": 2, \"linecolor\": \"white\", \"showbackground\": true, \"ticks\": \"\", \"zerolinecolor\": \"white\"}, \"yaxis\": {\"backgroundcolor\": \"#E5ECF6\", \"gridcolor\": \"white\", \"gridwidth\": 2, \"linecolor\": \"white\", \"showbackground\": true, \"ticks\": \"\", \"zerolinecolor\": \"white\"}, \"zaxis\": {\"backgroundcolor\": \"#E5ECF6\", \"gridcolor\": \"white\", \"gridwidth\": 2, \"linecolor\": \"white\", \"showbackground\": true, \"ticks\": \"\", \"zerolinecolor\": \"white\"}}, \"shapedefaults\": {\"line\": {\"color\": \"#2a3f5f\"}}, \"ternary\": {\"aaxis\": {\"gridcolor\": \"white\", \"linecolor\": \"white\", \"ticks\": \"\"}, \"baxis\": {\"gridcolor\": \"white\", \"linecolor\": \"white\", \"ticks\": \"\"}, \"bgcolor\": \"#E5ECF6\", \"caxis\": {\"gridcolor\": \"white\", \"linecolor\": \"white\", \"ticks\": \"\"}}, \"title\": {\"x\": 0.05}, \"xaxis\": {\"automargin\": true, \"gridcolor\": \"white\", \"linecolor\": \"white\", \"ticks\": \"\", \"title\": {\"standoff\": 15}, \"zerolinecolor\": \"white\", \"zerolinewidth\": 2}, \"yaxis\": {\"automargin\": true, \"gridcolor\": \"white\", \"linecolor\": \"white\", \"ticks\": \"\", \"title\": {\"standoff\": 15}, \"zerolinecolor\": \"white\", \"zerolinewidth\": 2}}}, \"xaxis\": {\"anchor\": \"y\", \"domain\": [0.0, 1.0], \"title\": {\"text\": \"Post Day\"}}, \"yaxis\": {\"anchor\": \"x\", \"domain\": [0.0, 1.0], \"title\": {\"text\": \"Unique Posters\"}}},                        {\"responsive\": true}                    ).then(function(){\n",
       "                            \n",
       "var gd = document.getElementById('788ca35c-70e8-4b76-8c76-2d46169b0074');\n",
       "var x = new MutationObserver(function (mutations, observer) {{\n",
       "        var display = window.getComputedStyle(gd).display;\n",
       "        if (!display || display === 'none') {{\n",
       "            console.log([gd, 'removed!']);\n",
       "            Plotly.purge(gd);\n",
       "            observer.disconnect();\n",
       "        }}\n",
       "}});\n",
       "\n",
       "// Listen for the removal of the full notebook cells\n",
       "var notebookContainer = gd.closest('#notebook-container');\n",
       "if (notebookContainer) {{\n",
       "    x.observe(notebookContainer, {childList: true});\n",
       "}}\n",
       "\n",
       "// Listen for the clearing of the current output cell\n",
       "var outputEl = gd.closest('.output');\n",
       "if (outputEl) {{\n",
       "    x.observe(outputEl, {childList: true});\n",
       "}}\n",
       "\n",
       "                        })                };                });            </script>        </div>"
      ]
     },
     "metadata": {},
     "output_type": "display_data"
    },
    {
     "data": {
      "application/vnd.plotly.v1+json": {
       "config": {
        "plotlyServerURL": "https://plot.ly"
       },
       "data": [
        {
         "hovertemplate": "Post Day=%{x}<br>Total Posts=%{y}<extra></extra>",
         "legendgroup": "",
         "line": {
          "color": "#636efa",
          "dash": "solid"
         },
         "mode": "lines",
         "name": "",
         "orientation": "v",
         "showlegend": false,
         "type": "scatter",
         "x": [
          "2021-08-24T00:00:00",
          "2021-08-25T00:00:00",
          "2021-08-26T00:00:00",
          "2021-08-27T00:00:00",
          "2021-08-28T00:00:00",
          "2021-08-29T00:00:00",
          "2021-08-30T00:00:00",
          "2021-08-31T00:00:00",
          "2021-09-01T00:00:00",
          "2021-09-02T00:00:00",
          "2021-09-03T00:00:00"
         ],
         "xaxis": "x",
         "y": [
          78,
          1043,
          2089,
          3700,
          4042,
          7349,
          1280,
          348,
          370,
          103,
          61
         ],
         "yaxis": "y"
        }
       ],
       "layout": {
        "legend": {
         "tracegroupgap": 0
        },
        "margin": {
         "t": 60
        },
        "template": {
         "data": {
          "bar": [
           {
            "error_x": {
             "color": "#2a3f5f"
            },
            "error_y": {
             "color": "#2a3f5f"
            },
            "marker": {
             "line": {
              "color": "#E5ECF6",
              "width": 0.5
             }
            },
            "type": "bar"
           }
          ],
          "barpolar": [
           {
            "marker": {
             "line": {
              "color": "#E5ECF6",
              "width": 0.5
             }
            },
            "type": "barpolar"
           }
          ],
          "carpet": [
           {
            "aaxis": {
             "endlinecolor": "#2a3f5f",
             "gridcolor": "white",
             "linecolor": "white",
             "minorgridcolor": "white",
             "startlinecolor": "#2a3f5f"
            },
            "baxis": {
             "endlinecolor": "#2a3f5f",
             "gridcolor": "white",
             "linecolor": "white",
             "minorgridcolor": "white",
             "startlinecolor": "#2a3f5f"
            },
            "type": "carpet"
           }
          ],
          "choropleth": [
           {
            "colorbar": {
             "outlinewidth": 0,
             "ticks": ""
            },
            "type": "choropleth"
           }
          ],
          "contour": [
           {
            "colorbar": {
             "outlinewidth": 0,
             "ticks": ""
            },
            "colorscale": [
             [
              0,
              "#0d0887"
             ],
             [
              0.1111111111111111,
              "#46039f"
             ],
             [
              0.2222222222222222,
              "#7201a8"
             ],
             [
              0.3333333333333333,
              "#9c179e"
             ],
             [
              0.4444444444444444,
              "#bd3786"
             ],
             [
              0.5555555555555556,
              "#d8576b"
             ],
             [
              0.6666666666666666,
              "#ed7953"
             ],
             [
              0.7777777777777778,
              "#fb9f3a"
             ],
             [
              0.8888888888888888,
              "#fdca26"
             ],
             [
              1,
              "#f0f921"
             ]
            ],
            "type": "contour"
           }
          ],
          "contourcarpet": [
           {
            "colorbar": {
             "outlinewidth": 0,
             "ticks": ""
            },
            "type": "contourcarpet"
           }
          ],
          "heatmap": [
           {
            "colorbar": {
             "outlinewidth": 0,
             "ticks": ""
            },
            "colorscale": [
             [
              0,
              "#0d0887"
             ],
             [
              0.1111111111111111,
              "#46039f"
             ],
             [
              0.2222222222222222,
              "#7201a8"
             ],
             [
              0.3333333333333333,
              "#9c179e"
             ],
             [
              0.4444444444444444,
              "#bd3786"
             ],
             [
              0.5555555555555556,
              "#d8576b"
             ],
             [
              0.6666666666666666,
              "#ed7953"
             ],
             [
              0.7777777777777778,
              "#fb9f3a"
             ],
             [
              0.8888888888888888,
              "#fdca26"
             ],
             [
              1,
              "#f0f921"
             ]
            ],
            "type": "heatmap"
           }
          ],
          "heatmapgl": [
           {
            "colorbar": {
             "outlinewidth": 0,
             "ticks": ""
            },
            "colorscale": [
             [
              0,
              "#0d0887"
             ],
             [
              0.1111111111111111,
              "#46039f"
             ],
             [
              0.2222222222222222,
              "#7201a8"
             ],
             [
              0.3333333333333333,
              "#9c179e"
             ],
             [
              0.4444444444444444,
              "#bd3786"
             ],
             [
              0.5555555555555556,
              "#d8576b"
             ],
             [
              0.6666666666666666,
              "#ed7953"
             ],
             [
              0.7777777777777778,
              "#fb9f3a"
             ],
             [
              0.8888888888888888,
              "#fdca26"
             ],
             [
              1,
              "#f0f921"
             ]
            ],
            "type": "heatmapgl"
           }
          ],
          "histogram": [
           {
            "marker": {
             "colorbar": {
              "outlinewidth": 0,
              "ticks": ""
             }
            },
            "type": "histogram"
           }
          ],
          "histogram2d": [
           {
            "colorbar": {
             "outlinewidth": 0,
             "ticks": ""
            },
            "colorscale": [
             [
              0,
              "#0d0887"
             ],
             [
              0.1111111111111111,
              "#46039f"
             ],
             [
              0.2222222222222222,
              "#7201a8"
             ],
             [
              0.3333333333333333,
              "#9c179e"
             ],
             [
              0.4444444444444444,
              "#bd3786"
             ],
             [
              0.5555555555555556,
              "#d8576b"
             ],
             [
              0.6666666666666666,
              "#ed7953"
             ],
             [
              0.7777777777777778,
              "#fb9f3a"
             ],
             [
              0.8888888888888888,
              "#fdca26"
             ],
             [
              1,
              "#f0f921"
             ]
            ],
            "type": "histogram2d"
           }
          ],
          "histogram2dcontour": [
           {
            "colorbar": {
             "outlinewidth": 0,
             "ticks": ""
            },
            "colorscale": [
             [
              0,
              "#0d0887"
             ],
             [
              0.1111111111111111,
              "#46039f"
             ],
             [
              0.2222222222222222,
              "#7201a8"
             ],
             [
              0.3333333333333333,
              "#9c179e"
             ],
             [
              0.4444444444444444,
              "#bd3786"
             ],
             [
              0.5555555555555556,
              "#d8576b"
             ],
             [
              0.6666666666666666,
              "#ed7953"
             ],
             [
              0.7777777777777778,
              "#fb9f3a"
             ],
             [
              0.8888888888888888,
              "#fdca26"
             ],
             [
              1,
              "#f0f921"
             ]
            ],
            "type": "histogram2dcontour"
           }
          ],
          "mesh3d": [
           {
            "colorbar": {
             "outlinewidth": 0,
             "ticks": ""
            },
            "type": "mesh3d"
           }
          ],
          "parcoords": [
           {
            "line": {
             "colorbar": {
              "outlinewidth": 0,
              "ticks": ""
             }
            },
            "type": "parcoords"
           }
          ],
          "pie": [
           {
            "automargin": true,
            "type": "pie"
           }
          ],
          "scatter": [
           {
            "marker": {
             "colorbar": {
              "outlinewidth": 0,
              "ticks": ""
             }
            },
            "type": "scatter"
           }
          ],
          "scatter3d": [
           {
            "line": {
             "colorbar": {
              "outlinewidth": 0,
              "ticks": ""
             }
            },
            "marker": {
             "colorbar": {
              "outlinewidth": 0,
              "ticks": ""
             }
            },
            "type": "scatter3d"
           }
          ],
          "scattercarpet": [
           {
            "marker": {
             "colorbar": {
              "outlinewidth": 0,
              "ticks": ""
             }
            },
            "type": "scattercarpet"
           }
          ],
          "scattergeo": [
           {
            "marker": {
             "colorbar": {
              "outlinewidth": 0,
              "ticks": ""
             }
            },
            "type": "scattergeo"
           }
          ],
          "scattergl": [
           {
            "marker": {
             "colorbar": {
              "outlinewidth": 0,
              "ticks": ""
             }
            },
            "type": "scattergl"
           }
          ],
          "scattermapbox": [
           {
            "marker": {
             "colorbar": {
              "outlinewidth": 0,
              "ticks": ""
             }
            },
            "type": "scattermapbox"
           }
          ],
          "scatterpolar": [
           {
            "marker": {
             "colorbar": {
              "outlinewidth": 0,
              "ticks": ""
             }
            },
            "type": "scatterpolar"
           }
          ],
          "scatterpolargl": [
           {
            "marker": {
             "colorbar": {
              "outlinewidth": 0,
              "ticks": ""
             }
            },
            "type": "scatterpolargl"
           }
          ],
          "scatterternary": [
           {
            "marker": {
             "colorbar": {
              "outlinewidth": 0,
              "ticks": ""
             }
            },
            "type": "scatterternary"
           }
          ],
          "surface": [
           {
            "colorbar": {
             "outlinewidth": 0,
             "ticks": ""
            },
            "colorscale": [
             [
              0,
              "#0d0887"
             ],
             [
              0.1111111111111111,
              "#46039f"
             ],
             [
              0.2222222222222222,
              "#7201a8"
             ],
             [
              0.3333333333333333,
              "#9c179e"
             ],
             [
              0.4444444444444444,
              "#bd3786"
             ],
             [
              0.5555555555555556,
              "#d8576b"
             ],
             [
              0.6666666666666666,
              "#ed7953"
             ],
             [
              0.7777777777777778,
              "#fb9f3a"
             ],
             [
              0.8888888888888888,
              "#fdca26"
             ],
             [
              1,
              "#f0f921"
             ]
            ],
            "type": "surface"
           }
          ],
          "table": [
           {
            "cells": {
             "fill": {
              "color": "#EBF0F8"
             },
             "line": {
              "color": "white"
             }
            },
            "header": {
             "fill": {
              "color": "#C8D4E3"
             },
             "line": {
              "color": "white"
             }
            },
            "type": "table"
           }
          ]
         },
         "layout": {
          "annotationdefaults": {
           "arrowcolor": "#2a3f5f",
           "arrowhead": 0,
           "arrowwidth": 1
          },
          "coloraxis": {
           "colorbar": {
            "outlinewidth": 0,
            "ticks": ""
           }
          },
          "colorscale": {
           "diverging": [
            [
             0,
             "#8e0152"
            ],
            [
             0.1,
             "#c51b7d"
            ],
            [
             0.2,
             "#de77ae"
            ],
            [
             0.3,
             "#f1b6da"
            ],
            [
             0.4,
             "#fde0ef"
            ],
            [
             0.5,
             "#f7f7f7"
            ],
            [
             0.6,
             "#e6f5d0"
            ],
            [
             0.7,
             "#b8e186"
            ],
            [
             0.8,
             "#7fbc41"
            ],
            [
             0.9,
             "#4d9221"
            ],
            [
             1,
             "#276419"
            ]
           ],
           "sequential": [
            [
             0,
             "#0d0887"
            ],
            [
             0.1111111111111111,
             "#46039f"
            ],
            [
             0.2222222222222222,
             "#7201a8"
            ],
            [
             0.3333333333333333,
             "#9c179e"
            ],
            [
             0.4444444444444444,
             "#bd3786"
            ],
            [
             0.5555555555555556,
             "#d8576b"
            ],
            [
             0.6666666666666666,
             "#ed7953"
            ],
            [
             0.7777777777777778,
             "#fb9f3a"
            ],
            [
             0.8888888888888888,
             "#fdca26"
            ],
            [
             1,
             "#f0f921"
            ]
           ],
           "sequentialminus": [
            [
             0,
             "#0d0887"
            ],
            [
             0.1111111111111111,
             "#46039f"
            ],
            [
             0.2222222222222222,
             "#7201a8"
            ],
            [
             0.3333333333333333,
             "#9c179e"
            ],
            [
             0.4444444444444444,
             "#bd3786"
            ],
            [
             0.5555555555555556,
             "#d8576b"
            ],
            [
             0.6666666666666666,
             "#ed7953"
            ],
            [
             0.7777777777777778,
             "#fb9f3a"
            ],
            [
             0.8888888888888888,
             "#fdca26"
            ],
            [
             1,
             "#f0f921"
            ]
           ]
          },
          "colorway": [
           "#636efa",
           "#EF553B",
           "#00cc96",
           "#ab63fa",
           "#FFA15A",
           "#19d3f3",
           "#FF6692",
           "#B6E880",
           "#FF97FF",
           "#FECB52"
          ],
          "font": {
           "color": "#2a3f5f"
          },
          "geo": {
           "bgcolor": "white",
           "lakecolor": "white",
           "landcolor": "#E5ECF6",
           "showlakes": true,
           "showland": true,
           "subunitcolor": "white"
          },
          "hoverlabel": {
           "align": "left"
          },
          "hovermode": "closest",
          "mapbox": {
           "style": "light"
          },
          "paper_bgcolor": "white",
          "plot_bgcolor": "#E5ECF6",
          "polar": {
           "angularaxis": {
            "gridcolor": "white",
            "linecolor": "white",
            "ticks": ""
           },
           "bgcolor": "#E5ECF6",
           "radialaxis": {
            "gridcolor": "white",
            "linecolor": "white",
            "ticks": ""
           }
          },
          "scene": {
           "xaxis": {
            "backgroundcolor": "#E5ECF6",
            "gridcolor": "white",
            "gridwidth": 2,
            "linecolor": "white",
            "showbackground": true,
            "ticks": "",
            "zerolinecolor": "white"
           },
           "yaxis": {
            "backgroundcolor": "#E5ECF6",
            "gridcolor": "white",
            "gridwidth": 2,
            "linecolor": "white",
            "showbackground": true,
            "ticks": "",
            "zerolinecolor": "white"
           },
           "zaxis": {
            "backgroundcolor": "#E5ECF6",
            "gridcolor": "white",
            "gridwidth": 2,
            "linecolor": "white",
            "showbackground": true,
            "ticks": "",
            "zerolinecolor": "white"
           }
          },
          "shapedefaults": {
           "line": {
            "color": "#2a3f5f"
           }
          },
          "ternary": {
           "aaxis": {
            "gridcolor": "white",
            "linecolor": "white",
            "ticks": ""
           },
           "baxis": {
            "gridcolor": "white",
            "linecolor": "white",
            "ticks": ""
           },
           "bgcolor": "#E5ECF6",
           "caxis": {
            "gridcolor": "white",
            "linecolor": "white",
            "ticks": ""
           }
          },
          "title": {
           "x": 0.05
          },
          "xaxis": {
           "automargin": true,
           "gridcolor": "white",
           "linecolor": "white",
           "ticks": "",
           "title": {
            "standoff": 15
           },
           "zerolinecolor": "white",
           "zerolinewidth": 2
          },
          "yaxis": {
           "automargin": true,
           "gridcolor": "white",
           "linecolor": "white",
           "ticks": "",
           "title": {
            "standoff": 15
           },
           "zerolinecolor": "white",
           "zerolinewidth": 2
          }
         }
        },
        "xaxis": {
         "anchor": "y",
         "domain": [
          0,
          1
         ],
         "title": {
          "text": "Post Day"
         }
        },
        "yaxis": {
         "anchor": "x",
         "domain": [
          0,
          1
         ],
         "title": {
          "text": "Total Posts"
         }
        }
       }
      },
      "text/html": [
       "<div>                            <div id=\"811d7d33-8c89-4a6a-bfd0-0692c7964190\" class=\"plotly-graph-div\" style=\"height:525px; width:100%;\"></div>            <script type=\"text/javascript\">                require([\"plotly\"], function(Plotly) {                    window.PLOTLYENV=window.PLOTLYENV || {};                                    if (document.getElementById(\"811d7d33-8c89-4a6a-bfd0-0692c7964190\")) {                    Plotly.newPlot(                        \"811d7d33-8c89-4a6a-bfd0-0692c7964190\",                        [{\"hovertemplate\": \"Post Day=%{x}<br>Total Posts=%{y}<extra></extra>\", \"legendgroup\": \"\", \"line\": {\"color\": \"#636efa\", \"dash\": \"solid\"}, \"mode\": \"lines\", \"name\": \"\", \"orientation\": \"v\", \"showlegend\": false, \"type\": \"scatter\", \"x\": [\"2021-08-24T00:00:00\", \"2021-08-25T00:00:00\", \"2021-08-26T00:00:00\", \"2021-08-27T00:00:00\", \"2021-08-28T00:00:00\", \"2021-08-29T00:00:00\", \"2021-08-30T00:00:00\", \"2021-08-31T00:00:00\", \"2021-09-01T00:00:00\", \"2021-09-02T00:00:00\", \"2021-09-03T00:00:00\"], \"xaxis\": \"x\", \"y\": [78, 1043, 2089, 3700, 4042, 7349, 1280, 348, 370, 103, 61], \"yaxis\": \"y\"}],                        {\"legend\": {\"tracegroupgap\": 0}, \"margin\": {\"t\": 60}, \"template\": {\"data\": {\"bar\": [{\"error_x\": {\"color\": \"#2a3f5f\"}, \"error_y\": {\"color\": \"#2a3f5f\"}, \"marker\": {\"line\": {\"color\": \"#E5ECF6\", \"width\": 0.5}}, \"type\": \"bar\"}], \"barpolar\": [{\"marker\": {\"line\": {\"color\": \"#E5ECF6\", \"width\": 0.5}}, \"type\": \"barpolar\"}], \"carpet\": [{\"aaxis\": {\"endlinecolor\": \"#2a3f5f\", \"gridcolor\": \"white\", \"linecolor\": \"white\", \"minorgridcolor\": \"white\", \"startlinecolor\": \"#2a3f5f\"}, \"baxis\": {\"endlinecolor\": \"#2a3f5f\", \"gridcolor\": \"white\", \"linecolor\": \"white\", \"minorgridcolor\": \"white\", \"startlinecolor\": \"#2a3f5f\"}, \"type\": \"carpet\"}], \"choropleth\": [{\"colorbar\": {\"outlinewidth\": 0, \"ticks\": \"\"}, \"type\": \"choropleth\"}], \"contour\": [{\"colorbar\": {\"outlinewidth\": 0, \"ticks\": \"\"}, \"colorscale\": [[0.0, \"#0d0887\"], [0.1111111111111111, \"#46039f\"], [0.2222222222222222, \"#7201a8\"], [0.3333333333333333, \"#9c179e\"], [0.4444444444444444, \"#bd3786\"], [0.5555555555555556, \"#d8576b\"], [0.6666666666666666, \"#ed7953\"], [0.7777777777777778, \"#fb9f3a\"], [0.8888888888888888, \"#fdca26\"], [1.0, \"#f0f921\"]], \"type\": \"contour\"}], \"contourcarpet\": [{\"colorbar\": {\"outlinewidth\": 0, \"ticks\": \"\"}, \"type\": \"contourcarpet\"}], \"heatmap\": [{\"colorbar\": {\"outlinewidth\": 0, \"ticks\": \"\"}, \"colorscale\": [[0.0, \"#0d0887\"], [0.1111111111111111, \"#46039f\"], [0.2222222222222222, \"#7201a8\"], [0.3333333333333333, \"#9c179e\"], [0.4444444444444444, \"#bd3786\"], [0.5555555555555556, \"#d8576b\"], [0.6666666666666666, \"#ed7953\"], [0.7777777777777778, \"#fb9f3a\"], [0.8888888888888888, \"#fdca26\"], [1.0, \"#f0f921\"]], \"type\": \"heatmap\"}], \"heatmapgl\": [{\"colorbar\": {\"outlinewidth\": 0, \"ticks\": \"\"}, \"colorscale\": [[0.0, \"#0d0887\"], [0.1111111111111111, \"#46039f\"], [0.2222222222222222, \"#7201a8\"], [0.3333333333333333, \"#9c179e\"], [0.4444444444444444, \"#bd3786\"], [0.5555555555555556, \"#d8576b\"], [0.6666666666666666, \"#ed7953\"], [0.7777777777777778, \"#fb9f3a\"], [0.8888888888888888, \"#fdca26\"], [1.0, \"#f0f921\"]], \"type\": \"heatmapgl\"}], \"histogram\": [{\"marker\": {\"colorbar\": {\"outlinewidth\": 0, \"ticks\": \"\"}}, \"type\": \"histogram\"}], \"histogram2d\": [{\"colorbar\": {\"outlinewidth\": 0, \"ticks\": \"\"}, \"colorscale\": [[0.0, \"#0d0887\"], [0.1111111111111111, \"#46039f\"], [0.2222222222222222, \"#7201a8\"], [0.3333333333333333, \"#9c179e\"], [0.4444444444444444, \"#bd3786\"], [0.5555555555555556, \"#d8576b\"], [0.6666666666666666, \"#ed7953\"], [0.7777777777777778, \"#fb9f3a\"], [0.8888888888888888, \"#fdca26\"], [1.0, \"#f0f921\"]], \"type\": \"histogram2d\"}], \"histogram2dcontour\": [{\"colorbar\": {\"outlinewidth\": 0, \"ticks\": \"\"}, \"colorscale\": [[0.0, \"#0d0887\"], [0.1111111111111111, \"#46039f\"], [0.2222222222222222, \"#7201a8\"], [0.3333333333333333, \"#9c179e\"], [0.4444444444444444, \"#bd3786\"], [0.5555555555555556, \"#d8576b\"], [0.6666666666666666, \"#ed7953\"], [0.7777777777777778, \"#fb9f3a\"], [0.8888888888888888, \"#fdca26\"], [1.0, \"#f0f921\"]], \"type\": \"histogram2dcontour\"}], \"mesh3d\": [{\"colorbar\": {\"outlinewidth\": 0, \"ticks\": \"\"}, \"type\": \"mesh3d\"}], \"parcoords\": [{\"line\": {\"colorbar\": {\"outlinewidth\": 0, \"ticks\": \"\"}}, \"type\": \"parcoords\"}], \"pie\": [{\"automargin\": true, \"type\": \"pie\"}], \"scatter\": [{\"marker\": {\"colorbar\": {\"outlinewidth\": 0, \"ticks\": \"\"}}, \"type\": \"scatter\"}], \"scatter3d\": [{\"line\": {\"colorbar\": {\"outlinewidth\": 0, \"ticks\": \"\"}}, \"marker\": {\"colorbar\": {\"outlinewidth\": 0, \"ticks\": \"\"}}, \"type\": \"scatter3d\"}], \"scattercarpet\": [{\"marker\": {\"colorbar\": {\"outlinewidth\": 0, \"ticks\": \"\"}}, \"type\": \"scattercarpet\"}], \"scattergeo\": [{\"marker\": {\"colorbar\": {\"outlinewidth\": 0, \"ticks\": \"\"}}, \"type\": \"scattergeo\"}], \"scattergl\": [{\"marker\": {\"colorbar\": {\"outlinewidth\": 0, \"ticks\": \"\"}}, \"type\": \"scattergl\"}], \"scattermapbox\": [{\"marker\": {\"colorbar\": {\"outlinewidth\": 0, \"ticks\": \"\"}}, \"type\": \"scattermapbox\"}], \"scatterpolar\": [{\"marker\": {\"colorbar\": {\"outlinewidth\": 0, \"ticks\": \"\"}}, \"type\": \"scatterpolar\"}], \"scatterpolargl\": [{\"marker\": {\"colorbar\": {\"outlinewidth\": 0, \"ticks\": \"\"}}, \"type\": \"scatterpolargl\"}], \"scatterternary\": [{\"marker\": {\"colorbar\": {\"outlinewidth\": 0, \"ticks\": \"\"}}, \"type\": \"scatterternary\"}], \"surface\": [{\"colorbar\": {\"outlinewidth\": 0, \"ticks\": \"\"}, \"colorscale\": [[0.0, \"#0d0887\"], [0.1111111111111111, \"#46039f\"], [0.2222222222222222, \"#7201a8\"], [0.3333333333333333, \"#9c179e\"], [0.4444444444444444, \"#bd3786\"], [0.5555555555555556, \"#d8576b\"], [0.6666666666666666, \"#ed7953\"], [0.7777777777777778, \"#fb9f3a\"], [0.8888888888888888, \"#fdca26\"], [1.0, \"#f0f921\"]], \"type\": \"surface\"}], \"table\": [{\"cells\": {\"fill\": {\"color\": \"#EBF0F8\"}, \"line\": {\"color\": \"white\"}}, \"header\": {\"fill\": {\"color\": \"#C8D4E3\"}, \"line\": {\"color\": \"white\"}}, \"type\": \"table\"}]}, \"layout\": {\"annotationdefaults\": {\"arrowcolor\": \"#2a3f5f\", \"arrowhead\": 0, \"arrowwidth\": 1}, \"coloraxis\": {\"colorbar\": {\"outlinewidth\": 0, \"ticks\": \"\"}}, \"colorscale\": {\"diverging\": [[0, \"#8e0152\"], [0.1, \"#c51b7d\"], [0.2, \"#de77ae\"], [0.3, \"#f1b6da\"], [0.4, \"#fde0ef\"], [0.5, \"#f7f7f7\"], [0.6, \"#e6f5d0\"], [0.7, \"#b8e186\"], [0.8, \"#7fbc41\"], [0.9, \"#4d9221\"], [1, \"#276419\"]], \"sequential\": [[0.0, \"#0d0887\"], [0.1111111111111111, \"#46039f\"], [0.2222222222222222, \"#7201a8\"], [0.3333333333333333, \"#9c179e\"], [0.4444444444444444, \"#bd3786\"], [0.5555555555555556, \"#d8576b\"], [0.6666666666666666, \"#ed7953\"], [0.7777777777777778, \"#fb9f3a\"], [0.8888888888888888, \"#fdca26\"], [1.0, \"#f0f921\"]], \"sequentialminus\": [[0.0, \"#0d0887\"], [0.1111111111111111, \"#46039f\"], [0.2222222222222222, \"#7201a8\"], [0.3333333333333333, \"#9c179e\"], [0.4444444444444444, \"#bd3786\"], [0.5555555555555556, \"#d8576b\"], [0.6666666666666666, \"#ed7953\"], [0.7777777777777778, \"#fb9f3a\"], [0.8888888888888888, \"#fdca26\"], [1.0, \"#f0f921\"]]}, \"colorway\": [\"#636efa\", \"#EF553B\", \"#00cc96\", \"#ab63fa\", \"#FFA15A\", \"#19d3f3\", \"#FF6692\", \"#B6E880\", \"#FF97FF\", \"#FECB52\"], \"font\": {\"color\": \"#2a3f5f\"}, \"geo\": {\"bgcolor\": \"white\", \"lakecolor\": \"white\", \"landcolor\": \"#E5ECF6\", \"showlakes\": true, \"showland\": true, \"subunitcolor\": \"white\"}, \"hoverlabel\": {\"align\": \"left\"}, \"hovermode\": \"closest\", \"mapbox\": {\"style\": \"light\"}, \"paper_bgcolor\": \"white\", \"plot_bgcolor\": \"#E5ECF6\", \"polar\": {\"angularaxis\": {\"gridcolor\": \"white\", \"linecolor\": \"white\", \"ticks\": \"\"}, \"bgcolor\": \"#E5ECF6\", \"radialaxis\": {\"gridcolor\": \"white\", \"linecolor\": \"white\", \"ticks\": \"\"}}, \"scene\": {\"xaxis\": {\"backgroundcolor\": \"#E5ECF6\", \"gridcolor\": \"white\", \"gridwidth\": 2, \"linecolor\": \"white\", \"showbackground\": true, \"ticks\": \"\", \"zerolinecolor\": \"white\"}, \"yaxis\": {\"backgroundcolor\": \"#E5ECF6\", \"gridcolor\": \"white\", \"gridwidth\": 2, \"linecolor\": \"white\", \"showbackground\": true, \"ticks\": \"\", \"zerolinecolor\": \"white\"}, \"zaxis\": {\"backgroundcolor\": \"#E5ECF6\", \"gridcolor\": \"white\", \"gridwidth\": 2, \"linecolor\": \"white\", \"showbackground\": true, \"ticks\": \"\", \"zerolinecolor\": \"white\"}}, \"shapedefaults\": {\"line\": {\"color\": \"#2a3f5f\"}}, \"ternary\": {\"aaxis\": {\"gridcolor\": \"white\", \"linecolor\": \"white\", \"ticks\": \"\"}, \"baxis\": {\"gridcolor\": \"white\", \"linecolor\": \"white\", \"ticks\": \"\"}, \"bgcolor\": \"#E5ECF6\", \"caxis\": {\"gridcolor\": \"white\", \"linecolor\": \"white\", \"ticks\": \"\"}}, \"title\": {\"x\": 0.05}, \"xaxis\": {\"automargin\": true, \"gridcolor\": \"white\", \"linecolor\": \"white\", \"ticks\": \"\", \"title\": {\"standoff\": 15}, \"zerolinecolor\": \"white\", \"zerolinewidth\": 2}, \"yaxis\": {\"automargin\": true, \"gridcolor\": \"white\", \"linecolor\": \"white\", \"ticks\": \"\", \"title\": {\"standoff\": 15}, \"zerolinecolor\": \"white\", \"zerolinewidth\": 2}}}, \"xaxis\": {\"anchor\": \"y\", \"domain\": [0.0, 1.0], \"title\": {\"text\": \"Post Day\"}}, \"yaxis\": {\"anchor\": \"x\", \"domain\": [0.0, 1.0], \"title\": {\"text\": \"Total Posts\"}}},                        {\"responsive\": true}                    ).then(function(){\n",
       "                            \n",
       "var gd = document.getElementById('811d7d33-8c89-4a6a-bfd0-0692c7964190');\n",
       "var x = new MutationObserver(function (mutations, observer) {{\n",
       "        var display = window.getComputedStyle(gd).display;\n",
       "        if (!display || display === 'none') {{\n",
       "            console.log([gd, 'removed!']);\n",
       "            Plotly.purge(gd);\n",
       "            observer.disconnect();\n",
       "        }}\n",
       "}});\n",
       "\n",
       "// Listen for the removal of the full notebook cells\n",
       "var notebookContainer = gd.closest('#notebook-container');\n",
       "if (notebookContainer) {{\n",
       "    x.observe(notebookContainer, {childList: true});\n",
       "}}\n",
       "\n",
       "// Listen for the clearing of the current output cell\n",
       "var outputEl = gd.closest('.output');\n",
       "if (outputEl) {{\n",
       "    x.observe(outputEl, {childList: true});\n",
       "}}\n",
       "\n",
       "                        })                };                });            </script>        </div>"
      ]
     },
     "metadata": {},
     "output_type": "display_data"
    },
    {
     "data": {
      "application/vnd.plotly.v1+json": {
       "config": {
        "plotlyServerURL": "https://plot.ly"
       },
       "data": [
        {
         "hovertemplate": "Post Day=%{x}<br>Images Posted=%{y}<extra></extra>",
         "legendgroup": "",
         "line": {
          "color": "#636efa",
          "dash": "solid"
         },
         "mode": "lines",
         "name": "",
         "orientation": "v",
         "showlegend": false,
         "type": "scatter",
         "x": [
          "2021-08-24T00:00:00",
          "2021-08-25T00:00:00",
          "2021-08-26T00:00:00",
          "2021-08-27T00:00:00",
          "2021-08-28T00:00:00",
          "2021-08-29T00:00:00",
          "2021-08-30T00:00:00",
          "2021-08-31T00:00:00",
          "2021-09-01T00:00:00",
          "2021-09-02T00:00:00",
          "2021-09-03T00:00:00"
         ],
         "xaxis": "x",
         "y": [
          23,
          177,
          250,
          371,
          379,
          458,
          83,
          44,
          94,
          8,
          9
         ],
         "yaxis": "y"
        }
       ],
       "layout": {
        "legend": {
         "tracegroupgap": 0
        },
        "margin": {
         "t": 60
        },
        "template": {
         "data": {
          "bar": [
           {
            "error_x": {
             "color": "#2a3f5f"
            },
            "error_y": {
             "color": "#2a3f5f"
            },
            "marker": {
             "line": {
              "color": "#E5ECF6",
              "width": 0.5
             }
            },
            "type": "bar"
           }
          ],
          "barpolar": [
           {
            "marker": {
             "line": {
              "color": "#E5ECF6",
              "width": 0.5
             }
            },
            "type": "barpolar"
           }
          ],
          "carpet": [
           {
            "aaxis": {
             "endlinecolor": "#2a3f5f",
             "gridcolor": "white",
             "linecolor": "white",
             "minorgridcolor": "white",
             "startlinecolor": "#2a3f5f"
            },
            "baxis": {
             "endlinecolor": "#2a3f5f",
             "gridcolor": "white",
             "linecolor": "white",
             "minorgridcolor": "white",
             "startlinecolor": "#2a3f5f"
            },
            "type": "carpet"
           }
          ],
          "choropleth": [
           {
            "colorbar": {
             "outlinewidth": 0,
             "ticks": ""
            },
            "type": "choropleth"
           }
          ],
          "contour": [
           {
            "colorbar": {
             "outlinewidth": 0,
             "ticks": ""
            },
            "colorscale": [
             [
              0,
              "#0d0887"
             ],
             [
              0.1111111111111111,
              "#46039f"
             ],
             [
              0.2222222222222222,
              "#7201a8"
             ],
             [
              0.3333333333333333,
              "#9c179e"
             ],
             [
              0.4444444444444444,
              "#bd3786"
             ],
             [
              0.5555555555555556,
              "#d8576b"
             ],
             [
              0.6666666666666666,
              "#ed7953"
             ],
             [
              0.7777777777777778,
              "#fb9f3a"
             ],
             [
              0.8888888888888888,
              "#fdca26"
             ],
             [
              1,
              "#f0f921"
             ]
            ],
            "type": "contour"
           }
          ],
          "contourcarpet": [
           {
            "colorbar": {
             "outlinewidth": 0,
             "ticks": ""
            },
            "type": "contourcarpet"
           }
          ],
          "heatmap": [
           {
            "colorbar": {
             "outlinewidth": 0,
             "ticks": ""
            },
            "colorscale": [
             [
              0,
              "#0d0887"
             ],
             [
              0.1111111111111111,
              "#46039f"
             ],
             [
              0.2222222222222222,
              "#7201a8"
             ],
             [
              0.3333333333333333,
              "#9c179e"
             ],
             [
              0.4444444444444444,
              "#bd3786"
             ],
             [
              0.5555555555555556,
              "#d8576b"
             ],
             [
              0.6666666666666666,
              "#ed7953"
             ],
             [
              0.7777777777777778,
              "#fb9f3a"
             ],
             [
              0.8888888888888888,
              "#fdca26"
             ],
             [
              1,
              "#f0f921"
             ]
            ],
            "type": "heatmap"
           }
          ],
          "heatmapgl": [
           {
            "colorbar": {
             "outlinewidth": 0,
             "ticks": ""
            },
            "colorscale": [
             [
              0,
              "#0d0887"
             ],
             [
              0.1111111111111111,
              "#46039f"
             ],
             [
              0.2222222222222222,
              "#7201a8"
             ],
             [
              0.3333333333333333,
              "#9c179e"
             ],
             [
              0.4444444444444444,
              "#bd3786"
             ],
             [
              0.5555555555555556,
              "#d8576b"
             ],
             [
              0.6666666666666666,
              "#ed7953"
             ],
             [
              0.7777777777777778,
              "#fb9f3a"
             ],
             [
              0.8888888888888888,
              "#fdca26"
             ],
             [
              1,
              "#f0f921"
             ]
            ],
            "type": "heatmapgl"
           }
          ],
          "histogram": [
           {
            "marker": {
             "colorbar": {
              "outlinewidth": 0,
              "ticks": ""
             }
            },
            "type": "histogram"
           }
          ],
          "histogram2d": [
           {
            "colorbar": {
             "outlinewidth": 0,
             "ticks": ""
            },
            "colorscale": [
             [
              0,
              "#0d0887"
             ],
             [
              0.1111111111111111,
              "#46039f"
             ],
             [
              0.2222222222222222,
              "#7201a8"
             ],
             [
              0.3333333333333333,
              "#9c179e"
             ],
             [
              0.4444444444444444,
              "#bd3786"
             ],
             [
              0.5555555555555556,
              "#d8576b"
             ],
             [
              0.6666666666666666,
              "#ed7953"
             ],
             [
              0.7777777777777778,
              "#fb9f3a"
             ],
             [
              0.8888888888888888,
              "#fdca26"
             ],
             [
              1,
              "#f0f921"
             ]
            ],
            "type": "histogram2d"
           }
          ],
          "histogram2dcontour": [
           {
            "colorbar": {
             "outlinewidth": 0,
             "ticks": ""
            },
            "colorscale": [
             [
              0,
              "#0d0887"
             ],
             [
              0.1111111111111111,
              "#46039f"
             ],
             [
              0.2222222222222222,
              "#7201a8"
             ],
             [
              0.3333333333333333,
              "#9c179e"
             ],
             [
              0.4444444444444444,
              "#bd3786"
             ],
             [
              0.5555555555555556,
              "#d8576b"
             ],
             [
              0.6666666666666666,
              "#ed7953"
             ],
             [
              0.7777777777777778,
              "#fb9f3a"
             ],
             [
              0.8888888888888888,
              "#fdca26"
             ],
             [
              1,
              "#f0f921"
             ]
            ],
            "type": "histogram2dcontour"
           }
          ],
          "mesh3d": [
           {
            "colorbar": {
             "outlinewidth": 0,
             "ticks": ""
            },
            "type": "mesh3d"
           }
          ],
          "parcoords": [
           {
            "line": {
             "colorbar": {
              "outlinewidth": 0,
              "ticks": ""
             }
            },
            "type": "parcoords"
           }
          ],
          "pie": [
           {
            "automargin": true,
            "type": "pie"
           }
          ],
          "scatter": [
           {
            "marker": {
             "colorbar": {
              "outlinewidth": 0,
              "ticks": ""
             }
            },
            "type": "scatter"
           }
          ],
          "scatter3d": [
           {
            "line": {
             "colorbar": {
              "outlinewidth": 0,
              "ticks": ""
             }
            },
            "marker": {
             "colorbar": {
              "outlinewidth": 0,
              "ticks": ""
             }
            },
            "type": "scatter3d"
           }
          ],
          "scattercarpet": [
           {
            "marker": {
             "colorbar": {
              "outlinewidth": 0,
              "ticks": ""
             }
            },
            "type": "scattercarpet"
           }
          ],
          "scattergeo": [
           {
            "marker": {
             "colorbar": {
              "outlinewidth": 0,
              "ticks": ""
             }
            },
            "type": "scattergeo"
           }
          ],
          "scattergl": [
           {
            "marker": {
             "colorbar": {
              "outlinewidth": 0,
              "ticks": ""
             }
            },
            "type": "scattergl"
           }
          ],
          "scattermapbox": [
           {
            "marker": {
             "colorbar": {
              "outlinewidth": 0,
              "ticks": ""
             }
            },
            "type": "scattermapbox"
           }
          ],
          "scatterpolar": [
           {
            "marker": {
             "colorbar": {
              "outlinewidth": 0,
              "ticks": ""
             }
            },
            "type": "scatterpolar"
           }
          ],
          "scatterpolargl": [
           {
            "marker": {
             "colorbar": {
              "outlinewidth": 0,
              "ticks": ""
             }
            },
            "type": "scatterpolargl"
           }
          ],
          "scatterternary": [
           {
            "marker": {
             "colorbar": {
              "outlinewidth": 0,
              "ticks": ""
             }
            },
            "type": "scatterternary"
           }
          ],
          "surface": [
           {
            "colorbar": {
             "outlinewidth": 0,
             "ticks": ""
            },
            "colorscale": [
             [
              0,
              "#0d0887"
             ],
             [
              0.1111111111111111,
              "#46039f"
             ],
             [
              0.2222222222222222,
              "#7201a8"
             ],
             [
              0.3333333333333333,
              "#9c179e"
             ],
             [
              0.4444444444444444,
              "#bd3786"
             ],
             [
              0.5555555555555556,
              "#d8576b"
             ],
             [
              0.6666666666666666,
              "#ed7953"
             ],
             [
              0.7777777777777778,
              "#fb9f3a"
             ],
             [
              0.8888888888888888,
              "#fdca26"
             ],
             [
              1,
              "#f0f921"
             ]
            ],
            "type": "surface"
           }
          ],
          "table": [
           {
            "cells": {
             "fill": {
              "color": "#EBF0F8"
             },
             "line": {
              "color": "white"
             }
            },
            "header": {
             "fill": {
              "color": "#C8D4E3"
             },
             "line": {
              "color": "white"
             }
            },
            "type": "table"
           }
          ]
         },
         "layout": {
          "annotationdefaults": {
           "arrowcolor": "#2a3f5f",
           "arrowhead": 0,
           "arrowwidth": 1
          },
          "coloraxis": {
           "colorbar": {
            "outlinewidth": 0,
            "ticks": ""
           }
          },
          "colorscale": {
           "diverging": [
            [
             0,
             "#8e0152"
            ],
            [
             0.1,
             "#c51b7d"
            ],
            [
             0.2,
             "#de77ae"
            ],
            [
             0.3,
             "#f1b6da"
            ],
            [
             0.4,
             "#fde0ef"
            ],
            [
             0.5,
             "#f7f7f7"
            ],
            [
             0.6,
             "#e6f5d0"
            ],
            [
             0.7,
             "#b8e186"
            ],
            [
             0.8,
             "#7fbc41"
            ],
            [
             0.9,
             "#4d9221"
            ],
            [
             1,
             "#276419"
            ]
           ],
           "sequential": [
            [
             0,
             "#0d0887"
            ],
            [
             0.1111111111111111,
             "#46039f"
            ],
            [
             0.2222222222222222,
             "#7201a8"
            ],
            [
             0.3333333333333333,
             "#9c179e"
            ],
            [
             0.4444444444444444,
             "#bd3786"
            ],
            [
             0.5555555555555556,
             "#d8576b"
            ],
            [
             0.6666666666666666,
             "#ed7953"
            ],
            [
             0.7777777777777778,
             "#fb9f3a"
            ],
            [
             0.8888888888888888,
             "#fdca26"
            ],
            [
             1,
             "#f0f921"
            ]
           ],
           "sequentialminus": [
            [
             0,
             "#0d0887"
            ],
            [
             0.1111111111111111,
             "#46039f"
            ],
            [
             0.2222222222222222,
             "#7201a8"
            ],
            [
             0.3333333333333333,
             "#9c179e"
            ],
            [
             0.4444444444444444,
             "#bd3786"
            ],
            [
             0.5555555555555556,
             "#d8576b"
            ],
            [
             0.6666666666666666,
             "#ed7953"
            ],
            [
             0.7777777777777778,
             "#fb9f3a"
            ],
            [
             0.8888888888888888,
             "#fdca26"
            ],
            [
             1,
             "#f0f921"
            ]
           ]
          },
          "colorway": [
           "#636efa",
           "#EF553B",
           "#00cc96",
           "#ab63fa",
           "#FFA15A",
           "#19d3f3",
           "#FF6692",
           "#B6E880",
           "#FF97FF",
           "#FECB52"
          ],
          "font": {
           "color": "#2a3f5f"
          },
          "geo": {
           "bgcolor": "white",
           "lakecolor": "white",
           "landcolor": "#E5ECF6",
           "showlakes": true,
           "showland": true,
           "subunitcolor": "white"
          },
          "hoverlabel": {
           "align": "left"
          },
          "hovermode": "closest",
          "mapbox": {
           "style": "light"
          },
          "paper_bgcolor": "white",
          "plot_bgcolor": "#E5ECF6",
          "polar": {
           "angularaxis": {
            "gridcolor": "white",
            "linecolor": "white",
            "ticks": ""
           },
           "bgcolor": "#E5ECF6",
           "radialaxis": {
            "gridcolor": "white",
            "linecolor": "white",
            "ticks": ""
           }
          },
          "scene": {
           "xaxis": {
            "backgroundcolor": "#E5ECF6",
            "gridcolor": "white",
            "gridwidth": 2,
            "linecolor": "white",
            "showbackground": true,
            "ticks": "",
            "zerolinecolor": "white"
           },
           "yaxis": {
            "backgroundcolor": "#E5ECF6",
            "gridcolor": "white",
            "gridwidth": 2,
            "linecolor": "white",
            "showbackground": true,
            "ticks": "",
            "zerolinecolor": "white"
           },
           "zaxis": {
            "backgroundcolor": "#E5ECF6",
            "gridcolor": "white",
            "gridwidth": 2,
            "linecolor": "white",
            "showbackground": true,
            "ticks": "",
            "zerolinecolor": "white"
           }
          },
          "shapedefaults": {
           "line": {
            "color": "#2a3f5f"
           }
          },
          "ternary": {
           "aaxis": {
            "gridcolor": "white",
            "linecolor": "white",
            "ticks": ""
           },
           "baxis": {
            "gridcolor": "white",
            "linecolor": "white",
            "ticks": ""
           },
           "bgcolor": "#E5ECF6",
           "caxis": {
            "gridcolor": "white",
            "linecolor": "white",
            "ticks": ""
           }
          },
          "title": {
           "x": 0.05
          },
          "xaxis": {
           "automargin": true,
           "gridcolor": "white",
           "linecolor": "white",
           "ticks": "",
           "title": {
            "standoff": 15
           },
           "zerolinecolor": "white",
           "zerolinewidth": 2
          },
          "yaxis": {
           "automargin": true,
           "gridcolor": "white",
           "linecolor": "white",
           "ticks": "",
           "title": {
            "standoff": 15
           },
           "zerolinecolor": "white",
           "zerolinewidth": 2
          }
         }
        },
        "xaxis": {
         "anchor": "y",
         "domain": [
          0,
          1
         ],
         "title": {
          "text": "Post Day"
         }
        },
        "yaxis": {
         "anchor": "x",
         "domain": [
          0,
          1
         ],
         "title": {
          "text": "Images Posted"
         }
        }
       }
      },
      "text/html": [
       "<div>                            <div id=\"7e09539c-775d-4f3f-b78e-49915376e5a6\" class=\"plotly-graph-div\" style=\"height:525px; width:100%;\"></div>            <script type=\"text/javascript\">                require([\"plotly\"], function(Plotly) {                    window.PLOTLYENV=window.PLOTLYENV || {};                                    if (document.getElementById(\"7e09539c-775d-4f3f-b78e-49915376e5a6\")) {                    Plotly.newPlot(                        \"7e09539c-775d-4f3f-b78e-49915376e5a6\",                        [{\"hovertemplate\": \"Post Day=%{x}<br>Images Posted=%{y}<extra></extra>\", \"legendgroup\": \"\", \"line\": {\"color\": \"#636efa\", \"dash\": \"solid\"}, \"mode\": \"lines\", \"name\": \"\", \"orientation\": \"v\", \"showlegend\": false, \"type\": \"scatter\", \"x\": [\"2021-08-24T00:00:00\", \"2021-08-25T00:00:00\", \"2021-08-26T00:00:00\", \"2021-08-27T00:00:00\", \"2021-08-28T00:00:00\", \"2021-08-29T00:00:00\", \"2021-08-30T00:00:00\", \"2021-08-31T00:00:00\", \"2021-09-01T00:00:00\", \"2021-09-02T00:00:00\", \"2021-09-03T00:00:00\"], \"xaxis\": \"x\", \"y\": [23, 177, 250, 371, 379, 458, 83, 44, 94, 8, 9], \"yaxis\": \"y\"}],                        {\"legend\": {\"tracegroupgap\": 0}, \"margin\": {\"t\": 60}, \"template\": {\"data\": {\"bar\": [{\"error_x\": {\"color\": \"#2a3f5f\"}, \"error_y\": {\"color\": \"#2a3f5f\"}, \"marker\": {\"line\": {\"color\": \"#E5ECF6\", \"width\": 0.5}}, \"type\": \"bar\"}], \"barpolar\": [{\"marker\": {\"line\": {\"color\": \"#E5ECF6\", \"width\": 0.5}}, \"type\": \"barpolar\"}], \"carpet\": [{\"aaxis\": {\"endlinecolor\": \"#2a3f5f\", \"gridcolor\": \"white\", \"linecolor\": \"white\", \"minorgridcolor\": \"white\", \"startlinecolor\": \"#2a3f5f\"}, \"baxis\": {\"endlinecolor\": \"#2a3f5f\", \"gridcolor\": \"white\", \"linecolor\": \"white\", \"minorgridcolor\": \"white\", \"startlinecolor\": \"#2a3f5f\"}, \"type\": \"carpet\"}], \"choropleth\": [{\"colorbar\": {\"outlinewidth\": 0, \"ticks\": \"\"}, \"type\": \"choropleth\"}], \"contour\": [{\"colorbar\": {\"outlinewidth\": 0, \"ticks\": \"\"}, \"colorscale\": [[0.0, \"#0d0887\"], [0.1111111111111111, \"#46039f\"], [0.2222222222222222, \"#7201a8\"], [0.3333333333333333, \"#9c179e\"], [0.4444444444444444, \"#bd3786\"], [0.5555555555555556, \"#d8576b\"], [0.6666666666666666, \"#ed7953\"], [0.7777777777777778, \"#fb9f3a\"], [0.8888888888888888, \"#fdca26\"], [1.0, \"#f0f921\"]], \"type\": \"contour\"}], \"contourcarpet\": [{\"colorbar\": {\"outlinewidth\": 0, \"ticks\": \"\"}, \"type\": \"contourcarpet\"}], \"heatmap\": [{\"colorbar\": {\"outlinewidth\": 0, \"ticks\": \"\"}, \"colorscale\": [[0.0, \"#0d0887\"], [0.1111111111111111, \"#46039f\"], [0.2222222222222222, \"#7201a8\"], [0.3333333333333333, \"#9c179e\"], [0.4444444444444444, \"#bd3786\"], [0.5555555555555556, \"#d8576b\"], [0.6666666666666666, \"#ed7953\"], [0.7777777777777778, \"#fb9f3a\"], [0.8888888888888888, \"#fdca26\"], [1.0, \"#f0f921\"]], \"type\": \"heatmap\"}], \"heatmapgl\": [{\"colorbar\": {\"outlinewidth\": 0, \"ticks\": \"\"}, \"colorscale\": [[0.0, \"#0d0887\"], [0.1111111111111111, \"#46039f\"], [0.2222222222222222, \"#7201a8\"], [0.3333333333333333, \"#9c179e\"], [0.4444444444444444, \"#bd3786\"], [0.5555555555555556, \"#d8576b\"], [0.6666666666666666, \"#ed7953\"], [0.7777777777777778, \"#fb9f3a\"], [0.8888888888888888, \"#fdca26\"], [1.0, \"#f0f921\"]], \"type\": \"heatmapgl\"}], \"histogram\": [{\"marker\": {\"colorbar\": {\"outlinewidth\": 0, \"ticks\": \"\"}}, \"type\": \"histogram\"}], \"histogram2d\": [{\"colorbar\": {\"outlinewidth\": 0, \"ticks\": \"\"}, \"colorscale\": [[0.0, \"#0d0887\"], [0.1111111111111111, \"#46039f\"], [0.2222222222222222, \"#7201a8\"], [0.3333333333333333, \"#9c179e\"], [0.4444444444444444, \"#bd3786\"], [0.5555555555555556, \"#d8576b\"], [0.6666666666666666, \"#ed7953\"], [0.7777777777777778, \"#fb9f3a\"], [0.8888888888888888, \"#fdca26\"], [1.0, \"#f0f921\"]], \"type\": \"histogram2d\"}], \"histogram2dcontour\": [{\"colorbar\": {\"outlinewidth\": 0, \"ticks\": \"\"}, \"colorscale\": [[0.0, \"#0d0887\"], [0.1111111111111111, \"#46039f\"], [0.2222222222222222, \"#7201a8\"], [0.3333333333333333, \"#9c179e\"], [0.4444444444444444, \"#bd3786\"], [0.5555555555555556, \"#d8576b\"], [0.6666666666666666, \"#ed7953\"], [0.7777777777777778, \"#fb9f3a\"], [0.8888888888888888, \"#fdca26\"], [1.0, \"#f0f921\"]], \"type\": \"histogram2dcontour\"}], \"mesh3d\": [{\"colorbar\": {\"outlinewidth\": 0, \"ticks\": \"\"}, \"type\": \"mesh3d\"}], \"parcoords\": [{\"line\": {\"colorbar\": {\"outlinewidth\": 0, \"ticks\": \"\"}}, \"type\": \"parcoords\"}], \"pie\": [{\"automargin\": true, \"type\": \"pie\"}], \"scatter\": [{\"marker\": {\"colorbar\": {\"outlinewidth\": 0, \"ticks\": \"\"}}, \"type\": \"scatter\"}], \"scatter3d\": [{\"line\": {\"colorbar\": {\"outlinewidth\": 0, \"ticks\": \"\"}}, \"marker\": {\"colorbar\": {\"outlinewidth\": 0, \"ticks\": \"\"}}, \"type\": \"scatter3d\"}], \"scattercarpet\": [{\"marker\": {\"colorbar\": {\"outlinewidth\": 0, \"ticks\": \"\"}}, \"type\": \"scattercarpet\"}], \"scattergeo\": [{\"marker\": {\"colorbar\": {\"outlinewidth\": 0, \"ticks\": \"\"}}, \"type\": \"scattergeo\"}], \"scattergl\": [{\"marker\": {\"colorbar\": {\"outlinewidth\": 0, \"ticks\": \"\"}}, \"type\": \"scattergl\"}], \"scattermapbox\": [{\"marker\": {\"colorbar\": {\"outlinewidth\": 0, \"ticks\": \"\"}}, \"type\": \"scattermapbox\"}], \"scatterpolar\": [{\"marker\": {\"colorbar\": {\"outlinewidth\": 0, \"ticks\": \"\"}}, \"type\": \"scatterpolar\"}], \"scatterpolargl\": [{\"marker\": {\"colorbar\": {\"outlinewidth\": 0, \"ticks\": \"\"}}, \"type\": \"scatterpolargl\"}], \"scatterternary\": [{\"marker\": {\"colorbar\": {\"outlinewidth\": 0, \"ticks\": \"\"}}, \"type\": \"scatterternary\"}], \"surface\": [{\"colorbar\": {\"outlinewidth\": 0, \"ticks\": \"\"}, \"colorscale\": [[0.0, \"#0d0887\"], [0.1111111111111111, \"#46039f\"], [0.2222222222222222, \"#7201a8\"], [0.3333333333333333, \"#9c179e\"], [0.4444444444444444, \"#bd3786\"], [0.5555555555555556, \"#d8576b\"], [0.6666666666666666, \"#ed7953\"], [0.7777777777777778, \"#fb9f3a\"], [0.8888888888888888, \"#fdca26\"], [1.0, \"#f0f921\"]], \"type\": \"surface\"}], \"table\": [{\"cells\": {\"fill\": {\"color\": \"#EBF0F8\"}, \"line\": {\"color\": \"white\"}}, \"header\": {\"fill\": {\"color\": \"#C8D4E3\"}, \"line\": {\"color\": \"white\"}}, \"type\": \"table\"}]}, \"layout\": {\"annotationdefaults\": {\"arrowcolor\": \"#2a3f5f\", \"arrowhead\": 0, \"arrowwidth\": 1}, \"coloraxis\": {\"colorbar\": {\"outlinewidth\": 0, \"ticks\": \"\"}}, \"colorscale\": {\"diverging\": [[0, \"#8e0152\"], [0.1, \"#c51b7d\"], [0.2, \"#de77ae\"], [0.3, \"#f1b6da\"], [0.4, \"#fde0ef\"], [0.5, \"#f7f7f7\"], [0.6, \"#e6f5d0\"], [0.7, \"#b8e186\"], [0.8, \"#7fbc41\"], [0.9, \"#4d9221\"], [1, \"#276419\"]], \"sequential\": [[0.0, \"#0d0887\"], [0.1111111111111111, \"#46039f\"], [0.2222222222222222, \"#7201a8\"], [0.3333333333333333, \"#9c179e\"], [0.4444444444444444, \"#bd3786\"], [0.5555555555555556, \"#d8576b\"], [0.6666666666666666, \"#ed7953\"], [0.7777777777777778, \"#fb9f3a\"], [0.8888888888888888, \"#fdca26\"], [1.0, \"#f0f921\"]], \"sequentialminus\": [[0.0, \"#0d0887\"], [0.1111111111111111, \"#46039f\"], [0.2222222222222222, \"#7201a8\"], [0.3333333333333333, \"#9c179e\"], [0.4444444444444444, \"#bd3786\"], [0.5555555555555556, \"#d8576b\"], [0.6666666666666666, \"#ed7953\"], [0.7777777777777778, \"#fb9f3a\"], [0.8888888888888888, \"#fdca26\"], [1.0, \"#f0f921\"]]}, \"colorway\": [\"#636efa\", \"#EF553B\", \"#00cc96\", \"#ab63fa\", \"#FFA15A\", \"#19d3f3\", \"#FF6692\", \"#B6E880\", \"#FF97FF\", \"#FECB52\"], \"font\": {\"color\": \"#2a3f5f\"}, \"geo\": {\"bgcolor\": \"white\", \"lakecolor\": \"white\", \"landcolor\": \"#E5ECF6\", \"showlakes\": true, \"showland\": true, \"subunitcolor\": \"white\"}, \"hoverlabel\": {\"align\": \"left\"}, \"hovermode\": \"closest\", \"mapbox\": {\"style\": \"light\"}, \"paper_bgcolor\": \"white\", \"plot_bgcolor\": \"#E5ECF6\", \"polar\": {\"angularaxis\": {\"gridcolor\": \"white\", \"linecolor\": \"white\", \"ticks\": \"\"}, \"bgcolor\": \"#E5ECF6\", \"radialaxis\": {\"gridcolor\": \"white\", \"linecolor\": \"white\", \"ticks\": \"\"}}, \"scene\": {\"xaxis\": {\"backgroundcolor\": \"#E5ECF6\", \"gridcolor\": \"white\", \"gridwidth\": 2, \"linecolor\": \"white\", \"showbackground\": true, \"ticks\": \"\", \"zerolinecolor\": \"white\"}, \"yaxis\": {\"backgroundcolor\": \"#E5ECF6\", \"gridcolor\": \"white\", \"gridwidth\": 2, \"linecolor\": \"white\", \"showbackground\": true, \"ticks\": \"\", \"zerolinecolor\": \"white\"}, \"zaxis\": {\"backgroundcolor\": \"#E5ECF6\", \"gridcolor\": \"white\", \"gridwidth\": 2, \"linecolor\": \"white\", \"showbackground\": true, \"ticks\": \"\", \"zerolinecolor\": \"white\"}}, \"shapedefaults\": {\"line\": {\"color\": \"#2a3f5f\"}}, \"ternary\": {\"aaxis\": {\"gridcolor\": \"white\", \"linecolor\": \"white\", \"ticks\": \"\"}, \"baxis\": {\"gridcolor\": \"white\", \"linecolor\": \"white\", \"ticks\": \"\"}, \"bgcolor\": \"#E5ECF6\", \"caxis\": {\"gridcolor\": \"white\", \"linecolor\": \"white\", \"ticks\": \"\"}}, \"title\": {\"x\": 0.05}, \"xaxis\": {\"automargin\": true, \"gridcolor\": \"white\", \"linecolor\": \"white\", \"ticks\": \"\", \"title\": {\"standoff\": 15}, \"zerolinecolor\": \"white\", \"zerolinewidth\": 2}, \"yaxis\": {\"automargin\": true, \"gridcolor\": \"white\", \"linecolor\": \"white\", \"ticks\": \"\", \"title\": {\"standoff\": 15}, \"zerolinecolor\": \"white\", \"zerolinewidth\": 2}}}, \"xaxis\": {\"anchor\": \"y\", \"domain\": [0.0, 1.0], \"title\": {\"text\": \"Post Day\"}}, \"yaxis\": {\"anchor\": \"x\", \"domain\": [0.0, 1.0], \"title\": {\"text\": \"Images Posted\"}}},                        {\"responsive\": true}                    ).then(function(){\n",
       "                            \n",
       "var gd = document.getElementById('7e09539c-775d-4f3f-b78e-49915376e5a6');\n",
       "var x = new MutationObserver(function (mutations, observer) {{\n",
       "        var display = window.getComputedStyle(gd).display;\n",
       "        if (!display || display === 'none') {{\n",
       "            console.log([gd, 'removed!']);\n",
       "            Plotly.purge(gd);\n",
       "            observer.disconnect();\n",
       "        }}\n",
       "}});\n",
       "\n",
       "// Listen for the removal of the full notebook cells\n",
       "var notebookContainer = gd.closest('#notebook-container');\n",
       "if (notebookContainer) {{\n",
       "    x.observe(notebookContainer, {childList: true});\n",
       "}}\n",
       "\n",
       "// Listen for the clearing of the current output cell\n",
       "var outputEl = gd.closest('.output');\n",
       "if (outputEl) {{\n",
       "    x.observe(outputEl, {childList: true});\n",
       "}}\n",
       "\n",
       "                        })                };                });            </script>        </div>"
      ]
     },
     "metadata": {},
     "output_type": "display_data"
    },
    {
     "data": {
      "application/vnd.plotly.v1+json": {
       "config": {
        "plotlyServerURL": "https://plot.ly"
       },
       "data": [
        {
         "hovertemplate": "Post Day=%{x}<br>Total Thumbs up=%{y}<extra></extra>",
         "legendgroup": "",
         "line": {
          "color": "#636efa",
          "dash": "solid"
         },
         "mode": "lines",
         "name": "",
         "orientation": "v",
         "showlegend": false,
         "type": "scatter",
         "x": [
          "2021-08-24T00:00:00",
          "2021-08-25T00:00:00",
          "2021-08-26T00:00:00",
          "2021-08-27T00:00:00",
          "2021-08-28T00:00:00",
          "2021-08-29T00:00:00",
          "2021-08-30T00:00:00",
          "2021-08-31T00:00:00",
          "2021-09-01T00:00:00",
          "2021-09-02T00:00:00",
          "2021-09-03T00:00:00"
         ],
         "xaxis": "x",
         "y": [
          1117,
          6767,
          13808,
          20828,
          25474,
          49290,
          8127,
          1180,
          1485,
          456,
          208
         ],
         "yaxis": "y"
        }
       ],
       "layout": {
        "legend": {
         "tracegroupgap": 0
        },
        "margin": {
         "t": 60
        },
        "template": {
         "data": {
          "bar": [
           {
            "error_x": {
             "color": "#2a3f5f"
            },
            "error_y": {
             "color": "#2a3f5f"
            },
            "marker": {
             "line": {
              "color": "#E5ECF6",
              "width": 0.5
             }
            },
            "type": "bar"
           }
          ],
          "barpolar": [
           {
            "marker": {
             "line": {
              "color": "#E5ECF6",
              "width": 0.5
             }
            },
            "type": "barpolar"
           }
          ],
          "carpet": [
           {
            "aaxis": {
             "endlinecolor": "#2a3f5f",
             "gridcolor": "white",
             "linecolor": "white",
             "minorgridcolor": "white",
             "startlinecolor": "#2a3f5f"
            },
            "baxis": {
             "endlinecolor": "#2a3f5f",
             "gridcolor": "white",
             "linecolor": "white",
             "minorgridcolor": "white",
             "startlinecolor": "#2a3f5f"
            },
            "type": "carpet"
           }
          ],
          "choropleth": [
           {
            "colorbar": {
             "outlinewidth": 0,
             "ticks": ""
            },
            "type": "choropleth"
           }
          ],
          "contour": [
           {
            "colorbar": {
             "outlinewidth": 0,
             "ticks": ""
            },
            "colorscale": [
             [
              0,
              "#0d0887"
             ],
             [
              0.1111111111111111,
              "#46039f"
             ],
             [
              0.2222222222222222,
              "#7201a8"
             ],
             [
              0.3333333333333333,
              "#9c179e"
             ],
             [
              0.4444444444444444,
              "#bd3786"
             ],
             [
              0.5555555555555556,
              "#d8576b"
             ],
             [
              0.6666666666666666,
              "#ed7953"
             ],
             [
              0.7777777777777778,
              "#fb9f3a"
             ],
             [
              0.8888888888888888,
              "#fdca26"
             ],
             [
              1,
              "#f0f921"
             ]
            ],
            "type": "contour"
           }
          ],
          "contourcarpet": [
           {
            "colorbar": {
             "outlinewidth": 0,
             "ticks": ""
            },
            "type": "contourcarpet"
           }
          ],
          "heatmap": [
           {
            "colorbar": {
             "outlinewidth": 0,
             "ticks": ""
            },
            "colorscale": [
             [
              0,
              "#0d0887"
             ],
             [
              0.1111111111111111,
              "#46039f"
             ],
             [
              0.2222222222222222,
              "#7201a8"
             ],
             [
              0.3333333333333333,
              "#9c179e"
             ],
             [
              0.4444444444444444,
              "#bd3786"
             ],
             [
              0.5555555555555556,
              "#d8576b"
             ],
             [
              0.6666666666666666,
              "#ed7953"
             ],
             [
              0.7777777777777778,
              "#fb9f3a"
             ],
             [
              0.8888888888888888,
              "#fdca26"
             ],
             [
              1,
              "#f0f921"
             ]
            ],
            "type": "heatmap"
           }
          ],
          "heatmapgl": [
           {
            "colorbar": {
             "outlinewidth": 0,
             "ticks": ""
            },
            "colorscale": [
             [
              0,
              "#0d0887"
             ],
             [
              0.1111111111111111,
              "#46039f"
             ],
             [
              0.2222222222222222,
              "#7201a8"
             ],
             [
              0.3333333333333333,
              "#9c179e"
             ],
             [
              0.4444444444444444,
              "#bd3786"
             ],
             [
              0.5555555555555556,
              "#d8576b"
             ],
             [
              0.6666666666666666,
              "#ed7953"
             ],
             [
              0.7777777777777778,
              "#fb9f3a"
             ],
             [
              0.8888888888888888,
              "#fdca26"
             ],
             [
              1,
              "#f0f921"
             ]
            ],
            "type": "heatmapgl"
           }
          ],
          "histogram": [
           {
            "marker": {
             "colorbar": {
              "outlinewidth": 0,
              "ticks": ""
             }
            },
            "type": "histogram"
           }
          ],
          "histogram2d": [
           {
            "colorbar": {
             "outlinewidth": 0,
             "ticks": ""
            },
            "colorscale": [
             [
              0,
              "#0d0887"
             ],
             [
              0.1111111111111111,
              "#46039f"
             ],
             [
              0.2222222222222222,
              "#7201a8"
             ],
             [
              0.3333333333333333,
              "#9c179e"
             ],
             [
              0.4444444444444444,
              "#bd3786"
             ],
             [
              0.5555555555555556,
              "#d8576b"
             ],
             [
              0.6666666666666666,
              "#ed7953"
             ],
             [
              0.7777777777777778,
              "#fb9f3a"
             ],
             [
              0.8888888888888888,
              "#fdca26"
             ],
             [
              1,
              "#f0f921"
             ]
            ],
            "type": "histogram2d"
           }
          ],
          "histogram2dcontour": [
           {
            "colorbar": {
             "outlinewidth": 0,
             "ticks": ""
            },
            "colorscale": [
             [
              0,
              "#0d0887"
             ],
             [
              0.1111111111111111,
              "#46039f"
             ],
             [
              0.2222222222222222,
              "#7201a8"
             ],
             [
              0.3333333333333333,
              "#9c179e"
             ],
             [
              0.4444444444444444,
              "#bd3786"
             ],
             [
              0.5555555555555556,
              "#d8576b"
             ],
             [
              0.6666666666666666,
              "#ed7953"
             ],
             [
              0.7777777777777778,
              "#fb9f3a"
             ],
             [
              0.8888888888888888,
              "#fdca26"
             ],
             [
              1,
              "#f0f921"
             ]
            ],
            "type": "histogram2dcontour"
           }
          ],
          "mesh3d": [
           {
            "colorbar": {
             "outlinewidth": 0,
             "ticks": ""
            },
            "type": "mesh3d"
           }
          ],
          "parcoords": [
           {
            "line": {
             "colorbar": {
              "outlinewidth": 0,
              "ticks": ""
             }
            },
            "type": "parcoords"
           }
          ],
          "pie": [
           {
            "automargin": true,
            "type": "pie"
           }
          ],
          "scatter": [
           {
            "marker": {
             "colorbar": {
              "outlinewidth": 0,
              "ticks": ""
             }
            },
            "type": "scatter"
           }
          ],
          "scatter3d": [
           {
            "line": {
             "colorbar": {
              "outlinewidth": 0,
              "ticks": ""
             }
            },
            "marker": {
             "colorbar": {
              "outlinewidth": 0,
              "ticks": ""
             }
            },
            "type": "scatter3d"
           }
          ],
          "scattercarpet": [
           {
            "marker": {
             "colorbar": {
              "outlinewidth": 0,
              "ticks": ""
             }
            },
            "type": "scattercarpet"
           }
          ],
          "scattergeo": [
           {
            "marker": {
             "colorbar": {
              "outlinewidth": 0,
              "ticks": ""
             }
            },
            "type": "scattergeo"
           }
          ],
          "scattergl": [
           {
            "marker": {
             "colorbar": {
              "outlinewidth": 0,
              "ticks": ""
             }
            },
            "type": "scattergl"
           }
          ],
          "scattermapbox": [
           {
            "marker": {
             "colorbar": {
              "outlinewidth": 0,
              "ticks": ""
             }
            },
            "type": "scattermapbox"
           }
          ],
          "scatterpolar": [
           {
            "marker": {
             "colorbar": {
              "outlinewidth": 0,
              "ticks": ""
             }
            },
            "type": "scatterpolar"
           }
          ],
          "scatterpolargl": [
           {
            "marker": {
             "colorbar": {
              "outlinewidth": 0,
              "ticks": ""
             }
            },
            "type": "scatterpolargl"
           }
          ],
          "scatterternary": [
           {
            "marker": {
             "colorbar": {
              "outlinewidth": 0,
              "ticks": ""
             }
            },
            "type": "scatterternary"
           }
          ],
          "surface": [
           {
            "colorbar": {
             "outlinewidth": 0,
             "ticks": ""
            },
            "colorscale": [
             [
              0,
              "#0d0887"
             ],
             [
              0.1111111111111111,
              "#46039f"
             ],
             [
              0.2222222222222222,
              "#7201a8"
             ],
             [
              0.3333333333333333,
              "#9c179e"
             ],
             [
              0.4444444444444444,
              "#bd3786"
             ],
             [
              0.5555555555555556,
              "#d8576b"
             ],
             [
              0.6666666666666666,
              "#ed7953"
             ],
             [
              0.7777777777777778,
              "#fb9f3a"
             ],
             [
              0.8888888888888888,
              "#fdca26"
             ],
             [
              1,
              "#f0f921"
             ]
            ],
            "type": "surface"
           }
          ],
          "table": [
           {
            "cells": {
             "fill": {
              "color": "#EBF0F8"
             },
             "line": {
              "color": "white"
             }
            },
            "header": {
             "fill": {
              "color": "#C8D4E3"
             },
             "line": {
              "color": "white"
             }
            },
            "type": "table"
           }
          ]
         },
         "layout": {
          "annotationdefaults": {
           "arrowcolor": "#2a3f5f",
           "arrowhead": 0,
           "arrowwidth": 1
          },
          "coloraxis": {
           "colorbar": {
            "outlinewidth": 0,
            "ticks": ""
           }
          },
          "colorscale": {
           "diverging": [
            [
             0,
             "#8e0152"
            ],
            [
             0.1,
             "#c51b7d"
            ],
            [
             0.2,
             "#de77ae"
            ],
            [
             0.3,
             "#f1b6da"
            ],
            [
             0.4,
             "#fde0ef"
            ],
            [
             0.5,
             "#f7f7f7"
            ],
            [
             0.6,
             "#e6f5d0"
            ],
            [
             0.7,
             "#b8e186"
            ],
            [
             0.8,
             "#7fbc41"
            ],
            [
             0.9,
             "#4d9221"
            ],
            [
             1,
             "#276419"
            ]
           ],
           "sequential": [
            [
             0,
             "#0d0887"
            ],
            [
             0.1111111111111111,
             "#46039f"
            ],
            [
             0.2222222222222222,
             "#7201a8"
            ],
            [
             0.3333333333333333,
             "#9c179e"
            ],
            [
             0.4444444444444444,
             "#bd3786"
            ],
            [
             0.5555555555555556,
             "#d8576b"
            ],
            [
             0.6666666666666666,
             "#ed7953"
            ],
            [
             0.7777777777777778,
             "#fb9f3a"
            ],
            [
             0.8888888888888888,
             "#fdca26"
            ],
            [
             1,
             "#f0f921"
            ]
           ],
           "sequentialminus": [
            [
             0,
             "#0d0887"
            ],
            [
             0.1111111111111111,
             "#46039f"
            ],
            [
             0.2222222222222222,
             "#7201a8"
            ],
            [
             0.3333333333333333,
             "#9c179e"
            ],
            [
             0.4444444444444444,
             "#bd3786"
            ],
            [
             0.5555555555555556,
             "#d8576b"
            ],
            [
             0.6666666666666666,
             "#ed7953"
            ],
            [
             0.7777777777777778,
             "#fb9f3a"
            ],
            [
             0.8888888888888888,
             "#fdca26"
            ],
            [
             1,
             "#f0f921"
            ]
           ]
          },
          "colorway": [
           "#636efa",
           "#EF553B",
           "#00cc96",
           "#ab63fa",
           "#FFA15A",
           "#19d3f3",
           "#FF6692",
           "#B6E880",
           "#FF97FF",
           "#FECB52"
          ],
          "font": {
           "color": "#2a3f5f"
          },
          "geo": {
           "bgcolor": "white",
           "lakecolor": "white",
           "landcolor": "#E5ECF6",
           "showlakes": true,
           "showland": true,
           "subunitcolor": "white"
          },
          "hoverlabel": {
           "align": "left"
          },
          "hovermode": "closest",
          "mapbox": {
           "style": "light"
          },
          "paper_bgcolor": "white",
          "plot_bgcolor": "#E5ECF6",
          "polar": {
           "angularaxis": {
            "gridcolor": "white",
            "linecolor": "white",
            "ticks": ""
           },
           "bgcolor": "#E5ECF6",
           "radialaxis": {
            "gridcolor": "white",
            "linecolor": "white",
            "ticks": ""
           }
          },
          "scene": {
           "xaxis": {
            "backgroundcolor": "#E5ECF6",
            "gridcolor": "white",
            "gridwidth": 2,
            "linecolor": "white",
            "showbackground": true,
            "ticks": "",
            "zerolinecolor": "white"
           },
           "yaxis": {
            "backgroundcolor": "#E5ECF6",
            "gridcolor": "white",
            "gridwidth": 2,
            "linecolor": "white",
            "showbackground": true,
            "ticks": "",
            "zerolinecolor": "white"
           },
           "zaxis": {
            "backgroundcolor": "#E5ECF6",
            "gridcolor": "white",
            "gridwidth": 2,
            "linecolor": "white",
            "showbackground": true,
            "ticks": "",
            "zerolinecolor": "white"
           }
          },
          "shapedefaults": {
           "line": {
            "color": "#2a3f5f"
           }
          },
          "ternary": {
           "aaxis": {
            "gridcolor": "white",
            "linecolor": "white",
            "ticks": ""
           },
           "baxis": {
            "gridcolor": "white",
            "linecolor": "white",
            "ticks": ""
           },
           "bgcolor": "#E5ECF6",
           "caxis": {
            "gridcolor": "white",
            "linecolor": "white",
            "ticks": ""
           }
          },
          "title": {
           "x": 0.05
          },
          "xaxis": {
           "automargin": true,
           "gridcolor": "white",
           "linecolor": "white",
           "ticks": "",
           "title": {
            "standoff": 15
           },
           "zerolinecolor": "white",
           "zerolinewidth": 2
          },
          "yaxis": {
           "automargin": true,
           "gridcolor": "white",
           "linecolor": "white",
           "ticks": "",
           "title": {
            "standoff": 15
           },
           "zerolinecolor": "white",
           "zerolinewidth": 2
          }
         }
        },
        "xaxis": {
         "anchor": "y",
         "domain": [
          0,
          1
         ],
         "title": {
          "text": "Post Day"
         }
        },
        "yaxis": {
         "anchor": "x",
         "domain": [
          0,
          1
         ],
         "title": {
          "text": "Total Thumbs up"
         }
        }
       }
      },
      "text/html": [
       "<div>                            <div id=\"69be2393-ffef-48b1-b5d5-81374acc262d\" class=\"plotly-graph-div\" style=\"height:525px; width:100%;\"></div>            <script type=\"text/javascript\">                require([\"plotly\"], function(Plotly) {                    window.PLOTLYENV=window.PLOTLYENV || {};                                    if (document.getElementById(\"69be2393-ffef-48b1-b5d5-81374acc262d\")) {                    Plotly.newPlot(                        \"69be2393-ffef-48b1-b5d5-81374acc262d\",                        [{\"hovertemplate\": \"Post Day=%{x}<br>Total Thumbs up=%{y}<extra></extra>\", \"legendgroup\": \"\", \"line\": {\"color\": \"#636efa\", \"dash\": \"solid\"}, \"mode\": \"lines\", \"name\": \"\", \"orientation\": \"v\", \"showlegend\": false, \"type\": \"scatter\", \"x\": [\"2021-08-24T00:00:00\", \"2021-08-25T00:00:00\", \"2021-08-26T00:00:00\", \"2021-08-27T00:00:00\", \"2021-08-28T00:00:00\", \"2021-08-29T00:00:00\", \"2021-08-30T00:00:00\", \"2021-08-31T00:00:00\", \"2021-09-01T00:00:00\", \"2021-09-02T00:00:00\", \"2021-09-03T00:00:00\"], \"xaxis\": \"x\", \"y\": [1117, 6767, 13808, 20828, 25474, 49290, 8127, 1180, 1485, 456, 208], \"yaxis\": \"y\"}],                        {\"legend\": {\"tracegroupgap\": 0}, \"margin\": {\"t\": 60}, \"template\": {\"data\": {\"bar\": [{\"error_x\": {\"color\": \"#2a3f5f\"}, \"error_y\": {\"color\": \"#2a3f5f\"}, \"marker\": {\"line\": {\"color\": \"#E5ECF6\", \"width\": 0.5}}, \"type\": \"bar\"}], \"barpolar\": [{\"marker\": {\"line\": {\"color\": \"#E5ECF6\", \"width\": 0.5}}, \"type\": \"barpolar\"}], \"carpet\": [{\"aaxis\": {\"endlinecolor\": \"#2a3f5f\", \"gridcolor\": \"white\", \"linecolor\": \"white\", \"minorgridcolor\": \"white\", \"startlinecolor\": \"#2a3f5f\"}, \"baxis\": {\"endlinecolor\": \"#2a3f5f\", \"gridcolor\": \"white\", \"linecolor\": \"white\", \"minorgridcolor\": \"white\", \"startlinecolor\": \"#2a3f5f\"}, \"type\": \"carpet\"}], \"choropleth\": [{\"colorbar\": {\"outlinewidth\": 0, \"ticks\": \"\"}, \"type\": \"choropleth\"}], \"contour\": [{\"colorbar\": {\"outlinewidth\": 0, \"ticks\": \"\"}, \"colorscale\": [[0.0, \"#0d0887\"], [0.1111111111111111, \"#46039f\"], [0.2222222222222222, \"#7201a8\"], [0.3333333333333333, \"#9c179e\"], [0.4444444444444444, \"#bd3786\"], [0.5555555555555556, \"#d8576b\"], [0.6666666666666666, \"#ed7953\"], [0.7777777777777778, \"#fb9f3a\"], [0.8888888888888888, \"#fdca26\"], [1.0, \"#f0f921\"]], \"type\": \"contour\"}], \"contourcarpet\": [{\"colorbar\": {\"outlinewidth\": 0, \"ticks\": \"\"}, \"type\": \"contourcarpet\"}], \"heatmap\": [{\"colorbar\": {\"outlinewidth\": 0, \"ticks\": \"\"}, \"colorscale\": [[0.0, \"#0d0887\"], [0.1111111111111111, \"#46039f\"], [0.2222222222222222, \"#7201a8\"], [0.3333333333333333, \"#9c179e\"], [0.4444444444444444, \"#bd3786\"], [0.5555555555555556, \"#d8576b\"], [0.6666666666666666, \"#ed7953\"], [0.7777777777777778, \"#fb9f3a\"], [0.8888888888888888, \"#fdca26\"], [1.0, \"#f0f921\"]], \"type\": \"heatmap\"}], \"heatmapgl\": [{\"colorbar\": {\"outlinewidth\": 0, \"ticks\": \"\"}, \"colorscale\": [[0.0, \"#0d0887\"], [0.1111111111111111, \"#46039f\"], [0.2222222222222222, \"#7201a8\"], [0.3333333333333333, \"#9c179e\"], [0.4444444444444444, \"#bd3786\"], [0.5555555555555556, \"#d8576b\"], [0.6666666666666666, \"#ed7953\"], [0.7777777777777778, \"#fb9f3a\"], [0.8888888888888888, \"#fdca26\"], [1.0, \"#f0f921\"]], \"type\": \"heatmapgl\"}], \"histogram\": [{\"marker\": {\"colorbar\": {\"outlinewidth\": 0, \"ticks\": \"\"}}, \"type\": \"histogram\"}], \"histogram2d\": [{\"colorbar\": {\"outlinewidth\": 0, \"ticks\": \"\"}, \"colorscale\": [[0.0, \"#0d0887\"], [0.1111111111111111, \"#46039f\"], [0.2222222222222222, \"#7201a8\"], [0.3333333333333333, \"#9c179e\"], [0.4444444444444444, \"#bd3786\"], [0.5555555555555556, \"#d8576b\"], [0.6666666666666666, \"#ed7953\"], [0.7777777777777778, \"#fb9f3a\"], [0.8888888888888888, \"#fdca26\"], [1.0, \"#f0f921\"]], \"type\": \"histogram2d\"}], \"histogram2dcontour\": [{\"colorbar\": {\"outlinewidth\": 0, \"ticks\": \"\"}, \"colorscale\": [[0.0, \"#0d0887\"], [0.1111111111111111, \"#46039f\"], [0.2222222222222222, \"#7201a8\"], [0.3333333333333333, \"#9c179e\"], [0.4444444444444444, \"#bd3786\"], [0.5555555555555556, \"#d8576b\"], [0.6666666666666666, \"#ed7953\"], [0.7777777777777778, \"#fb9f3a\"], [0.8888888888888888, \"#fdca26\"], [1.0, \"#f0f921\"]], \"type\": \"histogram2dcontour\"}], \"mesh3d\": [{\"colorbar\": {\"outlinewidth\": 0, \"ticks\": \"\"}, \"type\": \"mesh3d\"}], \"parcoords\": [{\"line\": {\"colorbar\": {\"outlinewidth\": 0, \"ticks\": \"\"}}, \"type\": \"parcoords\"}], \"pie\": [{\"automargin\": true, \"type\": \"pie\"}], \"scatter\": [{\"marker\": {\"colorbar\": {\"outlinewidth\": 0, \"ticks\": \"\"}}, \"type\": \"scatter\"}], \"scatter3d\": [{\"line\": {\"colorbar\": {\"outlinewidth\": 0, \"ticks\": \"\"}}, \"marker\": {\"colorbar\": {\"outlinewidth\": 0, \"ticks\": \"\"}}, \"type\": \"scatter3d\"}], \"scattercarpet\": [{\"marker\": {\"colorbar\": {\"outlinewidth\": 0, \"ticks\": \"\"}}, \"type\": \"scattercarpet\"}], \"scattergeo\": [{\"marker\": {\"colorbar\": {\"outlinewidth\": 0, \"ticks\": \"\"}}, \"type\": \"scattergeo\"}], \"scattergl\": [{\"marker\": {\"colorbar\": {\"outlinewidth\": 0, \"ticks\": \"\"}}, \"type\": \"scattergl\"}], \"scattermapbox\": [{\"marker\": {\"colorbar\": {\"outlinewidth\": 0, \"ticks\": \"\"}}, \"type\": \"scattermapbox\"}], \"scatterpolar\": [{\"marker\": {\"colorbar\": {\"outlinewidth\": 0, \"ticks\": \"\"}}, \"type\": \"scatterpolar\"}], \"scatterpolargl\": [{\"marker\": {\"colorbar\": {\"outlinewidth\": 0, \"ticks\": \"\"}}, \"type\": \"scatterpolargl\"}], \"scatterternary\": [{\"marker\": {\"colorbar\": {\"outlinewidth\": 0, \"ticks\": \"\"}}, \"type\": \"scatterternary\"}], \"surface\": [{\"colorbar\": {\"outlinewidth\": 0, \"ticks\": \"\"}, \"colorscale\": [[0.0, \"#0d0887\"], [0.1111111111111111, \"#46039f\"], [0.2222222222222222, \"#7201a8\"], [0.3333333333333333, \"#9c179e\"], [0.4444444444444444, \"#bd3786\"], [0.5555555555555556, \"#d8576b\"], [0.6666666666666666, \"#ed7953\"], [0.7777777777777778, \"#fb9f3a\"], [0.8888888888888888, \"#fdca26\"], [1.0, \"#f0f921\"]], \"type\": \"surface\"}], \"table\": [{\"cells\": {\"fill\": {\"color\": \"#EBF0F8\"}, \"line\": {\"color\": \"white\"}}, \"header\": {\"fill\": {\"color\": \"#C8D4E3\"}, \"line\": {\"color\": \"white\"}}, \"type\": \"table\"}]}, \"layout\": {\"annotationdefaults\": {\"arrowcolor\": \"#2a3f5f\", \"arrowhead\": 0, \"arrowwidth\": 1}, \"coloraxis\": {\"colorbar\": {\"outlinewidth\": 0, \"ticks\": \"\"}}, \"colorscale\": {\"diverging\": [[0, \"#8e0152\"], [0.1, \"#c51b7d\"], [0.2, \"#de77ae\"], [0.3, \"#f1b6da\"], [0.4, \"#fde0ef\"], [0.5, \"#f7f7f7\"], [0.6, \"#e6f5d0\"], [0.7, \"#b8e186\"], [0.8, \"#7fbc41\"], [0.9, \"#4d9221\"], [1, \"#276419\"]], \"sequential\": [[0.0, \"#0d0887\"], [0.1111111111111111, \"#46039f\"], [0.2222222222222222, \"#7201a8\"], [0.3333333333333333, \"#9c179e\"], [0.4444444444444444, \"#bd3786\"], [0.5555555555555556, \"#d8576b\"], [0.6666666666666666, \"#ed7953\"], [0.7777777777777778, \"#fb9f3a\"], [0.8888888888888888, \"#fdca26\"], [1.0, \"#f0f921\"]], \"sequentialminus\": [[0.0, \"#0d0887\"], [0.1111111111111111, \"#46039f\"], [0.2222222222222222, \"#7201a8\"], [0.3333333333333333, \"#9c179e\"], [0.4444444444444444, \"#bd3786\"], [0.5555555555555556, \"#d8576b\"], [0.6666666666666666, \"#ed7953\"], [0.7777777777777778, \"#fb9f3a\"], [0.8888888888888888, \"#fdca26\"], [1.0, \"#f0f921\"]]}, \"colorway\": [\"#636efa\", \"#EF553B\", \"#00cc96\", \"#ab63fa\", \"#FFA15A\", \"#19d3f3\", \"#FF6692\", \"#B6E880\", \"#FF97FF\", \"#FECB52\"], \"font\": {\"color\": \"#2a3f5f\"}, \"geo\": {\"bgcolor\": \"white\", \"lakecolor\": \"white\", \"landcolor\": \"#E5ECF6\", \"showlakes\": true, \"showland\": true, \"subunitcolor\": \"white\"}, \"hoverlabel\": {\"align\": \"left\"}, \"hovermode\": \"closest\", \"mapbox\": {\"style\": \"light\"}, \"paper_bgcolor\": \"white\", \"plot_bgcolor\": \"#E5ECF6\", \"polar\": {\"angularaxis\": {\"gridcolor\": \"white\", \"linecolor\": \"white\", \"ticks\": \"\"}, \"bgcolor\": \"#E5ECF6\", \"radialaxis\": {\"gridcolor\": \"white\", \"linecolor\": \"white\", \"ticks\": \"\"}}, \"scene\": {\"xaxis\": {\"backgroundcolor\": \"#E5ECF6\", \"gridcolor\": \"white\", \"gridwidth\": 2, \"linecolor\": \"white\", \"showbackground\": true, \"ticks\": \"\", \"zerolinecolor\": \"white\"}, \"yaxis\": {\"backgroundcolor\": \"#E5ECF6\", \"gridcolor\": \"white\", \"gridwidth\": 2, \"linecolor\": \"white\", \"showbackground\": true, \"ticks\": \"\", \"zerolinecolor\": \"white\"}, \"zaxis\": {\"backgroundcolor\": \"#E5ECF6\", \"gridcolor\": \"white\", \"gridwidth\": 2, \"linecolor\": \"white\", \"showbackground\": true, \"ticks\": \"\", \"zerolinecolor\": \"white\"}}, \"shapedefaults\": {\"line\": {\"color\": \"#2a3f5f\"}}, \"ternary\": {\"aaxis\": {\"gridcolor\": \"white\", \"linecolor\": \"white\", \"ticks\": \"\"}, \"baxis\": {\"gridcolor\": \"white\", \"linecolor\": \"white\", \"ticks\": \"\"}, \"bgcolor\": \"#E5ECF6\", \"caxis\": {\"gridcolor\": \"white\", \"linecolor\": \"white\", \"ticks\": \"\"}}, \"title\": {\"x\": 0.05}, \"xaxis\": {\"automargin\": true, \"gridcolor\": \"white\", \"linecolor\": \"white\", \"ticks\": \"\", \"title\": {\"standoff\": 15}, \"zerolinecolor\": \"white\", \"zerolinewidth\": 2}, \"yaxis\": {\"automargin\": true, \"gridcolor\": \"white\", \"linecolor\": \"white\", \"ticks\": \"\", \"title\": {\"standoff\": 15}, \"zerolinecolor\": \"white\", \"zerolinewidth\": 2}}}, \"xaxis\": {\"anchor\": \"y\", \"domain\": [0.0, 1.0], \"title\": {\"text\": \"Post Day\"}}, \"yaxis\": {\"anchor\": \"x\", \"domain\": [0.0, 1.0], \"title\": {\"text\": \"Total Thumbs up\"}}},                        {\"responsive\": true}                    ).then(function(){\n",
       "                            \n",
       "var gd = document.getElementById('69be2393-ffef-48b1-b5d5-81374acc262d');\n",
       "var x = new MutationObserver(function (mutations, observer) {{\n",
       "        var display = window.getComputedStyle(gd).display;\n",
       "        if (!display || display === 'none') {{\n",
       "            console.log([gd, 'removed!']);\n",
       "            Plotly.purge(gd);\n",
       "            observer.disconnect();\n",
       "        }}\n",
       "}});\n",
       "\n",
       "// Listen for the removal of the full notebook cells\n",
       "var notebookContainer = gd.closest('#notebook-container');\n",
       "if (notebookContainer) {{\n",
       "    x.observe(notebookContainer, {childList: true});\n",
       "}}\n",
       "\n",
       "// Listen for the clearing of the current output cell\n",
       "var outputEl = gd.closest('.output');\n",
       "if (outputEl) {{\n",
       "    x.observe(outputEl, {childList: true});\n",
       "}}\n",
       "\n",
       "                        })                };                });            </script>        </div>"
      ]
     },
     "metadata": {},
     "output_type": "display_data"
    },
    {
     "data": {
      "application/vnd.plotly.v1+json": {
       "config": {
        "plotlyServerURL": "https://plot.ly"
       },
       "data": [
        {
         "hovertemplate": "Post Day=%{x}<br>Total Thumbs Down=%{y}<extra></extra>",
         "legendgroup": "",
         "line": {
          "color": "#636efa",
          "dash": "solid"
         },
         "mode": "lines",
         "name": "",
         "orientation": "v",
         "showlegend": false,
         "type": "scatter",
         "x": [
          "2021-08-24T00:00:00",
          "2021-08-25T00:00:00",
          "2021-08-26T00:00:00",
          "2021-08-27T00:00:00",
          "2021-08-28T00:00:00",
          "2021-08-29T00:00:00",
          "2021-08-30T00:00:00",
          "2021-08-31T00:00:00",
          "2021-09-01T00:00:00",
          "2021-09-02T00:00:00",
          "2021-09-03T00:00:00"
         ],
         "xaxis": "x",
         "y": [
          355,
          1153,
          4048,
          4442,
          6391,
          7645,
          1166,
          98,
          161,
          52,
          75
         ],
         "yaxis": "y"
        }
       ],
       "layout": {
        "legend": {
         "tracegroupgap": 0
        },
        "margin": {
         "t": 60
        },
        "template": {
         "data": {
          "bar": [
           {
            "error_x": {
             "color": "#2a3f5f"
            },
            "error_y": {
             "color": "#2a3f5f"
            },
            "marker": {
             "line": {
              "color": "#E5ECF6",
              "width": 0.5
             }
            },
            "type": "bar"
           }
          ],
          "barpolar": [
           {
            "marker": {
             "line": {
              "color": "#E5ECF6",
              "width": 0.5
             }
            },
            "type": "barpolar"
           }
          ],
          "carpet": [
           {
            "aaxis": {
             "endlinecolor": "#2a3f5f",
             "gridcolor": "white",
             "linecolor": "white",
             "minorgridcolor": "white",
             "startlinecolor": "#2a3f5f"
            },
            "baxis": {
             "endlinecolor": "#2a3f5f",
             "gridcolor": "white",
             "linecolor": "white",
             "minorgridcolor": "white",
             "startlinecolor": "#2a3f5f"
            },
            "type": "carpet"
           }
          ],
          "choropleth": [
           {
            "colorbar": {
             "outlinewidth": 0,
             "ticks": ""
            },
            "type": "choropleth"
           }
          ],
          "contour": [
           {
            "colorbar": {
             "outlinewidth": 0,
             "ticks": ""
            },
            "colorscale": [
             [
              0,
              "#0d0887"
             ],
             [
              0.1111111111111111,
              "#46039f"
             ],
             [
              0.2222222222222222,
              "#7201a8"
             ],
             [
              0.3333333333333333,
              "#9c179e"
             ],
             [
              0.4444444444444444,
              "#bd3786"
             ],
             [
              0.5555555555555556,
              "#d8576b"
             ],
             [
              0.6666666666666666,
              "#ed7953"
             ],
             [
              0.7777777777777778,
              "#fb9f3a"
             ],
             [
              0.8888888888888888,
              "#fdca26"
             ],
             [
              1,
              "#f0f921"
             ]
            ],
            "type": "contour"
           }
          ],
          "contourcarpet": [
           {
            "colorbar": {
             "outlinewidth": 0,
             "ticks": ""
            },
            "type": "contourcarpet"
           }
          ],
          "heatmap": [
           {
            "colorbar": {
             "outlinewidth": 0,
             "ticks": ""
            },
            "colorscale": [
             [
              0,
              "#0d0887"
             ],
             [
              0.1111111111111111,
              "#46039f"
             ],
             [
              0.2222222222222222,
              "#7201a8"
             ],
             [
              0.3333333333333333,
              "#9c179e"
             ],
             [
              0.4444444444444444,
              "#bd3786"
             ],
             [
              0.5555555555555556,
              "#d8576b"
             ],
             [
              0.6666666666666666,
              "#ed7953"
             ],
             [
              0.7777777777777778,
              "#fb9f3a"
             ],
             [
              0.8888888888888888,
              "#fdca26"
             ],
             [
              1,
              "#f0f921"
             ]
            ],
            "type": "heatmap"
           }
          ],
          "heatmapgl": [
           {
            "colorbar": {
             "outlinewidth": 0,
             "ticks": ""
            },
            "colorscale": [
             [
              0,
              "#0d0887"
             ],
             [
              0.1111111111111111,
              "#46039f"
             ],
             [
              0.2222222222222222,
              "#7201a8"
             ],
             [
              0.3333333333333333,
              "#9c179e"
             ],
             [
              0.4444444444444444,
              "#bd3786"
             ],
             [
              0.5555555555555556,
              "#d8576b"
             ],
             [
              0.6666666666666666,
              "#ed7953"
             ],
             [
              0.7777777777777778,
              "#fb9f3a"
             ],
             [
              0.8888888888888888,
              "#fdca26"
             ],
             [
              1,
              "#f0f921"
             ]
            ],
            "type": "heatmapgl"
           }
          ],
          "histogram": [
           {
            "marker": {
             "colorbar": {
              "outlinewidth": 0,
              "ticks": ""
             }
            },
            "type": "histogram"
           }
          ],
          "histogram2d": [
           {
            "colorbar": {
             "outlinewidth": 0,
             "ticks": ""
            },
            "colorscale": [
             [
              0,
              "#0d0887"
             ],
             [
              0.1111111111111111,
              "#46039f"
             ],
             [
              0.2222222222222222,
              "#7201a8"
             ],
             [
              0.3333333333333333,
              "#9c179e"
             ],
             [
              0.4444444444444444,
              "#bd3786"
             ],
             [
              0.5555555555555556,
              "#d8576b"
             ],
             [
              0.6666666666666666,
              "#ed7953"
             ],
             [
              0.7777777777777778,
              "#fb9f3a"
             ],
             [
              0.8888888888888888,
              "#fdca26"
             ],
             [
              1,
              "#f0f921"
             ]
            ],
            "type": "histogram2d"
           }
          ],
          "histogram2dcontour": [
           {
            "colorbar": {
             "outlinewidth": 0,
             "ticks": ""
            },
            "colorscale": [
             [
              0,
              "#0d0887"
             ],
             [
              0.1111111111111111,
              "#46039f"
             ],
             [
              0.2222222222222222,
              "#7201a8"
             ],
             [
              0.3333333333333333,
              "#9c179e"
             ],
             [
              0.4444444444444444,
              "#bd3786"
             ],
             [
              0.5555555555555556,
              "#d8576b"
             ],
             [
              0.6666666666666666,
              "#ed7953"
             ],
             [
              0.7777777777777778,
              "#fb9f3a"
             ],
             [
              0.8888888888888888,
              "#fdca26"
             ],
             [
              1,
              "#f0f921"
             ]
            ],
            "type": "histogram2dcontour"
           }
          ],
          "mesh3d": [
           {
            "colorbar": {
             "outlinewidth": 0,
             "ticks": ""
            },
            "type": "mesh3d"
           }
          ],
          "parcoords": [
           {
            "line": {
             "colorbar": {
              "outlinewidth": 0,
              "ticks": ""
             }
            },
            "type": "parcoords"
           }
          ],
          "pie": [
           {
            "automargin": true,
            "type": "pie"
           }
          ],
          "scatter": [
           {
            "marker": {
             "colorbar": {
              "outlinewidth": 0,
              "ticks": ""
             }
            },
            "type": "scatter"
           }
          ],
          "scatter3d": [
           {
            "line": {
             "colorbar": {
              "outlinewidth": 0,
              "ticks": ""
             }
            },
            "marker": {
             "colorbar": {
              "outlinewidth": 0,
              "ticks": ""
             }
            },
            "type": "scatter3d"
           }
          ],
          "scattercarpet": [
           {
            "marker": {
             "colorbar": {
              "outlinewidth": 0,
              "ticks": ""
             }
            },
            "type": "scattercarpet"
           }
          ],
          "scattergeo": [
           {
            "marker": {
             "colorbar": {
              "outlinewidth": 0,
              "ticks": ""
             }
            },
            "type": "scattergeo"
           }
          ],
          "scattergl": [
           {
            "marker": {
             "colorbar": {
              "outlinewidth": 0,
              "ticks": ""
             }
            },
            "type": "scattergl"
           }
          ],
          "scattermapbox": [
           {
            "marker": {
             "colorbar": {
              "outlinewidth": 0,
              "ticks": ""
             }
            },
            "type": "scattermapbox"
           }
          ],
          "scatterpolar": [
           {
            "marker": {
             "colorbar": {
              "outlinewidth": 0,
              "ticks": ""
             }
            },
            "type": "scatterpolar"
           }
          ],
          "scatterpolargl": [
           {
            "marker": {
             "colorbar": {
              "outlinewidth": 0,
              "ticks": ""
             }
            },
            "type": "scatterpolargl"
           }
          ],
          "scatterternary": [
           {
            "marker": {
             "colorbar": {
              "outlinewidth": 0,
              "ticks": ""
             }
            },
            "type": "scatterternary"
           }
          ],
          "surface": [
           {
            "colorbar": {
             "outlinewidth": 0,
             "ticks": ""
            },
            "colorscale": [
             [
              0,
              "#0d0887"
             ],
             [
              0.1111111111111111,
              "#46039f"
             ],
             [
              0.2222222222222222,
              "#7201a8"
             ],
             [
              0.3333333333333333,
              "#9c179e"
             ],
             [
              0.4444444444444444,
              "#bd3786"
             ],
             [
              0.5555555555555556,
              "#d8576b"
             ],
             [
              0.6666666666666666,
              "#ed7953"
             ],
             [
              0.7777777777777778,
              "#fb9f3a"
             ],
             [
              0.8888888888888888,
              "#fdca26"
             ],
             [
              1,
              "#f0f921"
             ]
            ],
            "type": "surface"
           }
          ],
          "table": [
           {
            "cells": {
             "fill": {
              "color": "#EBF0F8"
             },
             "line": {
              "color": "white"
             }
            },
            "header": {
             "fill": {
              "color": "#C8D4E3"
             },
             "line": {
              "color": "white"
             }
            },
            "type": "table"
           }
          ]
         },
         "layout": {
          "annotationdefaults": {
           "arrowcolor": "#2a3f5f",
           "arrowhead": 0,
           "arrowwidth": 1
          },
          "coloraxis": {
           "colorbar": {
            "outlinewidth": 0,
            "ticks": ""
           }
          },
          "colorscale": {
           "diverging": [
            [
             0,
             "#8e0152"
            ],
            [
             0.1,
             "#c51b7d"
            ],
            [
             0.2,
             "#de77ae"
            ],
            [
             0.3,
             "#f1b6da"
            ],
            [
             0.4,
             "#fde0ef"
            ],
            [
             0.5,
             "#f7f7f7"
            ],
            [
             0.6,
             "#e6f5d0"
            ],
            [
             0.7,
             "#b8e186"
            ],
            [
             0.8,
             "#7fbc41"
            ],
            [
             0.9,
             "#4d9221"
            ],
            [
             1,
             "#276419"
            ]
           ],
           "sequential": [
            [
             0,
             "#0d0887"
            ],
            [
             0.1111111111111111,
             "#46039f"
            ],
            [
             0.2222222222222222,
             "#7201a8"
            ],
            [
             0.3333333333333333,
             "#9c179e"
            ],
            [
             0.4444444444444444,
             "#bd3786"
            ],
            [
             0.5555555555555556,
             "#d8576b"
            ],
            [
             0.6666666666666666,
             "#ed7953"
            ],
            [
             0.7777777777777778,
             "#fb9f3a"
            ],
            [
             0.8888888888888888,
             "#fdca26"
            ],
            [
             1,
             "#f0f921"
            ]
           ],
           "sequentialminus": [
            [
             0,
             "#0d0887"
            ],
            [
             0.1111111111111111,
             "#46039f"
            ],
            [
             0.2222222222222222,
             "#7201a8"
            ],
            [
             0.3333333333333333,
             "#9c179e"
            ],
            [
             0.4444444444444444,
             "#bd3786"
            ],
            [
             0.5555555555555556,
             "#d8576b"
            ],
            [
             0.6666666666666666,
             "#ed7953"
            ],
            [
             0.7777777777777778,
             "#fb9f3a"
            ],
            [
             0.8888888888888888,
             "#fdca26"
            ],
            [
             1,
             "#f0f921"
            ]
           ]
          },
          "colorway": [
           "#636efa",
           "#EF553B",
           "#00cc96",
           "#ab63fa",
           "#FFA15A",
           "#19d3f3",
           "#FF6692",
           "#B6E880",
           "#FF97FF",
           "#FECB52"
          ],
          "font": {
           "color": "#2a3f5f"
          },
          "geo": {
           "bgcolor": "white",
           "lakecolor": "white",
           "landcolor": "#E5ECF6",
           "showlakes": true,
           "showland": true,
           "subunitcolor": "white"
          },
          "hoverlabel": {
           "align": "left"
          },
          "hovermode": "closest",
          "mapbox": {
           "style": "light"
          },
          "paper_bgcolor": "white",
          "plot_bgcolor": "#E5ECF6",
          "polar": {
           "angularaxis": {
            "gridcolor": "white",
            "linecolor": "white",
            "ticks": ""
           },
           "bgcolor": "#E5ECF6",
           "radialaxis": {
            "gridcolor": "white",
            "linecolor": "white",
            "ticks": ""
           }
          },
          "scene": {
           "xaxis": {
            "backgroundcolor": "#E5ECF6",
            "gridcolor": "white",
            "gridwidth": 2,
            "linecolor": "white",
            "showbackground": true,
            "ticks": "",
            "zerolinecolor": "white"
           },
           "yaxis": {
            "backgroundcolor": "#E5ECF6",
            "gridcolor": "white",
            "gridwidth": 2,
            "linecolor": "white",
            "showbackground": true,
            "ticks": "",
            "zerolinecolor": "white"
           },
           "zaxis": {
            "backgroundcolor": "#E5ECF6",
            "gridcolor": "white",
            "gridwidth": 2,
            "linecolor": "white",
            "showbackground": true,
            "ticks": "",
            "zerolinecolor": "white"
           }
          },
          "shapedefaults": {
           "line": {
            "color": "#2a3f5f"
           }
          },
          "ternary": {
           "aaxis": {
            "gridcolor": "white",
            "linecolor": "white",
            "ticks": ""
           },
           "baxis": {
            "gridcolor": "white",
            "linecolor": "white",
            "ticks": ""
           },
           "bgcolor": "#E5ECF6",
           "caxis": {
            "gridcolor": "white",
            "linecolor": "white",
            "ticks": ""
           }
          },
          "title": {
           "x": 0.05
          },
          "xaxis": {
           "automargin": true,
           "gridcolor": "white",
           "linecolor": "white",
           "ticks": "",
           "title": {
            "standoff": 15
           },
           "zerolinecolor": "white",
           "zerolinewidth": 2
          },
          "yaxis": {
           "automargin": true,
           "gridcolor": "white",
           "linecolor": "white",
           "ticks": "",
           "title": {
            "standoff": 15
           },
           "zerolinecolor": "white",
           "zerolinewidth": 2
          }
         }
        },
        "xaxis": {
         "anchor": "y",
         "domain": [
          0,
          1
         ],
         "title": {
          "text": "Post Day"
         }
        },
        "yaxis": {
         "anchor": "x",
         "domain": [
          0,
          1
         ],
         "title": {
          "text": "Total Thumbs Down"
         }
        }
       }
      },
      "text/html": [
       "<div>                            <div id=\"eb0e3128-821b-4124-a9bf-782a9575f720\" class=\"plotly-graph-div\" style=\"height:525px; width:100%;\"></div>            <script type=\"text/javascript\">                require([\"plotly\"], function(Plotly) {                    window.PLOTLYENV=window.PLOTLYENV || {};                                    if (document.getElementById(\"eb0e3128-821b-4124-a9bf-782a9575f720\")) {                    Plotly.newPlot(                        \"eb0e3128-821b-4124-a9bf-782a9575f720\",                        [{\"hovertemplate\": \"Post Day=%{x}<br>Total Thumbs Down=%{y}<extra></extra>\", \"legendgroup\": \"\", \"line\": {\"color\": \"#636efa\", \"dash\": \"solid\"}, \"mode\": \"lines\", \"name\": \"\", \"orientation\": \"v\", \"showlegend\": false, \"type\": \"scatter\", \"x\": [\"2021-08-24T00:00:00\", \"2021-08-25T00:00:00\", \"2021-08-26T00:00:00\", \"2021-08-27T00:00:00\", \"2021-08-28T00:00:00\", \"2021-08-29T00:00:00\", \"2021-08-30T00:00:00\", \"2021-08-31T00:00:00\", \"2021-09-01T00:00:00\", \"2021-09-02T00:00:00\", \"2021-09-03T00:00:00\"], \"xaxis\": \"x\", \"y\": [355, 1153, 4048, 4442, 6391, 7645, 1166, 98, 161, 52, 75], \"yaxis\": \"y\"}],                        {\"legend\": {\"tracegroupgap\": 0}, \"margin\": {\"t\": 60}, \"template\": {\"data\": {\"bar\": [{\"error_x\": {\"color\": \"#2a3f5f\"}, \"error_y\": {\"color\": \"#2a3f5f\"}, \"marker\": {\"line\": {\"color\": \"#E5ECF6\", \"width\": 0.5}}, \"type\": \"bar\"}], \"barpolar\": [{\"marker\": {\"line\": {\"color\": \"#E5ECF6\", \"width\": 0.5}}, \"type\": \"barpolar\"}], \"carpet\": [{\"aaxis\": {\"endlinecolor\": \"#2a3f5f\", \"gridcolor\": \"white\", \"linecolor\": \"white\", \"minorgridcolor\": \"white\", \"startlinecolor\": \"#2a3f5f\"}, \"baxis\": {\"endlinecolor\": \"#2a3f5f\", \"gridcolor\": \"white\", \"linecolor\": \"white\", \"minorgridcolor\": \"white\", \"startlinecolor\": \"#2a3f5f\"}, \"type\": \"carpet\"}], \"choropleth\": [{\"colorbar\": {\"outlinewidth\": 0, \"ticks\": \"\"}, \"type\": \"choropleth\"}], \"contour\": [{\"colorbar\": {\"outlinewidth\": 0, \"ticks\": \"\"}, \"colorscale\": [[0.0, \"#0d0887\"], [0.1111111111111111, \"#46039f\"], [0.2222222222222222, \"#7201a8\"], [0.3333333333333333, \"#9c179e\"], [0.4444444444444444, \"#bd3786\"], [0.5555555555555556, \"#d8576b\"], [0.6666666666666666, \"#ed7953\"], [0.7777777777777778, \"#fb9f3a\"], [0.8888888888888888, \"#fdca26\"], [1.0, \"#f0f921\"]], \"type\": \"contour\"}], \"contourcarpet\": [{\"colorbar\": {\"outlinewidth\": 0, \"ticks\": \"\"}, \"type\": \"contourcarpet\"}], \"heatmap\": [{\"colorbar\": {\"outlinewidth\": 0, \"ticks\": \"\"}, \"colorscale\": [[0.0, \"#0d0887\"], [0.1111111111111111, \"#46039f\"], [0.2222222222222222, \"#7201a8\"], [0.3333333333333333, \"#9c179e\"], [0.4444444444444444, \"#bd3786\"], [0.5555555555555556, \"#d8576b\"], [0.6666666666666666, \"#ed7953\"], [0.7777777777777778, \"#fb9f3a\"], [0.8888888888888888, \"#fdca26\"], [1.0, \"#f0f921\"]], \"type\": \"heatmap\"}], \"heatmapgl\": [{\"colorbar\": {\"outlinewidth\": 0, \"ticks\": \"\"}, \"colorscale\": [[0.0, \"#0d0887\"], [0.1111111111111111, \"#46039f\"], [0.2222222222222222, \"#7201a8\"], [0.3333333333333333, \"#9c179e\"], [0.4444444444444444, \"#bd3786\"], [0.5555555555555556, \"#d8576b\"], [0.6666666666666666, \"#ed7953\"], [0.7777777777777778, \"#fb9f3a\"], [0.8888888888888888, \"#fdca26\"], [1.0, \"#f0f921\"]], \"type\": \"heatmapgl\"}], \"histogram\": [{\"marker\": {\"colorbar\": {\"outlinewidth\": 0, \"ticks\": \"\"}}, \"type\": \"histogram\"}], \"histogram2d\": [{\"colorbar\": {\"outlinewidth\": 0, \"ticks\": \"\"}, \"colorscale\": [[0.0, \"#0d0887\"], [0.1111111111111111, \"#46039f\"], [0.2222222222222222, \"#7201a8\"], [0.3333333333333333, \"#9c179e\"], [0.4444444444444444, \"#bd3786\"], [0.5555555555555556, \"#d8576b\"], [0.6666666666666666, \"#ed7953\"], [0.7777777777777778, \"#fb9f3a\"], [0.8888888888888888, \"#fdca26\"], [1.0, \"#f0f921\"]], \"type\": \"histogram2d\"}], \"histogram2dcontour\": [{\"colorbar\": {\"outlinewidth\": 0, \"ticks\": \"\"}, \"colorscale\": [[0.0, \"#0d0887\"], [0.1111111111111111, \"#46039f\"], [0.2222222222222222, \"#7201a8\"], [0.3333333333333333, \"#9c179e\"], [0.4444444444444444, \"#bd3786\"], [0.5555555555555556, \"#d8576b\"], [0.6666666666666666, \"#ed7953\"], [0.7777777777777778, \"#fb9f3a\"], [0.8888888888888888, \"#fdca26\"], [1.0, \"#f0f921\"]], \"type\": \"histogram2dcontour\"}], \"mesh3d\": [{\"colorbar\": {\"outlinewidth\": 0, \"ticks\": \"\"}, \"type\": \"mesh3d\"}], \"parcoords\": [{\"line\": {\"colorbar\": {\"outlinewidth\": 0, \"ticks\": \"\"}}, \"type\": \"parcoords\"}], \"pie\": [{\"automargin\": true, \"type\": \"pie\"}], \"scatter\": [{\"marker\": {\"colorbar\": {\"outlinewidth\": 0, \"ticks\": \"\"}}, \"type\": \"scatter\"}], \"scatter3d\": [{\"line\": {\"colorbar\": {\"outlinewidth\": 0, \"ticks\": \"\"}}, \"marker\": {\"colorbar\": {\"outlinewidth\": 0, \"ticks\": \"\"}}, \"type\": \"scatter3d\"}], \"scattercarpet\": [{\"marker\": {\"colorbar\": {\"outlinewidth\": 0, \"ticks\": \"\"}}, \"type\": \"scattercarpet\"}], \"scattergeo\": [{\"marker\": {\"colorbar\": {\"outlinewidth\": 0, \"ticks\": \"\"}}, \"type\": \"scattergeo\"}], \"scattergl\": [{\"marker\": {\"colorbar\": {\"outlinewidth\": 0, \"ticks\": \"\"}}, \"type\": \"scattergl\"}], \"scattermapbox\": [{\"marker\": {\"colorbar\": {\"outlinewidth\": 0, \"ticks\": \"\"}}, \"type\": \"scattermapbox\"}], \"scatterpolar\": [{\"marker\": {\"colorbar\": {\"outlinewidth\": 0, \"ticks\": \"\"}}, \"type\": \"scatterpolar\"}], \"scatterpolargl\": [{\"marker\": {\"colorbar\": {\"outlinewidth\": 0, \"ticks\": \"\"}}, \"type\": \"scatterpolargl\"}], \"scatterternary\": [{\"marker\": {\"colorbar\": {\"outlinewidth\": 0, \"ticks\": \"\"}}, \"type\": \"scatterternary\"}], \"surface\": [{\"colorbar\": {\"outlinewidth\": 0, \"ticks\": \"\"}, \"colorscale\": [[0.0, \"#0d0887\"], [0.1111111111111111, \"#46039f\"], [0.2222222222222222, \"#7201a8\"], [0.3333333333333333, \"#9c179e\"], [0.4444444444444444, \"#bd3786\"], [0.5555555555555556, \"#d8576b\"], [0.6666666666666666, \"#ed7953\"], [0.7777777777777778, \"#fb9f3a\"], [0.8888888888888888, \"#fdca26\"], [1.0, \"#f0f921\"]], \"type\": \"surface\"}], \"table\": [{\"cells\": {\"fill\": {\"color\": \"#EBF0F8\"}, \"line\": {\"color\": \"white\"}}, \"header\": {\"fill\": {\"color\": \"#C8D4E3\"}, \"line\": {\"color\": \"white\"}}, \"type\": \"table\"}]}, \"layout\": {\"annotationdefaults\": {\"arrowcolor\": \"#2a3f5f\", \"arrowhead\": 0, \"arrowwidth\": 1}, \"coloraxis\": {\"colorbar\": {\"outlinewidth\": 0, \"ticks\": \"\"}}, \"colorscale\": {\"diverging\": [[0, \"#8e0152\"], [0.1, \"#c51b7d\"], [0.2, \"#de77ae\"], [0.3, \"#f1b6da\"], [0.4, \"#fde0ef\"], [0.5, \"#f7f7f7\"], [0.6, \"#e6f5d0\"], [0.7, \"#b8e186\"], [0.8, \"#7fbc41\"], [0.9, \"#4d9221\"], [1, \"#276419\"]], \"sequential\": [[0.0, \"#0d0887\"], [0.1111111111111111, \"#46039f\"], [0.2222222222222222, \"#7201a8\"], [0.3333333333333333, \"#9c179e\"], [0.4444444444444444, \"#bd3786\"], [0.5555555555555556, \"#d8576b\"], [0.6666666666666666, \"#ed7953\"], [0.7777777777777778, \"#fb9f3a\"], [0.8888888888888888, \"#fdca26\"], [1.0, \"#f0f921\"]], \"sequentialminus\": [[0.0, \"#0d0887\"], [0.1111111111111111, \"#46039f\"], [0.2222222222222222, \"#7201a8\"], [0.3333333333333333, \"#9c179e\"], [0.4444444444444444, \"#bd3786\"], [0.5555555555555556, \"#d8576b\"], [0.6666666666666666, \"#ed7953\"], [0.7777777777777778, \"#fb9f3a\"], [0.8888888888888888, \"#fdca26\"], [1.0, \"#f0f921\"]]}, \"colorway\": [\"#636efa\", \"#EF553B\", \"#00cc96\", \"#ab63fa\", \"#FFA15A\", \"#19d3f3\", \"#FF6692\", \"#B6E880\", \"#FF97FF\", \"#FECB52\"], \"font\": {\"color\": \"#2a3f5f\"}, \"geo\": {\"bgcolor\": \"white\", \"lakecolor\": \"white\", \"landcolor\": \"#E5ECF6\", \"showlakes\": true, \"showland\": true, \"subunitcolor\": \"white\"}, \"hoverlabel\": {\"align\": \"left\"}, \"hovermode\": \"closest\", \"mapbox\": {\"style\": \"light\"}, \"paper_bgcolor\": \"white\", \"plot_bgcolor\": \"#E5ECF6\", \"polar\": {\"angularaxis\": {\"gridcolor\": \"white\", \"linecolor\": \"white\", \"ticks\": \"\"}, \"bgcolor\": \"#E5ECF6\", \"radialaxis\": {\"gridcolor\": \"white\", \"linecolor\": \"white\", \"ticks\": \"\"}}, \"scene\": {\"xaxis\": {\"backgroundcolor\": \"#E5ECF6\", \"gridcolor\": \"white\", \"gridwidth\": 2, \"linecolor\": \"white\", \"showbackground\": true, \"ticks\": \"\", \"zerolinecolor\": \"white\"}, \"yaxis\": {\"backgroundcolor\": \"#E5ECF6\", \"gridcolor\": \"white\", \"gridwidth\": 2, \"linecolor\": \"white\", \"showbackground\": true, \"ticks\": \"\", \"zerolinecolor\": \"white\"}, \"zaxis\": {\"backgroundcolor\": \"#E5ECF6\", \"gridcolor\": \"white\", \"gridwidth\": 2, \"linecolor\": \"white\", \"showbackground\": true, \"ticks\": \"\", \"zerolinecolor\": \"white\"}}, \"shapedefaults\": {\"line\": {\"color\": \"#2a3f5f\"}}, \"ternary\": {\"aaxis\": {\"gridcolor\": \"white\", \"linecolor\": \"white\", \"ticks\": \"\"}, \"baxis\": {\"gridcolor\": \"white\", \"linecolor\": \"white\", \"ticks\": \"\"}, \"bgcolor\": \"#E5ECF6\", \"caxis\": {\"gridcolor\": \"white\", \"linecolor\": \"white\", \"ticks\": \"\"}}, \"title\": {\"x\": 0.05}, \"xaxis\": {\"automargin\": true, \"gridcolor\": \"white\", \"linecolor\": \"white\", \"ticks\": \"\", \"title\": {\"standoff\": 15}, \"zerolinecolor\": \"white\", \"zerolinewidth\": 2}, \"yaxis\": {\"automargin\": true, \"gridcolor\": \"white\", \"linecolor\": \"white\", \"ticks\": \"\", \"title\": {\"standoff\": 15}, \"zerolinecolor\": \"white\", \"zerolinewidth\": 2}}}, \"xaxis\": {\"anchor\": \"y\", \"domain\": [0.0, 1.0], \"title\": {\"text\": \"Post Day\"}}, \"yaxis\": {\"anchor\": \"x\", \"domain\": [0.0, 1.0], \"title\": {\"text\": \"Total Thumbs Down\"}}},                        {\"responsive\": true}                    ).then(function(){\n",
       "                            \n",
       "var gd = document.getElementById('eb0e3128-821b-4124-a9bf-782a9575f720');\n",
       "var x = new MutationObserver(function (mutations, observer) {{\n",
       "        var display = window.getComputedStyle(gd).display;\n",
       "        if (!display || display === 'none') {{\n",
       "            console.log([gd, 'removed!']);\n",
       "            Plotly.purge(gd);\n",
       "            observer.disconnect();\n",
       "        }}\n",
       "}});\n",
       "\n",
       "// Listen for the removal of the full notebook cells\n",
       "var notebookContainer = gd.closest('#notebook-container');\n",
       "if (notebookContainer) {{\n",
       "    x.observe(notebookContainer, {childList: true});\n",
       "}}\n",
       "\n",
       "// Listen for the clearing of the current output cell\n",
       "var outputEl = gd.closest('.output');\n",
       "if (outputEl) {{\n",
       "    x.observe(outputEl, {childList: true});\n",
       "}}\n",
       "\n",
       "                        })                };                });            </script>        </div>"
      ]
     },
     "metadata": {},
     "output_type": "display_data"
    },
    {
     "data": {
      "application/vnd.plotly.v1+json": {
       "config": {
        "plotlyServerURL": "https://plot.ly"
       },
       "data": [
        {
         "hovertemplate": "Post Day=%{x}<br>Total Reactions=%{y}<extra></extra>",
         "legendgroup": "",
         "line": {
          "color": "#636efa",
          "dash": "solid"
         },
         "mode": "lines",
         "name": "",
         "orientation": "v",
         "showlegend": false,
         "type": "scatter",
         "x": [
          "2021-08-24T00:00:00",
          "2021-08-25T00:00:00",
          "2021-08-26T00:00:00",
          "2021-08-27T00:00:00",
          "2021-08-28T00:00:00",
          "2021-08-29T00:00:00",
          "2021-08-30T00:00:00",
          "2021-08-31T00:00:00",
          "2021-09-01T00:00:00",
          "2021-09-02T00:00:00",
          "2021-09-03T00:00:00"
         ],
         "xaxis": "x",
         "y": [
          1472,
          7920,
          17856,
          25270,
          31865,
          56935,
          9293,
          1278,
          1646,
          508,
          283
         ],
         "yaxis": "y"
        }
       ],
       "layout": {
        "legend": {
         "tracegroupgap": 0
        },
        "margin": {
         "t": 60
        },
        "template": {
         "data": {
          "bar": [
           {
            "error_x": {
             "color": "#2a3f5f"
            },
            "error_y": {
             "color": "#2a3f5f"
            },
            "marker": {
             "line": {
              "color": "#E5ECF6",
              "width": 0.5
             }
            },
            "type": "bar"
           }
          ],
          "barpolar": [
           {
            "marker": {
             "line": {
              "color": "#E5ECF6",
              "width": 0.5
             }
            },
            "type": "barpolar"
           }
          ],
          "carpet": [
           {
            "aaxis": {
             "endlinecolor": "#2a3f5f",
             "gridcolor": "white",
             "linecolor": "white",
             "minorgridcolor": "white",
             "startlinecolor": "#2a3f5f"
            },
            "baxis": {
             "endlinecolor": "#2a3f5f",
             "gridcolor": "white",
             "linecolor": "white",
             "minorgridcolor": "white",
             "startlinecolor": "#2a3f5f"
            },
            "type": "carpet"
           }
          ],
          "choropleth": [
           {
            "colorbar": {
             "outlinewidth": 0,
             "ticks": ""
            },
            "type": "choropleth"
           }
          ],
          "contour": [
           {
            "colorbar": {
             "outlinewidth": 0,
             "ticks": ""
            },
            "colorscale": [
             [
              0,
              "#0d0887"
             ],
             [
              0.1111111111111111,
              "#46039f"
             ],
             [
              0.2222222222222222,
              "#7201a8"
             ],
             [
              0.3333333333333333,
              "#9c179e"
             ],
             [
              0.4444444444444444,
              "#bd3786"
             ],
             [
              0.5555555555555556,
              "#d8576b"
             ],
             [
              0.6666666666666666,
              "#ed7953"
             ],
             [
              0.7777777777777778,
              "#fb9f3a"
             ],
             [
              0.8888888888888888,
              "#fdca26"
             ],
             [
              1,
              "#f0f921"
             ]
            ],
            "type": "contour"
           }
          ],
          "contourcarpet": [
           {
            "colorbar": {
             "outlinewidth": 0,
             "ticks": ""
            },
            "type": "contourcarpet"
           }
          ],
          "heatmap": [
           {
            "colorbar": {
             "outlinewidth": 0,
             "ticks": ""
            },
            "colorscale": [
             [
              0,
              "#0d0887"
             ],
             [
              0.1111111111111111,
              "#46039f"
             ],
             [
              0.2222222222222222,
              "#7201a8"
             ],
             [
              0.3333333333333333,
              "#9c179e"
             ],
             [
              0.4444444444444444,
              "#bd3786"
             ],
             [
              0.5555555555555556,
              "#d8576b"
             ],
             [
              0.6666666666666666,
              "#ed7953"
             ],
             [
              0.7777777777777778,
              "#fb9f3a"
             ],
             [
              0.8888888888888888,
              "#fdca26"
             ],
             [
              1,
              "#f0f921"
             ]
            ],
            "type": "heatmap"
           }
          ],
          "heatmapgl": [
           {
            "colorbar": {
             "outlinewidth": 0,
             "ticks": ""
            },
            "colorscale": [
             [
              0,
              "#0d0887"
             ],
             [
              0.1111111111111111,
              "#46039f"
             ],
             [
              0.2222222222222222,
              "#7201a8"
             ],
             [
              0.3333333333333333,
              "#9c179e"
             ],
             [
              0.4444444444444444,
              "#bd3786"
             ],
             [
              0.5555555555555556,
              "#d8576b"
             ],
             [
              0.6666666666666666,
              "#ed7953"
             ],
             [
              0.7777777777777778,
              "#fb9f3a"
             ],
             [
              0.8888888888888888,
              "#fdca26"
             ],
             [
              1,
              "#f0f921"
             ]
            ],
            "type": "heatmapgl"
           }
          ],
          "histogram": [
           {
            "marker": {
             "colorbar": {
              "outlinewidth": 0,
              "ticks": ""
             }
            },
            "type": "histogram"
           }
          ],
          "histogram2d": [
           {
            "colorbar": {
             "outlinewidth": 0,
             "ticks": ""
            },
            "colorscale": [
             [
              0,
              "#0d0887"
             ],
             [
              0.1111111111111111,
              "#46039f"
             ],
             [
              0.2222222222222222,
              "#7201a8"
             ],
             [
              0.3333333333333333,
              "#9c179e"
             ],
             [
              0.4444444444444444,
              "#bd3786"
             ],
             [
              0.5555555555555556,
              "#d8576b"
             ],
             [
              0.6666666666666666,
              "#ed7953"
             ],
             [
              0.7777777777777778,
              "#fb9f3a"
             ],
             [
              0.8888888888888888,
              "#fdca26"
             ],
             [
              1,
              "#f0f921"
             ]
            ],
            "type": "histogram2d"
           }
          ],
          "histogram2dcontour": [
           {
            "colorbar": {
             "outlinewidth": 0,
             "ticks": ""
            },
            "colorscale": [
             [
              0,
              "#0d0887"
             ],
             [
              0.1111111111111111,
              "#46039f"
             ],
             [
              0.2222222222222222,
              "#7201a8"
             ],
             [
              0.3333333333333333,
              "#9c179e"
             ],
             [
              0.4444444444444444,
              "#bd3786"
             ],
             [
              0.5555555555555556,
              "#d8576b"
             ],
             [
              0.6666666666666666,
              "#ed7953"
             ],
             [
              0.7777777777777778,
              "#fb9f3a"
             ],
             [
              0.8888888888888888,
              "#fdca26"
             ],
             [
              1,
              "#f0f921"
             ]
            ],
            "type": "histogram2dcontour"
           }
          ],
          "mesh3d": [
           {
            "colorbar": {
             "outlinewidth": 0,
             "ticks": ""
            },
            "type": "mesh3d"
           }
          ],
          "parcoords": [
           {
            "line": {
             "colorbar": {
              "outlinewidth": 0,
              "ticks": ""
             }
            },
            "type": "parcoords"
           }
          ],
          "pie": [
           {
            "automargin": true,
            "type": "pie"
           }
          ],
          "scatter": [
           {
            "marker": {
             "colorbar": {
              "outlinewidth": 0,
              "ticks": ""
             }
            },
            "type": "scatter"
           }
          ],
          "scatter3d": [
           {
            "line": {
             "colorbar": {
              "outlinewidth": 0,
              "ticks": ""
             }
            },
            "marker": {
             "colorbar": {
              "outlinewidth": 0,
              "ticks": ""
             }
            },
            "type": "scatter3d"
           }
          ],
          "scattercarpet": [
           {
            "marker": {
             "colorbar": {
              "outlinewidth": 0,
              "ticks": ""
             }
            },
            "type": "scattercarpet"
           }
          ],
          "scattergeo": [
           {
            "marker": {
             "colorbar": {
              "outlinewidth": 0,
              "ticks": ""
             }
            },
            "type": "scattergeo"
           }
          ],
          "scattergl": [
           {
            "marker": {
             "colorbar": {
              "outlinewidth": 0,
              "ticks": ""
             }
            },
            "type": "scattergl"
           }
          ],
          "scattermapbox": [
           {
            "marker": {
             "colorbar": {
              "outlinewidth": 0,
              "ticks": ""
             }
            },
            "type": "scattermapbox"
           }
          ],
          "scatterpolar": [
           {
            "marker": {
             "colorbar": {
              "outlinewidth": 0,
              "ticks": ""
             }
            },
            "type": "scatterpolar"
           }
          ],
          "scatterpolargl": [
           {
            "marker": {
             "colorbar": {
              "outlinewidth": 0,
              "ticks": ""
             }
            },
            "type": "scatterpolargl"
           }
          ],
          "scatterternary": [
           {
            "marker": {
             "colorbar": {
              "outlinewidth": 0,
              "ticks": ""
             }
            },
            "type": "scatterternary"
           }
          ],
          "surface": [
           {
            "colorbar": {
             "outlinewidth": 0,
             "ticks": ""
            },
            "colorscale": [
             [
              0,
              "#0d0887"
             ],
             [
              0.1111111111111111,
              "#46039f"
             ],
             [
              0.2222222222222222,
              "#7201a8"
             ],
             [
              0.3333333333333333,
              "#9c179e"
             ],
             [
              0.4444444444444444,
              "#bd3786"
             ],
             [
              0.5555555555555556,
              "#d8576b"
             ],
             [
              0.6666666666666666,
              "#ed7953"
             ],
             [
              0.7777777777777778,
              "#fb9f3a"
             ],
             [
              0.8888888888888888,
              "#fdca26"
             ],
             [
              1,
              "#f0f921"
             ]
            ],
            "type": "surface"
           }
          ],
          "table": [
           {
            "cells": {
             "fill": {
              "color": "#EBF0F8"
             },
             "line": {
              "color": "white"
             }
            },
            "header": {
             "fill": {
              "color": "#C8D4E3"
             },
             "line": {
              "color": "white"
             }
            },
            "type": "table"
           }
          ]
         },
         "layout": {
          "annotationdefaults": {
           "arrowcolor": "#2a3f5f",
           "arrowhead": 0,
           "arrowwidth": 1
          },
          "coloraxis": {
           "colorbar": {
            "outlinewidth": 0,
            "ticks": ""
           }
          },
          "colorscale": {
           "diverging": [
            [
             0,
             "#8e0152"
            ],
            [
             0.1,
             "#c51b7d"
            ],
            [
             0.2,
             "#de77ae"
            ],
            [
             0.3,
             "#f1b6da"
            ],
            [
             0.4,
             "#fde0ef"
            ],
            [
             0.5,
             "#f7f7f7"
            ],
            [
             0.6,
             "#e6f5d0"
            ],
            [
             0.7,
             "#b8e186"
            ],
            [
             0.8,
             "#7fbc41"
            ],
            [
             0.9,
             "#4d9221"
            ],
            [
             1,
             "#276419"
            ]
           ],
           "sequential": [
            [
             0,
             "#0d0887"
            ],
            [
             0.1111111111111111,
             "#46039f"
            ],
            [
             0.2222222222222222,
             "#7201a8"
            ],
            [
             0.3333333333333333,
             "#9c179e"
            ],
            [
             0.4444444444444444,
             "#bd3786"
            ],
            [
             0.5555555555555556,
             "#d8576b"
            ],
            [
             0.6666666666666666,
             "#ed7953"
            ],
            [
             0.7777777777777778,
             "#fb9f3a"
            ],
            [
             0.8888888888888888,
             "#fdca26"
            ],
            [
             1,
             "#f0f921"
            ]
           ],
           "sequentialminus": [
            [
             0,
             "#0d0887"
            ],
            [
             0.1111111111111111,
             "#46039f"
            ],
            [
             0.2222222222222222,
             "#7201a8"
            ],
            [
             0.3333333333333333,
             "#9c179e"
            ],
            [
             0.4444444444444444,
             "#bd3786"
            ],
            [
             0.5555555555555556,
             "#d8576b"
            ],
            [
             0.6666666666666666,
             "#ed7953"
            ],
            [
             0.7777777777777778,
             "#fb9f3a"
            ],
            [
             0.8888888888888888,
             "#fdca26"
            ],
            [
             1,
             "#f0f921"
            ]
           ]
          },
          "colorway": [
           "#636efa",
           "#EF553B",
           "#00cc96",
           "#ab63fa",
           "#FFA15A",
           "#19d3f3",
           "#FF6692",
           "#B6E880",
           "#FF97FF",
           "#FECB52"
          ],
          "font": {
           "color": "#2a3f5f"
          },
          "geo": {
           "bgcolor": "white",
           "lakecolor": "white",
           "landcolor": "#E5ECF6",
           "showlakes": true,
           "showland": true,
           "subunitcolor": "white"
          },
          "hoverlabel": {
           "align": "left"
          },
          "hovermode": "closest",
          "mapbox": {
           "style": "light"
          },
          "paper_bgcolor": "white",
          "plot_bgcolor": "#E5ECF6",
          "polar": {
           "angularaxis": {
            "gridcolor": "white",
            "linecolor": "white",
            "ticks": ""
           },
           "bgcolor": "#E5ECF6",
           "radialaxis": {
            "gridcolor": "white",
            "linecolor": "white",
            "ticks": ""
           }
          },
          "scene": {
           "xaxis": {
            "backgroundcolor": "#E5ECF6",
            "gridcolor": "white",
            "gridwidth": 2,
            "linecolor": "white",
            "showbackground": true,
            "ticks": "",
            "zerolinecolor": "white"
           },
           "yaxis": {
            "backgroundcolor": "#E5ECF6",
            "gridcolor": "white",
            "gridwidth": 2,
            "linecolor": "white",
            "showbackground": true,
            "ticks": "",
            "zerolinecolor": "white"
           },
           "zaxis": {
            "backgroundcolor": "#E5ECF6",
            "gridcolor": "white",
            "gridwidth": 2,
            "linecolor": "white",
            "showbackground": true,
            "ticks": "",
            "zerolinecolor": "white"
           }
          },
          "shapedefaults": {
           "line": {
            "color": "#2a3f5f"
           }
          },
          "ternary": {
           "aaxis": {
            "gridcolor": "white",
            "linecolor": "white",
            "ticks": ""
           },
           "baxis": {
            "gridcolor": "white",
            "linecolor": "white",
            "ticks": ""
           },
           "bgcolor": "#E5ECF6",
           "caxis": {
            "gridcolor": "white",
            "linecolor": "white",
            "ticks": ""
           }
          },
          "title": {
           "x": 0.05
          },
          "xaxis": {
           "automargin": true,
           "gridcolor": "white",
           "linecolor": "white",
           "ticks": "",
           "title": {
            "standoff": 15
           },
           "zerolinecolor": "white",
           "zerolinewidth": 2
          },
          "yaxis": {
           "automargin": true,
           "gridcolor": "white",
           "linecolor": "white",
           "ticks": "",
           "title": {
            "standoff": 15
           },
           "zerolinecolor": "white",
           "zerolinewidth": 2
          }
         }
        },
        "xaxis": {
         "anchor": "y",
         "domain": [
          0,
          1
         ],
         "title": {
          "text": "Post Day"
         }
        },
        "yaxis": {
         "anchor": "x",
         "domain": [
          0,
          1
         ],
         "title": {
          "text": "Total Reactions"
         }
        }
       }
      },
      "text/html": [
       "<div>                            <div id=\"a4b5760e-4267-49de-932f-831c4dc2c81d\" class=\"plotly-graph-div\" style=\"height:525px; width:100%;\"></div>            <script type=\"text/javascript\">                require([\"plotly\"], function(Plotly) {                    window.PLOTLYENV=window.PLOTLYENV || {};                                    if (document.getElementById(\"a4b5760e-4267-49de-932f-831c4dc2c81d\")) {                    Plotly.newPlot(                        \"a4b5760e-4267-49de-932f-831c4dc2c81d\",                        [{\"hovertemplate\": \"Post Day=%{x}<br>Total Reactions=%{y}<extra></extra>\", \"legendgroup\": \"\", \"line\": {\"color\": \"#636efa\", \"dash\": \"solid\"}, \"mode\": \"lines\", \"name\": \"\", \"orientation\": \"v\", \"showlegend\": false, \"type\": \"scatter\", \"x\": [\"2021-08-24T00:00:00\", \"2021-08-25T00:00:00\", \"2021-08-26T00:00:00\", \"2021-08-27T00:00:00\", \"2021-08-28T00:00:00\", \"2021-08-29T00:00:00\", \"2021-08-30T00:00:00\", \"2021-08-31T00:00:00\", \"2021-09-01T00:00:00\", \"2021-09-02T00:00:00\", \"2021-09-03T00:00:00\"], \"xaxis\": \"x\", \"y\": [1472, 7920, 17856, 25270, 31865, 56935, 9293, 1278, 1646, 508, 283], \"yaxis\": \"y\"}],                        {\"legend\": {\"tracegroupgap\": 0}, \"margin\": {\"t\": 60}, \"template\": {\"data\": {\"bar\": [{\"error_x\": {\"color\": \"#2a3f5f\"}, \"error_y\": {\"color\": \"#2a3f5f\"}, \"marker\": {\"line\": {\"color\": \"#E5ECF6\", \"width\": 0.5}}, \"type\": \"bar\"}], \"barpolar\": [{\"marker\": {\"line\": {\"color\": \"#E5ECF6\", \"width\": 0.5}}, \"type\": \"barpolar\"}], \"carpet\": [{\"aaxis\": {\"endlinecolor\": \"#2a3f5f\", \"gridcolor\": \"white\", \"linecolor\": \"white\", \"minorgridcolor\": \"white\", \"startlinecolor\": \"#2a3f5f\"}, \"baxis\": {\"endlinecolor\": \"#2a3f5f\", \"gridcolor\": \"white\", \"linecolor\": \"white\", \"minorgridcolor\": \"white\", \"startlinecolor\": \"#2a3f5f\"}, \"type\": \"carpet\"}], \"choropleth\": [{\"colorbar\": {\"outlinewidth\": 0, \"ticks\": \"\"}, \"type\": \"choropleth\"}], \"contour\": [{\"colorbar\": {\"outlinewidth\": 0, \"ticks\": \"\"}, \"colorscale\": [[0.0, \"#0d0887\"], [0.1111111111111111, \"#46039f\"], [0.2222222222222222, \"#7201a8\"], [0.3333333333333333, \"#9c179e\"], [0.4444444444444444, \"#bd3786\"], [0.5555555555555556, \"#d8576b\"], [0.6666666666666666, \"#ed7953\"], [0.7777777777777778, \"#fb9f3a\"], [0.8888888888888888, \"#fdca26\"], [1.0, \"#f0f921\"]], \"type\": \"contour\"}], \"contourcarpet\": [{\"colorbar\": {\"outlinewidth\": 0, \"ticks\": \"\"}, \"type\": \"contourcarpet\"}], \"heatmap\": [{\"colorbar\": {\"outlinewidth\": 0, \"ticks\": \"\"}, \"colorscale\": [[0.0, \"#0d0887\"], [0.1111111111111111, \"#46039f\"], [0.2222222222222222, \"#7201a8\"], [0.3333333333333333, \"#9c179e\"], [0.4444444444444444, \"#bd3786\"], [0.5555555555555556, \"#d8576b\"], [0.6666666666666666, \"#ed7953\"], [0.7777777777777778, \"#fb9f3a\"], [0.8888888888888888, \"#fdca26\"], [1.0, \"#f0f921\"]], \"type\": \"heatmap\"}], \"heatmapgl\": [{\"colorbar\": {\"outlinewidth\": 0, \"ticks\": \"\"}, \"colorscale\": [[0.0, \"#0d0887\"], [0.1111111111111111, \"#46039f\"], [0.2222222222222222, \"#7201a8\"], [0.3333333333333333, \"#9c179e\"], [0.4444444444444444, \"#bd3786\"], [0.5555555555555556, \"#d8576b\"], [0.6666666666666666, \"#ed7953\"], [0.7777777777777778, \"#fb9f3a\"], [0.8888888888888888, \"#fdca26\"], [1.0, \"#f0f921\"]], \"type\": \"heatmapgl\"}], \"histogram\": [{\"marker\": {\"colorbar\": {\"outlinewidth\": 0, \"ticks\": \"\"}}, \"type\": \"histogram\"}], \"histogram2d\": [{\"colorbar\": {\"outlinewidth\": 0, \"ticks\": \"\"}, \"colorscale\": [[0.0, \"#0d0887\"], [0.1111111111111111, \"#46039f\"], [0.2222222222222222, \"#7201a8\"], [0.3333333333333333, \"#9c179e\"], [0.4444444444444444, \"#bd3786\"], [0.5555555555555556, \"#d8576b\"], [0.6666666666666666, \"#ed7953\"], [0.7777777777777778, \"#fb9f3a\"], [0.8888888888888888, \"#fdca26\"], [1.0, \"#f0f921\"]], \"type\": \"histogram2d\"}], \"histogram2dcontour\": [{\"colorbar\": {\"outlinewidth\": 0, \"ticks\": \"\"}, \"colorscale\": [[0.0, \"#0d0887\"], [0.1111111111111111, \"#46039f\"], [0.2222222222222222, \"#7201a8\"], [0.3333333333333333, \"#9c179e\"], [0.4444444444444444, \"#bd3786\"], [0.5555555555555556, \"#d8576b\"], [0.6666666666666666, \"#ed7953\"], [0.7777777777777778, \"#fb9f3a\"], [0.8888888888888888, \"#fdca26\"], [1.0, \"#f0f921\"]], \"type\": \"histogram2dcontour\"}], \"mesh3d\": [{\"colorbar\": {\"outlinewidth\": 0, \"ticks\": \"\"}, \"type\": \"mesh3d\"}], \"parcoords\": [{\"line\": {\"colorbar\": {\"outlinewidth\": 0, \"ticks\": \"\"}}, \"type\": \"parcoords\"}], \"pie\": [{\"automargin\": true, \"type\": \"pie\"}], \"scatter\": [{\"marker\": {\"colorbar\": {\"outlinewidth\": 0, \"ticks\": \"\"}}, \"type\": \"scatter\"}], \"scatter3d\": [{\"line\": {\"colorbar\": {\"outlinewidth\": 0, \"ticks\": \"\"}}, \"marker\": {\"colorbar\": {\"outlinewidth\": 0, \"ticks\": \"\"}}, \"type\": \"scatter3d\"}], \"scattercarpet\": [{\"marker\": {\"colorbar\": {\"outlinewidth\": 0, \"ticks\": \"\"}}, \"type\": \"scattercarpet\"}], \"scattergeo\": [{\"marker\": {\"colorbar\": {\"outlinewidth\": 0, \"ticks\": \"\"}}, \"type\": \"scattergeo\"}], \"scattergl\": [{\"marker\": {\"colorbar\": {\"outlinewidth\": 0, \"ticks\": \"\"}}, \"type\": \"scattergl\"}], \"scattermapbox\": [{\"marker\": {\"colorbar\": {\"outlinewidth\": 0, \"ticks\": \"\"}}, \"type\": \"scattermapbox\"}], \"scatterpolar\": [{\"marker\": {\"colorbar\": {\"outlinewidth\": 0, \"ticks\": \"\"}}, \"type\": \"scatterpolar\"}], \"scatterpolargl\": [{\"marker\": {\"colorbar\": {\"outlinewidth\": 0, \"ticks\": \"\"}}, \"type\": \"scatterpolargl\"}], \"scatterternary\": [{\"marker\": {\"colorbar\": {\"outlinewidth\": 0, \"ticks\": \"\"}}, \"type\": \"scatterternary\"}], \"surface\": [{\"colorbar\": {\"outlinewidth\": 0, \"ticks\": \"\"}, \"colorscale\": [[0.0, \"#0d0887\"], [0.1111111111111111, \"#46039f\"], [0.2222222222222222, \"#7201a8\"], [0.3333333333333333, \"#9c179e\"], [0.4444444444444444, \"#bd3786\"], [0.5555555555555556, \"#d8576b\"], [0.6666666666666666, \"#ed7953\"], [0.7777777777777778, \"#fb9f3a\"], [0.8888888888888888, \"#fdca26\"], [1.0, \"#f0f921\"]], \"type\": \"surface\"}], \"table\": [{\"cells\": {\"fill\": {\"color\": \"#EBF0F8\"}, \"line\": {\"color\": \"white\"}}, \"header\": {\"fill\": {\"color\": \"#C8D4E3\"}, \"line\": {\"color\": \"white\"}}, \"type\": \"table\"}]}, \"layout\": {\"annotationdefaults\": {\"arrowcolor\": \"#2a3f5f\", \"arrowhead\": 0, \"arrowwidth\": 1}, \"coloraxis\": {\"colorbar\": {\"outlinewidth\": 0, \"ticks\": \"\"}}, \"colorscale\": {\"diverging\": [[0, \"#8e0152\"], [0.1, \"#c51b7d\"], [0.2, \"#de77ae\"], [0.3, \"#f1b6da\"], [0.4, \"#fde0ef\"], [0.5, \"#f7f7f7\"], [0.6, \"#e6f5d0\"], [0.7, \"#b8e186\"], [0.8, \"#7fbc41\"], [0.9, \"#4d9221\"], [1, \"#276419\"]], \"sequential\": [[0.0, \"#0d0887\"], [0.1111111111111111, \"#46039f\"], [0.2222222222222222, \"#7201a8\"], [0.3333333333333333, \"#9c179e\"], [0.4444444444444444, \"#bd3786\"], [0.5555555555555556, \"#d8576b\"], [0.6666666666666666, \"#ed7953\"], [0.7777777777777778, \"#fb9f3a\"], [0.8888888888888888, \"#fdca26\"], [1.0, \"#f0f921\"]], \"sequentialminus\": [[0.0, \"#0d0887\"], [0.1111111111111111, \"#46039f\"], [0.2222222222222222, \"#7201a8\"], [0.3333333333333333, \"#9c179e\"], [0.4444444444444444, \"#bd3786\"], [0.5555555555555556, \"#d8576b\"], [0.6666666666666666, \"#ed7953\"], [0.7777777777777778, \"#fb9f3a\"], [0.8888888888888888, \"#fdca26\"], [1.0, \"#f0f921\"]]}, \"colorway\": [\"#636efa\", \"#EF553B\", \"#00cc96\", \"#ab63fa\", \"#FFA15A\", \"#19d3f3\", \"#FF6692\", \"#B6E880\", \"#FF97FF\", \"#FECB52\"], \"font\": {\"color\": \"#2a3f5f\"}, \"geo\": {\"bgcolor\": \"white\", \"lakecolor\": \"white\", \"landcolor\": \"#E5ECF6\", \"showlakes\": true, \"showland\": true, \"subunitcolor\": \"white\"}, \"hoverlabel\": {\"align\": \"left\"}, \"hovermode\": \"closest\", \"mapbox\": {\"style\": \"light\"}, \"paper_bgcolor\": \"white\", \"plot_bgcolor\": \"#E5ECF6\", \"polar\": {\"angularaxis\": {\"gridcolor\": \"white\", \"linecolor\": \"white\", \"ticks\": \"\"}, \"bgcolor\": \"#E5ECF6\", \"radialaxis\": {\"gridcolor\": \"white\", \"linecolor\": \"white\", \"ticks\": \"\"}}, \"scene\": {\"xaxis\": {\"backgroundcolor\": \"#E5ECF6\", \"gridcolor\": \"white\", \"gridwidth\": 2, \"linecolor\": \"white\", \"showbackground\": true, \"ticks\": \"\", \"zerolinecolor\": \"white\"}, \"yaxis\": {\"backgroundcolor\": \"#E5ECF6\", \"gridcolor\": \"white\", \"gridwidth\": 2, \"linecolor\": \"white\", \"showbackground\": true, \"ticks\": \"\", \"zerolinecolor\": \"white\"}, \"zaxis\": {\"backgroundcolor\": \"#E5ECF6\", \"gridcolor\": \"white\", \"gridwidth\": 2, \"linecolor\": \"white\", \"showbackground\": true, \"ticks\": \"\", \"zerolinecolor\": \"white\"}}, \"shapedefaults\": {\"line\": {\"color\": \"#2a3f5f\"}}, \"ternary\": {\"aaxis\": {\"gridcolor\": \"white\", \"linecolor\": \"white\", \"ticks\": \"\"}, \"baxis\": {\"gridcolor\": \"white\", \"linecolor\": \"white\", \"ticks\": \"\"}, \"bgcolor\": \"#E5ECF6\", \"caxis\": {\"gridcolor\": \"white\", \"linecolor\": \"white\", \"ticks\": \"\"}}, \"title\": {\"x\": 0.05}, \"xaxis\": {\"automargin\": true, \"gridcolor\": \"white\", \"linecolor\": \"white\", \"ticks\": \"\", \"title\": {\"standoff\": 15}, \"zerolinecolor\": \"white\", \"zerolinewidth\": 2}, \"yaxis\": {\"automargin\": true, \"gridcolor\": \"white\", \"linecolor\": \"white\", \"ticks\": \"\", \"title\": {\"standoff\": 15}, \"zerolinecolor\": \"white\", \"zerolinewidth\": 2}}}, \"xaxis\": {\"anchor\": \"y\", \"domain\": [0.0, 1.0], \"title\": {\"text\": \"Post Day\"}}, \"yaxis\": {\"anchor\": \"x\", \"domain\": [0.0, 1.0], \"title\": {\"text\": \"Total Reactions\"}}},                        {\"responsive\": true}                    ).then(function(){\n",
       "                            \n",
       "var gd = document.getElementById('a4b5760e-4267-49de-932f-831c4dc2c81d');\n",
       "var x = new MutationObserver(function (mutations, observer) {{\n",
       "        var display = window.getComputedStyle(gd).display;\n",
       "        if (!display || display === 'none') {{\n",
       "            console.log([gd, 'removed!']);\n",
       "            Plotly.purge(gd);\n",
       "            observer.disconnect();\n",
       "        }}\n",
       "}});\n",
       "\n",
       "// Listen for the removal of the full notebook cells\n",
       "var notebookContainer = gd.closest('#notebook-container');\n",
       "if (notebookContainer) {{\n",
       "    x.observe(notebookContainer, {childList: true});\n",
       "}}\n",
       "\n",
       "// Listen for the clearing of the current output cell\n",
       "var outputEl = gd.closest('.output');\n",
       "if (outputEl) {{\n",
       "    x.observe(outputEl, {childList: true});\n",
       "}}\n",
       "\n",
       "                        })                };                });            </script>        </div>"
      ]
     },
     "metadata": {},
     "output_type": "display_data"
    },
    {
     "data": {
      "application/vnd.plotly.v1+json": {
       "config": {
        "plotlyServerURL": "https://plot.ly"
       },
       "data": [
        {
         "hovertemplate": "Post Day=%{x}<br>Reaction Positive %=%{y}<extra></extra>",
         "legendgroup": "",
         "line": {
          "color": "#636efa",
          "dash": "solid"
         },
         "mode": "lines",
         "name": "",
         "orientation": "v",
         "showlegend": false,
         "type": "scatter",
         "x": [
          "2021-08-24T00:00:00",
          "2021-08-25T00:00:00",
          "2021-08-26T00:00:00",
          "2021-08-27T00:00:00",
          "2021-08-28T00:00:00",
          "2021-08-29T00:00:00",
          "2021-08-30T00:00:00",
          "2021-08-31T00:00:00",
          "2021-09-01T00:00:00",
          "2021-09-02T00:00:00",
          "2021-09-03T00:00:00"
         ],
         "xaxis": "x",
         "y": [
          75.88315217391305,
          85.4419191919192,
          77.32974910394266,
          82.42184408389394,
          79.94351168994194,
          86.57240713093879,
          87.45292155385775,
          92.33176838810641,
          90.21871202916161,
          89.76377952755905,
          73.4982332155477
         ],
         "yaxis": "y"
        }
       ],
       "layout": {
        "legend": {
         "tracegroupgap": 0
        },
        "margin": {
         "t": 60
        },
        "template": {
         "data": {
          "bar": [
           {
            "error_x": {
             "color": "#2a3f5f"
            },
            "error_y": {
             "color": "#2a3f5f"
            },
            "marker": {
             "line": {
              "color": "#E5ECF6",
              "width": 0.5
             }
            },
            "type": "bar"
           }
          ],
          "barpolar": [
           {
            "marker": {
             "line": {
              "color": "#E5ECF6",
              "width": 0.5
             }
            },
            "type": "barpolar"
           }
          ],
          "carpet": [
           {
            "aaxis": {
             "endlinecolor": "#2a3f5f",
             "gridcolor": "white",
             "linecolor": "white",
             "minorgridcolor": "white",
             "startlinecolor": "#2a3f5f"
            },
            "baxis": {
             "endlinecolor": "#2a3f5f",
             "gridcolor": "white",
             "linecolor": "white",
             "minorgridcolor": "white",
             "startlinecolor": "#2a3f5f"
            },
            "type": "carpet"
           }
          ],
          "choropleth": [
           {
            "colorbar": {
             "outlinewidth": 0,
             "ticks": ""
            },
            "type": "choropleth"
           }
          ],
          "contour": [
           {
            "colorbar": {
             "outlinewidth": 0,
             "ticks": ""
            },
            "colorscale": [
             [
              0,
              "#0d0887"
             ],
             [
              0.1111111111111111,
              "#46039f"
             ],
             [
              0.2222222222222222,
              "#7201a8"
             ],
             [
              0.3333333333333333,
              "#9c179e"
             ],
             [
              0.4444444444444444,
              "#bd3786"
             ],
             [
              0.5555555555555556,
              "#d8576b"
             ],
             [
              0.6666666666666666,
              "#ed7953"
             ],
             [
              0.7777777777777778,
              "#fb9f3a"
             ],
             [
              0.8888888888888888,
              "#fdca26"
             ],
             [
              1,
              "#f0f921"
             ]
            ],
            "type": "contour"
           }
          ],
          "contourcarpet": [
           {
            "colorbar": {
             "outlinewidth": 0,
             "ticks": ""
            },
            "type": "contourcarpet"
           }
          ],
          "heatmap": [
           {
            "colorbar": {
             "outlinewidth": 0,
             "ticks": ""
            },
            "colorscale": [
             [
              0,
              "#0d0887"
             ],
             [
              0.1111111111111111,
              "#46039f"
             ],
             [
              0.2222222222222222,
              "#7201a8"
             ],
             [
              0.3333333333333333,
              "#9c179e"
             ],
             [
              0.4444444444444444,
              "#bd3786"
             ],
             [
              0.5555555555555556,
              "#d8576b"
             ],
             [
              0.6666666666666666,
              "#ed7953"
             ],
             [
              0.7777777777777778,
              "#fb9f3a"
             ],
             [
              0.8888888888888888,
              "#fdca26"
             ],
             [
              1,
              "#f0f921"
             ]
            ],
            "type": "heatmap"
           }
          ],
          "heatmapgl": [
           {
            "colorbar": {
             "outlinewidth": 0,
             "ticks": ""
            },
            "colorscale": [
             [
              0,
              "#0d0887"
             ],
             [
              0.1111111111111111,
              "#46039f"
             ],
             [
              0.2222222222222222,
              "#7201a8"
             ],
             [
              0.3333333333333333,
              "#9c179e"
             ],
             [
              0.4444444444444444,
              "#bd3786"
             ],
             [
              0.5555555555555556,
              "#d8576b"
             ],
             [
              0.6666666666666666,
              "#ed7953"
             ],
             [
              0.7777777777777778,
              "#fb9f3a"
             ],
             [
              0.8888888888888888,
              "#fdca26"
             ],
             [
              1,
              "#f0f921"
             ]
            ],
            "type": "heatmapgl"
           }
          ],
          "histogram": [
           {
            "marker": {
             "colorbar": {
              "outlinewidth": 0,
              "ticks": ""
             }
            },
            "type": "histogram"
           }
          ],
          "histogram2d": [
           {
            "colorbar": {
             "outlinewidth": 0,
             "ticks": ""
            },
            "colorscale": [
             [
              0,
              "#0d0887"
             ],
             [
              0.1111111111111111,
              "#46039f"
             ],
             [
              0.2222222222222222,
              "#7201a8"
             ],
             [
              0.3333333333333333,
              "#9c179e"
             ],
             [
              0.4444444444444444,
              "#bd3786"
             ],
             [
              0.5555555555555556,
              "#d8576b"
             ],
             [
              0.6666666666666666,
              "#ed7953"
             ],
             [
              0.7777777777777778,
              "#fb9f3a"
             ],
             [
              0.8888888888888888,
              "#fdca26"
             ],
             [
              1,
              "#f0f921"
             ]
            ],
            "type": "histogram2d"
           }
          ],
          "histogram2dcontour": [
           {
            "colorbar": {
             "outlinewidth": 0,
             "ticks": ""
            },
            "colorscale": [
             [
              0,
              "#0d0887"
             ],
             [
              0.1111111111111111,
              "#46039f"
             ],
             [
              0.2222222222222222,
              "#7201a8"
             ],
             [
              0.3333333333333333,
              "#9c179e"
             ],
             [
              0.4444444444444444,
              "#bd3786"
             ],
             [
              0.5555555555555556,
              "#d8576b"
             ],
             [
              0.6666666666666666,
              "#ed7953"
             ],
             [
              0.7777777777777778,
              "#fb9f3a"
             ],
             [
              0.8888888888888888,
              "#fdca26"
             ],
             [
              1,
              "#f0f921"
             ]
            ],
            "type": "histogram2dcontour"
           }
          ],
          "mesh3d": [
           {
            "colorbar": {
             "outlinewidth": 0,
             "ticks": ""
            },
            "type": "mesh3d"
           }
          ],
          "parcoords": [
           {
            "line": {
             "colorbar": {
              "outlinewidth": 0,
              "ticks": ""
             }
            },
            "type": "parcoords"
           }
          ],
          "pie": [
           {
            "automargin": true,
            "type": "pie"
           }
          ],
          "scatter": [
           {
            "marker": {
             "colorbar": {
              "outlinewidth": 0,
              "ticks": ""
             }
            },
            "type": "scatter"
           }
          ],
          "scatter3d": [
           {
            "line": {
             "colorbar": {
              "outlinewidth": 0,
              "ticks": ""
             }
            },
            "marker": {
             "colorbar": {
              "outlinewidth": 0,
              "ticks": ""
             }
            },
            "type": "scatter3d"
           }
          ],
          "scattercarpet": [
           {
            "marker": {
             "colorbar": {
              "outlinewidth": 0,
              "ticks": ""
             }
            },
            "type": "scattercarpet"
           }
          ],
          "scattergeo": [
           {
            "marker": {
             "colorbar": {
              "outlinewidth": 0,
              "ticks": ""
             }
            },
            "type": "scattergeo"
           }
          ],
          "scattergl": [
           {
            "marker": {
             "colorbar": {
              "outlinewidth": 0,
              "ticks": ""
             }
            },
            "type": "scattergl"
           }
          ],
          "scattermapbox": [
           {
            "marker": {
             "colorbar": {
              "outlinewidth": 0,
              "ticks": ""
             }
            },
            "type": "scattermapbox"
           }
          ],
          "scatterpolar": [
           {
            "marker": {
             "colorbar": {
              "outlinewidth": 0,
              "ticks": ""
             }
            },
            "type": "scatterpolar"
           }
          ],
          "scatterpolargl": [
           {
            "marker": {
             "colorbar": {
              "outlinewidth": 0,
              "ticks": ""
             }
            },
            "type": "scatterpolargl"
           }
          ],
          "scatterternary": [
           {
            "marker": {
             "colorbar": {
              "outlinewidth": 0,
              "ticks": ""
             }
            },
            "type": "scatterternary"
           }
          ],
          "surface": [
           {
            "colorbar": {
             "outlinewidth": 0,
             "ticks": ""
            },
            "colorscale": [
             [
              0,
              "#0d0887"
             ],
             [
              0.1111111111111111,
              "#46039f"
             ],
             [
              0.2222222222222222,
              "#7201a8"
             ],
             [
              0.3333333333333333,
              "#9c179e"
             ],
             [
              0.4444444444444444,
              "#bd3786"
             ],
             [
              0.5555555555555556,
              "#d8576b"
             ],
             [
              0.6666666666666666,
              "#ed7953"
             ],
             [
              0.7777777777777778,
              "#fb9f3a"
             ],
             [
              0.8888888888888888,
              "#fdca26"
             ],
             [
              1,
              "#f0f921"
             ]
            ],
            "type": "surface"
           }
          ],
          "table": [
           {
            "cells": {
             "fill": {
              "color": "#EBF0F8"
             },
             "line": {
              "color": "white"
             }
            },
            "header": {
             "fill": {
              "color": "#C8D4E3"
             },
             "line": {
              "color": "white"
             }
            },
            "type": "table"
           }
          ]
         },
         "layout": {
          "annotationdefaults": {
           "arrowcolor": "#2a3f5f",
           "arrowhead": 0,
           "arrowwidth": 1
          },
          "coloraxis": {
           "colorbar": {
            "outlinewidth": 0,
            "ticks": ""
           }
          },
          "colorscale": {
           "diverging": [
            [
             0,
             "#8e0152"
            ],
            [
             0.1,
             "#c51b7d"
            ],
            [
             0.2,
             "#de77ae"
            ],
            [
             0.3,
             "#f1b6da"
            ],
            [
             0.4,
             "#fde0ef"
            ],
            [
             0.5,
             "#f7f7f7"
            ],
            [
             0.6,
             "#e6f5d0"
            ],
            [
             0.7,
             "#b8e186"
            ],
            [
             0.8,
             "#7fbc41"
            ],
            [
             0.9,
             "#4d9221"
            ],
            [
             1,
             "#276419"
            ]
           ],
           "sequential": [
            [
             0,
             "#0d0887"
            ],
            [
             0.1111111111111111,
             "#46039f"
            ],
            [
             0.2222222222222222,
             "#7201a8"
            ],
            [
             0.3333333333333333,
             "#9c179e"
            ],
            [
             0.4444444444444444,
             "#bd3786"
            ],
            [
             0.5555555555555556,
             "#d8576b"
            ],
            [
             0.6666666666666666,
             "#ed7953"
            ],
            [
             0.7777777777777778,
             "#fb9f3a"
            ],
            [
             0.8888888888888888,
             "#fdca26"
            ],
            [
             1,
             "#f0f921"
            ]
           ],
           "sequentialminus": [
            [
             0,
             "#0d0887"
            ],
            [
             0.1111111111111111,
             "#46039f"
            ],
            [
             0.2222222222222222,
             "#7201a8"
            ],
            [
             0.3333333333333333,
             "#9c179e"
            ],
            [
             0.4444444444444444,
             "#bd3786"
            ],
            [
             0.5555555555555556,
             "#d8576b"
            ],
            [
             0.6666666666666666,
             "#ed7953"
            ],
            [
             0.7777777777777778,
             "#fb9f3a"
            ],
            [
             0.8888888888888888,
             "#fdca26"
            ],
            [
             1,
             "#f0f921"
            ]
           ]
          },
          "colorway": [
           "#636efa",
           "#EF553B",
           "#00cc96",
           "#ab63fa",
           "#FFA15A",
           "#19d3f3",
           "#FF6692",
           "#B6E880",
           "#FF97FF",
           "#FECB52"
          ],
          "font": {
           "color": "#2a3f5f"
          },
          "geo": {
           "bgcolor": "white",
           "lakecolor": "white",
           "landcolor": "#E5ECF6",
           "showlakes": true,
           "showland": true,
           "subunitcolor": "white"
          },
          "hoverlabel": {
           "align": "left"
          },
          "hovermode": "closest",
          "mapbox": {
           "style": "light"
          },
          "paper_bgcolor": "white",
          "plot_bgcolor": "#E5ECF6",
          "polar": {
           "angularaxis": {
            "gridcolor": "white",
            "linecolor": "white",
            "ticks": ""
           },
           "bgcolor": "#E5ECF6",
           "radialaxis": {
            "gridcolor": "white",
            "linecolor": "white",
            "ticks": ""
           }
          },
          "scene": {
           "xaxis": {
            "backgroundcolor": "#E5ECF6",
            "gridcolor": "white",
            "gridwidth": 2,
            "linecolor": "white",
            "showbackground": true,
            "ticks": "",
            "zerolinecolor": "white"
           },
           "yaxis": {
            "backgroundcolor": "#E5ECF6",
            "gridcolor": "white",
            "gridwidth": 2,
            "linecolor": "white",
            "showbackground": true,
            "ticks": "",
            "zerolinecolor": "white"
           },
           "zaxis": {
            "backgroundcolor": "#E5ECF6",
            "gridcolor": "white",
            "gridwidth": 2,
            "linecolor": "white",
            "showbackground": true,
            "ticks": "",
            "zerolinecolor": "white"
           }
          },
          "shapedefaults": {
           "line": {
            "color": "#2a3f5f"
           }
          },
          "ternary": {
           "aaxis": {
            "gridcolor": "white",
            "linecolor": "white",
            "ticks": ""
           },
           "baxis": {
            "gridcolor": "white",
            "linecolor": "white",
            "ticks": ""
           },
           "bgcolor": "#E5ECF6",
           "caxis": {
            "gridcolor": "white",
            "linecolor": "white",
            "ticks": ""
           }
          },
          "title": {
           "x": 0.05
          },
          "xaxis": {
           "automargin": true,
           "gridcolor": "white",
           "linecolor": "white",
           "ticks": "",
           "title": {
            "standoff": 15
           },
           "zerolinecolor": "white",
           "zerolinewidth": 2
          },
          "yaxis": {
           "automargin": true,
           "gridcolor": "white",
           "linecolor": "white",
           "ticks": "",
           "title": {
            "standoff": 15
           },
           "zerolinecolor": "white",
           "zerolinewidth": 2
          }
         }
        },
        "xaxis": {
         "anchor": "y",
         "domain": [
          0,
          1
         ],
         "title": {
          "text": "Post Day"
         }
        },
        "yaxis": {
         "anchor": "x",
         "domain": [
          0,
          1
         ],
         "title": {
          "text": "Reaction Positive %"
         }
        }
       }
      },
      "text/html": [
       "<div>                            <div id=\"8a7d23d7-a484-4293-8d37-a62ecf9e1c33\" class=\"plotly-graph-div\" style=\"height:525px; width:100%;\"></div>            <script type=\"text/javascript\">                require([\"plotly\"], function(Plotly) {                    window.PLOTLYENV=window.PLOTLYENV || {};                                    if (document.getElementById(\"8a7d23d7-a484-4293-8d37-a62ecf9e1c33\")) {                    Plotly.newPlot(                        \"8a7d23d7-a484-4293-8d37-a62ecf9e1c33\",                        [{\"hovertemplate\": \"Post Day=%{x}<br>Reaction Positive %=%{y}<extra></extra>\", \"legendgroup\": \"\", \"line\": {\"color\": \"#636efa\", \"dash\": \"solid\"}, \"mode\": \"lines\", \"name\": \"\", \"orientation\": \"v\", \"showlegend\": false, \"type\": \"scatter\", \"x\": [\"2021-08-24T00:00:00\", \"2021-08-25T00:00:00\", \"2021-08-26T00:00:00\", \"2021-08-27T00:00:00\", \"2021-08-28T00:00:00\", \"2021-08-29T00:00:00\", \"2021-08-30T00:00:00\", \"2021-08-31T00:00:00\", \"2021-09-01T00:00:00\", \"2021-09-02T00:00:00\", \"2021-09-03T00:00:00\"], \"xaxis\": \"x\", \"y\": [75.88315217391305, 85.4419191919192, 77.32974910394266, 82.42184408389394, 79.94351168994194, 86.57240713093879, 87.45292155385775, 92.33176838810641, 90.21871202916161, 89.76377952755905, 73.4982332155477], \"yaxis\": \"y\"}],                        {\"legend\": {\"tracegroupgap\": 0}, \"margin\": {\"t\": 60}, \"template\": {\"data\": {\"bar\": [{\"error_x\": {\"color\": \"#2a3f5f\"}, \"error_y\": {\"color\": \"#2a3f5f\"}, \"marker\": {\"line\": {\"color\": \"#E5ECF6\", \"width\": 0.5}}, \"type\": \"bar\"}], \"barpolar\": [{\"marker\": {\"line\": {\"color\": \"#E5ECF6\", \"width\": 0.5}}, \"type\": \"barpolar\"}], \"carpet\": [{\"aaxis\": {\"endlinecolor\": \"#2a3f5f\", \"gridcolor\": \"white\", \"linecolor\": \"white\", \"minorgridcolor\": \"white\", \"startlinecolor\": \"#2a3f5f\"}, \"baxis\": {\"endlinecolor\": \"#2a3f5f\", \"gridcolor\": \"white\", \"linecolor\": \"white\", \"minorgridcolor\": \"white\", \"startlinecolor\": \"#2a3f5f\"}, \"type\": \"carpet\"}], \"choropleth\": [{\"colorbar\": {\"outlinewidth\": 0, \"ticks\": \"\"}, \"type\": \"choropleth\"}], \"contour\": [{\"colorbar\": {\"outlinewidth\": 0, \"ticks\": \"\"}, \"colorscale\": [[0.0, \"#0d0887\"], [0.1111111111111111, \"#46039f\"], [0.2222222222222222, \"#7201a8\"], [0.3333333333333333, \"#9c179e\"], [0.4444444444444444, \"#bd3786\"], [0.5555555555555556, \"#d8576b\"], [0.6666666666666666, \"#ed7953\"], [0.7777777777777778, \"#fb9f3a\"], [0.8888888888888888, \"#fdca26\"], [1.0, \"#f0f921\"]], \"type\": \"contour\"}], \"contourcarpet\": [{\"colorbar\": {\"outlinewidth\": 0, \"ticks\": \"\"}, \"type\": \"contourcarpet\"}], \"heatmap\": [{\"colorbar\": {\"outlinewidth\": 0, \"ticks\": \"\"}, \"colorscale\": [[0.0, \"#0d0887\"], [0.1111111111111111, \"#46039f\"], [0.2222222222222222, \"#7201a8\"], [0.3333333333333333, \"#9c179e\"], [0.4444444444444444, \"#bd3786\"], [0.5555555555555556, \"#d8576b\"], [0.6666666666666666, \"#ed7953\"], [0.7777777777777778, \"#fb9f3a\"], [0.8888888888888888, \"#fdca26\"], [1.0, \"#f0f921\"]], \"type\": \"heatmap\"}], \"heatmapgl\": [{\"colorbar\": {\"outlinewidth\": 0, \"ticks\": \"\"}, \"colorscale\": [[0.0, \"#0d0887\"], [0.1111111111111111, \"#46039f\"], [0.2222222222222222, \"#7201a8\"], [0.3333333333333333, \"#9c179e\"], [0.4444444444444444, \"#bd3786\"], [0.5555555555555556, \"#d8576b\"], [0.6666666666666666, \"#ed7953\"], [0.7777777777777778, \"#fb9f3a\"], [0.8888888888888888, \"#fdca26\"], [1.0, \"#f0f921\"]], \"type\": \"heatmapgl\"}], \"histogram\": [{\"marker\": {\"colorbar\": {\"outlinewidth\": 0, \"ticks\": \"\"}}, \"type\": \"histogram\"}], \"histogram2d\": [{\"colorbar\": {\"outlinewidth\": 0, \"ticks\": \"\"}, \"colorscale\": [[0.0, \"#0d0887\"], [0.1111111111111111, \"#46039f\"], [0.2222222222222222, \"#7201a8\"], [0.3333333333333333, \"#9c179e\"], [0.4444444444444444, \"#bd3786\"], [0.5555555555555556, \"#d8576b\"], [0.6666666666666666, \"#ed7953\"], [0.7777777777777778, \"#fb9f3a\"], [0.8888888888888888, \"#fdca26\"], [1.0, \"#f0f921\"]], \"type\": \"histogram2d\"}], \"histogram2dcontour\": [{\"colorbar\": {\"outlinewidth\": 0, \"ticks\": \"\"}, \"colorscale\": [[0.0, \"#0d0887\"], [0.1111111111111111, \"#46039f\"], [0.2222222222222222, \"#7201a8\"], [0.3333333333333333, \"#9c179e\"], [0.4444444444444444, \"#bd3786\"], [0.5555555555555556, \"#d8576b\"], [0.6666666666666666, \"#ed7953\"], [0.7777777777777778, \"#fb9f3a\"], [0.8888888888888888, \"#fdca26\"], [1.0, \"#f0f921\"]], \"type\": \"histogram2dcontour\"}], \"mesh3d\": [{\"colorbar\": {\"outlinewidth\": 0, \"ticks\": \"\"}, \"type\": \"mesh3d\"}], \"parcoords\": [{\"line\": {\"colorbar\": {\"outlinewidth\": 0, \"ticks\": \"\"}}, \"type\": \"parcoords\"}], \"pie\": [{\"automargin\": true, \"type\": \"pie\"}], \"scatter\": [{\"marker\": {\"colorbar\": {\"outlinewidth\": 0, \"ticks\": \"\"}}, \"type\": \"scatter\"}], \"scatter3d\": [{\"line\": {\"colorbar\": {\"outlinewidth\": 0, \"ticks\": \"\"}}, \"marker\": {\"colorbar\": {\"outlinewidth\": 0, \"ticks\": \"\"}}, \"type\": \"scatter3d\"}], \"scattercarpet\": [{\"marker\": {\"colorbar\": {\"outlinewidth\": 0, \"ticks\": \"\"}}, \"type\": \"scattercarpet\"}], \"scattergeo\": [{\"marker\": {\"colorbar\": {\"outlinewidth\": 0, \"ticks\": \"\"}}, \"type\": \"scattergeo\"}], \"scattergl\": [{\"marker\": {\"colorbar\": {\"outlinewidth\": 0, \"ticks\": \"\"}}, \"type\": \"scattergl\"}], \"scattermapbox\": [{\"marker\": {\"colorbar\": {\"outlinewidth\": 0, \"ticks\": \"\"}}, \"type\": \"scattermapbox\"}], \"scatterpolar\": [{\"marker\": {\"colorbar\": {\"outlinewidth\": 0, \"ticks\": \"\"}}, \"type\": \"scatterpolar\"}], \"scatterpolargl\": [{\"marker\": {\"colorbar\": {\"outlinewidth\": 0, \"ticks\": \"\"}}, \"type\": \"scatterpolargl\"}], \"scatterternary\": [{\"marker\": {\"colorbar\": {\"outlinewidth\": 0, \"ticks\": \"\"}}, \"type\": \"scatterternary\"}], \"surface\": [{\"colorbar\": {\"outlinewidth\": 0, \"ticks\": \"\"}, \"colorscale\": [[0.0, \"#0d0887\"], [0.1111111111111111, \"#46039f\"], [0.2222222222222222, \"#7201a8\"], [0.3333333333333333, \"#9c179e\"], [0.4444444444444444, \"#bd3786\"], [0.5555555555555556, \"#d8576b\"], [0.6666666666666666, \"#ed7953\"], [0.7777777777777778, \"#fb9f3a\"], [0.8888888888888888, \"#fdca26\"], [1.0, \"#f0f921\"]], \"type\": \"surface\"}], \"table\": [{\"cells\": {\"fill\": {\"color\": \"#EBF0F8\"}, \"line\": {\"color\": \"white\"}}, \"header\": {\"fill\": {\"color\": \"#C8D4E3\"}, \"line\": {\"color\": \"white\"}}, \"type\": \"table\"}]}, \"layout\": {\"annotationdefaults\": {\"arrowcolor\": \"#2a3f5f\", \"arrowhead\": 0, \"arrowwidth\": 1}, \"coloraxis\": {\"colorbar\": {\"outlinewidth\": 0, \"ticks\": \"\"}}, \"colorscale\": {\"diverging\": [[0, \"#8e0152\"], [0.1, \"#c51b7d\"], [0.2, \"#de77ae\"], [0.3, \"#f1b6da\"], [0.4, \"#fde0ef\"], [0.5, \"#f7f7f7\"], [0.6, \"#e6f5d0\"], [0.7, \"#b8e186\"], [0.8, \"#7fbc41\"], [0.9, \"#4d9221\"], [1, \"#276419\"]], \"sequential\": [[0.0, \"#0d0887\"], [0.1111111111111111, \"#46039f\"], [0.2222222222222222, \"#7201a8\"], [0.3333333333333333, \"#9c179e\"], [0.4444444444444444, \"#bd3786\"], [0.5555555555555556, \"#d8576b\"], [0.6666666666666666, \"#ed7953\"], [0.7777777777777778, \"#fb9f3a\"], [0.8888888888888888, \"#fdca26\"], [1.0, \"#f0f921\"]], \"sequentialminus\": [[0.0, \"#0d0887\"], [0.1111111111111111, \"#46039f\"], [0.2222222222222222, \"#7201a8\"], [0.3333333333333333, \"#9c179e\"], [0.4444444444444444, \"#bd3786\"], [0.5555555555555556, \"#d8576b\"], [0.6666666666666666, \"#ed7953\"], [0.7777777777777778, \"#fb9f3a\"], [0.8888888888888888, \"#fdca26\"], [1.0, \"#f0f921\"]]}, \"colorway\": [\"#636efa\", \"#EF553B\", \"#00cc96\", \"#ab63fa\", \"#FFA15A\", \"#19d3f3\", \"#FF6692\", \"#B6E880\", \"#FF97FF\", \"#FECB52\"], \"font\": {\"color\": \"#2a3f5f\"}, \"geo\": {\"bgcolor\": \"white\", \"lakecolor\": \"white\", \"landcolor\": \"#E5ECF6\", \"showlakes\": true, \"showland\": true, \"subunitcolor\": \"white\"}, \"hoverlabel\": {\"align\": \"left\"}, \"hovermode\": \"closest\", \"mapbox\": {\"style\": \"light\"}, \"paper_bgcolor\": \"white\", \"plot_bgcolor\": \"#E5ECF6\", \"polar\": {\"angularaxis\": {\"gridcolor\": \"white\", \"linecolor\": \"white\", \"ticks\": \"\"}, \"bgcolor\": \"#E5ECF6\", \"radialaxis\": {\"gridcolor\": \"white\", \"linecolor\": \"white\", \"ticks\": \"\"}}, \"scene\": {\"xaxis\": {\"backgroundcolor\": \"#E5ECF6\", \"gridcolor\": \"white\", \"gridwidth\": 2, \"linecolor\": \"white\", \"showbackground\": true, \"ticks\": \"\", \"zerolinecolor\": \"white\"}, \"yaxis\": {\"backgroundcolor\": \"#E5ECF6\", \"gridcolor\": \"white\", \"gridwidth\": 2, \"linecolor\": \"white\", \"showbackground\": true, \"ticks\": \"\", \"zerolinecolor\": \"white\"}, \"zaxis\": {\"backgroundcolor\": \"#E5ECF6\", \"gridcolor\": \"white\", \"gridwidth\": 2, \"linecolor\": \"white\", \"showbackground\": true, \"ticks\": \"\", \"zerolinecolor\": \"white\"}}, \"shapedefaults\": {\"line\": {\"color\": \"#2a3f5f\"}}, \"ternary\": {\"aaxis\": {\"gridcolor\": \"white\", \"linecolor\": \"white\", \"ticks\": \"\"}, \"baxis\": {\"gridcolor\": \"white\", \"linecolor\": \"white\", \"ticks\": \"\"}, \"bgcolor\": \"#E5ECF6\", \"caxis\": {\"gridcolor\": \"white\", \"linecolor\": \"white\", \"ticks\": \"\"}}, \"title\": {\"x\": 0.05}, \"xaxis\": {\"automargin\": true, \"gridcolor\": \"white\", \"linecolor\": \"white\", \"ticks\": \"\", \"title\": {\"standoff\": 15}, \"zerolinecolor\": \"white\", \"zerolinewidth\": 2}, \"yaxis\": {\"automargin\": true, \"gridcolor\": \"white\", \"linecolor\": \"white\", \"ticks\": \"\", \"title\": {\"standoff\": 15}, \"zerolinecolor\": \"white\", \"zerolinewidth\": 2}}}, \"xaxis\": {\"anchor\": \"y\", \"domain\": [0.0, 1.0], \"title\": {\"text\": \"Post Day\"}}, \"yaxis\": {\"anchor\": \"x\", \"domain\": [0.0, 1.0], \"title\": {\"text\": \"Reaction Positive %\"}}},                        {\"responsive\": true}                    ).then(function(){\n",
       "                            \n",
       "var gd = document.getElementById('8a7d23d7-a484-4293-8d37-a62ecf9e1c33');\n",
       "var x = new MutationObserver(function (mutations, observer) {{\n",
       "        var display = window.getComputedStyle(gd).display;\n",
       "        if (!display || display === 'none') {{\n",
       "            console.log([gd, 'removed!']);\n",
       "            Plotly.purge(gd);\n",
       "            observer.disconnect();\n",
       "        }}\n",
       "}});\n",
       "\n",
       "// Listen for the removal of the full notebook cells\n",
       "var notebookContainer = gd.closest('#notebook-container');\n",
       "if (notebookContainer) {{\n",
       "    x.observe(notebookContainer, {childList: true});\n",
       "}}\n",
       "\n",
       "// Listen for the clearing of the current output cell\n",
       "var outputEl = gd.closest('.output');\n",
       "if (outputEl) {{\n",
       "    x.observe(outputEl, {childList: true});\n",
       "}}\n",
       "\n",
       "                        })                };                });            </script>        </div>"
      ]
     },
     "metadata": {},
     "output_type": "display_data"
    }
   ],
   "source": [
    "day_data = post_data_import.groupby(by='Post Day').agg({'User' : 'nunique',\n",
    "                                                  'Post' : 'count',\n",
    "                                                  'Images': \"sum\",\n",
    "                                                  'Thumbs Up' : \"sum\",\n",
    "                                                  'Thumbs Down' : 'sum', \n",
    "                                                  'Reactions': 'sum'})\n",
    "\n",
    "day_data['Reaction Positive %'] = ((day_data['Thumbs Up'])/(day_data['Thumbs Down']+day_data['Thumbs Up']))*100\n",
    "\n",
    "day_data.rename(columns={'User': \"Unique Posters\", \n",
    "                          'Post' : 'Total Posts', \n",
    "                          'Images' : \"Images Posted\", \n",
    "                          'Thumbs Up': \"Total Thumbs up\", \n",
    "                          \"Thumbs Down\": \"Total Thumbs Down\", \n",
    "                         'Reactions' : \"Total Reactions\"}, inplace=True)\n",
    "\n",
    "import plotly.express as px\n",
    "day_filter = day_data[day_data.index < \"09/04/2021\"]\n",
    "\n",
    "for i in day_filter.columns:\n",
    "    \n",
    "    fig = px.line(day_filter, x=day_filter.index, y=i)\n",
    "\n",
    "    fig.show()"
   ]
  },
  {
   "cell_type": "code",
   "execution_count": 242,
   "metadata": {},
   "outputs": [
    {
     "data": {
      "text/html": [
       "<div>\n",
       "<style scoped>\n",
       "    .dataframe tbody tr th:only-of-type {\n",
       "        vertical-align: middle;\n",
       "    }\n",
       "\n",
       "    .dataframe tbody tr th {\n",
       "        vertical-align: top;\n",
       "    }\n",
       "\n",
       "    .dataframe thead th {\n",
       "        text-align: right;\n",
       "    }\n",
       "</style>\n",
       "<table border=\"1\" class=\"dataframe\">\n",
       "  <thead>\n",
       "    <tr style=\"text-align: right;\">\n",
       "      <th></th>\n",
       "      <th>Total Posts</th>\n",
       "      <th>Images Posted</th>\n",
       "      <th>Total Thumbs up</th>\n",
       "      <th>Total Thumbs Down</th>\n",
       "      <th>Total Reactions</th>\n",
       "      <th>Reaction Positive %</th>\n",
       "    </tr>\n",
       "    <tr>\n",
       "      <th>User</th>\n",
       "      <th></th>\n",
       "      <th></th>\n",
       "      <th></th>\n",
       "      <th></th>\n",
       "      <th></th>\n",
       "      <th></th>\n",
       "    </tr>\n",
       "  </thead>\n",
       "  <tbody>\n",
       "    <tr>\n",
       "      <th>Duke</th>\n",
       "      <td>574</td>\n",
       "      <td>36</td>\n",
       "      <td>4657</td>\n",
       "      <td>268</td>\n",
       "      <td>4925</td>\n",
       "      <td>94.558376</td>\n",
       "    </tr>\n",
       "    <tr>\n",
       "      <th>The Boat</th>\n",
       "      <td>358</td>\n",
       "      <td>61</td>\n",
       "      <td>3932</td>\n",
       "      <td>339</td>\n",
       "      <td>4271</td>\n",
       "      <td>92.062749</td>\n",
       "    </tr>\n",
       "    <tr>\n",
       "      <th>LegendInMyMind</th>\n",
       "      <td>712</td>\n",
       "      <td>85</td>\n",
       "      <td>2917</td>\n",
       "      <td>214</td>\n",
       "      <td>3131</td>\n",
       "      <td>93.165123</td>\n",
       "    </tr>\n",
       "    <tr>\n",
       "      <th>slackster</th>\n",
       "      <td>323</td>\n",
       "      <td>64</td>\n",
       "      <td>2207</td>\n",
       "      <td>223</td>\n",
       "      <td>2430</td>\n",
       "      <td>90.823045</td>\n",
       "    </tr>\n",
       "    <tr>\n",
       "      <th>Cosmo</th>\n",
       "      <td>257</td>\n",
       "      <td>15</td>\n",
       "      <td>2083</td>\n",
       "      <td>318</td>\n",
       "      <td>2401</td>\n",
       "      <td>86.755519</td>\n",
       "    </tr>\n",
       "    <tr>\n",
       "      <th>...</th>\n",
       "      <td>...</td>\n",
       "      <td>...</td>\n",
       "      <td>...</td>\n",
       "      <td>...</td>\n",
       "      <td>...</td>\n",
       "      <td>...</td>\n",
       "    </tr>\n",
       "    <tr>\n",
       "      <th>kadillak</th>\n",
       "      <td>2</td>\n",
       "      <td>0</td>\n",
       "      <td>0</td>\n",
       "      <td>0</td>\n",
       "      <td>0</td>\n",
       "      <td>NaN</td>\n",
       "    </tr>\n",
       "    <tr>\n",
       "      <th>Salmon</th>\n",
       "      <td>1</td>\n",
       "      <td>0</td>\n",
       "      <td>0</td>\n",
       "      <td>0</td>\n",
       "      <td>0</td>\n",
       "      <td>NaN</td>\n",
       "    </tr>\n",
       "    <tr>\n",
       "      <th>Geaux Guy</th>\n",
       "      <td>1</td>\n",
       "      <td>0</td>\n",
       "      <td>0</td>\n",
       "      <td>0</td>\n",
       "      <td>0</td>\n",
       "      <td>NaN</td>\n",
       "    </tr>\n",
       "    <tr>\n",
       "      <th>Sasquatch Smash</th>\n",
       "      <td>1</td>\n",
       "      <td>0</td>\n",
       "      <td>0</td>\n",
       "      <td>0</td>\n",
       "      <td>0</td>\n",
       "      <td>NaN</td>\n",
       "    </tr>\n",
       "    <tr>\n",
       "      <th>couyon2</th>\n",
       "      <td>1</td>\n",
       "      <td>0</td>\n",
       "      <td>0</td>\n",
       "      <td>0</td>\n",
       "      <td>0</td>\n",
       "      <td>NaN</td>\n",
       "    </tr>\n",
       "  </tbody>\n",
       "</table>\n",
       "<p>1829 rows × 6 columns</p>\n",
       "</div>"
      ],
      "text/plain": [
       "                 Total Posts  Images Posted  Total Thumbs up  \\\n",
       "User                                                           \n",
       "Duke                     574             36             4657   \n",
       "The Boat                 358             61             3932   \n",
       "LegendInMyMind           712             85             2917   \n",
       "slackster                323             64             2207   \n",
       "Cosmo                    257             15             2083   \n",
       "...                      ...            ...              ...   \n",
       "kadillak                   2              0                0   \n",
       "Salmon                     1              0                0   \n",
       "Geaux Guy                  1              0                0   \n",
       "Sasquatch Smash            1              0                0   \n",
       "couyon2                    1              0                0   \n",
       "\n",
       "                 Total Thumbs Down  Total Reactions  Reaction Positive %  \n",
       "User                                                                      \n",
       "Duke                           268             4925            94.558376  \n",
       "The Boat                       339             4271            92.062749  \n",
       "LegendInMyMind                 214             3131            93.165123  \n",
       "slackster                      223             2430            90.823045  \n",
       "Cosmo                          318             2401            86.755519  \n",
       "...                            ...              ...                  ...  \n",
       "kadillak                         0                0                  NaN  \n",
       "Salmon                           0                0                  NaN  \n",
       "Geaux Guy                        0                0                  NaN  \n",
       "Sasquatch Smash                  0                0                  NaN  \n",
       "couyon2                          0                0                  NaN  \n",
       "\n",
       "[1829 rows x 6 columns]"
      ]
     },
     "execution_count": 242,
     "metadata": {},
     "output_type": "execute_result"
    }
   ],
   "source": [
    "user_data = post_data_import.groupby(by='User').agg({'Post' : 'count',\n",
    "                                                     'Images': \"sum\",\n",
    "                                                     'Thumbs Up' : \"sum\",\n",
    "                                                     'Thumbs Down' : 'sum', \n",
    "                                                     'Reactions': 'sum'})\n",
    "\n",
    "user_data['Reaction Positive %'] = ((user_data['Thumbs Up'])/(user_data['Thumbs Down']+user_data['Thumbs Up']))*100\n",
    "\n",
    "user_data.rename(columns={'User': \"Unique Posters\", \n",
    "                          'Post' : 'Total Posts', \n",
    "                          'Images' : \"Images Posted\", \n",
    "                          'Thumbs Up': \"Total Thumbs up\", \n",
    "                          \"Thumbs Down\": \"Total Thumbs Down\", \n",
    "                         'Reactions' : \"Total Reactions\"}, inplace=True)\n",
    "\n",
    "user_data.sort_values(by='Total Thumbs up', ascending=False)"
   ]
  },
  {
   "cell_type": "code",
   "execution_count": 248,
   "metadata": {
    "collapsed": true
   },
   "outputs": [
    {
     "data": {
      "text/plain": [
       "['',\n",
       " '',\n",
       " '',\n",
       " 'WPC',\n",
       " 'Rainfall',\n",
       " 'Forecast',\n",
       " '-',\n",
       " 'Image',\n",
       " 'from',\n",
       " 'Pivotal',\n",
       " 'Weather',\n",
       " '',\n",
       " '',\n",
       " 'This',\n",
       " 'post',\n",
       " 'was',\n",
       " 'edited',\n",
       " 'on',\n",
       " '8/31',\n",
       " 'at',\n",
       " '10:11',\n",
       " 'am']"
      ]
     },
     "execution_count": 248,
     "metadata": {},
     "output_type": "execute_result"
    }
   ],
   "source": [
    "post_data_import['Post'][0].split(\" \")"
   ]
  },
  {
   "cell_type": "code",
   "execution_count": null,
   "metadata": {},
   "outputs": [],
   "source": []
  }
 ],
 "metadata": {
  "kernelspec": {
   "display_name": "Python 3",
   "language": "python",
   "name": "python3"
  },
  "language_info": {
   "codemirror_mode": {
    "name": "ipython",
    "version": 3
   },
   "file_extension": ".py",
   "mimetype": "text/x-python",
   "name": "python",
   "nbconvert_exporter": "python",
   "pygments_lexer": "ipython3",
   "version": "3.7.3"
  }
 },
 "nbformat": 4,
 "nbformat_minor": 2
}
